{
 "cells": [
  {
   "cell_type": "code",
   "execution_count": 4,
   "metadata": {},
   "outputs": [],
   "source": [
    "import pandas as pd\n",
    "import numpy as np\n",
    "import seaborn as sb\n",
    "import networkx as nx"
   ]
  },
  {
   "cell_type": "code",
   "execution_count": 5,
   "metadata": {},
   "outputs": [],
   "source": [
    "movie_industry = pd.read_csv('../data/movie_industry.csv', encoding=\"windows-1252\")\n",
    "oscar = pd.read_csv('../data/the_oscar_award.csv')\n",
    "genome_scores = pd.read_csv('../data/genome-scores.csv')\n",
    "genome_tags = pd.read_csv('../data/genome-tags.csv')\n",
    "ratings = pd.read_csv('../data/ratings.csv')\n",
    "tags = pd.read_csv('../data/tags.csv')\n",
    "movies = pd.read_csv('../data/movies.csv')"
   ]
  },
  {
   "cell_type": "code",
   "execution_count": 20,
   "metadata": {},
   "outputs": [],
   "source": [
    "class Graph:\n",
    "    \"\"\" Wrapper class Graph to create a bipartite graph\n",
    "    Takes in the following paramaters\n",
    "    directors_to_actors_relation : Dataframe with the data for directors and actors\n",
    "    weight func : function which defined the weight of an edge. Takes the dateframe to calcuate weights from and\n",
    "    the nodes values to calculate for\n",
    "    weight_func_args : column names used to calculate the weights\n",
    "    director_column : Column name for director\n",
    "    actor_column : Column name for actor, \n",
    "    bipartite : default true\n",
    "    \"\"\"\n",
    "    def __init__(self, \n",
    "                 directors_to_actors_relation, \n",
    "                 weight_func, \n",
    "                 weight_func_args, \n",
    "                 director_column=\"director\", \n",
    "                 actor_column=\"star\", \n",
    "                 bipartite=True):\n",
    "        self.G = nx.Graph()\n",
    "        \n",
    "        directors = set(directors_to_actors_relation[director_column].values)\n",
    "        actors = set(directors_to_actors_relation[actor_column].values)\n",
    "    \n",
    "        #store the director node as a tuple with director name and boolean True to indicate director\n",
    "        for director in directors:\n",
    "            self.G.add_node((director, True))\n",
    "            \n",
    "        #store the actor node as a tuple with actor name and boolean False to indicate actor\n",
    "        for actor in actors:\n",
    "            self.G.add_node((actor, False))\n",
    "\n",
    "        #add weights to all edges\n",
    "        for director in directors:\n",
    "            rows = directors_to_actors_relation[directors_to_actors_relation[director_column] == director]\n",
    "            for index in rows.index.values:\n",
    "                self.G.add_edge((director, True), \n",
    "                                (rows.loc[index, actor_column], False), \n",
    "                                weight=weight_func(*[rows.loc[index, i] for i in weight_func_args], directors_to_actors_relation))"
   ]
  },
  {
   "cell_type": "code",
   "execution_count": 21,
   "metadata": {},
   "outputs": [],
   "source": [
    "#calcualtes edge weight as the number of collaborations\n",
    "#takes in director name, star name and data to calculate weight from\n",
    "def example_weight_func(director, star, df):\n",
    "    return len(df.loc[((df[\"director\"] == director) & (df[\"star\"] == star))])"
   ]
  },
  {
   "cell_type": "code",
   "execution_count": 22,
   "metadata": {},
   "outputs": [],
   "source": [
    "storage = Graph(movie_industry, example_weight_func, [\"director\", \"star\"])"
   ]
  },
  {
   "cell_type": "code",
   "execution_count": 23,
   "metadata": {},
   "outputs": [
    {
     "data": {
      "text/plain": [
       "EdgeDataView([(('Clint Eastwood', True), ('Clint Eastwood', False)), (('Clint Eastwood', True), ('Forest Whitaker', False)), (('Clint Eastwood', True), ('Kevin Costner', False)), (('Clint Eastwood', True), ('John Cusack', False)), (('Clint Eastwood', True), ('Sean Penn', False)), (('Clint Eastwood', True), ('Hilary Swank', False)), (('Clint Eastwood', True), ('Ken Watanabe', False)), (('Clint Eastwood', True), ('Ryan Phillippe', False)), (('Clint Eastwood', True), ('Angelina Jolie', False)), (('Clint Eastwood', True), ('Morgan Freeman', False)), (('Clint Eastwood', True), ('Matt Damon', False)), (('Clint Eastwood', True), ('Leonardo DiCaprio', False)), (('Clint Eastwood', True), ('Bradley Cooper', False)), (('Clint Eastwood', True), ('John Lloyd Young', False)), (('Clint Eastwood', True), ('Tom Hanks', False))])"
      ]
     },
     "execution_count": 23,
     "metadata": {},
     "output_type": "execute_result"
    }
   ],
   "source": [
    "#edges relating to Clint Eastwood as a director\n",
    "storage.G.edges([(\"Clint Eastwood\", True)])"
   ]
  },
  {
   "cell_type": "code",
   "execution_count": 24,
   "metadata": {},
   "outputs": [
    {
     "data": {
      "text/plain": [
       "EdgeDataView([(('Clint Eastwood', False), ('Wolfgang Petersen', True)), (('Clint Eastwood', False), ('Clint Eastwood', True)), (('Clint Eastwood', False), ('Buddy Van Horn', True)), (('Clint Eastwood', False), ('Robert Lorenz', True))])"
      ]
     },
     "execution_count": 24,
     "metadata": {},
     "output_type": "execute_result"
    }
   ],
   "source": [
    "#edges relating to Clint Eastwood as an actor\n",
    "storage.G.edges([(\"Clint Eastwood\", False)])"
   ]
  },
  {
   "cell_type": "code",
   "execution_count": 25,
   "metadata": {},
   "outputs": [
    {
     "data": {
      "text/plain": [
       "{'weight': 10}"
      ]
     },
     "execution_count": 25,
     "metadata": {},
     "output_type": "execute_result"
    }
   ],
   "source": [
    "#weight of edges between Clint Eastwood as a director and Clint Eastwood as an actor\n",
    "storage.G.get_edge_data((\"Clint Eastwood\", True), (\"Clint Eastwood\", False))"
   ]
  },
  {
   "cell_type": "code",
   "execution_count": 46,
   "metadata": {
    "scrolled": true
   },
   "outputs": [
    {
     "data": {
      "text/html": [
       "<div>\n",
       "<style scoped>\n",
       "    .dataframe tbody tr th:only-of-type {\n",
       "        vertical-align: middle;\n",
       "    }\n",
       "\n",
       "    .dataframe tbody tr th {\n",
       "        vertical-align: top;\n",
       "    }\n",
       "\n",
       "    .dataframe thead th {\n",
       "        text-align: right;\n",
       "    }\n",
       "</style>\n",
       "<table border=\"1\" class=\"dataframe\">\n",
       "  <thead>\n",
       "    <tr style=\"text-align: right;\">\n",
       "      <th></th>\n",
       "      <th>budget</th>\n",
       "      <th>company</th>\n",
       "      <th>country</th>\n",
       "      <th>director</th>\n",
       "      <th>genre</th>\n",
       "      <th>gross</th>\n",
       "      <th>name</th>\n",
       "      <th>rating</th>\n",
       "      <th>released</th>\n",
       "      <th>runtime</th>\n",
       "      <th>score</th>\n",
       "      <th>star</th>\n",
       "      <th>votes</th>\n",
       "      <th>writer</th>\n",
       "      <th>year</th>\n",
       "    </tr>\n",
       "  </thead>\n",
       "  <tbody>\n",
       "    <tr>\n",
       "      <td>23</td>\n",
       "      <td>15000000.0</td>\n",
       "      <td>Jay Weston Productions</td>\n",
       "      <td>USA</td>\n",
       "      <td>Clint Eastwood</td>\n",
       "      <td>Action</td>\n",
       "      <td>42724017.0</td>\n",
       "      <td>Heartbreak Ridge</td>\n",
       "      <td>R</td>\n",
       "      <td>1986-12-05</td>\n",
       "      <td>130</td>\n",
       "      <td>6.8</td>\n",
       "      <td>Clint Eastwood</td>\n",
       "      <td>32954</td>\n",
       "      <td>James Carabatsos</td>\n",
       "      <td>1986</td>\n",
       "    </tr>\n",
       "    <tr>\n",
       "      <td>943</td>\n",
       "      <td>10000000.0</td>\n",
       "      <td>Warner Bros.</td>\n",
       "      <td>USA</td>\n",
       "      <td>Clint Eastwood</td>\n",
       "      <td>Action</td>\n",
       "      <td>21633874.0</td>\n",
       "      <td>The Rookie</td>\n",
       "      <td>R</td>\n",
       "      <td>1990-12-07</td>\n",
       "      <td>120</td>\n",
       "      <td>5.8</td>\n",
       "      <td>Clint Eastwood</td>\n",
       "      <td>21622</td>\n",
       "      <td>Boaz Yakin</td>\n",
       "      <td>1990</td>\n",
       "    </tr>\n",
       "    <tr>\n",
       "      <td>1002</td>\n",
       "      <td>24000000.0</td>\n",
       "      <td>Malpaso Productions</td>\n",
       "      <td>USA</td>\n",
       "      <td>Clint Eastwood</td>\n",
       "      <td>Adventure</td>\n",
       "      <td>2319124.0</td>\n",
       "      <td>White Hunter Black Heart</td>\n",
       "      <td>PG</td>\n",
       "      <td>1990-09-14</td>\n",
       "      <td>112</td>\n",
       "      <td>6.7</td>\n",
       "      <td>Clint Eastwood</td>\n",
       "      <td>9279</td>\n",
       "      <td>Peter Viertel</td>\n",
       "      <td>1990</td>\n",
       "    </tr>\n",
       "    <tr>\n",
       "      <td>1326</td>\n",
       "      <td>14400000.0</td>\n",
       "      <td>Warner Bros.</td>\n",
       "      <td>USA</td>\n",
       "      <td>Clint Eastwood</td>\n",
       "      <td>Drama</td>\n",
       "      <td>101157447.0</td>\n",
       "      <td>Unforgiven</td>\n",
       "      <td>R</td>\n",
       "      <td>1992-08-07</td>\n",
       "      <td>131</td>\n",
       "      <td>8.2</td>\n",
       "      <td>Clint Eastwood</td>\n",
       "      <td>304536</td>\n",
       "      <td>David Webb Peoples</td>\n",
       "      <td>1992</td>\n",
       "    </tr>\n",
       "    <tr>\n",
       "      <td>2043</td>\n",
       "      <td>24000000.0</td>\n",
       "      <td>Warner Bros.</td>\n",
       "      <td>USA</td>\n",
       "      <td>Clint Eastwood</td>\n",
       "      <td>Drama</td>\n",
       "      <td>71516617.0</td>\n",
       "      <td>The Bridges of Madison County</td>\n",
       "      <td>PG-13</td>\n",
       "      <td>1995-06-02</td>\n",
       "      <td>135</td>\n",
       "      <td>7.6</td>\n",
       "      <td>Clint Eastwood</td>\n",
       "      <td>58975</td>\n",
       "      <td>Richard LaGravenese</td>\n",
       "      <td>1995</td>\n",
       "    </tr>\n",
       "    <tr>\n",
       "      <td>2480</td>\n",
       "      <td>50000000.0</td>\n",
       "      <td>Castle Rock Entertainment</td>\n",
       "      <td>USA</td>\n",
       "      <td>Clint Eastwood</td>\n",
       "      <td>Action</td>\n",
       "      <td>50007168.0</td>\n",
       "      <td>Absolute Power</td>\n",
       "      <td>R</td>\n",
       "      <td>1997-02-14</td>\n",
       "      <td>121</td>\n",
       "      <td>6.7</td>\n",
       "      <td>Clint Eastwood</td>\n",
       "      <td>42417</td>\n",
       "      <td>David Baldacci</td>\n",
       "      <td>1997</td>\n",
       "    </tr>\n",
       "    <tr>\n",
       "      <td>2971</td>\n",
       "      <td>55000000.0</td>\n",
       "      <td>Warner Bros.</td>\n",
       "      <td>USA</td>\n",
       "      <td>Clint Eastwood</td>\n",
       "      <td>Crime</td>\n",
       "      <td>16635339.0</td>\n",
       "      <td>True Crime</td>\n",
       "      <td>R</td>\n",
       "      <td>1999-03-19</td>\n",
       "      <td>127</td>\n",
       "      <td>6.6</td>\n",
       "      <td>Clint Eastwood</td>\n",
       "      <td>27145</td>\n",
       "      <td>Andrew Klavan</td>\n",
       "      <td>1999</td>\n",
       "    </tr>\n",
       "    <tr>\n",
       "      <td>3158</td>\n",
       "      <td>65000000.0</td>\n",
       "      <td>Clipsal Films</td>\n",
       "      <td>USA</td>\n",
       "      <td>Clint Eastwood</td>\n",
       "      <td>Action</td>\n",
       "      <td>90464773.0</td>\n",
       "      <td>Space Cowboys</td>\n",
       "      <td>PG-13</td>\n",
       "      <td>2000-08-04</td>\n",
       "      <td>130</td>\n",
       "      <td>6.4</td>\n",
       "      <td>Clint Eastwood</td>\n",
       "      <td>63698</td>\n",
       "      <td>Ken Kaufman</td>\n",
       "      <td>2000</td>\n",
       "    </tr>\n",
       "    <tr>\n",
       "      <td>3643</td>\n",
       "      <td>50000000.0</td>\n",
       "      <td>Malpaso Productions</td>\n",
       "      <td>USA</td>\n",
       "      <td>Clint Eastwood</td>\n",
       "      <td>Action</td>\n",
       "      <td>26199517.0</td>\n",
       "      <td>Blood Work</td>\n",
       "      <td>R</td>\n",
       "      <td>2002-08-09</td>\n",
       "      <td>110</td>\n",
       "      <td>6.4</td>\n",
       "      <td>Clint Eastwood</td>\n",
       "      <td>36540</td>\n",
       "      <td>Michael Connelly</td>\n",
       "      <td>2002</td>\n",
       "    </tr>\n",
       "    <tr>\n",
       "      <td>4860</td>\n",
       "      <td>33000000.0</td>\n",
       "      <td>Matten Productions</td>\n",
       "      <td>Germany</td>\n",
       "      <td>Clint Eastwood</td>\n",
       "      <td>Drama</td>\n",
       "      <td>148095302.0</td>\n",
       "      <td>Gran Torino</td>\n",
       "      <td>R</td>\n",
       "      <td>2009-01-09</td>\n",
       "      <td>116</td>\n",
       "      <td>8.2</td>\n",
       "      <td>Clint Eastwood</td>\n",
       "      <td>609483</td>\n",
       "      <td>Nick Schenk</td>\n",
       "      <td>2008</td>\n",
       "    </tr>\n",
       "  </tbody>\n",
       "</table>\n",
       "</div>"
      ],
      "text/plain": [
       "          budget                    company  country        director  \\\n",
       "23    15000000.0     Jay Weston Productions      USA  Clint Eastwood   \n",
       "943   10000000.0               Warner Bros.      USA  Clint Eastwood   \n",
       "1002  24000000.0        Malpaso Productions      USA  Clint Eastwood   \n",
       "1326  14400000.0               Warner Bros.      USA  Clint Eastwood   \n",
       "2043  24000000.0               Warner Bros.      USA  Clint Eastwood   \n",
       "2480  50000000.0  Castle Rock Entertainment      USA  Clint Eastwood   \n",
       "2971  55000000.0               Warner Bros.      USA  Clint Eastwood   \n",
       "3158  65000000.0              Clipsal Films      USA  Clint Eastwood   \n",
       "3643  50000000.0        Malpaso Productions      USA  Clint Eastwood   \n",
       "4860  33000000.0         Matten Productions  Germany  Clint Eastwood   \n",
       "\n",
       "          genre        gross                           name rating  \\\n",
       "23       Action   42724017.0               Heartbreak Ridge      R   \n",
       "943      Action   21633874.0                     The Rookie      R   \n",
       "1002  Adventure    2319124.0       White Hunter Black Heart     PG   \n",
       "1326      Drama  101157447.0                     Unforgiven      R   \n",
       "2043      Drama   71516617.0  The Bridges of Madison County  PG-13   \n",
       "2480     Action   50007168.0                 Absolute Power      R   \n",
       "2971      Crime   16635339.0                     True Crime      R   \n",
       "3158     Action   90464773.0                  Space Cowboys  PG-13   \n",
       "3643     Action   26199517.0                     Blood Work      R   \n",
       "4860      Drama  148095302.0                    Gran Torino      R   \n",
       "\n",
       "        released  runtime  score            star   votes               writer  \\\n",
       "23    1986-12-05      130    6.8  Clint Eastwood   32954     James Carabatsos   \n",
       "943   1990-12-07      120    5.8  Clint Eastwood   21622           Boaz Yakin   \n",
       "1002  1990-09-14      112    6.7  Clint Eastwood    9279        Peter Viertel   \n",
       "1326  1992-08-07      131    8.2  Clint Eastwood  304536   David Webb Peoples   \n",
       "2043  1995-06-02      135    7.6  Clint Eastwood   58975  Richard LaGravenese   \n",
       "2480  1997-02-14      121    6.7  Clint Eastwood   42417       David Baldacci   \n",
       "2971  1999-03-19      127    6.6  Clint Eastwood   27145        Andrew Klavan   \n",
       "3158  2000-08-04      130    6.4  Clint Eastwood   63698          Ken Kaufman   \n",
       "3643  2002-08-09      110    6.4  Clint Eastwood   36540     Michael Connelly   \n",
       "4860  2009-01-09      116    8.2  Clint Eastwood  609483          Nick Schenk   \n",
       "\n",
       "      year  \n",
       "23    1986  \n",
       "943   1990  \n",
       "1002  1990  \n",
       "1326  1992  \n",
       "2043  1995  \n",
       "2480  1997  \n",
       "2971  1999  \n",
       "3158  2000  \n",
       "3643  2002  \n",
       "4860  2008  "
      ]
     },
     "execution_count": 46,
     "metadata": {},
     "output_type": "execute_result"
    }
   ],
   "source": [
    "movie_industry[(movie_industry.director == \"Clint Eastwood\") &\n",
    "              (movie_industry.star == \"Clint Eastwood\")]"
   ]
  },
  {
   "cell_type": "code",
   "execution_count": 44,
   "metadata": {},
   "outputs": [],
   "source": [
    "#edge does not exits\n",
    "storage.G.get_edge_data((\"Clint Eastwood\", True), (\"Wil Wheaton\", False))"
   ]
  },
  {
   "cell_type": "code",
   "execution_count": 32,
   "metadata": {},
   "outputs": [],
   "source": [
    "#calcualtes edge weight as mean of gross collaborations\n",
    "def mean_gross_weight_func(director, star, df):\n",
    "    return np.mean(df.loc[((df[\"director\"] == director) & (df[\"star\"] == star))].gross.values)\n",
    "\n",
    "storage2 = Graph(movie_industry, mean_gross_weight_func, [\"director\", \"star\"])"
   ]
  },
  {
   "cell_type": "code",
   "execution_count": 40,
   "metadata": {},
   "outputs": [
    {
     "data": {
      "text/plain": [
       "{'weight': 57075317.8}"
      ]
     },
     "execution_count": 40,
     "metadata": {},
     "output_type": "execute_result"
    }
   ],
   "source": [
    "storage2.G.get_edge_data((\"Clint Eastwood\", True), (\"Clint Eastwood\", False))"
   ]
  },
  {
   "cell_type": "code",
   "execution_count": 34,
   "metadata": {},
   "outputs": [
    {
     "data": {
      "text/plain": [
       "57075317.8"
      ]
     },
     "execution_count": 34,
     "metadata": {},
     "output_type": "execute_result"
    }
   ],
   "source": [
    "np.mean(movie_industry[(movie_industry.director == \"Clint Eastwood\") &\n",
    "              (movie_industry.star == \"Clint Eastwood\")].gross.values)"
   ]
  },
  {
   "cell_type": "code",
   "execution_count": null,
   "metadata": {},
   "outputs": [],
   "source": []
  }
 ],
 "metadata": {
  "kernelspec": {
   "display_name": "Python 3",
   "language": "python",
   "name": "python3"
  },
  "language_info": {
   "codemirror_mode": {
    "name": "ipython",
    "version": 3
   },
   "file_extension": ".py",
   "mimetype": "text/x-python",
   "name": "python",
   "nbconvert_exporter": "python",
   "pygments_lexer": "ipython3",
   "version": "3.7.4"
  }
 },
 "nbformat": 4,
 "nbformat_minor": 2
}
