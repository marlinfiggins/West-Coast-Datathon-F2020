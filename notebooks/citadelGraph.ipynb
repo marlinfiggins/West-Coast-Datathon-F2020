{
 "cells": [
  {
   "cell_type": "code",
   "execution_count": null,
   "metadata": {},
   "outputs": [],
   "source": [
    "import pandas as pd\n",
    "import numpy as np\n",
    "import seaborn as sb\n",
    "import networkx as nx\n",
    "\n",
    "df = pd.read_csv('movie_industry.csv', encoding=\"windows-1252\")\n",
    "df2 = pd.read_csv('the_oscar_award.csv')\n",
    "genome_scores = pd.read_csv('genome-scores.csv')\n",
    "genome_tags = pd.read_csv('genome-tags.csv')\n",
    "ratings = pd.read_csv('ratings.csv')\n",
    "tags = pd.read_csv('tags.csv')\n",
    "movies = pd.read_csv('movies.csv')\n",
    "\n",
    "class Graph:\n",
    "    def __init__(self, \n",
    "                 directors_to_actors_relation, \n",
    "                 weight_func, \n",
    "                 weight_func_args, \n",
    "                 director_column=\"director\", \n",
    "                 actor_column=\"star\", \n",
    "                 bipartite=True):\n",
    "        self.G = nx.Graph()\n",
    "        \n",
    "        directors = set(directors_to_actors_relation[director_column].values)\n",
    "        actors = set(directors_to_actors_relation[actor_column].values)\n",
    "        \n",
    "        for director in directors:\n",
    "            self.G.add_node((director, True))\n",
    "        \n",
    "        for actor in actors:\n",
    "            self.G.add_node((actor, False))\n",
    "\n",
    "        for director in directors:\n",
    "            rows = directors_to_actors_relation[directors_to_actors_relation[director_column] == director]\n",
    "            for index in rows.index.values:\n",
    "                self.G.add_edge((director, True), (rows.loc[index, actor_column], False), \n",
    "                                weight=weight_func(*[rows.loc[index, i] for i in weight_func_args]))\n",
    "                \n",
    "\n",
    "def example_weight_func(director, star):\n",
    "    return len(df.loc[((df[\"director\"] == director) & (df[\"star\"] == \"Clint Eastwood\"))])\n",
    "\n",
    "storage = Graph(df, example_weight_func, [\"director\", \"star\"])"
   ]
  }
 ],
 "metadata": {
  "kernelspec": {
   "display_name": "Python 3",
   "language": "python",
   "name": "python3"
  },
  "language_info": {
   "codemirror_mode": {
    "name": "ipython",
    "version": 3
   },
   "file_extension": ".py",
   "mimetype": "text/x-python",
   "name": "python",
   "nbconvert_exporter": "python",
   "pygments_lexer": "ipython3",
   "version": "3.7.3"
  }
 },
 "nbformat": 4,
 "nbformat_minor": 2
}
