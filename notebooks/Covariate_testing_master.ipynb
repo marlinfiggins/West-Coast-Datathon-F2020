{
 "cells": [
  {
   "cell_type": "code",
   "execution_count": 1,
   "metadata": {},
   "outputs": [],
   "source": [
    "import pandas as pd\n",
    "import numpy as np\n",
    "import seaborn as sb\n",
    "import networkx as nx\n",
    "import matplotlib.pyplot as plt\n",
    "%matplotlib inline\n",
    "\n",
    "from scipy.stats import ttest_ind\n",
    "from scipy.stats import ks_2samp"
   ]
  },
  {
   "cell_type": "markdown",
   "metadata": {},
   "source": [
    "CREATING THE DATAFRAME OF PAIRS OF DIRECTORS AND ACTORS"
   ]
  },
  {
   "cell_type": "code",
   "execution_count": 2,
   "metadata": {},
   "outputs": [
    {
     "data": {
      "text/html": [
       "<div>\n",
       "<style scoped>\n",
       "    .dataframe tbody tr th:only-of-type {\n",
       "        vertical-align: middle;\n",
       "    }\n",
       "\n",
       "    .dataframe tbody tr th {\n",
       "        vertical-align: top;\n",
       "    }\n",
       "\n",
       "    .dataframe thead th {\n",
       "        text-align: right;\n",
       "    }\n",
       "</style>\n",
       "<table border=\"1\" class=\"dataframe\">\n",
       "  <thead>\n",
       "    <tr style=\"text-align: right;\">\n",
       "      <th></th>\n",
       "      <th>budget</th>\n",
       "      <th>company</th>\n",
       "      <th>country</th>\n",
       "      <th>director</th>\n",
       "      <th>genre</th>\n",
       "      <th>gross</th>\n",
       "      <th>name</th>\n",
       "      <th>rating</th>\n",
       "      <th>released</th>\n",
       "      <th>runtime</th>\n",
       "      <th>score</th>\n",
       "      <th>star</th>\n",
       "      <th>votes</th>\n",
       "      <th>writer</th>\n",
       "      <th>year</th>\n",
       "    </tr>\n",
       "  </thead>\n",
       "  <tbody>\n",
       "    <tr>\n",
       "      <th>0</th>\n",
       "      <td>8000000.0</td>\n",
       "      <td>Columbia Pictures Corporation</td>\n",
       "      <td>USA</td>\n",
       "      <td>Rob Reiner</td>\n",
       "      <td>Adventure</td>\n",
       "      <td>52287414.0</td>\n",
       "      <td>Stand by Me</td>\n",
       "      <td>R</td>\n",
       "      <td>1986-08-22</td>\n",
       "      <td>89</td>\n",
       "      <td>8.1</td>\n",
       "      <td>Wil Wheaton</td>\n",
       "      <td>299174</td>\n",
       "      <td>Stephen King</td>\n",
       "      <td>1986</td>\n",
       "    </tr>\n",
       "    <tr>\n",
       "      <th>1</th>\n",
       "      <td>6000000.0</td>\n",
       "      <td>Paramount Pictures</td>\n",
       "      <td>USA</td>\n",
       "      <td>John Hughes</td>\n",
       "      <td>Comedy</td>\n",
       "      <td>70136369.0</td>\n",
       "      <td>Ferris Bueller's Day Off</td>\n",
       "      <td>PG-13</td>\n",
       "      <td>1986-06-11</td>\n",
       "      <td>103</td>\n",
       "      <td>7.8</td>\n",
       "      <td>Matthew Broderick</td>\n",
       "      <td>264740</td>\n",
       "      <td>John Hughes</td>\n",
       "      <td>1986</td>\n",
       "    </tr>\n",
       "    <tr>\n",
       "      <th>2</th>\n",
       "      <td>15000000.0</td>\n",
       "      <td>Paramount Pictures</td>\n",
       "      <td>USA</td>\n",
       "      <td>Tony Scott</td>\n",
       "      <td>Action</td>\n",
       "      <td>179800601.0</td>\n",
       "      <td>Top Gun</td>\n",
       "      <td>PG</td>\n",
       "      <td>1986-05-16</td>\n",
       "      <td>110</td>\n",
       "      <td>6.9</td>\n",
       "      <td>Tom Cruise</td>\n",
       "      <td>236909</td>\n",
       "      <td>Jim Cash</td>\n",
       "      <td>1986</td>\n",
       "    </tr>\n",
       "    <tr>\n",
       "      <th>3</th>\n",
       "      <td>18500000.0</td>\n",
       "      <td>Twentieth Century Fox Film Corporation</td>\n",
       "      <td>USA</td>\n",
       "      <td>James Cameron</td>\n",
       "      <td>Action</td>\n",
       "      <td>85160248.0</td>\n",
       "      <td>Aliens</td>\n",
       "      <td>R</td>\n",
       "      <td>1986-07-18</td>\n",
       "      <td>137</td>\n",
       "      <td>8.4</td>\n",
       "      <td>Sigourney Weaver</td>\n",
       "      <td>540152</td>\n",
       "      <td>James Cameron</td>\n",
       "      <td>1986</td>\n",
       "    </tr>\n",
       "    <tr>\n",
       "      <th>4</th>\n",
       "      <td>9000000.0</td>\n",
       "      <td>Walt Disney Pictures</td>\n",
       "      <td>USA</td>\n",
       "      <td>Randal Kleiser</td>\n",
       "      <td>Adventure</td>\n",
       "      <td>18564613.0</td>\n",
       "      <td>Flight of the Navigator</td>\n",
       "      <td>PG</td>\n",
       "      <td>1986-08-01</td>\n",
       "      <td>90</td>\n",
       "      <td>6.9</td>\n",
       "      <td>Joey Cramer</td>\n",
       "      <td>36636</td>\n",
       "      <td>Mark H. Baker</td>\n",
       "      <td>1986</td>\n",
       "    </tr>\n",
       "  </tbody>\n",
       "</table>\n",
       "</div>"
      ],
      "text/plain": [
       "       budget                                 company country        director  \\\n",
       "0   8000000.0           Columbia Pictures Corporation     USA      Rob Reiner   \n",
       "1   6000000.0                      Paramount Pictures     USA     John Hughes   \n",
       "2  15000000.0                      Paramount Pictures     USA      Tony Scott   \n",
       "3  18500000.0  Twentieth Century Fox Film Corporation     USA   James Cameron   \n",
       "4   9000000.0                    Walt Disney Pictures     USA  Randal Kleiser   \n",
       "\n",
       "       genre        gross                      name rating    released  \\\n",
       "0  Adventure   52287414.0               Stand by Me      R  1986-08-22   \n",
       "1     Comedy   70136369.0  Ferris Bueller's Day Off  PG-13  1986-06-11   \n",
       "2     Action  179800601.0                   Top Gun     PG  1986-05-16   \n",
       "3     Action   85160248.0                    Aliens      R  1986-07-18   \n",
       "4  Adventure   18564613.0   Flight of the Navigator     PG  1986-08-01   \n",
       "\n",
       "   runtime  score               star   votes         writer  year  \n",
       "0       89    8.1        Wil Wheaton  299174   Stephen King  1986  \n",
       "1      103    7.8  Matthew Broderick  264740    John Hughes  1986  \n",
       "2      110    6.9         Tom Cruise  236909       Jim Cash  1986  \n",
       "3      137    8.4   Sigourney Weaver  540152  James Cameron  1986  \n",
       "4       90    6.9        Joey Cramer   36636  Mark H. Baker  1986  "
      ]
     },
     "execution_count": 2,
     "metadata": {},
     "output_type": "execute_result"
    }
   ],
   "source": [
    "movie_industry = pd.read_csv(\"../data/movie_industry.csv\", encoding = \"ISO-8859-1\" )\n",
    "movie_industry.loc[movie_industry.rating == \"Not specified\", \"rating\"] = \"NOT RATED\"\n",
    "movie_industry.loc[movie_industry.rating == \"UNRATED\", \"rating\"] = \"NOT RATED\"\n",
    "movie_industry.head()"
   ]
  },
  {
   "cell_type": "code",
   "execution_count": 3,
   "metadata": {},
   "outputs": [
    {
     "data": {
      "text/plain": [
       "Comedy       2080\n",
       "Drama        1444\n",
       "Action       1331\n",
       "Crime         522\n",
       "Adventure     392\n",
       "Biography     359\n",
       "Animation     277\n",
       "Horror        277\n",
       "Mystery        38\n",
       "Fantasy        32\n",
       "Thriller       18\n",
       "Romance        15\n",
       "Family         14\n",
       "Sci-Fi         13\n",
       "Musical         4\n",
       "Western         2\n",
       "War             2\n",
       "Name: genre, dtype: int64"
      ]
     },
     "execution_count": 3,
     "metadata": {},
     "output_type": "execute_result"
    }
   ],
   "source": [
    "val_genre=movie_industry['genre'].value_counts()\n",
    "val_genre\n"
   ]
  },
  {
   "cell_type": "code",
   "execution_count": 4,
   "metadata": {},
   "outputs": [
    {
     "data": {
      "text/plain": [
       "Index(['Comedy', 'Drama', 'Action', 'Crime', 'Adventure', 'Biography',\n",
       "       'Animation', 'Horror'],\n",
       "      dtype='object')"
      ]
     },
     "execution_count": 4,
     "metadata": {},
     "output_type": "execute_result"
    }
   ],
   "source": [
    "picked_genre = val_genre[:8].index\n",
    "picked_genre\n"
   ]
  },
  {
   "cell_type": "code",
   "execution_count": 5,
   "metadata": {},
   "outputs": [
    {
     "name": "stderr",
     "output_type": "stream",
     "text": [
      "/opt/miniconda3/lib/python3.7/site-packages/ipykernel_launcher.py:1: SettingWithCopyWarning: \n",
      "A value is trying to be set on a copy of a slice from a DataFrame\n",
      "\n",
      "See the caveats in the documentation: https://pandas.pydata.org/pandas-docs/stable/user_guide/indexing.html#returning-a-view-versus-a-copy\n",
      "  \"\"\"Entry point for launching an IPython kernel.\n"
     ]
    },
    {
     "data": {
      "text/plain": [
       "Comedy         2080\n",
       "Drama          1444\n",
       "Action         1331\n",
       "Crime           522\n",
       "Adventure       392\n",
       "Biography       359\n",
       "Horror          277\n",
       "Animation       277\n",
       "Other_genre     138\n",
       "Name: genre, dtype: int64"
      ]
     },
     "execution_count": 5,
     "metadata": {},
     "output_type": "execute_result"
    }
   ],
   "source": [
    "movie_industry['genre'][~ movie_industry['genre'].isin(picked_genre)] = 'Other_genre'\n",
    "movie_industry['genre'].value_counts()"
   ]
  },
  {
   "cell_type": "code",
   "execution_count": 6,
   "metadata": {},
   "outputs": [
    {
     "data": {
      "text/plain": [
       "R            3392\n",
       "PG-13        1995\n",
       "PG            951\n",
       "NOT RATED     308\n",
       "G             147\n",
       "NC-17          22\n",
       "TV-MA           1\n",
       "TV-PG           1\n",
       "B               1\n",
       "TV-14           1\n",
       "B15             1\n",
       "Name: rating, dtype: int64"
      ]
     },
     "execution_count": 6,
     "metadata": {},
     "output_type": "execute_result"
    }
   ],
   "source": [
    "val_rating=movie_industry['rating'].value_counts()\n",
    "val_rating"
   ]
  },
  {
   "cell_type": "code",
   "execution_count": 7,
   "metadata": {},
   "outputs": [
    {
     "data": {
      "text/plain": [
       "Index(['R', 'PG-13', 'PG', 'NOT RATED', 'G'], dtype='object')"
      ]
     },
     "execution_count": 7,
     "metadata": {},
     "output_type": "execute_result"
    }
   ],
   "source": [
    "picked_rating = val_rating[:5].index\n",
    "picked_rating\n"
   ]
  },
  {
   "cell_type": "code",
   "execution_count": 8,
   "metadata": {},
   "outputs": [
    {
     "name": "stderr",
     "output_type": "stream",
     "text": [
      "/opt/miniconda3/lib/python3.7/site-packages/ipykernel_launcher.py:1: SettingWithCopyWarning: \n",
      "A value is trying to be set on a copy of a slice from a DataFrame\n",
      "\n",
      "See the caveats in the documentation: https://pandas.pydata.org/pandas-docs/stable/user_guide/indexing.html#returning-a-view-versus-a-copy\n",
      "  \"\"\"Entry point for launching an IPython kernel.\n"
     ]
    },
    {
     "data": {
      "text/plain": [
       "R               3392\n",
       "PG-13           1995\n",
       "PG               951\n",
       "NOT RATED        308\n",
       "G                147\n",
       "Other_rating      27\n",
       "Name: rating, dtype: int64"
      ]
     },
     "execution_count": 8,
     "metadata": {},
     "output_type": "execute_result"
    }
   ],
   "source": [
    "movie_industry['rating'][~ movie_industry['rating'].isin(picked_rating)] = 'Other_rating'\n",
    "movie_industry['rating'].value_counts()"
   ]
  },
  {
   "cell_type": "code",
   "execution_count": 9,
   "metadata": {},
   "outputs": [],
   "source": [
    "class Graph:\n",
    "    \"\"\" Wrapper class Graph to create a bipartite graph\n",
    "    Takes in the following paramaters\n",
    "    directors_to_actors_relation : Dataframe with the data for directors and actors\n",
    "    weight func : function which defined the weight of an edge. Takes the dateframe to calcuate weights from and\n",
    "    the nodes values to calculate for\n",
    "    weight_func_args : column names used to calculate the weights\n",
    "    director_column : Column name for director\n",
    "    actor_column : Column name for actor, \n",
    "    bipartite : default true\n",
    "    \"\"\"\n",
    "    def __init__(self, \n",
    "                 directors_to_actors_relation, \n",
    "                 weight_func, \n",
    "                 weight_func_args, \n",
    "                 director_column=\"director\", \n",
    "                 actor_column=\"star\", \n",
    "                 bipartite=True):\n",
    "        self.G = nx.Graph()\n",
    "        \n",
    "        directors = set(directors_to_actors_relation[director_column].values)\n",
    "        actors = set(directors_to_actors_relation[actor_column].values)\n",
    "    \n",
    "        #store the director node as a tuple with director name and boolean True to indicate director\n",
    "        for director in directors:\n",
    "            self.G.add_node((director, True))\n",
    "            \n",
    "        #store the actor node as a tuple with actor name and boolean False to indicate actor\n",
    "        for actor in actors:\n",
    "            self.G.add_node((actor, False))\n",
    "\n",
    "        #add weights to all edges\n",
    "        for director in directors:\n",
    "            rows = directors_to_actors_relation[directors_to_actors_relation[director_column] == director]\n",
    "            for index in rows.index.values:\n",
    "                self.G.add_edge((director, True), \n",
    "                                (rows.loc[index, actor_column], False), \n",
    "                                weight=weight_func(*[rows.loc[index, i] for i in weight_func_args], directors_to_actors_relation))             "
   ]
  },
  {
   "cell_type": "code",
   "execution_count": 10,
   "metadata": {},
   "outputs": [],
   "source": [
    "#calcualtes edge weight as the number of collaborations\n",
    "#takes in director name, star name and data to calculate weight from\n",
    "def example_weight_func(director, star, df):\n",
    "    return len(df.loc[((df[\"director\"] == director) & (df[\"star\"] == star))])"
   ]
  },
  {
   "cell_type": "code",
   "execution_count": 11,
   "metadata": {},
   "outputs": [],
   "source": [
    "storage = Graph(movie_industry, example_weight_func, [\"director\", \"star\"])"
   ]
  },
  {
   "cell_type": "code",
   "execution_count": 12,
   "metadata": {},
   "outputs": [],
   "source": [
    "directors = list(set(movie_industry[\"director\"].values))\n",
    "actors = list(set(movie_industry[\"star\"].values))"
   ]
  },
  {
   "cell_type": "code",
   "execution_count": 13,
   "metadata": {},
   "outputs": [],
   "source": [
    "collabs = []\n",
    "for director in directors:\n",
    "    for actor in actors:\n",
    "        if storage.G.get_edge_data((director, True), (actor, False)):\n",
    "            collabs.append(storage.G.get_edge_data((director, True), (actor, False))[\"weight\"])\n",
    "        else:\n",
    "            collabs.append(0)"
   ]
  },
  {
   "cell_type": "code",
   "execution_count": 14,
   "metadata": {},
   "outputs": [
    {
     "data": {
      "text/html": [
       "<div>\n",
       "<style scoped>\n",
       "    .dataframe tbody tr th:only-of-type {\n",
       "        vertical-align: middle;\n",
       "    }\n",
       "\n",
       "    .dataframe tbody tr th {\n",
       "        vertical-align: top;\n",
       "    }\n",
       "\n",
       "    .dataframe thead th {\n",
       "        text-align: right;\n",
       "    }\n",
       "</style>\n",
       "<table border=\"1\" class=\"dataframe\">\n",
       "  <thead>\n",
       "    <tr style=\"text-align: right;\">\n",
       "      <th></th>\n",
       "      <th>director</th>\n",
       "      <th>actor</th>\n",
       "      <th>collabs</th>\n",
       "    </tr>\n",
       "  </thead>\n",
       "  <tbody>\n",
       "    <tr>\n",
       "      <th>0</th>\n",
       "      <td>Pascal Chaumeil</td>\n",
       "      <td>Leo Fong</td>\n",
       "      <td>0</td>\n",
       "    </tr>\n",
       "    <tr>\n",
       "      <th>1</th>\n",
       "      <td>Pascal Chaumeil</td>\n",
       "      <td>Catherine Keener</td>\n",
       "      <td>0</td>\n",
       "    </tr>\n",
       "    <tr>\n",
       "      <th>2</th>\n",
       "      <td>Pascal Chaumeil</td>\n",
       "      <td>Lorraine Bracco</td>\n",
       "      <td>0</td>\n",
       "    </tr>\n",
       "    <tr>\n",
       "      <th>3</th>\n",
       "      <td>Pascal Chaumeil</td>\n",
       "      <td>Priscilla C. Shirer</td>\n",
       "      <td>0</td>\n",
       "    </tr>\n",
       "    <tr>\n",
       "      <th>4</th>\n",
       "      <td>Pascal Chaumeil</td>\n",
       "      <td>Terrence Howard</td>\n",
       "      <td>0</td>\n",
       "    </tr>\n",
       "  </tbody>\n",
       "</table>\n",
       "</div>"
      ],
      "text/plain": [
       "          director                actor  collabs\n",
       "0  Pascal Chaumeil             Leo Fong        0\n",
       "1  Pascal Chaumeil     Catherine Keener        0\n",
       "2  Pascal Chaumeil      Lorraine Bracco        0\n",
       "3  Pascal Chaumeil  Priscilla C. Shirer        0\n",
       "4  Pascal Chaumeil      Terrence Howard        0"
      ]
     },
     "execution_count": 14,
     "metadata": {},
     "output_type": "execute_result"
    }
   ],
   "source": [
    "res =  [director for director in directors for i in range(len(actors))] \n",
    "df = pd.DataFrame({\"director\": res, \n",
    "                   \"actor\": actors*len(directors),\n",
    "                  \"collabs\": collabs})\n",
    "df.head()"
   ]
  },
  {
   "cell_type": "code",
   "execution_count": 15,
   "metadata": {},
   "outputs": [
    {
     "data": {
      "text/plain": [
       "0     6902230\n",
       "1        5929\n",
       "2         299\n",
       "3          52\n",
       "4          13\n",
       "5           5\n",
       "6           4\n",
       "11          1\n",
       "10          1\n",
       "8           1\n",
       "7           1\n",
       "Name: collabs, dtype: int64"
      ]
     },
     "execution_count": 15,
     "metadata": {},
     "output_type": "execute_result"
    }
   ],
   "source": [
    "df['collabs'].value_counts()"
   ]
  },
  {
   "cell_type": "markdown",
   "metadata": {},
   "source": [
    "ADDING AND TESTING COVARIATES"
   ]
  },
  {
   "cell_type": "code",
   "execution_count": 16,
   "metadata": {},
   "outputs": [],
   "source": [
    "df[\"collab indicator\"] = (df.collabs > 0)*1"
   ]
  },
  {
   "cell_type": "code",
   "execution_count": 17,
   "metadata": {},
   "outputs": [],
   "source": [
    "def add_feature_actor(feature_total, feature_mean, feature_name):\n",
    "    for actor in actors:\n",
    "        temp = movie_industry[movie_industry.star ==  actor]\n",
    "        sum_feature = sum(temp[feature_name].values)\n",
    "        mean_feature = np.mean(temp[feature_name].values)\n",
    "        feature_total[actor] = sum_feature\n",
    "        feature_mean[actor] = mean_feature\n",
    "        \n",
    "def add_feature_director(feature_total, feature_mean, feature_name):\n",
    "    for director in directors:\n",
    "        temp = movie_industry[movie_industry.director ==  director]\n",
    "        sum_feature = sum(temp[feature_name].values)\n",
    "        mean_feature = np.mean(temp[feature_name].values)\n",
    "        feature_total[director] = sum_feature\n",
    "        feature_mean[director] = mean_feature"
   ]
  },
  {
   "cell_type": "markdown",
   "metadata": {},
   "source": [
    "### gross"
   ]
  },
  {
   "cell_type": "code",
   "execution_count": 18,
   "metadata": {},
   "outputs": [
    {
     "data": {
      "text/html": [
       "<div>\n",
       "<style scoped>\n",
       "    .dataframe tbody tr th:only-of-type {\n",
       "        vertical-align: middle;\n",
       "    }\n",
       "\n",
       "    .dataframe tbody tr th {\n",
       "        vertical-align: top;\n",
       "    }\n",
       "\n",
       "    .dataframe thead th {\n",
       "        text-align: right;\n",
       "    }\n",
       "</style>\n",
       "<table border=\"1\" class=\"dataframe\">\n",
       "  <thead>\n",
       "    <tr style=\"text-align: right;\">\n",
       "      <th></th>\n",
       "      <th>director</th>\n",
       "      <th>actor</th>\n",
       "      <th>collabs</th>\n",
       "      <th>collab indicator</th>\n",
       "      <th>actor_total_gross</th>\n",
       "      <th>actor_mean_gross</th>\n",
       "      <th>director_total_gross</th>\n",
       "      <th>director_mean_gross</th>\n",
       "      <th>total_gross_diff</th>\n",
       "      <th>mean_gross_diff</th>\n",
       "    </tr>\n",
       "  </thead>\n",
       "  <tbody>\n",
       "    <tr>\n",
       "      <th>0</th>\n",
       "      <td>Pascal Chaumeil</td>\n",
       "      <td>Leo Fong</td>\n",
       "      <td>0</td>\n",
       "      <td>0</td>\n",
       "      <td>11.064464</td>\n",
       "      <td>11.064464</td>\n",
       "      <td>13.156038</td>\n",
       "      <td>12.462893</td>\n",
       "      <td>2.091574</td>\n",
       "      <td>1.398429</td>\n",
       "    </tr>\n",
       "    <tr>\n",
       "      <th>1</th>\n",
       "      <td>Pascal Chaumeil</td>\n",
       "      <td>Catherine Keener</td>\n",
       "      <td>0</td>\n",
       "      <td>0</td>\n",
       "      <td>15.247479</td>\n",
       "      <td>15.247479</td>\n",
       "      <td>13.156038</td>\n",
       "      <td>12.462893</td>\n",
       "      <td>2.091441</td>\n",
       "      <td>2.784586</td>\n",
       "    </tr>\n",
       "    <tr>\n",
       "      <th>2</th>\n",
       "      <td>Pascal Chaumeil</td>\n",
       "      <td>Lorraine Bracco</td>\n",
       "      <td>0</td>\n",
       "      <td>0</td>\n",
       "      <td>15.748856</td>\n",
       "      <td>15.055708</td>\n",
       "      <td>13.156038</td>\n",
       "      <td>12.462893</td>\n",
       "      <td>2.592818</td>\n",
       "      <td>2.592816</td>\n",
       "    </tr>\n",
       "    <tr>\n",
       "      <th>3</th>\n",
       "      <td>Pascal Chaumeil</td>\n",
       "      <td>Priscilla C. Shirer</td>\n",
       "      <td>0</td>\n",
       "      <td>0</td>\n",
       "      <td>18.031927</td>\n",
       "      <td>18.031927</td>\n",
       "      <td>13.156038</td>\n",
       "      <td>12.462893</td>\n",
       "      <td>4.875889</td>\n",
       "      <td>5.569034</td>\n",
       "    </tr>\n",
       "    <tr>\n",
       "      <th>4</th>\n",
       "      <td>Pascal Chaumeil</td>\n",
       "      <td>Terrence Howard</td>\n",
       "      <td>0</td>\n",
       "      <td>0</td>\n",
       "      <td>16.915677</td>\n",
       "      <td>16.915677</td>\n",
       "      <td>13.156038</td>\n",
       "      <td>12.462893</td>\n",
       "      <td>3.759639</td>\n",
       "      <td>4.452784</td>\n",
       "    </tr>\n",
       "  </tbody>\n",
       "</table>\n",
       "</div>"
      ],
      "text/plain": [
       "          director                actor  collabs  collab indicator  \\\n",
       "0  Pascal Chaumeil             Leo Fong        0                 0   \n",
       "1  Pascal Chaumeil     Catherine Keener        0                 0   \n",
       "2  Pascal Chaumeil      Lorraine Bracco        0                 0   \n",
       "3  Pascal Chaumeil  Priscilla C. Shirer        0                 0   \n",
       "4  Pascal Chaumeil      Terrence Howard        0                 0   \n",
       "\n",
       "   actor_total_gross  actor_mean_gross  director_total_gross  \\\n",
       "0          11.064464         11.064464             13.156038   \n",
       "1          15.247479         15.247479             13.156038   \n",
       "2          15.748856         15.055708             13.156038   \n",
       "3          18.031927         18.031927             13.156038   \n",
       "4          16.915677         16.915677             13.156038   \n",
       "\n",
       "   director_mean_gross  total_gross_diff  mean_gross_diff  \n",
       "0            12.462893          2.091574         1.398429  \n",
       "1            12.462893          2.091441         2.784586  \n",
       "2            12.462893          2.592818         2.592816  \n",
       "3            12.462893          4.875889         5.569034  \n",
       "4            12.462893          3.759639         4.452784  "
      ]
     },
     "execution_count": 18,
     "metadata": {},
     "output_type": "execute_result"
    }
   ],
   "source": [
    "actor_total_gross = {}\n",
    "actor_mean_gross = {}\n",
    "add_feature_actor(actor_total_gross, actor_mean_gross, 'gross')\n",
    "df[\"actor_total_gross\"] = df.actor.map(actor_total_gross)\n",
    "df[\"actor_mean_gross\"] = df.actor.map(actor_mean_gross)\n",
    "\n",
    "df[\"actor_total_gross\"] = np.log(df[\"actor_total_gross\"]+1)\n",
    "df[\"actor_mean_gross\"] = np.log(df[\"actor_mean_gross\"]+1)\n",
    "\n",
    "director_total_gross = {}\n",
    "director_mean_gross = {}\n",
    "add_feature_director(director_total_gross, director_mean_gross, 'gross')\n",
    "df[\"director_total_gross\"] = df.director.map(director_total_gross)\n",
    "df[\"director_mean_gross\"] = df.director.map(director_mean_gross)\n",
    "\n",
    "df[\"director_total_gross\"] = np.log(df[\"director_total_gross\"]+1)\n",
    "df[\"director_mean_gross\"] = np.log(df[\"director_mean_gross\"]+1)\n",
    "\n",
    "\n",
    "df[\"total_gross_diff\"] = abs(df.director_total_gross - df.actor_total_gross)\n",
    "df[\"mean_gross_diff\"] = abs(df.director_mean_gross - df.actor_mean_gross)\n",
    "df.head()"
   ]
  },
  {
   "cell_type": "code",
   "execution_count": 19,
   "metadata": {},
   "outputs": [
    {
     "data": {
      "text/plain": [
       "<matplotlib.legend.Legend at 0x121fefd90>"
      ]
     },
     "execution_count": 19,
     "metadata": {},
     "output_type": "execute_result"
    },
    {
     "data": {
      "image/png": "[encoded data removed]",
      "text/plain": [
       "<Figure size 432x288 with 1 Axes>"
      ]
     },
     "metadata": {
      "needs_background": "light"
     },
     "output_type": "display_data"
    }
   ],
   "source": [
    "df_dropped = df.copy().dropna()\n",
    "bins = np.linspace(min(df_dropped.mean_gross_diff.values), max(df_dropped.mean_gross_diff.values), 50)\n",
    "plt.hist(df_dropped[df_dropped[\"collab indicator\"] == 1].mean_gross_diff.values, density = True, bins = bins, label = \"1\", alpha = 0.5)\n",
    "plt.hist(df_dropped[df_dropped[\"collab indicator\"] == 0].mean_gross_diff.values, density = True, bins = bins, label = \"0\", alpha = 0.5)\n",
    "plt.legend()\n"
   ]
  },
  {
   "cell_type": "code",
   "execution_count": 20,
   "metadata": {},
   "outputs": [
    {
     "name": "stdout",
     "output_type": "stream",
     "text": [
      "mean_gross_diff variance in pairs w/ collab is  1.8717488343183828\n",
      "mean_gross_diff variance in pairs w/o collab is  4.674393288822889\n"
     ]
    },
    {
     "data": {
      "text/plain": [
       "Ttest_indResult(statistic=-94.2502745118173, pvalue=0.0)"
      ]
     },
     "execution_count": 20,
     "metadata": {},
     "output_type": "execute_result"
    }
   ],
   "source": [
    "\n",
    "print('mean_gross_diff variance in pairs w/ collab is  {}'.format(np.var(df_dropped[df_dropped[\"collab indicator\"] == 1].mean_gross_diff.values)))\n",
    "print('mean_gross_diff variance in pairs w/o collab is  {}'.format(np.var(df_dropped[df_dropped[\"collab indicator\"] == 0].mean_gross_diff.values)))\n",
    "ttest_ind(df_dropped[df_dropped[\"collab indicator\"] == 1].mean_gross_diff.values, \n",
    "                      df_dropped[df_dropped[\"collab indicator\"] == 0].mean_gross_diff.values, \n",
    "                      equal_var=False)\n"
   ]
  },
  {
   "cell_type": "code",
   "execution_count": 21,
   "metadata": {},
   "outputs": [
    {
     "data": {
      "text/plain": [
       "KstestResult(statistic=0.4163505134945335, pvalue=0.0)"
      ]
     },
     "execution_count": 21,
     "metadata": {},
     "output_type": "execute_result"
    }
   ],
   "source": [
    "ks_2samp(df_dropped[df_dropped[\"collab indicator\"] == 1].mean_gross_diff.values, \n",
    "                      df_dropped[df_dropped[\"collab indicator\"] == 0].mean_gross_diff.values)"
   ]
  },
  {
   "cell_type": "code",
   "execution_count": 22,
   "metadata": {},
   "outputs": [
    {
     "data": {
      "text/plain": [
       "<matplotlib.legend.Legend at 0x14b8a8790>"
      ]
     },
     "execution_count": 22,
     "metadata": {},
     "output_type": "execute_result"
    },
    {
     "data": {
      "image/png": "[encoded data removed]",
      "text/plain": [
       "<Figure size 432x288 with 1 Axes>"
      ]
     },
     "metadata": {
      "needs_background": "light"
     },
     "output_type": "display_data"
    }
   ],
   "source": [
    "df_dropped = df.copy().dropna()\n",
    "bins = np.linspace(min(df_dropped.total_gross_diff.values), max(df_dropped.total_gross_diff.values), 50)\n",
    "plt.hist(df_dropped[df_dropped[\"collab indicator\"] == 1].total_gross_diff.values, density = True, bins = bins, label = \"1\", alpha = 0.5)\n",
    "plt.hist(df_dropped[df_dropped[\"collab indicator\"] == 0].total_gross_diff.values, density = True, bins = bins, label = \"0\", alpha = 0.5)\n",
    "plt.legend()"
   ]
  },
  {
   "cell_type": "code",
   "execution_count": 23,
   "metadata": {},
   "outputs": [
    {
     "name": "stdout",
     "output_type": "stream",
     "text": [
      "total_gross_diff variance in pairs w/ collab is  3.535748103826909\n",
      "total_gross_diff variance in pairs w/o collab is  6.051382016033917\n"
     ]
    },
    {
     "data": {
      "text/plain": [
       "Ttest_indResult(statistic=-60.643563937183735, pvalue=0.0)"
      ]
     },
     "execution_count": 23,
     "metadata": {},
     "output_type": "execute_result"
    }
   ],
   "source": [
    "print('total_gross_diff variance in pairs w/ collab is  {}'.format(np.var(df_dropped[df_dropped[\"collab indicator\"] == 1].total_gross_diff.values)))\n",
    "print('total_gross_diff variance in pairs w/o collab is  {}'.format(np.var(df_dropped[df_dropped[\"collab indicator\"] == 0].total_gross_diff.values)))\n",
    "ttest_ind(df_dropped[df_dropped[\"collab indicator\"] == 1].total_gross_diff.values, \n",
    "                      df_dropped[df_dropped[\"collab indicator\"] == 0].total_gross_diff.values, \n",
    "                      equal_var=False)\n"
   ]
  },
  {
   "cell_type": "code",
   "execution_count": 24,
   "metadata": {},
   "outputs": [
    {
     "data": {
      "text/plain": [
       "KstestResult(statistic=0.2814756160207849, pvalue=0.0)"
      ]
     },
     "execution_count": 24,
     "metadata": {},
     "output_type": "execute_result"
    }
   ],
   "source": [
    "ks_2samp(df_dropped[df_dropped[\"collab indicator\"] == 1].total_gross_diff.values, \n",
    "                      df_dropped[df_dropped[\"collab indicator\"] == 0].total_gross_diff.values)"
   ]
  },
  {
   "cell_type": "markdown",
   "metadata": {},
   "source": [
    "### budget"
   ]
  },
  {
   "cell_type": "code",
   "execution_count": 25,
   "metadata": {},
   "outputs": [
    {
     "data": {
      "text/html": [
       "<div>\n",
       "<style scoped>\n",
       "    .dataframe tbody tr th:only-of-type {\n",
       "        vertical-align: middle;\n",
       "    }\n",
       "\n",
       "    .dataframe tbody tr th {\n",
       "        vertical-align: top;\n",
       "    }\n",
       "\n",
       "    .dataframe thead th {\n",
       "        text-align: right;\n",
       "    }\n",
       "</style>\n",
       "<table border=\"1\" class=\"dataframe\">\n",
       "  <thead>\n",
       "    <tr style=\"text-align: right;\">\n",
       "      <th></th>\n",
       "      <th>director</th>\n",
       "      <th>actor</th>\n",
       "      <th>collabs</th>\n",
       "      <th>collab indicator</th>\n",
       "      <th>actor_total_gross</th>\n",
       "      <th>actor_mean_gross</th>\n",
       "      <th>director_total_gross</th>\n",
       "      <th>director_mean_gross</th>\n",
       "      <th>total_gross_diff</th>\n",
       "      <th>mean_gross_diff</th>\n",
       "      <th>actor_total_budget</th>\n",
       "      <th>actor_mean_budget</th>\n",
       "      <th>director_total_budget</th>\n",
       "      <th>director_mean_budget</th>\n",
       "      <th>total_budget_diff</th>\n",
       "      <th>mean_budget_diff</th>\n",
       "    </tr>\n",
       "  </thead>\n",
       "  <tbody>\n",
       "    <tr>\n",
       "      <th>0</th>\n",
       "      <td>Pascal Chaumeil</td>\n",
       "      <td>Leo Fong</td>\n",
       "      <td>0</td>\n",
       "      <td>0</td>\n",
       "      <td>11.064464</td>\n",
       "      <td>11.064464</td>\n",
       "      <td>13.156038</td>\n",
       "      <td>12.462893</td>\n",
       "      <td>2.091574</td>\n",
       "      <td>1.398429</td>\n",
       "      <td>0.000000</td>\n",
       "      <td>0.000000</td>\n",
       "      <td>0.0</td>\n",
       "      <td>0.0</td>\n",
       "      <td>0.000000</td>\n",
       "      <td>0.000000</td>\n",
       "    </tr>\n",
       "    <tr>\n",
       "      <th>1</th>\n",
       "      <td>Pascal Chaumeil</td>\n",
       "      <td>Catherine Keener</td>\n",
       "      <td>0</td>\n",
       "      <td>0</td>\n",
       "      <td>15.247479</td>\n",
       "      <td>15.247479</td>\n",
       "      <td>13.156038</td>\n",
       "      <td>12.462893</td>\n",
       "      <td>2.091441</td>\n",
       "      <td>2.784586</td>\n",
       "      <td>12.429220</td>\n",
       "      <td>12.429220</td>\n",
       "      <td>0.0</td>\n",
       "      <td>0.0</td>\n",
       "      <td>12.429220</td>\n",
       "      <td>12.429220</td>\n",
       "    </tr>\n",
       "    <tr>\n",
       "      <th>2</th>\n",
       "      <td>Pascal Chaumeil</td>\n",
       "      <td>Lorraine Bracco</td>\n",
       "      <td>0</td>\n",
       "      <td>0</td>\n",
       "      <td>15.748856</td>\n",
       "      <td>15.055708</td>\n",
       "      <td>13.156038</td>\n",
       "      <td>12.462893</td>\n",
       "      <td>2.592818</td>\n",
       "      <td>2.592816</td>\n",
       "      <td>17.654963</td>\n",
       "      <td>16.961816</td>\n",
       "      <td>0.0</td>\n",
       "      <td>0.0</td>\n",
       "      <td>17.654963</td>\n",
       "      <td>16.961816</td>\n",
       "    </tr>\n",
       "    <tr>\n",
       "      <th>3</th>\n",
       "      <td>Pascal Chaumeil</td>\n",
       "      <td>Priscilla C. Shirer</td>\n",
       "      <td>0</td>\n",
       "      <td>0</td>\n",
       "      <td>18.031927</td>\n",
       "      <td>18.031927</td>\n",
       "      <td>13.156038</td>\n",
       "      <td>12.462893</td>\n",
       "      <td>4.875889</td>\n",
       "      <td>5.569034</td>\n",
       "      <td>14.914123</td>\n",
       "      <td>14.914123</td>\n",
       "      <td>0.0</td>\n",
       "      <td>0.0</td>\n",
       "      <td>14.914123</td>\n",
       "      <td>14.914123</td>\n",
       "    </tr>\n",
       "    <tr>\n",
       "      <th>4</th>\n",
       "      <td>Pascal Chaumeil</td>\n",
       "      <td>Terrence Howard</td>\n",
       "      <td>0</td>\n",
       "      <td>0</td>\n",
       "      <td>16.915677</td>\n",
       "      <td>16.915677</td>\n",
       "      <td>13.156038</td>\n",
       "      <td>12.462893</td>\n",
       "      <td>3.759639</td>\n",
       "      <td>4.452784</td>\n",
       "      <td>15.894952</td>\n",
       "      <td>15.894952</td>\n",
       "      <td>0.0</td>\n",
       "      <td>0.0</td>\n",
       "      <td>15.894952</td>\n",
       "      <td>15.894952</td>\n",
       "    </tr>\n",
       "  </tbody>\n",
       "</table>\n",
       "</div>"
      ],
      "text/plain": [
       "          director                actor  collabs  collab indicator  \\\n",
       "0  Pascal Chaumeil             Leo Fong        0                 0   \n",
       "1  Pascal Chaumeil     Catherine Keener        0                 0   \n",
       "2  Pascal Chaumeil      Lorraine Bracco        0                 0   \n",
       "3  Pascal Chaumeil  Priscilla C. Shirer        0                 0   \n",
       "4  Pascal Chaumeil      Terrence Howard        0                 0   \n",
       "\n",
       "   actor_total_gross  actor_mean_gross  director_total_gross  \\\n",
       "0          11.064464         11.064464             13.156038   \n",
       "1          15.247479         15.247479             13.156038   \n",
       "2          15.748856         15.055708             13.156038   \n",
       "3          18.031927         18.031927             13.156038   \n",
       "4          16.915677         16.915677             13.156038   \n",
       "\n",
       "   director_mean_gross  total_gross_diff  mean_gross_diff  actor_total_budget  \\\n",
       "0            12.462893          2.091574         1.398429            0.000000   \n",
       "1            12.462893          2.091441         2.784586           12.429220   \n",
       "2            12.462893          2.592818         2.592816           17.654963   \n",
       "3            12.462893          4.875889         5.569034           14.914123   \n",
       "4            12.462893          3.759639         4.452784           15.894952   \n",
       "\n",
       "   actor_mean_budget  director_total_budget  director_mean_budget  \\\n",
       "0           0.000000                    0.0                   0.0   \n",
       "1          12.429220                    0.0                   0.0   \n",
       "2          16.961816                    0.0                   0.0   \n",
       "3          14.914123                    0.0                   0.0   \n",
       "4          15.894952                    0.0                   0.0   \n",
       "\n",
       "   total_budget_diff  mean_budget_diff  \n",
       "0           0.000000          0.000000  \n",
       "1          12.429220         12.429220  \n",
       "2          17.654963         16.961816  \n",
       "3          14.914123         14.914123  \n",
       "4          15.894952         15.894952  "
      ]
     },
     "execution_count": 25,
     "metadata": {},
     "output_type": "execute_result"
    }
   ],
   "source": [
    "actor_total_budget = {}\n",
    "actor_mean_budget = {}\n",
    "add_feature_actor(actor_total_budget, actor_mean_budget, 'budget')\n",
    "df[\"actor_total_budget\"] = df.actor.map(actor_total_budget)\n",
    "df[\"actor_mean_budget\"] = df.actor.map(actor_mean_budget)\n",
    "\n",
    "df[\"actor_total_budget\"] = np.log(df[\"actor_total_budget\"]+1)\n",
    "df[\"actor_mean_budget\"] = np.log(df[\"actor_mean_budget\"]+1)\n",
    "\n",
    "director_total_budget = {}\n",
    "director_mean_budget = {}\n",
    "add_feature_director(director_total_budget, director_mean_budget, 'budget')\n",
    "df[\"director_total_budget\"] = df.director.map(director_total_budget)\n",
    "df[\"director_mean_budget\"] = df.director.map(director_mean_budget)\n",
    "\n",
    "df[\"director_total_budget\"] = np.log(df[\"director_total_budget\"]+1)\n",
    "df[\"director_mean_budget\"] = np.log(df[\"director_mean_budget\"]+1)\n",
    "\n",
    "\n",
    "df[\"total_budget_diff\"] = abs(df.director_total_budget - df.actor_total_budget)\n",
    "df[\"mean_budget_diff\"] = abs(df.director_mean_budget - df.actor_mean_budget)\n",
    "df.head()"
   ]
  },
  {
   "cell_type": "code",
   "execution_count": 26,
   "metadata": {},
   "outputs": [
    {
     "data": {
      "text/plain": [
       "<matplotlib.legend.Legend at 0x14ba0cc90>"
      ]
     },
     "execution_count": 26,
     "metadata": {},
     "output_type": "execute_result"
    },
    {
     "data": {
      "image/png": "[encoded data removed]",
      "text/plain": [
       "<Figure size 432x288 with 1 Axes>"
      ]
     },
     "metadata": {
      "needs_background": "light"
     },
     "output_type": "display_data"
    }
   ],
   "source": [
    "df_dropped = df.copy().dropna()\n",
    "bins = np.linspace(min(df_dropped.mean_budget_diff.values), max(df_dropped.mean_budget_diff.values), 50)\n",
    "plt.hist(df_dropped[df_dropped[\"collab indicator\"] == 1].mean_budget_diff.values, density = True, bins = bins, label = \"1\", alpha = 0.5)\n",
    "plt.hist(df_dropped[df_dropped[\"collab indicator\"] == 0].mean_budget_diff.values, density = True, bins = bins, label = \"0\", alpha = 0.5)\n",
    "plt.legend()\n",
    "\n"
   ]
  },
  {
   "cell_type": "code",
   "execution_count": 27,
   "metadata": {},
   "outputs": [
    {
     "name": "stdout",
     "output_type": "stream",
     "text": [
      "mean_budget_diff variance in pairs w/ collab is  27.11462593108785\n",
      "mean_budget_diff variance in pairs w/o collab is  57.83057142951253\n"
     ]
    },
    {
     "data": {
      "text/plain": [
       "Ttest_indResult(statistic=-80.27229668729034, pvalue=0.0)"
      ]
     },
     "execution_count": 27,
     "metadata": {},
     "output_type": "execute_result"
    }
   ],
   "source": [
    "from scipy.stats import ttest_ind\n",
    "print('mean_budget_diff variance in pairs w/ collab is  {}'.format(np.var(df_dropped[df_dropped[\"collab indicator\"] == 1].mean_budget_diff.values)))\n",
    "print('mean_budget_diff variance in pairs w/o collab is  {}'.format(np.var(df_dropped[df_dropped[\"collab indicator\"] == 0].mean_budget_diff.values)))\n",
    "ttest_ind(df_dropped[df_dropped[\"collab indicator\"] == 1].mean_budget_diff.values, \n",
    "                      df_dropped[df_dropped[\"collab indicator\"] == 0].mean_budget_diff.values, \n",
    "                      equal_var=False)\n"
   ]
  },
  {
   "cell_type": "code",
   "execution_count": 28,
   "metadata": {},
   "outputs": [
    {
     "data": {
      "text/plain": [
       "KstestResult(statistic=0.39468762376419353, pvalue=0.0)"
      ]
     },
     "execution_count": 28,
     "metadata": {},
     "output_type": "execute_result"
    }
   ],
   "source": [
    "ks_2samp(df_dropped[df_dropped[\"collab indicator\"] == 1].mean_budget_diff.values, \n",
    "                      df_dropped[df_dropped[\"collab indicator\"] == 0].mean_budget_diff.values)"
   ]
  },
  {
   "cell_type": "code",
   "execution_count": 29,
   "metadata": {},
   "outputs": [
    {
     "data": {
      "text/plain": [
       "<matplotlib.legend.Legend at 0x14c3c5e10>"
      ]
     },
     "execution_count": 29,
     "metadata": {},
     "output_type": "execute_result"
    },
    {
     "data": {
      "image/png": "[encoded data removed]",
      "text/plain": [
       "<Figure size 432x288 with 1 Axes>"
      ]
     },
     "metadata": {
      "needs_background": "light"
     },
     "output_type": "display_data"
    }
   ],
   "source": [
    "df_dropped = df.copy().dropna()\n",
    "bins = np.linspace(min(df_dropped.total_budget_diff.values), max(df_dropped.total_budget_diff.values), 50)\n",
    "plt.hist(df_dropped[df_dropped[\"collab indicator\"] == 1].total_budget_diff.values, density = True, bins = bins, label = \"1\", alpha = 0.5)\n",
    "plt.hist(df_dropped[df_dropped[\"collab indicator\"] == 0].total_budget_diff.values, density = True, bins = bins, label = \"0\", alpha = 0.5)\n",
    "plt.legend()"
   ]
  },
  {
   "cell_type": "code",
   "execution_count": 30,
   "metadata": {},
   "outputs": [
    {
     "name": "stdout",
     "output_type": "stream",
     "text": [
      "total_budget_diff variance in pairs w/ collab is  31.96133387977165\n",
      "total_budget_diff variance in pairs w/o collab is  61.68560872797593\n"
     ]
    },
    {
     "data": {
      "text/plain": [
       "Ttest_indResult(statistic=-71.82662855761772, pvalue=0.0)"
      ]
     },
     "execution_count": 30,
     "metadata": {},
     "output_type": "execute_result"
    }
   ],
   "source": [
    "print('total_budget_diff variance in pairs w/ collab is  {}'.format(np.var(df_dropped[df_dropped[\"collab indicator\"] == 1].total_budget_diff.values)))\n",
    "print('total_budget_diff variance in pairs w/o collab is  {}'.format(np.var(df_dropped[df_dropped[\"collab indicator\"] == 0].total_budget_diff.values)))\n",
    "ttest_ind(df_dropped[df_dropped[\"collab indicator\"] == 1].total_budget_diff.values, \n",
    "                      df_dropped[df_dropped[\"collab indicator\"] == 0].total_budget_diff.values, \n",
    "                      equal_var=False)\n"
   ]
  },
  {
   "cell_type": "code",
   "execution_count": 31,
   "metadata": {},
   "outputs": [
    {
     "data": {
      "text/plain": [
       "KstestResult(statistic=0.3394780088261523, pvalue=0.0)"
      ]
     },
     "execution_count": 31,
     "metadata": {},
     "output_type": "execute_result"
    }
   ],
   "source": [
    "ks_2samp(df_dropped[df_dropped[\"collab indicator\"] == 1].total_budget_diff.values, \n",
    "                      df_dropped[df_dropped[\"collab indicator\"] == 0].total_budget_diff.values)"
   ]
  },
  {
   "cell_type": "markdown",
   "metadata": {},
   "source": [
    "### score"
   ]
  },
  {
   "cell_type": "code",
   "execution_count": 32,
   "metadata": {},
   "outputs": [
    {
     "data": {
      "text/html": [
       "<div>\n",
       "<style scoped>\n",
       "    .dataframe tbody tr th:only-of-type {\n",
       "        vertical-align: middle;\n",
       "    }\n",
       "\n",
       "    .dataframe tbody tr th {\n",
       "        vertical-align: top;\n",
       "    }\n",
       "\n",
       "    .dataframe thead th {\n",
       "        text-align: right;\n",
       "    }\n",
       "</style>\n",
       "<table border=\"1\" class=\"dataframe\">\n",
       "  <thead>\n",
       "    <tr style=\"text-align: right;\">\n",
       "      <th></th>\n",
       "      <th>director</th>\n",
       "      <th>actor</th>\n",
       "      <th>collabs</th>\n",
       "      <th>collab indicator</th>\n",
       "      <th>actor_total_gross</th>\n",
       "      <th>actor_mean_gross</th>\n",
       "      <th>director_total_gross</th>\n",
       "      <th>director_mean_gross</th>\n",
       "      <th>total_gross_diff</th>\n",
       "      <th>mean_gross_diff</th>\n",
       "      <th>...</th>\n",
       "      <th>director_total_budget</th>\n",
       "      <th>director_mean_budget</th>\n",
       "      <th>total_budget_diff</th>\n",
       "      <th>mean_budget_diff</th>\n",
       "      <th>actor_total_score</th>\n",
       "      <th>actor_mean_score</th>\n",
       "      <th>director_total_score</th>\n",
       "      <th>director_mean_score</th>\n",
       "      <th>total_score_diff</th>\n",
       "      <th>mean_score_diff</th>\n",
       "    </tr>\n",
       "  </thead>\n",
       "  <tbody>\n",
       "    <tr>\n",
       "      <th>0</th>\n",
       "      <td>Pascal Chaumeil</td>\n",
       "      <td>Leo Fong</td>\n",
       "      <td>0</td>\n",
       "      <td>0</td>\n",
       "      <td>11.064464</td>\n",
       "      <td>11.064464</td>\n",
       "      <td>13.156038</td>\n",
       "      <td>12.462893</td>\n",
       "      <td>2.091574</td>\n",
       "      <td>1.398429</td>\n",
       "      <td>...</td>\n",
       "      <td>0.0</td>\n",
       "      <td>0.0</td>\n",
       "      <td>0.000000</td>\n",
       "      <td>0.000000</td>\n",
       "      <td>1.504077</td>\n",
       "      <td>1.504077</td>\n",
       "      <td>0.917920</td>\n",
       "      <td>0.917920</td>\n",
       "      <td>0.586157</td>\n",
       "      <td>0.586157</td>\n",
       "    </tr>\n",
       "    <tr>\n",
       "      <th>1</th>\n",
       "      <td>Pascal Chaumeil</td>\n",
       "      <td>Catherine Keener</td>\n",
       "      <td>0</td>\n",
       "      <td>0</td>\n",
       "      <td>15.247479</td>\n",
       "      <td>15.247479</td>\n",
       "      <td>13.156038</td>\n",
       "      <td>12.462893</td>\n",
       "      <td>2.091441</td>\n",
       "      <td>2.784586</td>\n",
       "      <td>...</td>\n",
       "      <td>0.0</td>\n",
       "      <td>0.0</td>\n",
       "      <td>12.429220</td>\n",
       "      <td>12.429220</td>\n",
       "      <td>2.066863</td>\n",
       "      <td>2.066863</td>\n",
       "      <td>1.120655</td>\n",
       "      <td>1.120655</td>\n",
       "      <td>0.946208</td>\n",
       "      <td>0.946208</td>\n",
       "    </tr>\n",
       "    <tr>\n",
       "      <th>2</th>\n",
       "      <td>Pascal Chaumeil</td>\n",
       "      <td>Lorraine Bracco</td>\n",
       "      <td>0</td>\n",
       "      <td>0</td>\n",
       "      <td>15.748856</td>\n",
       "      <td>15.055708</td>\n",
       "      <td>13.156038</td>\n",
       "      <td>12.462893</td>\n",
       "      <td>2.592818</td>\n",
       "      <td>2.592816</td>\n",
       "      <td>...</td>\n",
       "      <td>0.0</td>\n",
       "      <td>0.0</td>\n",
       "      <td>17.654963</td>\n",
       "      <td>16.961816</td>\n",
       "      <td>2.687847</td>\n",
       "      <td>2.060514</td>\n",
       "      <td>1.305043</td>\n",
       "      <td>1.118583</td>\n",
       "      <td>1.382805</td>\n",
       "      <td>0.941931</td>\n",
       "    </tr>\n",
       "    <tr>\n",
       "      <th>3</th>\n",
       "      <td>Pascal Chaumeil</td>\n",
       "      <td>Priscilla C. Shirer</td>\n",
       "      <td>0</td>\n",
       "      <td>0</td>\n",
       "      <td>18.031927</td>\n",
       "      <td>18.031927</td>\n",
       "      <td>13.156038</td>\n",
       "      <td>12.462893</td>\n",
       "      <td>4.875889</td>\n",
       "      <td>5.569034</td>\n",
       "      <td>...</td>\n",
       "      <td>0.0</td>\n",
       "      <td>0.0</td>\n",
       "      <td>14.914123</td>\n",
       "      <td>14.914123</td>\n",
       "      <td>2.001480</td>\n",
       "      <td>2.001480</td>\n",
       "      <td>1.099106</td>\n",
       "      <td>1.099106</td>\n",
       "      <td>0.902374</td>\n",
       "      <td>0.902374</td>\n",
       "    </tr>\n",
       "    <tr>\n",
       "      <th>4</th>\n",
       "      <td>Pascal Chaumeil</td>\n",
       "      <td>Terrence Howard</td>\n",
       "      <td>0</td>\n",
       "      <td>0</td>\n",
       "      <td>16.915677</td>\n",
       "      <td>16.915677</td>\n",
       "      <td>13.156038</td>\n",
       "      <td>12.462893</td>\n",
       "      <td>3.759639</td>\n",
       "      <td>4.452784</td>\n",
       "      <td>...</td>\n",
       "      <td>0.0</td>\n",
       "      <td>0.0</td>\n",
       "      <td>15.894952</td>\n",
       "      <td>15.894952</td>\n",
       "      <td>2.128232</td>\n",
       "      <td>2.128232</td>\n",
       "      <td>1.140468</td>\n",
       "      <td>1.140468</td>\n",
       "      <td>0.987764</td>\n",
       "      <td>0.987764</td>\n",
       "    </tr>\n",
       "  </tbody>\n",
       "</table>\n",
       "<p>5 rows × 22 columns</p>\n",
       "</div>"
      ],
      "text/plain": [
       "          director                actor  collabs  collab indicator  \\\n",
       "0  Pascal Chaumeil             Leo Fong        0                 0   \n",
       "1  Pascal Chaumeil     Catherine Keener        0                 0   \n",
       "2  Pascal Chaumeil      Lorraine Bracco        0                 0   \n",
       "3  Pascal Chaumeil  Priscilla C. Shirer        0                 0   \n",
       "4  Pascal Chaumeil      Terrence Howard        0                 0   \n",
       "\n",
       "   actor_total_gross  actor_mean_gross  director_total_gross  \\\n",
       "0          11.064464         11.064464             13.156038   \n",
       "1          15.247479         15.247479             13.156038   \n",
       "2          15.748856         15.055708             13.156038   \n",
       "3          18.031927         18.031927             13.156038   \n",
       "4          16.915677         16.915677             13.156038   \n",
       "\n",
       "   director_mean_gross  total_gross_diff  mean_gross_diff  ...  \\\n",
       "0            12.462893          2.091574         1.398429  ...   \n",
       "1            12.462893          2.091441         2.784586  ...   \n",
       "2            12.462893          2.592818         2.592816  ...   \n",
       "3            12.462893          4.875889         5.569034  ...   \n",
       "4            12.462893          3.759639         4.452784  ...   \n",
       "\n",
       "   director_total_budget  director_mean_budget  total_budget_diff  \\\n",
       "0                    0.0                   0.0           0.000000   \n",
       "1                    0.0                   0.0          12.429220   \n",
       "2                    0.0                   0.0          17.654963   \n",
       "3                    0.0                   0.0          14.914123   \n",
       "4                    0.0                   0.0          15.894952   \n",
       "\n",
       "   mean_budget_diff  actor_total_score  actor_mean_score  \\\n",
       "0          0.000000           1.504077          1.504077   \n",
       "1         12.429220           2.066863          2.066863   \n",
       "2         16.961816           2.687847          2.060514   \n",
       "3         14.914123           2.001480          2.001480   \n",
       "4         15.894952           2.128232          2.128232   \n",
       "\n",
       "   director_total_score  director_mean_score  total_score_diff  \\\n",
       "0              0.917920             0.917920          0.586157   \n",
       "1              1.120655             1.120655          0.946208   \n",
       "2              1.305043             1.118583          1.382805   \n",
       "3              1.099106             1.099106          0.902374   \n",
       "4              1.140468             1.140468          0.987764   \n",
       "\n",
       "   mean_score_diff  \n",
       "0         0.586157  \n",
       "1         0.946208  \n",
       "2         0.941931  \n",
       "3         0.902374  \n",
       "4         0.987764  \n",
       "\n",
       "[5 rows x 22 columns]"
      ]
     },
     "execution_count": 32,
     "metadata": {},
     "output_type": "execute_result"
    }
   ],
   "source": [
    "actor_total_score = {}\n",
    "actor_mean_score = {}\n",
    "add_feature_actor(actor_total_score, actor_mean_score, 'score')\n",
    "df[\"actor_total_score\"] = df.actor.map(actor_total_score)\n",
    "df[\"actor_mean_score\"] = df.actor.map(actor_mean_score)\n",
    "\n",
    "df[\"actor_total_score\"] = np.log(df[\"actor_total_score\"]+1)\n",
    "df[\"actor_mean_score\"] = np.log(df[\"actor_mean_score\"]+1)\n",
    "\n",
    "director_total_score = {}\n",
    "director_mean_score = {}\n",
    "add_feature_director(director_total_score, director_mean_score, 'score')\n",
    "df[\"director_total_score\"] = df.director.map(director_total_score)\n",
    "df[\"director_mean_score\"] = df.director.map(director_mean_score)\n",
    "\n",
    "df[\"director_total_score\"] = np.log(df[\"actor_total_score\"]+1)\n",
    "df[\"director_mean_score\"] = np.log(df[\"actor_mean_score\"]+1)\n",
    "\n",
    "df[\"total_score_diff\"] = abs(df.director_total_score - df.actor_total_score)\n",
    "df[\"mean_score_diff\"] = abs(df.director_mean_score - df.actor_mean_score)\n",
    "df.head()"
   ]
  },
  {
   "cell_type": "code",
   "execution_count": 33,
   "metadata": {},
   "outputs": [
    {
     "data": {
      "text/plain": [
       "<matplotlib.legend.Legend at 0x14b972390>"
      ]
     },
     "execution_count": 33,
     "metadata": {},
     "output_type": "execute_result"
    },
    {
     "data": {
      "image/png": "[encoded data removed]",
      "text/plain": [
       "<Figure size 432x288 with 1 Axes>"
      ]
     },
     "metadata": {
      "needs_background": "light"
     },
     "output_type": "display_data"
    }
   ],
   "source": [
    "df_dropped = df.copy().dropna()\n",
    "bins = np.linspace(min(df_dropped.mean_score_diff.values), max(df_dropped.mean_score_diff.values), 50)\n",
    "plt.hist(df_dropped[df_dropped[\"collab indicator\"] == 1].mean_score_diff.values, density = True, bins = bins, label = \"1\", alpha = 0.5)\n",
    "plt.hist(df_dropped[df_dropped[\"collab indicator\"] == 0].mean_score_diff.values, density = True, bins = bins, label = \"0\", alpha = 0.5)\n",
    "plt.legend()\n"
   ]
  },
  {
   "cell_type": "code",
   "execution_count": 34,
   "metadata": {},
   "outputs": [
    {
     "name": "stdout",
     "output_type": "stream",
     "text": [
      "mean_score_diff variance in pairs w/ collab is  0.005874329111945941\n",
      "mean_score_diff variance in pairs w/o collab is  0.010481064026380918\n"
     ]
    },
    {
     "data": {
      "text/plain": [
       "Ttest_indResult(statistic=7.301656502374464, pvalue=3.191666809125915e-13)"
      ]
     },
     "execution_count": 34,
     "metadata": {},
     "output_type": "execute_result"
    }
   ],
   "source": [
    "print('mean_score_diff variance in pairs w/ collab is  {}'.format(np.var(df_dropped[df_dropped[\"collab indicator\"] == 1].mean_score_diff.values)))\n",
    "print('mean_score_diff variance in pairs w/o collab is  {}'.format(np.var(df_dropped[df_dropped[\"collab indicator\"] == 0].mean_score_diff.values)))\n",
    "ttest_ind(df_dropped[df_dropped[\"collab indicator\"] == 1].mean_score_diff.values, \n",
    "                      df_dropped[df_dropped[\"collab indicator\"] == 0].mean_score_diff.values, \n",
    "                      equal_var=False)\n"
   ]
  },
  {
   "cell_type": "code",
   "execution_count": 35,
   "metadata": {},
   "outputs": [
    {
     "data": {
      "text/plain": [
       "KstestResult(statistic=0.10050500770808812, pvalue=7.4792172391244485e-56)"
      ]
     },
     "execution_count": 35,
     "metadata": {},
     "output_type": "execute_result"
    }
   ],
   "source": [
    "ks_2samp(df_dropped[df_dropped[\"collab indicator\"] == 1].mean_score_diff.values, \n",
    "                      df_dropped[df_dropped[\"collab indicator\"] == 0].mean_score_diff.values)"
   ]
  },
  {
   "cell_type": "code",
   "execution_count": 36,
   "metadata": {},
   "outputs": [
    {
     "data": {
      "text/plain": [
       "<matplotlib.legend.Legend at 0x14d00f590>"
      ]
     },
     "execution_count": 36,
     "metadata": {},
     "output_type": "execute_result"
    },
    {
     "data": {
      "image/png": "[encoded data removed]",
      "text/plain": [
       "<Figure size 432x288 with 1 Axes>"
      ]
     },
     "metadata": {
      "needs_background": "light"
     },
     "output_type": "display_data"
    }
   ],
   "source": [
    "bins = np.linspace(min(df_dropped.total_score_diff.values), max(df_dropped.total_score_diff.values), 50)\n",
    "plt.hist(df_dropped[df_dropped[\"collab indicator\"] == 1].total_score_diff.values, density = True, bins = bins, label = \"1\", alpha = 0.5)\n",
    "plt.hist(df_dropped[df_dropped[\"collab indicator\"] == 0].total_score_diff.values, density = True, bins = bins, label = \"0\", alpha = 0.5)\n",
    "plt.legend()\n"
   ]
  },
  {
   "cell_type": "code",
   "execution_count": 37,
   "metadata": {},
   "outputs": [
    {
     "name": "stdout",
     "output_type": "stream",
     "text": [
      "total_score_diff variance in pairs w/ collab is  0.72134811819559\n",
      "total_score_diff variance in pairs w/o collab is  0.34578967934503785\n"
     ]
    },
    {
     "data": {
      "text/plain": [
       "Ttest_indResult(statistic=67.43183772483678, pvalue=0.0)"
      ]
     },
     "execution_count": 37,
     "metadata": {},
     "output_type": "execute_result"
    }
   ],
   "source": [
    "print('total_score_diff variance in pairs w/ collab is  {}'.format(np.var(df_dropped[df_dropped[\"collab indicator\"] == 1].total_score_diff.values)))\n",
    "print('total_score_diff variance in pairs w/o collab is  {}'.format(np.var(df_dropped[df_dropped[\"collab indicator\"] == 0].total_score_diff.values)))\n",
    "ttest_ind(df_dropped[df_dropped[\"collab indicator\"] == 1].total_score_diff.values, \n",
    "                      df_dropped[df_dropped[\"collab indicator\"] == 0].total_score_diff.values, \n",
    "                      equal_var=False)\n"
   ]
  },
  {
   "cell_type": "code",
   "execution_count": 38,
   "metadata": {},
   "outputs": [
    {
     "data": {
      "text/plain": [
       "KstestResult(statistic=0.4046545705185453, pvalue=0.0)"
      ]
     },
     "execution_count": 38,
     "metadata": {},
     "output_type": "execute_result"
    }
   ],
   "source": [
    "ks_2samp(df_dropped[df_dropped[\"collab indicator\"] == 1].total_score_diff.values, \n",
    "                      df_dropped[df_dropped[\"collab indicator\"] == 0].total_score_diff.values)"
   ]
  },
  {
   "cell_type": "markdown",
   "metadata": {},
   "source": [
    "### votes"
   ]
  },
  {
   "cell_type": "code",
   "execution_count": 39,
   "metadata": {},
   "outputs": [
    {
     "data": {
      "text/html": [
       "<div>\n",
       "<style scoped>\n",
       "    .dataframe tbody tr th:only-of-type {\n",
       "        vertical-align: middle;\n",
       "    }\n",
       "\n",
       "    .dataframe tbody tr th {\n",
       "        vertical-align: top;\n",
       "    }\n",
       "\n",
       "    .dataframe thead th {\n",
       "        text-align: right;\n",
       "    }\n",
       "</style>\n",
       "<table border=\"1\" class=\"dataframe\">\n",
       "  <thead>\n",
       "    <tr style=\"text-align: right;\">\n",
       "      <th></th>\n",
       "      <th>director</th>\n",
       "      <th>actor</th>\n",
       "      <th>collabs</th>\n",
       "      <th>collab indicator</th>\n",
       "      <th>actor_total_gross</th>\n",
       "      <th>actor_mean_gross</th>\n",
       "      <th>director_total_gross</th>\n",
       "      <th>director_mean_gross</th>\n",
       "      <th>total_gross_diff</th>\n",
       "      <th>mean_gross_diff</th>\n",
       "      <th>...</th>\n",
       "      <th>director_total_score</th>\n",
       "      <th>director_mean_score</th>\n",
       "      <th>total_score_diff</th>\n",
       "      <th>mean_score_diff</th>\n",
       "      <th>actor_total_votes</th>\n",
       "      <th>actor_mean_votes</th>\n",
       "      <th>director_total_votes</th>\n",
       "      <th>director_mean_votes</th>\n",
       "      <th>total_votes_diff</th>\n",
       "      <th>mean_votes_diff</th>\n",
       "    </tr>\n",
       "  </thead>\n",
       "  <tbody>\n",
       "    <tr>\n",
       "      <th>0</th>\n",
       "      <td>Pascal Chaumeil</td>\n",
       "      <td>Leo Fong</td>\n",
       "      <td>0</td>\n",
       "      <td>0</td>\n",
       "      <td>11.064464</td>\n",
       "      <td>11.064464</td>\n",
       "      <td>13.156038</td>\n",
       "      <td>12.462893</td>\n",
       "      <td>2.091574</td>\n",
       "      <td>1.398429</td>\n",
       "      <td>...</td>\n",
       "      <td>0.917920</td>\n",
       "      <td>0.917920</td>\n",
       "      <td>0.586157</td>\n",
       "      <td>0.586157</td>\n",
       "      <td>0.917920</td>\n",
       "      <td>0.917920</td>\n",
       "      <td>0.651241</td>\n",
       "      <td>0.651241</td>\n",
       "      <td>0.266679</td>\n",
       "      <td>0.266679</td>\n",
       "    </tr>\n",
       "    <tr>\n",
       "      <th>1</th>\n",
       "      <td>Pascal Chaumeil</td>\n",
       "      <td>Catherine Keener</td>\n",
       "      <td>0</td>\n",
       "      <td>0</td>\n",
       "      <td>15.247479</td>\n",
       "      <td>15.247479</td>\n",
       "      <td>13.156038</td>\n",
       "      <td>12.462893</td>\n",
       "      <td>2.091441</td>\n",
       "      <td>2.784586</td>\n",
       "      <td>...</td>\n",
       "      <td>1.120655</td>\n",
       "      <td>1.120655</td>\n",
       "      <td>0.946208</td>\n",
       "      <td>0.946208</td>\n",
       "      <td>1.120655</td>\n",
       "      <td>1.120655</td>\n",
       "      <td>0.751725</td>\n",
       "      <td>0.751725</td>\n",
       "      <td>0.368930</td>\n",
       "      <td>0.368930</td>\n",
       "    </tr>\n",
       "    <tr>\n",
       "      <th>2</th>\n",
       "      <td>Pascal Chaumeil</td>\n",
       "      <td>Lorraine Bracco</td>\n",
       "      <td>0</td>\n",
       "      <td>0</td>\n",
       "      <td>15.748856</td>\n",
       "      <td>15.055708</td>\n",
       "      <td>13.156038</td>\n",
       "      <td>12.462893</td>\n",
       "      <td>2.592818</td>\n",
       "      <td>2.592816</td>\n",
       "      <td>...</td>\n",
       "      <td>1.305043</td>\n",
       "      <td>1.118583</td>\n",
       "      <td>1.382805</td>\n",
       "      <td>0.941931</td>\n",
       "      <td>1.305043</td>\n",
       "      <td>1.118583</td>\n",
       "      <td>0.835099</td>\n",
       "      <td>0.750747</td>\n",
       "      <td>0.469944</td>\n",
       "      <td>0.367835</td>\n",
       "    </tr>\n",
       "    <tr>\n",
       "      <th>3</th>\n",
       "      <td>Pascal Chaumeil</td>\n",
       "      <td>Priscilla C. Shirer</td>\n",
       "      <td>0</td>\n",
       "      <td>0</td>\n",
       "      <td>18.031927</td>\n",
       "      <td>18.031927</td>\n",
       "      <td>13.156038</td>\n",
       "      <td>12.462893</td>\n",
       "      <td>4.875889</td>\n",
       "      <td>5.569034</td>\n",
       "      <td>...</td>\n",
       "      <td>1.099106</td>\n",
       "      <td>1.099106</td>\n",
       "      <td>0.902374</td>\n",
       "      <td>0.902374</td>\n",
       "      <td>1.099106</td>\n",
       "      <td>1.099106</td>\n",
       "      <td>0.741511</td>\n",
       "      <td>0.741511</td>\n",
       "      <td>0.357594</td>\n",
       "      <td>0.357594</td>\n",
       "    </tr>\n",
       "    <tr>\n",
       "      <th>4</th>\n",
       "      <td>Pascal Chaumeil</td>\n",
       "      <td>Terrence Howard</td>\n",
       "      <td>0</td>\n",
       "      <td>0</td>\n",
       "      <td>16.915677</td>\n",
       "      <td>16.915677</td>\n",
       "      <td>13.156038</td>\n",
       "      <td>12.462893</td>\n",
       "      <td>3.759639</td>\n",
       "      <td>4.452784</td>\n",
       "      <td>...</td>\n",
       "      <td>1.140468</td>\n",
       "      <td>1.140468</td>\n",
       "      <td>0.987764</td>\n",
       "      <td>0.987764</td>\n",
       "      <td>1.140468</td>\n",
       "      <td>1.140468</td>\n",
       "      <td>0.761024</td>\n",
       "      <td>0.761024</td>\n",
       "      <td>0.379443</td>\n",
       "      <td>0.379443</td>\n",
       "    </tr>\n",
       "  </tbody>\n",
       "</table>\n",
       "<p>5 rows × 28 columns</p>\n",
       "</div>"
      ],
      "text/plain": [
       "          director                actor  collabs  collab indicator  \\\n",
       "0  Pascal Chaumeil             Leo Fong        0                 0   \n",
       "1  Pascal Chaumeil     Catherine Keener        0                 0   \n",
       "2  Pascal Chaumeil      Lorraine Bracco        0                 0   \n",
       "3  Pascal Chaumeil  Priscilla C. Shirer        0                 0   \n",
       "4  Pascal Chaumeil      Terrence Howard        0                 0   \n",
       "\n",
       "   actor_total_gross  actor_mean_gross  director_total_gross  \\\n",
       "0          11.064464         11.064464             13.156038   \n",
       "1          15.247479         15.247479             13.156038   \n",
       "2          15.748856         15.055708             13.156038   \n",
       "3          18.031927         18.031927             13.156038   \n",
       "4          16.915677         16.915677             13.156038   \n",
       "\n",
       "   director_mean_gross  total_gross_diff  mean_gross_diff  ...  \\\n",
       "0            12.462893          2.091574         1.398429  ...   \n",
       "1            12.462893          2.091441         2.784586  ...   \n",
       "2            12.462893          2.592818         2.592816  ...   \n",
       "3            12.462893          4.875889         5.569034  ...   \n",
       "4            12.462893          3.759639         4.452784  ...   \n",
       "\n",
       "   director_total_score  director_mean_score  total_score_diff  \\\n",
       "0              0.917920             0.917920          0.586157   \n",
       "1              1.120655             1.120655          0.946208   \n",
       "2              1.305043             1.118583          1.382805   \n",
       "3              1.099106             1.099106          0.902374   \n",
       "4              1.140468             1.140468          0.987764   \n",
       "\n",
       "   mean_score_diff  actor_total_votes  actor_mean_votes  director_total_votes  \\\n",
       "0         0.586157           0.917920          0.917920              0.651241   \n",
       "1         0.946208           1.120655          1.120655              0.751725   \n",
       "2         0.941931           1.305043          1.118583              0.835099   \n",
       "3         0.902374           1.099106          1.099106              0.741511   \n",
       "4         0.987764           1.140468          1.140468              0.761024   \n",
       "\n",
       "   director_mean_votes  total_votes_diff  mean_votes_diff  \n",
       "0             0.651241          0.266679         0.266679  \n",
       "1             0.751725          0.368930         0.368930  \n",
       "2             0.750747          0.469944         0.367835  \n",
       "3             0.741511          0.357594         0.357594  \n",
       "4             0.761024          0.379443         0.379443  \n",
       "\n",
       "[5 rows x 28 columns]"
      ]
     },
     "execution_count": 39,
     "metadata": {},
     "output_type": "execute_result"
    }
   ],
   "source": [
    "actor_total_votes = {}\n",
    "actor_mean_votes = {}\n",
    "add_feature_actor(actor_total_votes, actor_mean_votes, 'votes')\n",
    "df[\"actor_total_votes\"] = df.actor.map(actor_total_votes)\n",
    "df[\"actor_mean_votes\"] = df.actor.map(actor_mean_votes)\n",
    "\n",
    "df[\"actor_total_votes\"] = np.log(df[\"actor_total_score\"]+1)\n",
    "df[\"actor_mean_votes\"] = np.log(df[\"actor_mean_score\"]+1)\n",
    "\n",
    "director_total_votes = {}\n",
    "director_mean_votes = {}\n",
    "add_feature_director(director_total_votes, director_mean_votes, 'votes')\n",
    "df[\"director_total_votes\"] = df.director.map(director_total_votes)\n",
    "df[\"director_mean_votes\"] = df.director.map(director_mean_votes)\n",
    "\n",
    "df[\"director_total_votes\"] = np.log(df[\"actor_total_votes\"]+1)\n",
    "df[\"director_mean_votes\"] = np.log(df[\"actor_mean_votes\"]+1)\n",
    "\n",
    "df[\"total_votes_diff\"] = abs(df.director_total_votes - df.actor_total_votes)\n",
    "df[\"mean_votes_diff\"] = abs(df.director_mean_votes - df.actor_mean_votes)\n",
    "df.head()"
   ]
  },
  {
   "cell_type": "code",
   "execution_count": 40,
   "metadata": {},
   "outputs": [
    {
     "data": {
      "text/plain": [
       "<matplotlib.legend.Legend at 0x14d352a10>"
      ]
     },
     "execution_count": 40,
     "metadata": {},
     "output_type": "execute_result"
    },
    {
     "data": {
      "image/png": "[encoded data removed]",
      "text/plain": [
       "<Figure size 432x288 with 1 Axes>"
      ]
     },
     "metadata": {
      "needs_background": "light"
     },
     "output_type": "display_data"
    }
   ],
   "source": [
    "df_dropped = df.copy().dropna()\n",
    "bins = np.linspace(min(df_dropped.mean_votes_diff.values), max(df_dropped.mean_votes_diff.values), 50)\n",
    "plt.hist(df_dropped[df_dropped[\"collab indicator\"] == 1].mean_votes_diff.values, density = True, bins = bins, label = \"1\", alpha = 0.5)\n",
    "plt.hist(df_dropped[df_dropped[\"collab indicator\"] == 0].mean_votes_diff.values, density = True, bins = bins, label = \"0\", alpha = 0.5)\n",
    "plt.legend()"
   ]
  },
  {
   "cell_type": "code",
   "execution_count": 41,
   "metadata": {},
   "outputs": [
    {
     "name": "stdout",
     "output_type": "stream",
     "text": [
      "mean_votes_diff variance in pairs w/ collab is  0.0004410433130685239\n",
      "mean_votes_diff variance in pairs w/o collab is  0.0008018061535060452\n"
     ]
    },
    {
     "data": {
      "text/plain": [
       "Ttest_indResult(statistic=8.38700963963717, pvalue=6.088255641671339e-17)"
      ]
     },
     "execution_count": 41,
     "metadata": {},
     "output_type": "execute_result"
    }
   ],
   "source": [
    "print('mean_votes_diff variance in pairs w/ collab is  {}'.format(np.var(df_dropped[df_dropped[\"collab indicator\"] == 1].mean_votes_diff.values)))\n",
    "print('mean_votes_diff variance in pairs w/o collab is  {}'.format(np.var(df_dropped[df_dropped[\"collab indicator\"] == 0].mean_votes_diff.values)))\n",
    "ttest_ind(df_dropped[df_dropped[\"collab indicator\"] == 1].mean_votes_diff.values, \n",
    "                      df_dropped[df_dropped[\"collab indicator\"] == 0].mean_votes_diff.values, \n",
    "                      equal_var=False)\n"
   ]
  },
  {
   "cell_type": "code",
   "execution_count": 42,
   "metadata": {},
   "outputs": [
    {
     "data": {
      "text/plain": [
       "KstestResult(statistic=0.10042856155868363, pvalue=9.084698695103497e-56)"
      ]
     },
     "execution_count": 42,
     "metadata": {},
     "output_type": "execute_result"
    }
   ],
   "source": [
    "ks_2samp(df_dropped[df_dropped[\"collab indicator\"] == 1].mean_votes_diff.values, \n",
    "                      df_dropped[df_dropped[\"collab indicator\"] == 0].mean_votes_diff.values)"
   ]
  },
  {
   "cell_type": "code",
   "execution_count": 43,
   "metadata": {},
   "outputs": [
    {
     "data": {
      "text/plain": [
       "<matplotlib.legend.Legend at 0x12240d490>"
      ]
     },
     "execution_count": 43,
     "metadata": {},
     "output_type": "execute_result"
    },
    {
     "data": {
      "image/png": "[encoded data removed]",
      "text/plain": [
       "<Figure size 432x288 with 1 Axes>"
      ]
     },
     "metadata": {
      "needs_background": "light"
     },
     "output_type": "display_data"
    }
   ],
   "source": [
    "bins = np.linspace(min(df_dropped.total_votes_diff.values), max(df_dropped.total_votes_diff.values), 50)\n",
    "plt.hist(df_dropped[df_dropped[\"collab indicator\"] == 1].total_votes_diff.values, density = True, bins = bins, label = \"1\", alpha = 0.5)\n",
    "plt.hist(df_dropped[df_dropped[\"collab indicator\"] == 0].total_votes_diff.values, density = True, bins = bins, label = \"0\", alpha = 0.5)\n",
    "plt.legend()"
   ]
  },
  {
   "cell_type": "code",
   "execution_count": 44,
   "metadata": {},
   "outputs": [
    {
     "name": "stdout",
     "output_type": "stream",
     "text": [
      "total_votes_diff variance in pairs w/ collab is  0.023320523060240975\n",
      "total_votes_diff variance in pairs w/o collab is  0.01354146140562077\n"
     ]
    },
    {
     "data": {
      "text/plain": [
       "Ttest_indResult(statistic=69.93377999403013, pvalue=0.0)"
      ]
     },
     "execution_count": 44,
     "metadata": {},
     "output_type": "execute_result"
    }
   ],
   "source": [
    "print('total_votes_diff variance in pairs w/ collab is  {}'.format(np.var(df_dropped[df_dropped[\"collab indicator\"] == 1].total_votes_diff.values)))\n",
    "print('total_votes_diff variance in pairs w/o collab is  {}'.format(np.var(df_dropped[df_dropped[\"collab indicator\"] == 0].total_votes_diff.values)))\n",
    "ttest_ind(df_dropped[df_dropped[\"collab indicator\"] == 1].total_votes_diff.values, \n",
    "                      df_dropped[df_dropped[\"collab indicator\"] == 0].total_votes_diff.values, \n",
    "                      equal_var=False)\n"
   ]
  },
  {
   "cell_type": "code",
   "execution_count": 45,
   "metadata": {},
   "outputs": [
    {
     "data": {
      "text/plain": [
       "KstestResult(statistic=0.4046545705185453, pvalue=0.0)"
      ]
     },
     "execution_count": 45,
     "metadata": {},
     "output_type": "execute_result"
    }
   ],
   "source": [
    "ks_2samp(df_dropped[df_dropped[\"collab indicator\"] == 1].total_votes_diff.values, \n",
    "                      df_dropped[df_dropped[\"collab indicator\"] == 0].total_votes_diff.values)"
   ]
  },
  {
   "cell_type": "markdown",
   "metadata": {},
   "source": [
    "### oscar nomination"
   ]
  },
  {
   "cell_type": "code",
   "execution_count": 46,
   "metadata": {},
   "outputs": [
    {
     "data": {
      "text/html": [
       "<div>\n",
       "<style scoped>\n",
       "    .dataframe tbody tr th:only-of-type {\n",
       "        vertical-align: middle;\n",
       "    }\n",
       "\n",
       "    .dataframe tbody tr th {\n",
       "        vertical-align: top;\n",
       "    }\n",
       "\n",
       "    .dataframe thead th {\n",
       "        text-align: right;\n",
       "    }\n",
       "</style>\n",
       "<table border=\"1\" class=\"dataframe\">\n",
       "  <thead>\n",
       "    <tr style=\"text-align: right;\">\n",
       "      <th></th>\n",
       "      <th>year_film</th>\n",
       "      <th>year_ceremony</th>\n",
       "      <th>ceremony</th>\n",
       "      <th>category</th>\n",
       "      <th>name</th>\n",
       "      <th>film</th>\n",
       "      <th>winner</th>\n",
       "    </tr>\n",
       "  </thead>\n",
       "  <tbody>\n",
       "    <tr>\n",
       "      <th>0</th>\n",
       "      <td>1927</td>\n",
       "      <td>1928</td>\n",
       "      <td>1</td>\n",
       "      <td>ACTOR</td>\n",
       "      <td>Richard Barthelmess</td>\n",
       "      <td>The Noose</td>\n",
       "      <td>False</td>\n",
       "    </tr>\n",
       "    <tr>\n",
       "      <th>1</th>\n",
       "      <td>1927</td>\n",
       "      <td>1928</td>\n",
       "      <td>1</td>\n",
       "      <td>ACTOR</td>\n",
       "      <td>Emil Jannings</td>\n",
       "      <td>The Last Command</td>\n",
       "      <td>True</td>\n",
       "    </tr>\n",
       "    <tr>\n",
       "      <th>2</th>\n",
       "      <td>1927</td>\n",
       "      <td>1928</td>\n",
       "      <td>1</td>\n",
       "      <td>ACTRESS</td>\n",
       "      <td>Louise Dresser</td>\n",
       "      <td>A Ship Comes In</td>\n",
       "      <td>False</td>\n",
       "    </tr>\n",
       "    <tr>\n",
       "      <th>3</th>\n",
       "      <td>1927</td>\n",
       "      <td>1928</td>\n",
       "      <td>1</td>\n",
       "      <td>ACTRESS</td>\n",
       "      <td>Janet Gaynor</td>\n",
       "      <td>7th Heaven</td>\n",
       "      <td>True</td>\n",
       "    </tr>\n",
       "    <tr>\n",
       "      <th>4</th>\n",
       "      <td>1927</td>\n",
       "      <td>1928</td>\n",
       "      <td>1</td>\n",
       "      <td>ACTRESS</td>\n",
       "      <td>Gloria Swanson</td>\n",
       "      <td>Sadie Thompson</td>\n",
       "      <td>False</td>\n",
       "    </tr>\n",
       "  </tbody>\n",
       "</table>\n",
       "</div>"
      ],
      "text/plain": [
       "   year_film  year_ceremony  ceremony category                 name  \\\n",
       "0       1927           1928         1    ACTOR  Richard Barthelmess   \n",
       "1       1927           1928         1    ACTOR        Emil Jannings   \n",
       "2       1927           1928         1  ACTRESS       Louise Dresser   \n",
       "3       1927           1928         1  ACTRESS         Janet Gaynor   \n",
       "4       1927           1928         1  ACTRESS       Gloria Swanson   \n",
       "\n",
       "               film  winner  \n",
       "0         The Noose   False  \n",
       "1  The Last Command    True  \n",
       "2   A Ship Comes In   False  \n",
       "3        7th Heaven    True  \n",
       "4    Sadie Thompson   False  "
      ]
     },
     "execution_count": 46,
     "metadata": {},
     "output_type": "execute_result"
    }
   ],
   "source": [
    "oscar = pd.read_csv(\"../data/the_oscar_award.csv\")\n",
    "oscar.head()"
   ]
  },
  {
   "cell_type": "code",
   "execution_count": 47,
   "metadata": {},
   "outputs": [
    {
     "name": "stderr",
     "output_type": "stream",
     "text": [
      "/opt/miniconda3/lib/python3.7/site-packages/pandas/core/strings.py:2001: UserWarning: This pattern has match groups. To actually get the groups, use str.extract.\n",
      "  return func(self, *args, **kwargs)\n"
     ]
    },
    {
     "data": {
      "text/html": [
       "<div>\n",
       "<style scoped>\n",
       "    .dataframe tbody tr th:only-of-type {\n",
       "        vertical-align: middle;\n",
       "    }\n",
       "\n",
       "    .dataframe tbody tr th {\n",
       "        vertical-align: top;\n",
       "    }\n",
       "\n",
       "    .dataframe thead th {\n",
       "        text-align: right;\n",
       "    }\n",
       "</style>\n",
       "<table border=\"1\" class=\"dataframe\">\n",
       "  <thead>\n",
       "    <tr style=\"text-align: right;\">\n",
       "      <th></th>\n",
       "      <th>year_film</th>\n",
       "      <th>year_ceremony</th>\n",
       "      <th>ceremony</th>\n",
       "      <th>category</th>\n",
       "      <th>name</th>\n",
       "      <th>film</th>\n",
       "      <th>winner</th>\n",
       "    </tr>\n",
       "  </thead>\n",
       "  <tbody>\n",
       "    <tr>\n",
       "      <th>0</th>\n",
       "      <td>1927</td>\n",
       "      <td>1928</td>\n",
       "      <td>1</td>\n",
       "      <td>actor</td>\n",
       "      <td>Richard Barthelmess</td>\n",
       "      <td>The Noose</td>\n",
       "      <td>False</td>\n",
       "    </tr>\n",
       "    <tr>\n",
       "      <th>1</th>\n",
       "      <td>1927</td>\n",
       "      <td>1928</td>\n",
       "      <td>1</td>\n",
       "      <td>actor</td>\n",
       "      <td>Emil Jannings</td>\n",
       "      <td>The Last Command</td>\n",
       "      <td>True</td>\n",
       "    </tr>\n",
       "    <tr>\n",
       "      <th>2</th>\n",
       "      <td>1927</td>\n",
       "      <td>1928</td>\n",
       "      <td>1</td>\n",
       "      <td>actress</td>\n",
       "      <td>Louise Dresser</td>\n",
       "      <td>A Ship Comes In</td>\n",
       "      <td>False</td>\n",
       "    </tr>\n",
       "    <tr>\n",
       "      <th>3</th>\n",
       "      <td>1927</td>\n",
       "      <td>1928</td>\n",
       "      <td>1</td>\n",
       "      <td>actress</td>\n",
       "      <td>Janet Gaynor</td>\n",
       "      <td>7th Heaven</td>\n",
       "      <td>True</td>\n",
       "    </tr>\n",
       "    <tr>\n",
       "      <th>4</th>\n",
       "      <td>1927</td>\n",
       "      <td>1928</td>\n",
       "      <td>1</td>\n",
       "      <td>actress</td>\n",
       "      <td>Gloria Swanson</td>\n",
       "      <td>Sadie Thompson</td>\n",
       "      <td>False</td>\n",
       "    </tr>\n",
       "    <tr>\n",
       "      <th>...</th>\n",
       "      <td>...</td>\n",
       "      <td>...</td>\n",
       "      <td>...</td>\n",
       "      <td>...</td>\n",
       "      <td>...</td>\n",
       "      <td>...</td>\n",
       "      <td>...</td>\n",
       "    </tr>\n",
       "    <tr>\n",
       "      <th>10302</th>\n",
       "      <td>2019</td>\n",
       "      <td>2020</td>\n",
       "      <td>92</td>\n",
       "      <td>directing</td>\n",
       "      <td>Martin Scorsese</td>\n",
       "      <td>The Irishman</td>\n",
       "      <td>False</td>\n",
       "    </tr>\n",
       "    <tr>\n",
       "      <th>10303</th>\n",
       "      <td>2019</td>\n",
       "      <td>2020</td>\n",
       "      <td>92</td>\n",
       "      <td>directing</td>\n",
       "      <td>Todd Phillips</td>\n",
       "      <td>Joker</td>\n",
       "      <td>False</td>\n",
       "    </tr>\n",
       "    <tr>\n",
       "      <th>10304</th>\n",
       "      <td>2019</td>\n",
       "      <td>2020</td>\n",
       "      <td>92</td>\n",
       "      <td>directing</td>\n",
       "      <td>Sam Mendes</td>\n",
       "      <td>1917</td>\n",
       "      <td>False</td>\n",
       "    </tr>\n",
       "    <tr>\n",
       "      <th>10305</th>\n",
       "      <td>2019</td>\n",
       "      <td>2020</td>\n",
       "      <td>92</td>\n",
       "      <td>directing</td>\n",
       "      <td>Quentin Tarantino</td>\n",
       "      <td>Once upon a Time...in Hollywood</td>\n",
       "      <td>False</td>\n",
       "    </tr>\n",
       "    <tr>\n",
       "      <th>10306</th>\n",
       "      <td>2019</td>\n",
       "      <td>2020</td>\n",
       "      <td>92</td>\n",
       "      <td>directing</td>\n",
       "      <td>Bong Joon Ho</td>\n",
       "      <td>Parasite</td>\n",
       "      <td>True</td>\n",
       "    </tr>\n",
       "  </tbody>\n",
       "</table>\n",
       "<p>2202 rows × 7 columns</p>\n",
       "</div>"
      ],
      "text/plain": [
       "       year_film  year_ceremony  ceremony   category                 name  \\\n",
       "0           1927           1928         1      actor  Richard Barthelmess   \n",
       "1           1927           1928         1      actor        Emil Jannings   \n",
       "2           1927           1928         1    actress       Louise Dresser   \n",
       "3           1927           1928         1    actress         Janet Gaynor   \n",
       "4           1927           1928         1    actress       Gloria Swanson   \n",
       "...          ...            ...       ...        ...                  ...   \n",
       "10302       2019           2020        92  directing      Martin Scorsese   \n",
       "10303       2019           2020        92  directing        Todd Phillips   \n",
       "10304       2019           2020        92  directing           Sam Mendes   \n",
       "10305       2019           2020        92  directing    Quentin Tarantino   \n",
       "10306       2019           2020        92  directing         Bong Joon Ho   \n",
       "\n",
       "                                  film  winner  \n",
       "0                            The Noose   False  \n",
       "1                     The Last Command    True  \n",
       "2                      A Ship Comes In   False  \n",
       "3                           7th Heaven    True  \n",
       "4                       Sadie Thompson   False  \n",
       "...                                ...     ...  \n",
       "10302                     The Irishman   False  \n",
       "10303                            Joker   False  \n",
       "10304                             1917   False  \n",
       "10305  Once upon a Time...in Hollywood   False  \n",
       "10306                         Parasite    True  \n",
       "\n",
       "[2202 rows x 7 columns]"
      ]
     },
     "execution_count": 47,
     "metadata": {},
     "output_type": "execute_result"
    }
   ],
   "source": [
    "oscar.category = oscar.category.str.lower()\n",
    "filtered = oscar[oscar.category.str.contains(\"(actor)|(actress)|(directing)\", regex = True)]\n",
    "filtered"
   ]
  },
  {
   "cell_type": "code",
   "execution_count": 48,
   "metadata": {},
   "outputs": [
    {
     "name": "stderr",
     "output_type": "stream",
     "text": [
      "/opt/miniconda3/lib/python3.7/site-packages/pandas/core/strings.py:2001: UserWarning: This pattern has match groups. To actually get the groups, use str.extract.\n",
      "  return func(self, *args, **kwargs)\n",
      "/opt/miniconda3/lib/python3.7/site-packages/pandas/core/indexing.py:1596: SettingWithCopyWarning: \n",
      "A value is trying to be set on a copy of a slice from a DataFrame.\n",
      "Try using .loc[row_indexer,col_indexer] = value instead\n",
      "\n",
      "See the caveats in the documentation: https://pandas.pydata.org/pandas-docs/stable/user_guide/indexing.html#returning-a-view-versus-a-copy\n",
      "  self.obj[key] = _infer_fill_value(value)\n",
      "/opt/miniconda3/lib/python3.7/site-packages/pandas/core/indexing.py:1765: SettingWithCopyWarning: \n",
      "A value is trying to be set on a copy of a slice from a DataFrame.\n",
      "Try using .loc[row_indexer,col_indexer] = value instead\n",
      "\n",
      "See the caveats in the documentation: https://pandas.pydata.org/pandas-docs/stable/user_guide/indexing.html#returning-a-view-versus-a-copy\n",
      "  isetter(loc, value)\n"
     ]
    }
   ],
   "source": [
    "filtered.loc[filtered.category.str.contains(\"(actor)|(actress)\"), 'is_director'] = 0\n",
    "filtered.loc[filtered.category.str.contains(\"directing\"), 'is_director'] = 1"
   ]
  },
  {
   "cell_type": "code",
   "execution_count": 49,
   "metadata": {},
   "outputs": [
    {
     "name": "stderr",
     "output_type": "stream",
     "text": [
      "/opt/miniconda3/lib/python3.7/site-packages/pandas/core/generic.py:5165: SettingWithCopyWarning: \n",
      "A value is trying to be set on a copy of a slice from a DataFrame.\n",
      "Try using .loc[row_indexer,col_indexer] = value instead\n",
      "\n",
      "See the caveats in the documentation: https://pandas.pydata.org/pandas-docs/stable/user_guide/indexing.html#returning-a-view-versus-a-copy\n",
      "  self[name] = value\n"
     ]
    },
    {
     "data": {
      "text/html": [
       "<div>\n",
       "<style scoped>\n",
       "    .dataframe tbody tr th:only-of-type {\n",
       "        vertical-align: middle;\n",
       "    }\n",
       "\n",
       "    .dataframe tbody tr th {\n",
       "        vertical-align: top;\n",
       "    }\n",
       "\n",
       "    .dataframe thead th {\n",
       "        text-align: right;\n",
       "    }\n",
       "</style>\n",
       "<table border=\"1\" class=\"dataframe\">\n",
       "  <thead>\n",
       "    <tr style=\"text-align: right;\">\n",
       "      <th></th>\n",
       "      <th>year_film</th>\n",
       "      <th>year_ceremony</th>\n",
       "      <th>ceremony</th>\n",
       "      <th>category</th>\n",
       "      <th>name</th>\n",
       "      <th>film</th>\n",
       "      <th>winner</th>\n",
       "      <th>is_director</th>\n",
       "    </tr>\n",
       "  </thead>\n",
       "  <tbody>\n",
       "    <tr>\n",
       "      <th>0</th>\n",
       "      <td>1927</td>\n",
       "      <td>1928</td>\n",
       "      <td>1</td>\n",
       "      <td>actor</td>\n",
       "      <td>Richard Barthelmess</td>\n",
       "      <td>The Noose</td>\n",
       "      <td>False</td>\n",
       "      <td>0</td>\n",
       "    </tr>\n",
       "    <tr>\n",
       "      <th>1</th>\n",
       "      <td>1927</td>\n",
       "      <td>1928</td>\n",
       "      <td>1</td>\n",
       "      <td>actor</td>\n",
       "      <td>Emil Jannings</td>\n",
       "      <td>The Last Command</td>\n",
       "      <td>True</td>\n",
       "      <td>0</td>\n",
       "    </tr>\n",
       "    <tr>\n",
       "      <th>2</th>\n",
       "      <td>1927</td>\n",
       "      <td>1928</td>\n",
       "      <td>1</td>\n",
       "      <td>actress</td>\n",
       "      <td>Louise Dresser</td>\n",
       "      <td>A Ship Comes In</td>\n",
       "      <td>False</td>\n",
       "      <td>0</td>\n",
       "    </tr>\n",
       "    <tr>\n",
       "      <th>3</th>\n",
       "      <td>1927</td>\n",
       "      <td>1928</td>\n",
       "      <td>1</td>\n",
       "      <td>actress</td>\n",
       "      <td>Janet Gaynor</td>\n",
       "      <td>7th Heaven</td>\n",
       "      <td>True</td>\n",
       "      <td>0</td>\n",
       "    </tr>\n",
       "    <tr>\n",
       "      <th>4</th>\n",
       "      <td>1927</td>\n",
       "      <td>1928</td>\n",
       "      <td>1</td>\n",
       "      <td>actress</td>\n",
       "      <td>Gloria Swanson</td>\n",
       "      <td>Sadie Thompson</td>\n",
       "      <td>False</td>\n",
       "      <td>0</td>\n",
       "    </tr>\n",
       "  </tbody>\n",
       "</table>\n",
       "</div>"
      ],
      "text/plain": [
       "   year_film  year_ceremony  ceremony category                 name  \\\n",
       "0       1927           1928         1    actor  Richard Barthelmess   \n",
       "1       1927           1928         1    actor        Emil Jannings   \n",
       "2       1927           1928         1  actress       Louise Dresser   \n",
       "3       1927           1928         1  actress         Janet Gaynor   \n",
       "4       1927           1928         1  actress       Gloria Swanson   \n",
       "\n",
       "               film  winner  is_director  \n",
       "0         The Noose   False            0  \n",
       "1  The Last Command    True            0  \n",
       "2   A Ship Comes In   False            0  \n",
       "3        7th Heaven    True            0  \n",
       "4    Sadie Thompson   False            0  "
      ]
     },
     "execution_count": 49,
     "metadata": {},
     "output_type": "execute_result"
    }
   ],
   "source": [
    "oscar_ppl = filtered[~filtered.name.str.contains(\"( and)|(,)|(and )\", regex = True)]\n",
    "oscar_ppl.is_director = oscar_ppl.is_director.astype(np.uint8)\n",
    "oscar_ppl.head()\n"
   ]
  },
  {
   "cell_type": "code",
   "execution_count": 50,
   "metadata": {},
   "outputs": [
    {
     "data": {
      "text/html": [
       "<div>\n",
       "<style scoped>\n",
       "    .dataframe tbody tr th:only-of-type {\n",
       "        vertical-align: middle;\n",
       "    }\n",
       "\n",
       "    .dataframe tbody tr th {\n",
       "        vertical-align: top;\n",
       "    }\n",
       "\n",
       "    .dataframe thead th {\n",
       "        text-align: right;\n",
       "    }\n",
       "</style>\n",
       "<table border=\"1\" class=\"dataframe\">\n",
       "  <thead>\n",
       "    <tr style=\"text-align: right;\">\n",
       "      <th></th>\n",
       "      <th>name</th>\n",
       "      <th>is_director</th>\n",
       "      <th>nomination_counts</th>\n",
       "    </tr>\n",
       "  </thead>\n",
       "  <tbody>\n",
       "    <tr>\n",
       "      <th>2</th>\n",
       "      <td>Adam McKay</td>\n",
       "      <td>1</td>\n",
       "      <td>2</td>\n",
       "    </tr>\n",
       "    <tr>\n",
       "      <th>5</th>\n",
       "      <td>Adrian Lyne</td>\n",
       "      <td>1</td>\n",
       "      <td>1</td>\n",
       "    </tr>\n",
       "    <tr>\n",
       "      <th>10</th>\n",
       "      <td>Akira Kurosawa</td>\n",
       "      <td>1</td>\n",
       "      <td>1</td>\n",
       "    </tr>\n",
       "    <tr>\n",
       "      <th>15</th>\n",
       "      <td>Alan J. Pakula</td>\n",
       "      <td>1</td>\n",
       "      <td>1</td>\n",
       "    </tr>\n",
       "    <tr>\n",
       "      <th>16</th>\n",
       "      <td>Alan Parker</td>\n",
       "      <td>1</td>\n",
       "      <td>2</td>\n",
       "    </tr>\n",
       "  </tbody>\n",
       "</table>\n",
       "</div>"
      ],
      "text/plain": [
       "              name  is_director  nomination_counts\n",
       "2       Adam McKay            1                  2\n",
       "5      Adrian Lyne            1                  1\n",
       "10  Akira Kurosawa            1                  1\n",
       "15  Alan J. Pakula            1                  1\n",
       "16     Alan Parker            1                  2"
      ]
     },
     "execution_count": 50,
     "metadata": {},
     "output_type": "execute_result"
    }
   ],
   "source": [
    "gp_ppl = oscar_ppl.groupby(['name', 'is_director']).size().reset_index(name='nomination_counts')\n",
    "gp_ppl_director = gp_ppl.groupby(['is_director']).get_group(1)\n",
    "gp_ppl_actor = gp_ppl.groupby(['is_director']).get_group(0)\n",
    "gp_ppl_director.head()"
   ]
  },
  {
   "cell_type": "code",
   "execution_count": 51,
   "metadata": {},
   "outputs": [
    {
     "data": {
      "text/html": [
       "<div>\n",
       "<style scoped>\n",
       "    .dataframe tbody tr th:only-of-type {\n",
       "        vertical-align: middle;\n",
       "    }\n",
       "\n",
       "    .dataframe tbody tr th {\n",
       "        vertical-align: top;\n",
       "    }\n",
       "\n",
       "    .dataframe thead th {\n",
       "        text-align: right;\n",
       "    }\n",
       "</style>\n",
       "<table border=\"1\" class=\"dataframe\">\n",
       "  <thead>\n",
       "    <tr style=\"text-align: right;\">\n",
       "      <th></th>\n",
       "      <th>name</th>\n",
       "      <th>is_director</th>\n",
       "      <th>nomination_counts</th>\n",
       "    </tr>\n",
       "  </thead>\n",
       "  <tbody>\n",
       "    <tr>\n",
       "      <th>0</th>\n",
       "      <td>Abigail Breslin</td>\n",
       "      <td>0</td>\n",
       "      <td>1</td>\n",
       "    </tr>\n",
       "    <tr>\n",
       "      <th>1</th>\n",
       "      <td>Adam Driver</td>\n",
       "      <td>0</td>\n",
       "      <td>2</td>\n",
       "    </tr>\n",
       "    <tr>\n",
       "      <th>3</th>\n",
       "      <td>Adolph Caesar</td>\n",
       "      <td>0</td>\n",
       "      <td>1</td>\n",
       "    </tr>\n",
       "    <tr>\n",
       "      <th>4</th>\n",
       "      <td>Adolphe Menjou</td>\n",
       "      <td>0</td>\n",
       "      <td>1</td>\n",
       "    </tr>\n",
       "    <tr>\n",
       "      <th>6</th>\n",
       "      <td>Adriana Barraza</td>\n",
       "      <td>0</td>\n",
       "      <td>1</td>\n",
       "    </tr>\n",
       "  </tbody>\n",
       "</table>\n",
       "</div>"
      ],
      "text/plain": [
       "              name  is_director  nomination_counts\n",
       "0  Abigail Breslin            0                  1\n",
       "1      Adam Driver            0                  2\n",
       "3    Adolph Caesar            0                  1\n",
       "4   Adolphe Menjou            0                  1\n",
       "6  Adriana Barraza            0                  1"
      ]
     },
     "execution_count": 51,
     "metadata": {},
     "output_type": "execute_result"
    }
   ],
   "source": [
    "gp_ppl_actor.head()"
   ]
  },
  {
   "cell_type": "code",
   "execution_count": 52,
   "metadata": {},
   "outputs": [
    {
     "data": {
      "text/html": [
       "<div>\n",
       "<style scoped>\n",
       "    .dataframe tbody tr th:only-of-type {\n",
       "        vertical-align: middle;\n",
       "    }\n",
       "\n",
       "    .dataframe tbody tr th {\n",
       "        vertical-align: top;\n",
       "    }\n",
       "\n",
       "    .dataframe thead th {\n",
       "        text-align: right;\n",
       "    }\n",
       "</style>\n",
       "<table border=\"1\" class=\"dataframe\">\n",
       "  <thead>\n",
       "    <tr style=\"text-align: right;\">\n",
       "      <th></th>\n",
       "      <th>director</th>\n",
       "      <th>actor</th>\n",
       "      <th>collabs</th>\n",
       "      <th>collab indicator</th>\n",
       "      <th>actor_total_gross</th>\n",
       "      <th>actor_mean_gross</th>\n",
       "      <th>director_total_gross</th>\n",
       "      <th>director_mean_gross</th>\n",
       "      <th>total_gross_diff</th>\n",
       "      <th>mean_gross_diff</th>\n",
       "      <th>...</th>\n",
       "      <th>total_score_diff</th>\n",
       "      <th>mean_score_diff</th>\n",
       "      <th>actor_total_votes</th>\n",
       "      <th>actor_mean_votes</th>\n",
       "      <th>director_total_votes</th>\n",
       "      <th>director_mean_votes</th>\n",
       "      <th>total_votes_diff</th>\n",
       "      <th>mean_votes_diff</th>\n",
       "      <th>director_nominations</th>\n",
       "      <th>actor_nominations</th>\n",
       "    </tr>\n",
       "  </thead>\n",
       "  <tbody>\n",
       "    <tr>\n",
       "      <th>0</th>\n",
       "      <td>Hector Babenco</td>\n",
       "      <td>Catherine Keener</td>\n",
       "      <td>0</td>\n",
       "      <td>0</td>\n",
       "      <td>15.247479</td>\n",
       "      <td>15.247479</td>\n",
       "      <td>16.007187</td>\n",
       "      <td>14.908575</td>\n",
       "      <td>0.759708</td>\n",
       "      <td>0.338904</td>\n",
       "      <td>...</td>\n",
       "      <td>0.946208</td>\n",
       "      <td>0.946208</td>\n",
       "      <td>1.120655</td>\n",
       "      <td>1.120655</td>\n",
       "      <td>0.751725</td>\n",
       "      <td>0.751725</td>\n",
       "      <td>0.36893</td>\n",
       "      <td>0.36893</td>\n",
       "      <td>1</td>\n",
       "      <td>2</td>\n",
       "    </tr>\n",
       "    <tr>\n",
       "      <th>1</th>\n",
       "      <td>Roman Polanski</td>\n",
       "      <td>Catherine Keener</td>\n",
       "      <td>0</td>\n",
       "      <td>0</td>\n",
       "      <td>15.247479</td>\n",
       "      <td>15.247479</td>\n",
       "      <td>18.368319</td>\n",
       "      <td>16.065734</td>\n",
       "      <td>3.120840</td>\n",
       "      <td>0.818255</td>\n",
       "      <td>...</td>\n",
       "      <td>0.946208</td>\n",
       "      <td>0.946208</td>\n",
       "      <td>1.120655</td>\n",
       "      <td>1.120655</td>\n",
       "      <td>0.751725</td>\n",
       "      <td>0.751725</td>\n",
       "      <td>0.36893</td>\n",
       "      <td>0.36893</td>\n",
       "      <td>3</td>\n",
       "      <td>2</td>\n",
       "    </tr>\n",
       "    <tr>\n",
       "      <th>2</th>\n",
       "      <td>Ang Lee</td>\n",
       "      <td>Catherine Keener</td>\n",
       "      <td>0</td>\n",
       "      <td>0</td>\n",
       "      <td>15.247479</td>\n",
       "      <td>15.247479</td>\n",
       "      <td>20.121941</td>\n",
       "      <td>17.556992</td>\n",
       "      <td>4.874463</td>\n",
       "      <td>2.309513</td>\n",
       "      <td>...</td>\n",
       "      <td>0.946208</td>\n",
       "      <td>0.946208</td>\n",
       "      <td>1.120655</td>\n",
       "      <td>1.120655</td>\n",
       "      <td>0.751725</td>\n",
       "      <td>0.751725</td>\n",
       "      <td>0.36893</td>\n",
       "      <td>0.36893</td>\n",
       "      <td>3</td>\n",
       "      <td>2</td>\n",
       "    </tr>\n",
       "    <tr>\n",
       "      <th>3</th>\n",
       "      <td>Alan Parker</td>\n",
       "      <td>Catherine Keener</td>\n",
       "      <td>0</td>\n",
       "      <td>0</td>\n",
       "      <td>15.247479</td>\n",
       "      <td>15.247479</td>\n",
       "      <td>18.870122</td>\n",
       "      <td>16.790680</td>\n",
       "      <td>3.622643</td>\n",
       "      <td>1.543201</td>\n",
       "      <td>...</td>\n",
       "      <td>0.946208</td>\n",
       "      <td>0.946208</td>\n",
       "      <td>1.120655</td>\n",
       "      <td>1.120655</td>\n",
       "      <td>0.751725</td>\n",
       "      <td>0.751725</td>\n",
       "      <td>0.36893</td>\n",
       "      <td>0.36893</td>\n",
       "      <td>2</td>\n",
       "      <td>2</td>\n",
       "    </tr>\n",
       "    <tr>\n",
       "      <th>4</th>\n",
       "      <td>Tom Hooper</td>\n",
       "      <td>Catherine Keener</td>\n",
       "      <td>0</td>\n",
       "      <td>0</td>\n",
       "      <td>15.247479</td>\n",
       "      <td>15.247479</td>\n",
       "      <td>19.521834</td>\n",
       "      <td>18.135539</td>\n",
       "      <td>4.274355</td>\n",
       "      <td>2.888061</td>\n",
       "      <td>...</td>\n",
       "      <td>0.946208</td>\n",
       "      <td>0.946208</td>\n",
       "      <td>1.120655</td>\n",
       "      <td>1.120655</td>\n",
       "      <td>0.751725</td>\n",
       "      <td>0.751725</td>\n",
       "      <td>0.36893</td>\n",
       "      <td>0.36893</td>\n",
       "      <td>1</td>\n",
       "      <td>2</td>\n",
       "    </tr>\n",
       "  </tbody>\n",
       "</table>\n",
       "<p>5 rows × 30 columns</p>\n",
       "</div>"
      ],
      "text/plain": [
       "         director             actor  collabs  collab indicator  \\\n",
       "0  Hector Babenco  Catherine Keener        0                 0   \n",
       "1  Roman Polanski  Catherine Keener        0                 0   \n",
       "2         Ang Lee  Catherine Keener        0                 0   \n",
       "3     Alan Parker  Catherine Keener        0                 0   \n",
       "4      Tom Hooper  Catherine Keener        0                 0   \n",
       "\n",
       "   actor_total_gross  actor_mean_gross  director_total_gross  \\\n",
       "0          15.247479         15.247479             16.007187   \n",
       "1          15.247479         15.247479             18.368319   \n",
       "2          15.247479         15.247479             20.121941   \n",
       "3          15.247479         15.247479             18.870122   \n",
       "4          15.247479         15.247479             19.521834   \n",
       "\n",
       "   director_mean_gross  total_gross_diff  mean_gross_diff  ...  \\\n",
       "0            14.908575          0.759708         0.338904  ...   \n",
       "1            16.065734          3.120840         0.818255  ...   \n",
       "2            17.556992          4.874463         2.309513  ...   \n",
       "3            16.790680          3.622643         1.543201  ...   \n",
       "4            18.135539          4.274355         2.888061  ...   \n",
       "\n",
       "   total_score_diff  mean_score_diff  actor_total_votes  actor_mean_votes  \\\n",
       "0          0.946208         0.946208           1.120655          1.120655   \n",
       "1          0.946208         0.946208           1.120655          1.120655   \n",
       "2          0.946208         0.946208           1.120655          1.120655   \n",
       "3          0.946208         0.946208           1.120655          1.120655   \n",
       "4          0.946208         0.946208           1.120655          1.120655   \n",
       "\n",
       "   director_total_votes  director_mean_votes  total_votes_diff  \\\n",
       "0              0.751725             0.751725           0.36893   \n",
       "1              0.751725             0.751725           0.36893   \n",
       "2              0.751725             0.751725           0.36893   \n",
       "3              0.751725             0.751725           0.36893   \n",
       "4              0.751725             0.751725           0.36893   \n",
       "\n",
       "   mean_votes_diff  director_nominations  actor_nominations  \n",
       "0          0.36893                     1                  2  \n",
       "1          0.36893                     3                  2  \n",
       "2          0.36893                     3                  2  \n",
       "3          0.36893                     2                  2  \n",
       "4          0.36893                     1                  2  \n",
       "\n",
       "[5 rows x 30 columns]"
      ]
     },
     "execution_count": 52,
     "metadata": {},
     "output_type": "execute_result"
    }
   ],
   "source": [
    "df_w_oscar= pd.merge(df, gp_ppl_director, left_on='director', right_on='name')\n",
    "df_w_oscar= pd.merge(df_w_oscar, gp_ppl_actor, left_on='actor', right_on='name')\n",
    "df_w_oscar.drop(['name_x', 'is_director_x', 'name_y', 'is_director_y'], axis=1, inplace=True)\n",
    "df_w_oscar.rename(columns={'nomination_counts_x': 'director_nominations', 'nomination_counts_y': 'actor_nominations'}, inplace=True)\n",
    "df_w_oscar.head()"
   ]
  },
  {
   "cell_type": "code",
   "execution_count": 53,
   "metadata": {},
   "outputs": [
    {
     "data": {
      "text/html": [
       "<div>\n",
       "<style scoped>\n",
       "    .dataframe tbody tr th:only-of-type {\n",
       "        vertical-align: middle;\n",
       "    }\n",
       "\n",
       "    .dataframe tbody tr th {\n",
       "        vertical-align: top;\n",
       "    }\n",
       "\n",
       "    .dataframe thead th {\n",
       "        text-align: right;\n",
       "    }\n",
       "</style>\n",
       "<table border=\"1\" class=\"dataframe\">\n",
       "  <thead>\n",
       "    <tr style=\"text-align: right;\">\n",
       "      <th></th>\n",
       "      <th>director</th>\n",
       "      <th>actor</th>\n",
       "      <th>collabs</th>\n",
       "      <th>collab indicator</th>\n",
       "      <th>actor_total_gross</th>\n",
       "      <th>actor_mean_gross</th>\n",
       "      <th>director_total_gross</th>\n",
       "      <th>director_mean_gross</th>\n",
       "      <th>total_gross_diff</th>\n",
       "      <th>mean_gross_diff</th>\n",
       "      <th>...</th>\n",
       "      <th>mean_score_diff</th>\n",
       "      <th>actor_total_votes</th>\n",
       "      <th>actor_mean_votes</th>\n",
       "      <th>director_total_votes</th>\n",
       "      <th>director_mean_votes</th>\n",
       "      <th>total_votes_diff</th>\n",
       "      <th>mean_votes_diff</th>\n",
       "      <th>director_nominations</th>\n",
       "      <th>actor_nominations</th>\n",
       "      <th>nominations_diff</th>\n",
       "    </tr>\n",
       "  </thead>\n",
       "  <tbody>\n",
       "    <tr>\n",
       "      <th>0</th>\n",
       "      <td>Hector Babenco</td>\n",
       "      <td>Catherine Keener</td>\n",
       "      <td>0</td>\n",
       "      <td>0</td>\n",
       "      <td>15.247479</td>\n",
       "      <td>15.247479</td>\n",
       "      <td>16.007187</td>\n",
       "      <td>14.908575</td>\n",
       "      <td>0.759708</td>\n",
       "      <td>0.338904</td>\n",
       "      <td>...</td>\n",
       "      <td>0.946208</td>\n",
       "      <td>1.120655</td>\n",
       "      <td>1.120655</td>\n",
       "      <td>0.751725</td>\n",
       "      <td>0.751725</td>\n",
       "      <td>0.36893</td>\n",
       "      <td>0.36893</td>\n",
       "      <td>1</td>\n",
       "      <td>2</td>\n",
       "      <td>-1</td>\n",
       "    </tr>\n",
       "    <tr>\n",
       "      <th>1</th>\n",
       "      <td>Roman Polanski</td>\n",
       "      <td>Catherine Keener</td>\n",
       "      <td>0</td>\n",
       "      <td>0</td>\n",
       "      <td>15.247479</td>\n",
       "      <td>15.247479</td>\n",
       "      <td>18.368319</td>\n",
       "      <td>16.065734</td>\n",
       "      <td>3.120840</td>\n",
       "      <td>0.818255</td>\n",
       "      <td>...</td>\n",
       "      <td>0.946208</td>\n",
       "      <td>1.120655</td>\n",
       "      <td>1.120655</td>\n",
       "      <td>0.751725</td>\n",
       "      <td>0.751725</td>\n",
       "      <td>0.36893</td>\n",
       "      <td>0.36893</td>\n",
       "      <td>3</td>\n",
       "      <td>2</td>\n",
       "      <td>1</td>\n",
       "    </tr>\n",
       "    <tr>\n",
       "      <th>2</th>\n",
       "      <td>Ang Lee</td>\n",
       "      <td>Catherine Keener</td>\n",
       "      <td>0</td>\n",
       "      <td>0</td>\n",
       "      <td>15.247479</td>\n",
       "      <td>15.247479</td>\n",
       "      <td>20.121941</td>\n",
       "      <td>17.556992</td>\n",
       "      <td>4.874463</td>\n",
       "      <td>2.309513</td>\n",
       "      <td>...</td>\n",
       "      <td>0.946208</td>\n",
       "      <td>1.120655</td>\n",
       "      <td>1.120655</td>\n",
       "      <td>0.751725</td>\n",
       "      <td>0.751725</td>\n",
       "      <td>0.36893</td>\n",
       "      <td>0.36893</td>\n",
       "      <td>3</td>\n",
       "      <td>2</td>\n",
       "      <td>1</td>\n",
       "    </tr>\n",
       "    <tr>\n",
       "      <th>3</th>\n",
       "      <td>Alan Parker</td>\n",
       "      <td>Catherine Keener</td>\n",
       "      <td>0</td>\n",
       "      <td>0</td>\n",
       "      <td>15.247479</td>\n",
       "      <td>15.247479</td>\n",
       "      <td>18.870122</td>\n",
       "      <td>16.790680</td>\n",
       "      <td>3.622643</td>\n",
       "      <td>1.543201</td>\n",
       "      <td>...</td>\n",
       "      <td>0.946208</td>\n",
       "      <td>1.120655</td>\n",
       "      <td>1.120655</td>\n",
       "      <td>0.751725</td>\n",
       "      <td>0.751725</td>\n",
       "      <td>0.36893</td>\n",
       "      <td>0.36893</td>\n",
       "      <td>2</td>\n",
       "      <td>2</td>\n",
       "      <td>0</td>\n",
       "    </tr>\n",
       "    <tr>\n",
       "      <th>4</th>\n",
       "      <td>Tom Hooper</td>\n",
       "      <td>Catherine Keener</td>\n",
       "      <td>0</td>\n",
       "      <td>0</td>\n",
       "      <td>15.247479</td>\n",
       "      <td>15.247479</td>\n",
       "      <td>19.521834</td>\n",
       "      <td>18.135539</td>\n",
       "      <td>4.274355</td>\n",
       "      <td>2.888061</td>\n",
       "      <td>...</td>\n",
       "      <td>0.946208</td>\n",
       "      <td>1.120655</td>\n",
       "      <td>1.120655</td>\n",
       "      <td>0.751725</td>\n",
       "      <td>0.751725</td>\n",
       "      <td>0.36893</td>\n",
       "      <td>0.36893</td>\n",
       "      <td>1</td>\n",
       "      <td>2</td>\n",
       "      <td>-1</td>\n",
       "    </tr>\n",
       "  </tbody>\n",
       "</table>\n",
       "<p>5 rows × 31 columns</p>\n",
       "</div>"
      ],
      "text/plain": [
       "         director             actor  collabs  collab indicator  \\\n",
       "0  Hector Babenco  Catherine Keener        0                 0   \n",
       "1  Roman Polanski  Catherine Keener        0                 0   \n",
       "2         Ang Lee  Catherine Keener        0                 0   \n",
       "3     Alan Parker  Catherine Keener        0                 0   \n",
       "4      Tom Hooper  Catherine Keener        0                 0   \n",
       "\n",
       "   actor_total_gross  actor_mean_gross  director_total_gross  \\\n",
       "0          15.247479         15.247479             16.007187   \n",
       "1          15.247479         15.247479             18.368319   \n",
       "2          15.247479         15.247479             20.121941   \n",
       "3          15.247479         15.247479             18.870122   \n",
       "4          15.247479         15.247479             19.521834   \n",
       "\n",
       "   director_mean_gross  total_gross_diff  mean_gross_diff  ...  \\\n",
       "0            14.908575          0.759708         0.338904  ...   \n",
       "1            16.065734          3.120840         0.818255  ...   \n",
       "2            17.556992          4.874463         2.309513  ...   \n",
       "3            16.790680          3.622643         1.543201  ...   \n",
       "4            18.135539          4.274355         2.888061  ...   \n",
       "\n",
       "   mean_score_diff  actor_total_votes  actor_mean_votes  director_total_votes  \\\n",
       "0         0.946208           1.120655          1.120655              0.751725   \n",
       "1         0.946208           1.120655          1.120655              0.751725   \n",
       "2         0.946208           1.120655          1.120655              0.751725   \n",
       "3         0.946208           1.120655          1.120655              0.751725   \n",
       "4         0.946208           1.120655          1.120655              0.751725   \n",
       "\n",
       "   director_mean_votes  total_votes_diff  mean_votes_diff  \\\n",
       "0             0.751725           0.36893          0.36893   \n",
       "1             0.751725           0.36893          0.36893   \n",
       "2             0.751725           0.36893          0.36893   \n",
       "3             0.751725           0.36893          0.36893   \n",
       "4             0.751725           0.36893          0.36893   \n",
       "\n",
       "   director_nominations  actor_nominations  nominations_diff  \n",
       "0                     1                  2                -1  \n",
       "1                     3                  2                 1  \n",
       "2                     3                  2                 1  \n",
       "3                     2                  2                 0  \n",
       "4                     1                  2                -1  \n",
       "\n",
       "[5 rows x 31 columns]"
      ]
     },
     "execution_count": 53,
     "metadata": {},
     "output_type": "execute_result"
    }
   ],
   "source": [
    "df_w_oscar['nominations_diff']=df_w_oscar['director_nominations'] - df_w_oscar['actor_nominations']\n",
    "df_w_oscar.head()"
   ]
  },
  {
   "cell_type": "code",
   "execution_count": 54,
   "metadata": {},
   "outputs": [
    {
     "data": {
      "text/plain": [
       "<matplotlib.legend.Legend at 0x14d1661d0>"
      ]
     },
     "execution_count": 54,
     "metadata": {},
     "output_type": "execute_result"
    },
    {
     "data": {
      "image/png": "[encoded data removed]",
      "text/plain": [
       "<Figure size 432x288 with 1 Axes>"
      ]
     },
     "metadata": {
      "needs_background": "light"
     },
     "output_type": "display_data"
    }
   ],
   "source": [
    "bins = np.linspace(min(df_w_oscar.nominations_diff.values), max(df_w_oscar.nominations_diff.values), 50)\n",
    "plt.hist(df_w_oscar[df_w_oscar[\"collab indicator\"] == 1].nominations_diff.values, density = True, bins = bins, label = \"1\", alpha = 0.5)\n",
    "plt.hist(df_w_oscar[df_w_oscar[\"collab indicator\"] == 0].nominations_diff.values, density = True, bins = bins, label = \"0\", alpha = 0.5)\n",
    "plt.legend()"
   ]
  },
  {
   "cell_type": "code",
   "execution_count": 55,
   "metadata": {},
   "outputs": [
    {
     "name": "stdout",
     "output_type": "stream",
     "text": [
      "nominations_diff variance in pairs w/ collab is  11.675624990825147\n",
      "nominations_diff variance in pairs w/o collab is  5.747848063463026\n"
     ]
    },
    {
     "data": {
      "text/plain": [
       "Ttest_indResult(statistic=-3.9763645704487445, pvalue=7.977315478395336e-05)"
      ]
     },
     "execution_count": 55,
     "metadata": {},
     "output_type": "execute_result"
    }
   ],
   "source": [
    "print('nominations_diff variance in pairs w/ collab is  {}'.format(np.var(df_w_oscar[df_w_oscar[\"collab indicator\"] == 1].nominations_diff.values)))\n",
    "print('nominations_diff variance in pairs w/o collab is  {}'.format(np.var(df_w_oscar[df_w_oscar[\"collab indicator\"] == 0].nominations_diff.values)))\n",
    "ttest_ind(df_w_oscar[df_w_oscar[\"collab indicator\"] == 1].nominations_diff.values, \n",
    "                      df_w_oscar[df_w_oscar[\"collab indicator\"] == 0].nominations_diff.values, \n",
    "                      equal_var=False)\n"
   ]
  },
  {
   "cell_type": "code",
   "execution_count": 56,
   "metadata": {},
   "outputs": [
    {
     "data": {
      "text/plain": [
       "KstestResult(statistic=0.1219562047148254, pvalue=3.6913563012315924e-07)"
      ]
     },
     "execution_count": 56,
     "metadata": {},
     "output_type": "execute_result"
    }
   ],
   "source": [
    "ks_2samp(df_w_oscar[df_w_oscar[\"collab indicator\"] == 1].nominations_diff.values, \n",
    "                      df_w_oscar[df_w_oscar[\"collab indicator\"] == 0].nominations_diff.values)"
   ]
  },
  {
   "cell_type": "markdown",
   "metadata": {},
   "source": [
    "### oscar win"
   ]
  },
  {
   "cell_type": "code",
   "execution_count": 76,
   "metadata": {},
   "outputs": [
    {
     "data": {
      "text/html": [
       "<div>\n",
       "<style scoped>\n",
       "    .dataframe tbody tr th:only-of-type {\n",
       "        vertical-align: middle;\n",
       "    }\n",
       "\n",
       "    .dataframe tbody tr th {\n",
       "        vertical-align: top;\n",
       "    }\n",
       "\n",
       "    .dataframe thead th {\n",
       "        text-align: right;\n",
       "    }\n",
       "</style>\n",
       "<table border=\"1\" class=\"dataframe\">\n",
       "  <thead>\n",
       "    <tr style=\"text-align: right;\">\n",
       "      <th></th>\n",
       "      <th>year_film</th>\n",
       "      <th>year_ceremony</th>\n",
       "      <th>ceremony</th>\n",
       "      <th>category</th>\n",
       "      <th>name</th>\n",
       "      <th>film</th>\n",
       "      <th>winner</th>\n",
       "      <th>is_director</th>\n",
       "    </tr>\n",
       "  </thead>\n",
       "  <tbody>\n",
       "    <tr>\n",
       "      <th>0</th>\n",
       "      <td>1927</td>\n",
       "      <td>1928</td>\n",
       "      <td>1</td>\n",
       "      <td>actor</td>\n",
       "      <td>Richard Barthelmess</td>\n",
       "      <td>The Noose</td>\n",
       "      <td>False</td>\n",
       "      <td>0</td>\n",
       "    </tr>\n",
       "    <tr>\n",
       "      <th>1</th>\n",
       "      <td>1927</td>\n",
       "      <td>1928</td>\n",
       "      <td>1</td>\n",
       "      <td>actor</td>\n",
       "      <td>Emil Jannings</td>\n",
       "      <td>The Last Command</td>\n",
       "      <td>True</td>\n",
       "      <td>0</td>\n",
       "    </tr>\n",
       "    <tr>\n",
       "      <th>2</th>\n",
       "      <td>1927</td>\n",
       "      <td>1928</td>\n",
       "      <td>1</td>\n",
       "      <td>actress</td>\n",
       "      <td>Louise Dresser</td>\n",
       "      <td>A Ship Comes In</td>\n",
       "      <td>False</td>\n",
       "      <td>0</td>\n",
       "    </tr>\n",
       "    <tr>\n",
       "      <th>3</th>\n",
       "      <td>1927</td>\n",
       "      <td>1928</td>\n",
       "      <td>1</td>\n",
       "      <td>actress</td>\n",
       "      <td>Janet Gaynor</td>\n",
       "      <td>7th Heaven</td>\n",
       "      <td>True</td>\n",
       "      <td>0</td>\n",
       "    </tr>\n",
       "    <tr>\n",
       "      <th>4</th>\n",
       "      <td>1927</td>\n",
       "      <td>1928</td>\n",
       "      <td>1</td>\n",
       "      <td>actress</td>\n",
       "      <td>Gloria Swanson</td>\n",
       "      <td>Sadie Thompson</td>\n",
       "      <td>False</td>\n",
       "      <td>0</td>\n",
       "    </tr>\n",
       "  </tbody>\n",
       "</table>\n",
       "</div>"
      ],
      "text/plain": [
       "   year_film  year_ceremony  ceremony category                 name  \\\n",
       "0       1927           1928         1    actor  Richard Barthelmess   \n",
       "1       1927           1928         1    actor        Emil Jannings   \n",
       "2       1927           1928         1  actress       Louise Dresser   \n",
       "3       1927           1928         1  actress         Janet Gaynor   \n",
       "4       1927           1928         1  actress       Gloria Swanson   \n",
       "\n",
       "               film  winner  is_director  \n",
       "0         The Noose   False            0  \n",
       "1  The Last Command    True            0  \n",
       "2   A Ship Comes In   False            0  \n",
       "3        7th Heaven    True            0  \n",
       "4    Sadie Thompson   False            0  "
      ]
     },
     "execution_count": 76,
     "metadata": {},
     "output_type": "execute_result"
    }
   ],
   "source": [
    "oscar_ppl.head()"
   ]
  },
  {
   "cell_type": "code",
   "execution_count": 83,
   "metadata": {},
   "outputs": [
    {
     "data": {
      "text/html": [
       "<div>\n",
       "<style scoped>\n",
       "    .dataframe tbody tr th:only-of-type {\n",
       "        vertical-align: middle;\n",
       "    }\n",
       "\n",
       "    .dataframe tbody tr th {\n",
       "        vertical-align: top;\n",
       "    }\n",
       "\n",
       "    .dataframe thead th {\n",
       "        text-align: right;\n",
       "    }\n",
       "</style>\n",
       "<table border=\"1\" class=\"dataframe\">\n",
       "  <thead>\n",
       "    <tr style=\"text-align: right;\">\n",
       "      <th></th>\n",
       "      <th>name</th>\n",
       "      <th>is_director</th>\n",
       "      <th>winner</th>\n",
       "    </tr>\n",
       "  </thead>\n",
       "  <tbody>\n",
       "    <tr>\n",
       "      <th>2</th>\n",
       "      <td>Adam McKay</td>\n",
       "      <td>1</td>\n",
       "      <td>0</td>\n",
       "    </tr>\n",
       "    <tr>\n",
       "      <th>5</th>\n",
       "      <td>Adrian Lyne</td>\n",
       "      <td>1</td>\n",
       "      <td>0</td>\n",
       "    </tr>\n",
       "    <tr>\n",
       "      <th>10</th>\n",
       "      <td>Akira Kurosawa</td>\n",
       "      <td>1</td>\n",
       "      <td>0</td>\n",
       "    </tr>\n",
       "    <tr>\n",
       "      <th>15</th>\n",
       "      <td>Alan J. Pakula</td>\n",
       "      <td>1</td>\n",
       "      <td>0</td>\n",
       "    </tr>\n",
       "    <tr>\n",
       "      <th>16</th>\n",
       "      <td>Alan Parker</td>\n",
       "      <td>1</td>\n",
       "      <td>0</td>\n",
       "    </tr>\n",
       "  </tbody>\n",
       "</table>\n",
       "</div>"
      ],
      "text/plain": [
       "              name  is_director  winner\n",
       "2       Adam McKay            1       0\n",
       "5      Adrian Lyne            1       0\n",
       "10  Akira Kurosawa            1       0\n",
       "15  Alan J. Pakula            1       0\n",
       "16     Alan Parker            1       0"
      ]
     },
     "execution_count": 83,
     "metadata": {},
     "output_type": "execute_result"
    }
   ],
   "source": [
    "gp_pplw = oscar_ppl.groupby(['name', 'is_director']).agg({'winner': 'sum'}).reset_index()\n",
    "gp_pplw_director = gp_pplw.groupby(['is_director']).get_group(1)\n",
    "gp_pplw_actor = gp_pplw.groupby(['is_director']).get_group(0)\n",
    "gp_pplw_director.head()\n"
   ]
  },
  {
   "cell_type": "code",
   "execution_count": 84,
   "metadata": {},
   "outputs": [
    {
     "data": {
      "text/html": [
       "<div>\n",
       "<style scoped>\n",
       "    .dataframe tbody tr th:only-of-type {\n",
       "        vertical-align: middle;\n",
       "    }\n",
       "\n",
       "    .dataframe tbody tr th {\n",
       "        vertical-align: top;\n",
       "    }\n",
       "\n",
       "    .dataframe thead th {\n",
       "        text-align: right;\n",
       "    }\n",
       "</style>\n",
       "<table border=\"1\" class=\"dataframe\">\n",
       "  <thead>\n",
       "    <tr style=\"text-align: right;\">\n",
       "      <th></th>\n",
       "      <th>name</th>\n",
       "      <th>is_director</th>\n",
       "      <th>winner</th>\n",
       "    </tr>\n",
       "  </thead>\n",
       "  <tbody>\n",
       "    <tr>\n",
       "      <th>0</th>\n",
       "      <td>Abigail Breslin</td>\n",
       "      <td>0</td>\n",
       "      <td>0</td>\n",
       "    </tr>\n",
       "    <tr>\n",
       "      <th>1</th>\n",
       "      <td>Adam Driver</td>\n",
       "      <td>0</td>\n",
       "      <td>0</td>\n",
       "    </tr>\n",
       "    <tr>\n",
       "      <th>3</th>\n",
       "      <td>Adolph Caesar</td>\n",
       "      <td>0</td>\n",
       "      <td>0</td>\n",
       "    </tr>\n",
       "    <tr>\n",
       "      <th>4</th>\n",
       "      <td>Adolphe Menjou</td>\n",
       "      <td>0</td>\n",
       "      <td>0</td>\n",
       "    </tr>\n",
       "    <tr>\n",
       "      <th>6</th>\n",
       "      <td>Adriana Barraza</td>\n",
       "      <td>0</td>\n",
       "      <td>0</td>\n",
       "    </tr>\n",
       "  </tbody>\n",
       "</table>\n",
       "</div>"
      ],
      "text/plain": [
       "              name  is_director  winner\n",
       "0  Abigail Breslin            0       0\n",
       "1      Adam Driver            0       0\n",
       "3    Adolph Caesar            0       0\n",
       "4   Adolphe Menjou            0       0\n",
       "6  Adriana Barraza            0       0"
      ]
     },
     "execution_count": 84,
     "metadata": {},
     "output_type": "execute_result"
    }
   ],
   "source": [
    "gp_pplw_actor.head()"
   ]
  },
  {
   "cell_type": "code",
   "execution_count": 87,
   "metadata": {},
   "outputs": [
    {
     "data": {
      "text/html": [
       "<div>\n",
       "<style scoped>\n",
       "    .dataframe tbody tr th:only-of-type {\n",
       "        vertical-align: middle;\n",
       "    }\n",
       "\n",
       "    .dataframe tbody tr th {\n",
       "        vertical-align: top;\n",
       "    }\n",
       "\n",
       "    .dataframe thead th {\n",
       "        text-align: right;\n",
       "    }\n",
       "</style>\n",
       "<table border=\"1\" class=\"dataframe\">\n",
       "  <thead>\n",
       "    <tr style=\"text-align: right;\">\n",
       "      <th></th>\n",
       "      <th>director</th>\n",
       "      <th>actor</th>\n",
       "      <th>collabs</th>\n",
       "      <th>collab indicator</th>\n",
       "      <th>actor_total_gross</th>\n",
       "      <th>actor_mean_gross</th>\n",
       "      <th>director_total_gross</th>\n",
       "      <th>director_mean_gross</th>\n",
       "      <th>total_gross_diff</th>\n",
       "      <th>mean_gross_diff</th>\n",
       "      <th>...</th>\n",
       "      <th>actor_total_votes</th>\n",
       "      <th>actor_mean_votes</th>\n",
       "      <th>director_total_votes</th>\n",
       "      <th>director_mean_votes</th>\n",
       "      <th>total_votes_diff</th>\n",
       "      <th>mean_votes_diff</th>\n",
       "      <th>genre_tvd</th>\n",
       "      <th>rating_tvd</th>\n",
       "      <th>director_wins</th>\n",
       "      <th>actor_wins</th>\n",
       "    </tr>\n",
       "  </thead>\n",
       "  <tbody>\n",
       "    <tr>\n",
       "      <th>0</th>\n",
       "      <td>Hector Babenco</td>\n",
       "      <td>Catherine Keener</td>\n",
       "      <td>0</td>\n",
       "      <td>0</td>\n",
       "      <td>15.247479</td>\n",
       "      <td>15.247479</td>\n",
       "      <td>16.007187</td>\n",
       "      <td>14.908575</td>\n",
       "      <td>0.759708</td>\n",
       "      <td>0.338904</td>\n",
       "      <td>...</td>\n",
       "      <td>1.120655</td>\n",
       "      <td>1.120655</td>\n",
       "      <td>0.751725</td>\n",
       "      <td>0.751725</td>\n",
       "      <td>0.36893</td>\n",
       "      <td>0.36893</td>\n",
       "      <td>1.000000</td>\n",
       "      <td>0.000000</td>\n",
       "      <td>0</td>\n",
       "      <td>0</td>\n",
       "    </tr>\n",
       "    <tr>\n",
       "      <th>1</th>\n",
       "      <td>Roman Polanski</td>\n",
       "      <td>Catherine Keener</td>\n",
       "      <td>0</td>\n",
       "      <td>0</td>\n",
       "      <td>15.247479</td>\n",
       "      <td>15.247479</td>\n",
       "      <td>18.368319</td>\n",
       "      <td>16.065734</td>\n",
       "      <td>3.120840</td>\n",
       "      <td>0.818255</td>\n",
       "      <td>...</td>\n",
       "      <td>1.120655</td>\n",
       "      <td>1.120655</td>\n",
       "      <td>0.751725</td>\n",
       "      <td>0.751725</td>\n",
       "      <td>0.36893</td>\n",
       "      <td>0.36893</td>\n",
       "      <td>0.900000</td>\n",
       "      <td>0.400000</td>\n",
       "      <td>1</td>\n",
       "      <td>0</td>\n",
       "    </tr>\n",
       "    <tr>\n",
       "      <th>2</th>\n",
       "      <td>Ang Lee</td>\n",
       "      <td>Catherine Keener</td>\n",
       "      <td>0</td>\n",
       "      <td>0</td>\n",
       "      <td>15.247479</td>\n",
       "      <td>15.247479</td>\n",
       "      <td>20.121941</td>\n",
       "      <td>17.556992</td>\n",
       "      <td>4.874463</td>\n",
       "      <td>2.309513</td>\n",
       "      <td>...</td>\n",
       "      <td>1.120655</td>\n",
       "      <td>1.120655</td>\n",
       "      <td>0.751725</td>\n",
       "      <td>0.751725</td>\n",
       "      <td>0.36893</td>\n",
       "      <td>0.36893</td>\n",
       "      <td>0.769231</td>\n",
       "      <td>0.538462</td>\n",
       "      <td>2</td>\n",
       "      <td>0</td>\n",
       "    </tr>\n",
       "    <tr>\n",
       "      <th>3</th>\n",
       "      <td>Alan Parker</td>\n",
       "      <td>Catherine Keener</td>\n",
       "      <td>0</td>\n",
       "      <td>0</td>\n",
       "      <td>15.247479</td>\n",
       "      <td>15.247479</td>\n",
       "      <td>18.870122</td>\n",
       "      <td>16.790680</td>\n",
       "      <td>3.622643</td>\n",
       "      <td>1.543201</td>\n",
       "      <td>...</td>\n",
       "      <td>1.120655</td>\n",
       "      <td>1.120655</td>\n",
       "      <td>0.751725</td>\n",
       "      <td>0.751725</td>\n",
       "      <td>0.36893</td>\n",
       "      <td>0.36893</td>\n",
       "      <td>0.750000</td>\n",
       "      <td>0.125000</td>\n",
       "      <td>0</td>\n",
       "      <td>0</td>\n",
       "    </tr>\n",
       "    <tr>\n",
       "      <th>4</th>\n",
       "      <td>Tom Hooper</td>\n",
       "      <td>Catherine Keener</td>\n",
       "      <td>0</td>\n",
       "      <td>0</td>\n",
       "      <td>15.247479</td>\n",
       "      <td>15.247479</td>\n",
       "      <td>19.521834</td>\n",
       "      <td>18.135539</td>\n",
       "      <td>4.274355</td>\n",
       "      <td>2.888061</td>\n",
       "      <td>...</td>\n",
       "      <td>1.120655</td>\n",
       "      <td>1.120655</td>\n",
       "      <td>0.751725</td>\n",
       "      <td>0.751725</td>\n",
       "      <td>0.36893</td>\n",
       "      <td>0.36893</td>\n",
       "      <td>1.000000</td>\n",
       "      <td>0.250000</td>\n",
       "      <td>1</td>\n",
       "      <td>0</td>\n",
       "    </tr>\n",
       "  </tbody>\n",
       "</table>\n",
       "<p>5 rows × 32 columns</p>\n",
       "</div>"
      ],
      "text/plain": [
       "         director             actor  collabs  collab indicator  \\\n",
       "0  Hector Babenco  Catherine Keener        0                 0   \n",
       "1  Roman Polanski  Catherine Keener        0                 0   \n",
       "2         Ang Lee  Catherine Keener        0                 0   \n",
       "3     Alan Parker  Catherine Keener        0                 0   \n",
       "4      Tom Hooper  Catherine Keener        0                 0   \n",
       "\n",
       "   actor_total_gross  actor_mean_gross  director_total_gross  \\\n",
       "0          15.247479         15.247479             16.007187   \n",
       "1          15.247479         15.247479             18.368319   \n",
       "2          15.247479         15.247479             20.121941   \n",
       "3          15.247479         15.247479             18.870122   \n",
       "4          15.247479         15.247479             19.521834   \n",
       "\n",
       "   director_mean_gross  total_gross_diff  mean_gross_diff  ...  \\\n",
       "0            14.908575          0.759708         0.338904  ...   \n",
       "1            16.065734          3.120840         0.818255  ...   \n",
       "2            17.556992          4.874463         2.309513  ...   \n",
       "3            16.790680          3.622643         1.543201  ...   \n",
       "4            18.135539          4.274355         2.888061  ...   \n",
       "\n",
       "   actor_total_votes  actor_mean_votes  director_total_votes  \\\n",
       "0           1.120655          1.120655              0.751725   \n",
       "1           1.120655          1.120655              0.751725   \n",
       "2           1.120655          1.120655              0.751725   \n",
       "3           1.120655          1.120655              0.751725   \n",
       "4           1.120655          1.120655              0.751725   \n",
       "\n",
       "   director_mean_votes  total_votes_diff  mean_votes_diff  genre_tvd  \\\n",
       "0             0.751725           0.36893          0.36893   1.000000   \n",
       "1             0.751725           0.36893          0.36893   0.900000   \n",
       "2             0.751725           0.36893          0.36893   0.769231   \n",
       "3             0.751725           0.36893          0.36893   0.750000   \n",
       "4             0.751725           0.36893          0.36893   1.000000   \n",
       "\n",
       "   rating_tvd  director_wins  actor_wins  \n",
       "0    0.000000              0           0  \n",
       "1    0.400000              1           0  \n",
       "2    0.538462              2           0  \n",
       "3    0.125000              0           0  \n",
       "4    0.250000              1           0  \n",
       "\n",
       "[5 rows x 32 columns]"
      ]
     },
     "execution_count": 87,
     "metadata": {},
     "output_type": "execute_result"
    }
   ],
   "source": [
    "df_w_oscar2= pd.merge(df, gp_pplw_director, left_on='director', right_on='name')\n",
    "df_w_oscar2= pd.merge(df_w_oscar2, gp_pplw_actor, left_on='actor', right_on='name')\n",
    "df_w_oscar2.drop(['name_x', 'is_director_x', 'name_y', 'is_director_y'], axis=1, inplace=True)\n",
    "df_w_oscar2.rename(columns={'winner_x': 'director_wins', 'winner_y': 'actor_wins'}, inplace=True)\n",
    "df_w_oscar2.head()"
   ]
  },
  {
   "cell_type": "code",
   "execution_count": 90,
   "metadata": {},
   "outputs": [
    {
     "data": {
      "text/html": [
       "<div>\n",
       "<style scoped>\n",
       "    .dataframe tbody tr th:only-of-type {\n",
       "        vertical-align: middle;\n",
       "    }\n",
       "\n",
       "    .dataframe tbody tr th {\n",
       "        vertical-align: top;\n",
       "    }\n",
       "\n",
       "    .dataframe thead th {\n",
       "        text-align: right;\n",
       "    }\n",
       "</style>\n",
       "<table border=\"1\" class=\"dataframe\">\n",
       "  <thead>\n",
       "    <tr style=\"text-align: right;\">\n",
       "      <th></th>\n",
       "      <th>director</th>\n",
       "      <th>actor</th>\n",
       "      <th>collabs</th>\n",
       "      <th>collab indicator</th>\n",
       "      <th>actor_total_gross</th>\n",
       "      <th>actor_mean_gross</th>\n",
       "      <th>director_total_gross</th>\n",
       "      <th>director_mean_gross</th>\n",
       "      <th>total_gross_diff</th>\n",
       "      <th>mean_gross_diff</th>\n",
       "      <th>...</th>\n",
       "      <th>actor_mean_votes</th>\n",
       "      <th>director_total_votes</th>\n",
       "      <th>director_mean_votes</th>\n",
       "      <th>total_votes_diff</th>\n",
       "      <th>mean_votes_diff</th>\n",
       "      <th>genre_tvd</th>\n",
       "      <th>rating_tvd</th>\n",
       "      <th>director_wins</th>\n",
       "      <th>actor_wins</th>\n",
       "      <th>wins_diff</th>\n",
       "    </tr>\n",
       "  </thead>\n",
       "  <tbody>\n",
       "    <tr>\n",
       "      <th>0</th>\n",
       "      <td>Hector Babenco</td>\n",
       "      <td>Catherine Keener</td>\n",
       "      <td>0</td>\n",
       "      <td>0</td>\n",
       "      <td>15.247479</td>\n",
       "      <td>15.247479</td>\n",
       "      <td>16.007187</td>\n",
       "      <td>14.908575</td>\n",
       "      <td>0.759708</td>\n",
       "      <td>0.338904</td>\n",
       "      <td>...</td>\n",
       "      <td>1.120655</td>\n",
       "      <td>0.751725</td>\n",
       "      <td>0.751725</td>\n",
       "      <td>0.36893</td>\n",
       "      <td>0.36893</td>\n",
       "      <td>1.000000</td>\n",
       "      <td>0.000000</td>\n",
       "      <td>0</td>\n",
       "      <td>0</td>\n",
       "      <td>0</td>\n",
       "    </tr>\n",
       "    <tr>\n",
       "      <th>1</th>\n",
       "      <td>Roman Polanski</td>\n",
       "      <td>Catherine Keener</td>\n",
       "      <td>0</td>\n",
       "      <td>0</td>\n",
       "      <td>15.247479</td>\n",
       "      <td>15.247479</td>\n",
       "      <td>18.368319</td>\n",
       "      <td>16.065734</td>\n",
       "      <td>3.120840</td>\n",
       "      <td>0.818255</td>\n",
       "      <td>...</td>\n",
       "      <td>1.120655</td>\n",
       "      <td>0.751725</td>\n",
       "      <td>0.751725</td>\n",
       "      <td>0.36893</td>\n",
       "      <td>0.36893</td>\n",
       "      <td>0.900000</td>\n",
       "      <td>0.400000</td>\n",
       "      <td>1</td>\n",
       "      <td>0</td>\n",
       "      <td>1</td>\n",
       "    </tr>\n",
       "    <tr>\n",
       "      <th>2</th>\n",
       "      <td>Ang Lee</td>\n",
       "      <td>Catherine Keener</td>\n",
       "      <td>0</td>\n",
       "      <td>0</td>\n",
       "      <td>15.247479</td>\n",
       "      <td>15.247479</td>\n",
       "      <td>20.121941</td>\n",
       "      <td>17.556992</td>\n",
       "      <td>4.874463</td>\n",
       "      <td>2.309513</td>\n",
       "      <td>...</td>\n",
       "      <td>1.120655</td>\n",
       "      <td>0.751725</td>\n",
       "      <td>0.751725</td>\n",
       "      <td>0.36893</td>\n",
       "      <td>0.36893</td>\n",
       "      <td>0.769231</td>\n",
       "      <td>0.538462</td>\n",
       "      <td>2</td>\n",
       "      <td>0</td>\n",
       "      <td>2</td>\n",
       "    </tr>\n",
       "    <tr>\n",
       "      <th>3</th>\n",
       "      <td>Alan Parker</td>\n",
       "      <td>Catherine Keener</td>\n",
       "      <td>0</td>\n",
       "      <td>0</td>\n",
       "      <td>15.247479</td>\n",
       "      <td>15.247479</td>\n",
       "      <td>18.870122</td>\n",
       "      <td>16.790680</td>\n",
       "      <td>3.622643</td>\n",
       "      <td>1.543201</td>\n",
       "      <td>...</td>\n",
       "      <td>1.120655</td>\n",
       "      <td>0.751725</td>\n",
       "      <td>0.751725</td>\n",
       "      <td>0.36893</td>\n",
       "      <td>0.36893</td>\n",
       "      <td>0.750000</td>\n",
       "      <td>0.125000</td>\n",
       "      <td>0</td>\n",
       "      <td>0</td>\n",
       "      <td>0</td>\n",
       "    </tr>\n",
       "    <tr>\n",
       "      <th>4</th>\n",
       "      <td>Tom Hooper</td>\n",
       "      <td>Catherine Keener</td>\n",
       "      <td>0</td>\n",
       "      <td>0</td>\n",
       "      <td>15.247479</td>\n",
       "      <td>15.247479</td>\n",
       "      <td>19.521834</td>\n",
       "      <td>18.135539</td>\n",
       "      <td>4.274355</td>\n",
       "      <td>2.888061</td>\n",
       "      <td>...</td>\n",
       "      <td>1.120655</td>\n",
       "      <td>0.751725</td>\n",
       "      <td>0.751725</td>\n",
       "      <td>0.36893</td>\n",
       "      <td>0.36893</td>\n",
       "      <td>1.000000</td>\n",
       "      <td>0.250000</td>\n",
       "      <td>1</td>\n",
       "      <td>0</td>\n",
       "      <td>1</td>\n",
       "    </tr>\n",
       "  </tbody>\n",
       "</table>\n",
       "<p>5 rows × 33 columns</p>\n",
       "</div>"
      ],
      "text/plain": [
       "         director             actor  collabs  collab indicator  \\\n",
       "0  Hector Babenco  Catherine Keener        0                 0   \n",
       "1  Roman Polanski  Catherine Keener        0                 0   \n",
       "2         Ang Lee  Catherine Keener        0                 0   \n",
       "3     Alan Parker  Catherine Keener        0                 0   \n",
       "4      Tom Hooper  Catherine Keener        0                 0   \n",
       "\n",
       "   actor_total_gross  actor_mean_gross  director_total_gross  \\\n",
       "0          15.247479         15.247479             16.007187   \n",
       "1          15.247479         15.247479             18.368319   \n",
       "2          15.247479         15.247479             20.121941   \n",
       "3          15.247479         15.247479             18.870122   \n",
       "4          15.247479         15.247479             19.521834   \n",
       "\n",
       "   director_mean_gross  total_gross_diff  mean_gross_diff  ...  \\\n",
       "0            14.908575          0.759708         0.338904  ...   \n",
       "1            16.065734          3.120840         0.818255  ...   \n",
       "2            17.556992          4.874463         2.309513  ...   \n",
       "3            16.790680          3.622643         1.543201  ...   \n",
       "4            18.135539          4.274355         2.888061  ...   \n",
       "\n",
       "   actor_mean_votes  director_total_votes  director_mean_votes  \\\n",
       "0          1.120655              0.751725             0.751725   \n",
       "1          1.120655              0.751725             0.751725   \n",
       "2          1.120655              0.751725             0.751725   \n",
       "3          1.120655              0.751725             0.751725   \n",
       "4          1.120655              0.751725             0.751725   \n",
       "\n",
       "   total_votes_diff  mean_votes_diff  genre_tvd  rating_tvd  director_wins  \\\n",
       "0           0.36893          0.36893   1.000000    0.000000              0   \n",
       "1           0.36893          0.36893   0.900000    0.400000              1   \n",
       "2           0.36893          0.36893   0.769231    0.538462              2   \n",
       "3           0.36893          0.36893   0.750000    0.125000              0   \n",
       "4           0.36893          0.36893   1.000000    0.250000              1   \n",
       "\n",
       "   actor_wins  wins_diff  \n",
       "0           0          0  \n",
       "1           0          1  \n",
       "2           0          2  \n",
       "3           0          0  \n",
       "4           0          1  \n",
       "\n",
       "[5 rows x 33 columns]"
      ]
     },
     "execution_count": 90,
     "metadata": {},
     "output_type": "execute_result"
    }
   ],
   "source": [
    "df_w_oscar2['wins_diff']=df_w_oscar2['director_wins'] - df_w_oscar2['actor_wins']\n",
    "df_w_oscar2.head()"
   ]
  },
  {
   "cell_type": "code",
   "execution_count": 92,
   "metadata": {},
   "outputs": [
    {
     "data": {
      "text/plain": [
       "<matplotlib.legend.Legend at 0x19e1ad310>"
      ]
     },
     "execution_count": 92,
     "metadata": {},
     "output_type": "execute_result"
    },
    {
     "data": {
      "image/png": "[encoded data removed]",
      "text/plain": [
       "<Figure size 432x288 with 1 Axes>"
      ]
     },
     "metadata": {
      "needs_background": "light"
     },
     "output_type": "display_data"
    }
   ],
   "source": [
    "bins = np.linspace(min(df_w_oscar2.wins_diff.values), max(df_w_oscar2.wins_diff.values), 50)\n",
    "plt.hist(df_w_oscar2[df_w_oscar2[\"collab indicator\"] == 1].wins_diff.values, density = True, bins = bins, label = \"1\", alpha = 0.5)\n",
    "plt.hist(df_w_oscar2[df_w_oscar2[\"collab indicator\"] == 0].wins_diff.values, density = True, bins = bins, label = \"0\", alpha = 0.5)\n",
    "plt.legend()"
   ]
  },
  {
   "cell_type": "code",
   "execution_count": 93,
   "metadata": {},
   "outputs": [
    {
     "name": "stdout",
     "output_type": "stream",
     "text": [
      "wins_diff variance in pairs w/ collab is  0.9620234582580995\n",
      "wins_diff variance in pairs w/o collab is  0.7220626151863508\n"
     ]
    },
    {
     "data": {
      "text/plain": [
       "Ttest_indResult(statistic=-3.769840622715144, pvalue=0.0001817717209518124)"
      ]
     },
     "execution_count": 93,
     "metadata": {},
     "output_type": "execute_result"
    }
   ],
   "source": [
    "print('wins_diff variance in pairs w/ collab is  {}'.format(np.var(df_w_oscar2[df_w_oscar2[\"collab indicator\"] == 1].wins_diff.values)))\n",
    "print('wins_diff variance in pairs w/o collab is  {}'.format(np.var(df_w_oscar2[df_w_oscar2[\"collab indicator\"] == 0].wins_diff.values)))\n",
    "ttest_ind(df_w_oscar2[df_w_oscar2[\"collab indicator\"] == 1].wins_diff.values, \n",
    "                      df_w_oscar2[df_w_oscar2[\"collab indicator\"] == 0].wins_diff.values, \n",
    "                      equal_var=False)"
   ]
  },
  {
   "cell_type": "code",
   "execution_count": 94,
   "metadata": {},
   "outputs": [
    {
     "data": {
      "text/plain": [
       "KstestResult(statistic=0.12364465906785654, pvalue=2.394910165601113e-07)"
      ]
     },
     "execution_count": 94,
     "metadata": {},
     "output_type": "execute_result"
    }
   ],
   "source": [
    "ks_2samp(df_w_oscar2[df_w_oscar2[\"collab indicator\"] == 1].wins_diff.values, \n",
    "                      df_w_oscar2[df_w_oscar2[\"collab indicator\"] == 0].wins_diff.values)"
   ]
  },
  {
   "cell_type": "markdown",
   "metadata": {},
   "source": [
    "### genre"
   ]
  },
  {
   "cell_type": "code",
   "execution_count": 57,
   "metadata": {},
   "outputs": [
    {
     "data": {
      "text/plain": [
       "array(['Action', 'Adventure', 'Animation', 'Biography', 'Comedy', 'Crime',\n",
       "       'Drama', 'Horror', 'Other_genre'], dtype=object)"
      ]
     },
     "execution_count": 57,
     "metadata": {},
     "output_type": "execute_result"
    }
   ],
   "source": [
    "genre = np.unique(movie_industry.genre.values)\n",
    "genre"
   ]
  },
  {
   "cell_type": "code",
   "execution_count": 58,
   "metadata": {},
   "outputs": [],
   "source": [
    "dir_genre_prop = {}\n",
    "for director in directors:\n",
    "    temp = movie_industry[movie_industry.director == director].groupby([\"genre\"])[\"director\"].count()\n",
    "    prop = []\n",
    "    total = sum(temp.values)\n",
    "    for category in genre:\n",
    "        if category in temp.index:\n",
    "            prop.append(temp[category]/total)\n",
    "        else:\n",
    "            prop.append(0)\n",
    "    dir_genre_prop[director] = np.array(prop)"
   ]
  },
  {
   "cell_type": "code",
   "execution_count": 59,
   "metadata": {},
   "outputs": [],
   "source": [
    "act_genre_prop = {}\n",
    "for actor in actors:\n",
    "    temp = movie_industry[movie_industry.star == actor].groupby([\"genre\"])[\"star\"].count()\n",
    "    prop = []\n",
    "    total = sum(temp.values)\n",
    "    for category in genre:\n",
    "        if category in temp.index:\n",
    "            prop.append(temp[category]/total)\n",
    "        else:\n",
    "            prop.append(0)\n",
    "    act_genre_prop[actor] = np.array(prop)"
   ]
  },
  {
   "cell_type": "code",
   "execution_count": 60,
   "metadata": {},
   "outputs": [
    {
     "name": "stdout",
     "output_type": "stream",
     "text": [
      "CPU times: user 2min 24s, sys: 459 ms, total: 2min 25s\n",
      "Wall time: 2min 25s\n"
     ]
    }
   ],
   "source": [
    "%%time\n",
    "genre_tvd = []\n",
    "for i in df.index:\n",
    "    director = df.director[i]\n",
    "    actor = df.actor[i]\n",
    "    tvd = sum(abs(dir_genre_prop[director] - act_genre_prop[actor]))/2\n",
    "    genre_tvd.append(tvd)"
   ]
  },
  {
   "cell_type": "code",
   "execution_count": 61,
   "metadata": {},
   "outputs": [],
   "source": [
    "df[\"genre_tvd\"] = genre_tvd"
   ]
  },
  {
   "cell_type": "code",
   "execution_count": 62,
   "metadata": {},
   "outputs": [
    {
     "data": {
      "text/plain": [
       "array([0.        , 0.05263158, 0.10526316, 0.15789474, 0.21052632,\n",
       "       0.26315789, 0.31578947, 0.36842105, 0.42105263, 0.47368421,\n",
       "       0.52631579, 0.57894737, 0.63157895, 0.68421053, 0.73684211,\n",
       "       0.78947368, 0.84210526, 0.89473684, 0.94736842, 1.        ])"
      ]
     },
     "execution_count": 62,
     "metadata": {},
     "output_type": "execute_result"
    }
   ],
   "source": [
    "bins = np.linspace(min(genre_tvd), max(genre_tvd), 20)\n",
    "bins"
   ]
  },
  {
   "cell_type": "code",
   "execution_count": 63,
   "metadata": {},
   "outputs": [
    {
     "data": {
      "text/plain": [
       "<matplotlib.legend.Legend at 0x144795e90>"
      ]
     },
     "execution_count": 63,
     "metadata": {},
     "output_type": "execute_result"
    },
    {
     "data": {
      "image/png": "[encoded data removed]",
      "text/plain": [
       "<Figure size 432x288 with 1 Axes>"
      ]
     },
     "metadata": {
      "needs_background": "light"
     },
     "output_type": "display_data"
    }
   ],
   "source": [
    "plt.hist(df[df[\"collab indicator\"] == 1].genre_tvd.values, density = True, bins = bins, label = \"1\", alpha = 0.5)\n",
    "plt.hist(df[df[\"collab indicator\"] == 0].genre_tvd.values, density = True, bins = bins, label = \"0\", alpha = 0.5)\n",
    "plt.legend()"
   ]
  },
  {
   "cell_type": "code",
   "execution_count": 64,
   "metadata": {},
   "outputs": [
    {
     "data": {
      "text/plain": [
       "Ttest_indResult(statistic=-108.81833577459544, pvalue=0.0)"
      ]
     },
     "execution_count": 64,
     "metadata": {},
     "output_type": "execute_result"
    }
   ],
   "source": [
    "ttest_ind(df[df[\"collab indicator\"] == 1].genre_tvd.values, \n",
    "                      df[df[\"collab indicator\"] == 0].genre_tvd.values, \n",
    "                      equal_var=False)"
   ]
  },
  {
   "cell_type": "code",
   "execution_count": 65,
   "metadata": {},
   "outputs": [
    {
     "data": {
      "text/plain": [
       "KstestResult(statistic=0.6221440027353479, pvalue=0.0)"
      ]
     },
     "execution_count": 65,
     "metadata": {},
     "output_type": "execute_result"
    }
   ],
   "source": [
    "ks_2samp(df[df[\"collab indicator\"] == 1].genre_tvd.values, \n",
    "                      df[df[\"collab indicator\"] == 0].genre_tvd.values)"
   ]
  },
  {
   "cell_type": "markdown",
   "metadata": {},
   "source": [
    "### Rating "
   ]
  },
  {
   "cell_type": "code",
   "execution_count": 66,
   "metadata": {},
   "outputs": [
    {
     "data": {
      "text/plain": [
       "array(['G', 'NOT RATED', 'Other_rating', 'PG', 'PG-13', 'R'], dtype=object)"
      ]
     },
     "execution_count": 66,
     "metadata": {},
     "output_type": "execute_result"
    }
   ],
   "source": [
    "rating = np.unique(movie_industry.rating.values)\n",
    "rating"
   ]
  },
  {
   "cell_type": "code",
   "execution_count": 67,
   "metadata": {},
   "outputs": [],
   "source": [
    "dir_rating_prop = {}\n",
    "for director in directors:\n",
    "    temp = movie_industry[movie_industry.director == director].groupby([\"rating\"])[\"director\"].count()\n",
    "    prop = []\n",
    "    total = sum(temp.values)\n",
    "    for category in rating:\n",
    "        if category in temp.index:\n",
    "            prop.append(temp[category]/total)\n",
    "        else:\n",
    "            prop.append(0)\n",
    "    dir_rating_prop[director] = np.array(prop)"
   ]
  },
  {
   "cell_type": "code",
   "execution_count": 68,
   "metadata": {},
   "outputs": [],
   "source": [
    "act_rating_prop = {}\n",
    "for actor in actors:\n",
    "    temp = movie_industry[movie_industry.star == actor].groupby([\"rating\"])[\"star\"].count()\n",
    "    prop = []\n",
    "    total = sum(temp.values)\n",
    "    for category in rating:\n",
    "        if category in temp.index:\n",
    "            prop.append(temp[category]/total)\n",
    "        else:\n",
    "            prop.append(0)\n",
    "    act_rating_prop[actor] = np.array(prop)"
   ]
  },
  {
   "cell_type": "code",
   "execution_count": 69,
   "metadata": {},
   "outputs": [
    {
     "name": "stdout",
     "output_type": "stream",
     "text": [
      "CPU times: user 2min 27s, sys: 687 ms, total: 2min 28s\n",
      "Wall time: 2min 28s\n"
     ]
    }
   ],
   "source": [
    "%%time\n",
    "rating_tvd = []\n",
    "for i in df.index:\n",
    "    director = df.director[i]\n",
    "    actor = df.actor[i]\n",
    "    tvd = sum(abs(dir_rating_prop[director] - act_rating_prop[actor]))/2\n",
    "    rating_tvd.append(tvd)"
   ]
  },
  {
   "cell_type": "code",
   "execution_count": 70,
   "metadata": {},
   "outputs": [],
   "source": [
    "df[\"rating_tvd\"] = rating_tvd"
   ]
  },
  {
   "cell_type": "code",
   "execution_count": 71,
   "metadata": {},
   "outputs": [
    {
     "data": {
      "text/plain": [
       "array([0.        , 0.05263158, 0.10526316, 0.15789474, 0.21052632,\n",
       "       0.26315789, 0.31578947, 0.36842105, 0.42105263, 0.47368421,\n",
       "       0.52631579, 0.57894737, 0.63157895, 0.68421053, 0.73684211,\n",
       "       0.78947368, 0.84210526, 0.89473684, 0.94736842, 1.        ])"
      ]
     },
     "execution_count": 71,
     "metadata": {},
     "output_type": "execute_result"
    }
   ],
   "source": [
    "bins = np.linspace(min(rating_tvd), max(rating_tvd), 20)\n",
    "bins"
   ]
  },
  {
   "cell_type": "code",
   "execution_count": 72,
   "metadata": {},
   "outputs": [
    {
     "data": {
      "text/plain": [
       "<matplotlib.legend.Legend at 0x1905ad910>"
      ]
     },
     "execution_count": 72,
     "metadata": {},
     "output_type": "execute_result"
    },
    {
     "data": {
      "image/png": "[encoded data removed]",
      "text/plain": [
       "<Figure size 432x288 with 1 Axes>"
      ]
     },
     "metadata": {
      "needs_background": "light"
     },
     "output_type": "display_data"
    }
   ],
   "source": [
    "plt.hist(df[df[\"collab indicator\"] == 1].rating_tvd.values, density = True, bins = bins, label = \"1\", alpha = 0.5)\n",
    "plt.hist(df[df[\"collab indicator\"] == 0].rating_tvd.values, density = True, bins = bins, label = \"0\", alpha = 0.5)\n",
    "plt.legend()"
   ]
  },
  {
   "cell_type": "code",
   "execution_count": 73,
   "metadata": {},
   "outputs": [
    {
     "data": {
      "text/plain": [
       "Ttest_indResult(statistic=-105.86742361509394, pvalue=0.0)"
      ]
     },
     "execution_count": 73,
     "metadata": {},
     "output_type": "execute_result"
    }
   ],
   "source": [
    "ttest_ind(df[df[\"collab indicator\"] == 1].rating_tvd.values, \n",
    "                      df[df[\"collab indicator\"] == 0].rating_tvd.values, \n",
    "                      equal_var=False)"
   ]
  },
  {
   "cell_type": "code",
   "execution_count": 74,
   "metadata": {},
   "outputs": [
    {
     "data": {
      "text/plain": [
       "KstestResult(statistic=0.4575513471661826, pvalue=0.0)"
      ]
     },
     "execution_count": 74,
     "metadata": {},
     "output_type": "execute_result"
    }
   ],
   "source": [
    "ks_2samp(df[df[\"collab indicator\"] == 1].rating_tvd.values, \n",
    "                      df[df[\"collab indicator\"] == 0].rating_tvd.values)"
   ]
  },
  {
   "cell_type": "markdown",
   "metadata": {},
   "source": [
    "## Visualization"
   ]
  },
  {
   "cell_type": "code",
   "execution_count": 99,
   "metadata": {},
   "outputs": [
    {
     "data": {
      "text/plain": [
       "<Figure size 432x288 with 0 Axes>"
      ]
     },
     "metadata": {},
     "output_type": "display_data"
    },
    {
     "data": {
      "image/png": "[encoded data removed]",
      "text/plain": [
       "<Figure size 1872x1152 with 8 Axes>"
      ]
     },
     "metadata": {
      "needs_background": "light"
     },
     "output_type": "display_data"
    }
   ],
   "source": [
    "df_dropped = df.dropna()\n",
    "\n",
    "fig = plt.figure()\n",
    "f, axes = plt.subplots(4, 2, figsize=(26,16), sharex=False)\n",
    "plt.suptitle(\"T-test for Significant Covariants\", fontsize=16)\n",
    "\n",
    "bins1 = np.linspace(min(df_dropped.mean_votes_diff.values), max(df_dropped.mean_votes_diff.values), 50)\n",
    "axes[0, 0].hist(df_dropped[df_dropped[\"collab indicator\"] == 1].mean_votes_diff.values, density = True, bins = bins1, label = \"1\", alpha = 0.5)\n",
    "axes[0, 0].hist(df_dropped[df_dropped[\"collab indicator\"] == 0].mean_votes_diff.values, density = True, bins = bins1, label = \"0\", alpha = 0.5)\n",
    "axes[0, 0].legend()\n",
    "axes[0, 0].title.set_text('Difference in Mean Votes  P-Value=2.43e-25')\n",
    "\n",
    "bins2 = np.linspace(min(df_dropped.mean_score_diff.values), max(df_dropped.mean_score_diff.values), 50)\n",
    "axes[0, 1].hist(df_dropped[df_dropped[\"collab indicator\"] == 1].mean_score_diff.values, density = True, bins = bins2, label = \"1\", alpha = 0.5)\n",
    "axes[0, 1].hist(df_dropped[df_dropped[\"collab indicator\"] == 0].mean_score_diff.values, density = True, bins = bins2, label = \"0\", alpha = 0.5)\n",
    "axes[0, 1].legend()\n",
    "axes[0, 1].title.set_text('Difference in Mean Score P-Value=0.0')\n",
    "\n",
    "\n",
    "bins3 = np.linspace(min(df_dropped.mean_gross_diff.values), max(df_dropped.mean_gross_diff.values), 50)\n",
    "axes[1, 0].hist(df_dropped[df_dropped[\"collab indicator\"] == 1].mean_gross_diff.values, density = True, bins = bins3, label = \"1\", alpha = 0.5)\n",
    "axes[1, 0].hist(df_dropped[df_dropped[\"collab indicator\"] == 0].mean_gross_diff.values, density = True, bins = bins3, label = \"0\", alpha = 0.5)\n",
    "axes[1, 0].legend()\n",
    "axes[1, 0].title.set_text('Difference in Total Gross P-Value=0.0')\n",
    "\n",
    "bins4 = np.linspace(min(df_w_oscar.nominations_diff.values), max(df_w_oscar.nominations_diff.values), 50)\n",
    "axes[1, 1].hist(df_w_oscar[df_w_oscar[\"collab indicator\"] == 1].nominations_diff.values, density = True, bins = bins4, label = \"1\", alpha = 0.5)\n",
    "axes[1, 1].hist(df_w_oscar[df_w_oscar[\"collab indicator\"] == 0].nominations_diff.values, density = True, bins = bins4, label = \"0\", alpha = 0.5)\n",
    "axes[1, 1].legend()\n",
    "axes[1, 1].title.set_text('Difference in Number of Oscar Nominations P-Value=7.97e-05')\n",
    "\n",
    "bins5 = np.linspace(min(df_w_oscar2.wins_diff.values), max(df_w_oscar2.wins_diff.values), 50)\n",
    "axes[2, 0].hist(df_w_oscar2[df_w_oscar2[\"collab indicator\"] == 1].wins_diff.values, density = True, bins = bins5, label = \"1\", alpha = 0.5)\n",
    "axes[2, 0].hist(df_w_oscar2[df_w_oscar2[\"collab indicator\"] == 0].wins_diff.values, density = True, bins = bins5, label = \"0\", alpha = 0.5)\n",
    "axes[2, 0].legend()\n",
    "axes[2, 0].title.set_text('Difference in Number of Oscar Wins P-Value=1.80e-04') \n",
    "\n",
    "bins6 = np.linspace(min(genre_tvd), max(genre_tvd), 20)\n",
    "axes[2, 1].hist(df[df[\"collab indicator\"] == 1].genre_tvd.values, density = True, bins = bins6, label = \"1\", alpha = 0.5)\n",
    "axes[2, 1].hist(df[df[\"collab indicator\"] == 0].genre_tvd.values, density = True, bins = bins6, label = \"0\", alpha = 0.5)\n",
    "axes[2, 1].legend()\n",
    "axes[2, 1].title.set_text('Difference in Genre P-Value=0.0')\n",
    "\n",
    "bins7 = np.linspace(min(rating_tvd), max(rating_tvd), 20)\n",
    "axes[3, 0].hist(df[df[\"collab indicator\"] == 1].rating_tvd.values, density = True, bins = bins7, label = \"1\", alpha = 0.5)\n",
    "axes[3, 0].hist(df[df[\"collab indicator\"] == 0].rating_tvd.values, density = True, bins = bins7, label = \"0\", alpha = 0.5)\n",
    "axes[3, 0].legend()\n",
    "axes[3, 0].title.set_text('Difference in Rating P-Value=0.0')\n",
    "\n",
    "\n",
    "axes[3,1].set_axis_off()\n",
    "\n",
    "f.savefig('../figures/T-test_for_Significant_Covariants.png', bbox_inches='tight')\n"
   ]
  },
  {
   "cell_type": "code",
   "execution_count": null,
   "metadata": {},
   "outputs": [],
   "source": []
  }
 ],
 "metadata": {
  "kernelspec": {
   "display_name": "Python 3",
   "language": "python",
   "name": "python3"
  },
  "language_info": {
   "codemirror_mode": {
    "name": "ipython",
    "version": 3
   },
   "file_extension": ".py",
   "mimetype": "text/x-python",
   "name": "python",
   "nbconvert_exporter": "python",
   "pygments_lexer": "ipython3",
   "version": "3.7.6"
  }
 },
 "nbformat": 4,
 "nbformat_minor": 2
}
