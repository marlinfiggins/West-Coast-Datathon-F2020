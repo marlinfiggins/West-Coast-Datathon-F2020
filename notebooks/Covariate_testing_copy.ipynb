{
 "cells": [
  {
   "cell_type": "code",
   "execution_count": 2,
   "metadata": {},
   "outputs": [],
   "source": [
    "import pandas as pd\n",
    "import numpy as np\n",
    "import seaborn as sb\n",
    "import networkx as nx\n",
    "import matplotlib.pyplot as plt\n",
    "%matplotlib inline"
   ]
  },
  {
   "cell_type": "markdown",
   "metadata": {},
   "source": [
    "CREATING THE DATAFRAME OF PAIRS OF DIRECTORS AND ACTORS"
   ]
  },
  {
   "cell_type": "code",
   "execution_count": 3,
   "metadata": {},
   "outputs": [
    {
     "data": {
      "text/html": [
       "<div>\n",
       "<style scoped>\n",
       "    .dataframe tbody tr th:only-of-type {\n",
       "        vertical-align: middle;\n",
       "    }\n",
       "\n",
       "    .dataframe tbody tr th {\n",
       "        vertical-align: top;\n",
       "    }\n",
       "\n",
       "    .dataframe thead th {\n",
       "        text-align: right;\n",
       "    }\n",
       "</style>\n",
       "<table border=\"1\" class=\"dataframe\">\n",
       "  <thead>\n",
       "    <tr style=\"text-align: right;\">\n",
       "      <th></th>\n",
       "      <th>budget</th>\n",
       "      <th>company</th>\n",
       "      <th>country</th>\n",
       "      <th>director</th>\n",
       "      <th>genre</th>\n",
       "      <th>gross</th>\n",
       "      <th>name</th>\n",
       "      <th>rating</th>\n",
       "      <th>released</th>\n",
       "      <th>runtime</th>\n",
       "      <th>score</th>\n",
       "      <th>star</th>\n",
       "      <th>votes</th>\n",
       "      <th>writer</th>\n",
       "      <th>year</th>\n",
       "    </tr>\n",
       "  </thead>\n",
       "  <tbody>\n",
       "    <tr>\n",
       "      <th>0</th>\n",
       "      <td>8000000.0</td>\n",
       "      <td>Columbia Pictures Corporation</td>\n",
       "      <td>USA</td>\n",
       "      <td>Rob Reiner</td>\n",
       "      <td>Adventure</td>\n",
       "      <td>52287414.0</td>\n",
       "      <td>Stand by Me</td>\n",
       "      <td>R</td>\n",
       "      <td>1986-08-22</td>\n",
       "      <td>89</td>\n",
       "      <td>8.1</td>\n",
       "      <td>Wil Wheaton</td>\n",
       "      <td>299174</td>\n",
       "      <td>Stephen King</td>\n",
       "      <td>1986</td>\n",
       "    </tr>\n",
       "    <tr>\n",
       "      <th>1</th>\n",
       "      <td>6000000.0</td>\n",
       "      <td>Paramount Pictures</td>\n",
       "      <td>USA</td>\n",
       "      <td>John Hughes</td>\n",
       "      <td>Comedy</td>\n",
       "      <td>70136369.0</td>\n",
       "      <td>Ferris Bueller's Day Off</td>\n",
       "      <td>PG-13</td>\n",
       "      <td>1986-06-11</td>\n",
       "      <td>103</td>\n",
       "      <td>7.8</td>\n",
       "      <td>Matthew Broderick</td>\n",
       "      <td>264740</td>\n",
       "      <td>John Hughes</td>\n",
       "      <td>1986</td>\n",
       "    </tr>\n",
       "    <tr>\n",
       "      <th>2</th>\n",
       "      <td>15000000.0</td>\n",
       "      <td>Paramount Pictures</td>\n",
       "      <td>USA</td>\n",
       "      <td>Tony Scott</td>\n",
       "      <td>Action</td>\n",
       "      <td>179800601.0</td>\n",
       "      <td>Top Gun</td>\n",
       "      <td>PG</td>\n",
       "      <td>1986-05-16</td>\n",
       "      <td>110</td>\n",
       "      <td>6.9</td>\n",
       "      <td>Tom Cruise</td>\n",
       "      <td>236909</td>\n",
       "      <td>Jim Cash</td>\n",
       "      <td>1986</td>\n",
       "    </tr>\n",
       "    <tr>\n",
       "      <th>3</th>\n",
       "      <td>18500000.0</td>\n",
       "      <td>Twentieth Century Fox Film Corporation</td>\n",
       "      <td>USA</td>\n",
       "      <td>James Cameron</td>\n",
       "      <td>Action</td>\n",
       "      <td>85160248.0</td>\n",
       "      <td>Aliens</td>\n",
       "      <td>R</td>\n",
       "      <td>1986-07-18</td>\n",
       "      <td>137</td>\n",
       "      <td>8.4</td>\n",
       "      <td>Sigourney Weaver</td>\n",
       "      <td>540152</td>\n",
       "      <td>James Cameron</td>\n",
       "      <td>1986</td>\n",
       "    </tr>\n",
       "    <tr>\n",
       "      <th>4</th>\n",
       "      <td>9000000.0</td>\n",
       "      <td>Walt Disney Pictures</td>\n",
       "      <td>USA</td>\n",
       "      <td>Randal Kleiser</td>\n",
       "      <td>Adventure</td>\n",
       "      <td>18564613.0</td>\n",
       "      <td>Flight of the Navigator</td>\n",
       "      <td>PG</td>\n",
       "      <td>1986-08-01</td>\n",
       "      <td>90</td>\n",
       "      <td>6.9</td>\n",
       "      <td>Joey Cramer</td>\n",
       "      <td>36636</td>\n",
       "      <td>Mark H. Baker</td>\n",
       "      <td>1986</td>\n",
       "    </tr>\n",
       "  </tbody>\n",
       "</table>\n",
       "</div>"
      ],
      "text/plain": [
       "       budget                                 company country        director  \\\n",
       "0   8000000.0           Columbia Pictures Corporation     USA      Rob Reiner   \n",
       "1   6000000.0                      Paramount Pictures     USA     John Hughes   \n",
       "2  15000000.0                      Paramount Pictures     USA      Tony Scott   \n",
       "3  18500000.0  Twentieth Century Fox Film Corporation     USA   James Cameron   \n",
       "4   9000000.0                    Walt Disney Pictures     USA  Randal Kleiser   \n",
       "\n",
       "       genre        gross                      name rating    released  \\\n",
       "0  Adventure   52287414.0               Stand by Me      R  1986-08-22   \n",
       "1     Comedy   70136369.0  Ferris Bueller's Day Off  PG-13  1986-06-11   \n",
       "2     Action  179800601.0                   Top Gun     PG  1986-05-16   \n",
       "3     Action   85160248.0                    Aliens      R  1986-07-18   \n",
       "4  Adventure   18564613.0   Flight of the Navigator     PG  1986-08-01   \n",
       "\n",
       "   runtime  score               star   votes         writer  year  \n",
       "0       89    8.1        Wil Wheaton  299174   Stephen King  1986  \n",
       "1      103    7.8  Matthew Broderick  264740    John Hughes  1986  \n",
       "2      110    6.9         Tom Cruise  236909       Jim Cash  1986  \n",
       "3      137    8.4   Sigourney Weaver  540152  James Cameron  1986  \n",
       "4       90    6.9        Joey Cramer   36636  Mark H. Baker  1986  "
      ]
     },
     "execution_count": 3,
     "metadata": {},
     "output_type": "execute_result"
    }
   ],
   "source": [
    "movie_industry = pd.read_csv(\"../data/movie_industry.csv\", encoding = \"ISO-8859-1\" )\n",
    "movie_industry.head()"
   ]
  },
  {
   "cell_type": "code",
   "execution_count": 4,
   "metadata": {},
   "outputs": [],
   "source": [
    "class Graph:\n",
    "    \"\"\" Wrapper class Graph to create a bipartite graph\n",
    "    Takes in the following paramaters\n",
    "    directors_to_actors_relation : Dataframe with the data for directors and actors\n",
    "    weight func : function which defined the weight of an edge. Takes the dateframe to calcuate weights from and\n",
    "    the nodes values to calculate for\n",
    "    weight_func_args : column names used to calculate the weights\n",
    "    director_column : Column name for director\n",
    "    actor_column : Column name for actor, \n",
    "    bipartite : default true\n",
    "    \"\"\"\n",
    "    def __init__(self, \n",
    "                 directors_to_actors_relation, \n",
    "                 weight_func, \n",
    "                 weight_func_args, \n",
    "                 director_column=\"director\", \n",
    "                 actor_column=\"star\", \n",
    "                 bipartite=True):\n",
    "        self.G = nx.Graph()\n",
    "        \n",
    "        directors = set(directors_to_actors_relation[director_column].values)\n",
    "        actors = set(directors_to_actors_relation[actor_column].values)\n",
    "    \n",
    "        #store the director node as a tuple with director name and boolean True to indicate director\n",
    "        for director in directors:\n",
    "            self.G.add_node((director, True))\n",
    "            \n",
    "        #store the actor node as a tuple with actor name and boolean False to indicate actor\n",
    "        for actor in actors:\n",
    "            self.G.add_node((actor, False))\n",
    "\n",
    "        #add weights to all edges\n",
    "        for director in directors:\n",
    "            rows = directors_to_actors_relation[directors_to_actors_relation[director_column] == director]\n",
    "            for index in rows.index.values:\n",
    "                self.G.add_edge((director, True), \n",
    "                                (rows.loc[index, actor_column], False), \n",
    "                                weight=weight_func(*[rows.loc[index, i] for i in weight_func_args], directors_to_actors_relation))             "
   ]
  },
  {
   "cell_type": "code",
   "execution_count": 5,
   "metadata": {},
   "outputs": [],
   "source": [
    "#calcualtes edge weight as the number of collaborations\n",
    "#takes in director name, star name and data to calculate weight from\n",
    "def example_weight_func(director, star, df):\n",
    "    return len(df.loc[((df[\"director\"] == director) & (df[\"star\"] == star))])"
   ]
  },
  {
   "cell_type": "code",
   "execution_count": 6,
   "metadata": {},
   "outputs": [],
   "source": [
    "storage = Graph(movie_industry, example_weight_func, [\"director\", \"star\"])"
   ]
  },
  {
   "cell_type": "code",
   "execution_count": 7,
   "metadata": {},
   "outputs": [],
   "source": [
    "directors = list(set(movie_industry[\"director\"].values))\n",
    "actors = list(set(movie_industry[\"star\"].values))"
   ]
  },
  {
   "cell_type": "code",
   "execution_count": 8,
   "metadata": {},
   "outputs": [],
   "source": [
    "collabs = []\n",
    "for director in directors:\n",
    "    for actor in actors:\n",
    "        if storage.G.get_edge_data((director, True), (actor, False)):\n",
    "            collabs.append(storage.G.get_edge_data((director, True), (actor, False))[\"weight\"])\n",
    "        else:\n",
    "            collabs.append(0)"
   ]
  },
  {
   "cell_type": "code",
   "execution_count": 9,
   "metadata": {},
   "outputs": [
    {
     "data": {
      "text/html": [
       "<div>\n",
       "<style scoped>\n",
       "    .dataframe tbody tr th:only-of-type {\n",
       "        vertical-align: middle;\n",
       "    }\n",
       "\n",
       "    .dataframe tbody tr th {\n",
       "        vertical-align: top;\n",
       "    }\n",
       "\n",
       "    .dataframe thead th {\n",
       "        text-align: right;\n",
       "    }\n",
       "</style>\n",
       "<table border=\"1\" class=\"dataframe\">\n",
       "  <thead>\n",
       "    <tr style=\"text-align: right;\">\n",
       "      <th></th>\n",
       "      <th>director</th>\n",
       "      <th>actor</th>\n",
       "      <th>collabs</th>\n",
       "    </tr>\n",
       "  </thead>\n",
       "  <tbody>\n",
       "    <tr>\n",
       "      <th>0</th>\n",
       "      <td>George Huang</td>\n",
       "      <td>George Dzundza</td>\n",
       "      <td>0</td>\n",
       "    </tr>\n",
       "    <tr>\n",
       "      <th>1</th>\n",
       "      <td>George Huang</td>\n",
       "      <td>Julia Roberts</td>\n",
       "      <td>0</td>\n",
       "    </tr>\n",
       "    <tr>\n",
       "      <th>2</th>\n",
       "      <td>George Huang</td>\n",
       "      <td>Bryan Cranston</td>\n",
       "      <td>0</td>\n",
       "    </tr>\n",
       "    <tr>\n",
       "      <th>3</th>\n",
       "      <td>George Huang</td>\n",
       "      <td>Marla Sokoloff</td>\n",
       "      <td>0</td>\n",
       "    </tr>\n",
       "    <tr>\n",
       "      <th>4</th>\n",
       "      <td>George Huang</td>\n",
       "      <td>Maggie Cheung</td>\n",
       "      <td>0</td>\n",
       "    </tr>\n",
       "  </tbody>\n",
       "</table>\n",
       "</div>"
      ],
      "text/plain": [
       "       director           actor  collabs\n",
       "0  George Huang  George Dzundza        0\n",
       "1  George Huang   Julia Roberts        0\n",
       "2  George Huang  Bryan Cranston        0\n",
       "3  George Huang  Marla Sokoloff        0\n",
       "4  George Huang   Maggie Cheung        0"
      ]
     },
     "execution_count": 9,
     "metadata": {},
     "output_type": "execute_result"
    }
   ],
   "source": [
    "res =  [director for director in directors for i in range(len(actors))] \n",
    "df = pd.DataFrame({\"director\": res, \n",
    "                   \"actor\": actors*len(directors),\n",
    "                  \"collabs\": collabs})\n",
    "df.head()"
   ]
  },
  {
   "cell_type": "code",
   "execution_count": 10,
   "metadata": {},
   "outputs": [
    {
     "data": {
      "text/plain": [
       "0     6902230\n",
       "1        5929\n",
       "2         299\n",
       "3          52\n",
       "4          13\n",
       "5           5\n",
       "6           4\n",
       "11          1\n",
       "10          1\n",
       "8           1\n",
       "7           1\n",
       "Name: collabs, dtype: int64"
      ]
     },
     "execution_count": 10,
     "metadata": {},
     "output_type": "execute_result"
    }
   ],
   "source": [
    "df['collabs'].value_counts()"
   ]
  },
  {
   "cell_type": "markdown",
   "metadata": {},
   "source": [
    "ADDING AND TESTING COVARIATES"
   ]
  },
  {
   "cell_type": "code",
   "execution_count": 11,
   "metadata": {},
   "outputs": [],
   "source": [
    "df[\"collab indicator\"] = (df.collabs > 0)*1"
   ]
  },
  {
   "cell_type": "code",
   "execution_count": 12,
   "metadata": {},
   "outputs": [],
   "source": [
    "def add_feature_actor(feature_total, feature_mean, feature_name):\n",
    "    for actor in actors:\n",
    "        temp = movie_industry[movie_industry.star ==  actor]\n",
    "        sum_feature = sum(temp[feature_name].values)\n",
    "        mean_feature = np.mean(temp[feature_name].values)\n",
    "        feature_total[actor] = sum_feature\n",
    "        feature_mean[actor] = mean_feature\n",
    "        \n",
    "def add_feature_director(feature_total, feature_mean, feature_name):\n",
    "    for director in directors:\n",
    "        temp = movie_industry[movie_industry.director ==  director]\n",
    "        sum_feature = sum(temp[feature_name].values)\n",
    "        mean_feature = np.mean(temp[feature_name].values)\n",
    "        feature_total[director] = sum_feature\n",
    "        feature_mean[director] = mean_feature"
   ]
  },
  {
   "cell_type": "markdown",
   "metadata": {},
   "source": [
    "### budget"
   ]
  },
  {
   "cell_type": "code",
   "execution_count": 22,
   "metadata": {},
   "outputs": [
    {
     "data": {
      "text/html": [
       "<div>\n",
       "<style scoped>\n",
       "    .dataframe tbody tr th:only-of-type {\n",
       "        vertical-align: middle;\n",
       "    }\n",
       "\n",
       "    .dataframe tbody tr th {\n",
       "        vertical-align: top;\n",
       "    }\n",
       "\n",
       "    .dataframe thead th {\n",
       "        text-align: right;\n",
       "    }\n",
       "</style>\n",
       "<table border=\"1\" class=\"dataframe\">\n",
       "  <thead>\n",
       "    <tr style=\"text-align: right;\">\n",
       "      <th></th>\n",
       "      <th>director</th>\n",
       "      <th>actor</th>\n",
       "      <th>collabs</th>\n",
       "      <th>collab indicator</th>\n",
       "      <th>genre_tvd</th>\n",
       "      <th>actor_total_budget</th>\n",
       "      <th>actor_mean_budget</th>\n",
       "      <th>director_total_budget</th>\n",
       "      <th>director_mean_budget</th>\n",
       "      <th>total_budget_diff</th>\n",
       "      <th>mean_budget_diff</th>\n",
       "    </tr>\n",
       "  </thead>\n",
       "  <tbody>\n",
       "    <tr>\n",
       "      <th>0</th>\n",
       "      <td>George Huang</td>\n",
       "      <td>George Dzundza</td>\n",
       "      <td>0</td>\n",
       "      <td>0</td>\n",
       "      <td>1.000000</td>\n",
       "      <td>0.0</td>\n",
       "      <td>0.000000e+00</td>\n",
       "      <td>15700000.0</td>\n",
       "      <td>7850000.0</td>\n",
       "      <td>15700000.0</td>\n",
       "      <td>7.850000e+06</td>\n",
       "    </tr>\n",
       "    <tr>\n",
       "      <th>1</th>\n",
       "      <td>George Huang</td>\n",
       "      <td>Julia Roberts</td>\n",
       "      <td>0</td>\n",
       "      <td>0</td>\n",
       "      <td>0.466667</td>\n",
       "      <td>614000000.0</td>\n",
       "      <td>4.093333e+07</td>\n",
       "      <td>15700000.0</td>\n",
       "      <td>7850000.0</td>\n",
       "      <td>598300000.0</td>\n",
       "      <td>3.308333e+07</td>\n",
       "    </tr>\n",
       "    <tr>\n",
       "      <th>2</th>\n",
       "      <td>George Huang</td>\n",
       "      <td>Bryan Cranston</td>\n",
       "      <td>0</td>\n",
       "      <td>0</td>\n",
       "      <td>1.000000</td>\n",
       "      <td>43000000.0</td>\n",
       "      <td>1.433333e+07</td>\n",
       "      <td>15700000.0</td>\n",
       "      <td>7850000.0</td>\n",
       "      <td>27300000.0</td>\n",
       "      <td>6.483333e+06</td>\n",
       "    </tr>\n",
       "    <tr>\n",
       "      <th>3</th>\n",
       "      <td>George Huang</td>\n",
       "      <td>Marla Sokoloff</td>\n",
       "      <td>0</td>\n",
       "      <td>0</td>\n",
       "      <td>0.000000</td>\n",
       "      <td>11000000.0</td>\n",
       "      <td>1.100000e+07</td>\n",
       "      <td>15700000.0</td>\n",
       "      <td>7850000.0</td>\n",
       "      <td>4700000.0</td>\n",
       "      <td>3.150000e+06</td>\n",
       "    </tr>\n",
       "    <tr>\n",
       "      <th>4</th>\n",
       "      <td>George Huang</td>\n",
       "      <td>Maggie Cheung</td>\n",
       "      <td>0</td>\n",
       "      <td>0</td>\n",
       "      <td>0.000000</td>\n",
       "      <td>0.0</td>\n",
       "      <td>0.000000e+00</td>\n",
       "      <td>15700000.0</td>\n",
       "      <td>7850000.0</td>\n",
       "      <td>15700000.0</td>\n",
       "      <td>7.850000e+06</td>\n",
       "    </tr>\n",
       "  </tbody>\n",
       "</table>\n",
       "</div>"
      ],
      "text/plain": [
       "       director           actor  collabs  collab indicator  genre_tvd  \\\n",
       "0  George Huang  George Dzundza        0                 0   1.000000   \n",
       "1  George Huang   Julia Roberts        0                 0   0.466667   \n",
       "2  George Huang  Bryan Cranston        0                 0   1.000000   \n",
       "3  George Huang  Marla Sokoloff        0                 0   0.000000   \n",
       "4  George Huang   Maggie Cheung        0                 0   0.000000   \n",
       "\n",
       "   actor_total_budget  actor_mean_budget  director_total_budget  \\\n",
       "0                 0.0       0.000000e+00             15700000.0   \n",
       "1         614000000.0       4.093333e+07             15700000.0   \n",
       "2          43000000.0       1.433333e+07             15700000.0   \n",
       "3          11000000.0       1.100000e+07             15700000.0   \n",
       "4                 0.0       0.000000e+00             15700000.0   \n",
       "\n",
       "   director_mean_budget  total_budget_diff  mean_budget_diff  \n",
       "0             7850000.0         15700000.0      7.850000e+06  \n",
       "1             7850000.0        598300000.0      3.308333e+07  \n",
       "2             7850000.0         27300000.0      6.483333e+06  \n",
       "3             7850000.0          4700000.0      3.150000e+06  \n",
       "4             7850000.0         15700000.0      7.850000e+06  "
      ]
     },
     "execution_count": 22,
     "metadata": {},
     "output_type": "execute_result"
    }
   ],
   "source": [
    "actor_total_budget = {}\n",
    "actor_mean_budget = {}\n",
    "add_feature_actor(actor_total_budget, actor_mean_budget, 'budget')\n",
    "df[\"actor_total_budget\"] = df.actor.map(actor_total_budget)\n",
    "df[\"actor_mean_budget\"] = df.actor.map(actor_mean_budget)\n",
    "\n",
    "director_total_budget = {}\n",
    "director_mean_budget = {}\n",
    "add_feature_director(director_total_budget, director_mean_budget, 'budget')\n",
    "df[\"director_total_budget\"] = df.director.map(director_total_budget)\n",
    "df[\"director_mean_budget\"] = df.director.map(director_mean_budget)\n",
    "\n",
    "df[\"total_budget_diff\"] = abs(df.director_total_budget - df.actor_total_budget)\n",
    "df[\"mean_budget_diff\"] = abs(df.director_mean_budget - df.actor_mean_budget)\n",
    "df.head()"
   ]
  },
  {
   "cell_type": "code",
   "execution_count": 23,
   "metadata": {},
   "outputs": [
    {
     "data": {
      "text/plain": [
       "<matplotlib.legend.Legend at 0x12d60e6d0>"
      ]
     },
     "execution_count": 23,
     "metadata": {},
     "output_type": "execute_result"
    },
    {
     "data": {
      "image/png": "[encoded data removed]",
      "text/plain": [
       "<Figure size 432x288 with 1 Axes>"
      ]
     },
     "metadata": {
      "needs_background": "light"
     },
     "output_type": "display_data"
    }
   ],
   "source": [
    "df_dropped = df.copy().dropna()\n",
    "bins = np.linspace(min(df_dropped.mean_budget_diff.values), max(df_dropped.mean_budget_diff.values), 50)\n",
    "plt.hist(df_dropped[df_dropped[\"collab indicator\"] == 1].mean_budget_diff.values, density = True, bins = bins, label = \"1\", alpha = 0.5)\n",
    "plt.hist(df_dropped[df_dropped[\"collab indicator\"] == 0].mean_budget_diff.values, density = True, bins = bins, label = \"0\", alpha = 0.5)\n",
    "plt.legend()\n",
    "\n"
   ]
  },
  {
   "cell_type": "code",
   "execution_count": 24,
   "metadata": {},
   "outputs": [
    {
     "name": "stdout",
     "output_type": "stream",
     "text": [
      "mean_budget_diff variance in pairs w/ collab is  364783687588295.75\n",
      "mean_budget_diff variance in pairs w/o collab is  811132968046382.5\n"
     ]
    },
    {
     "data": {
      "text/plain": [
       "Ttest_indResult(statistic=-23.274224123640458, pvalue=4.878637649039436e-115)"
      ]
     },
     "execution_count": 24,
     "metadata": {},
     "output_type": "execute_result"
    }
   ],
   "source": [
    "from scipy.stats import ttest_ind\n",
    "print('mean_budget_diff variance in pairs w/ collab is  {}'.format(np.var(df_dropped[df_dropped[\"collab indicator\"] == 1].mean_budget_diff.values)))\n",
    "print('mean_budget_diff variance in pairs w/o collab is  {}'.format(np.var(df_dropped[df_dropped[\"collab indicator\"] == 0].mean_budget_diff.values)))\n",
    "ttest_ind(df_dropped[df_dropped[\"collab indicator\"] == 1].mean_budget_diff.values, \n",
    "                      df_dropped[df_dropped[\"collab indicator\"] == 0].mean_budget_diff.values, \n",
    "                      equal_var=False)"
   ]
  },
  {
   "cell_type": "code",
   "execution_count": 16,
   "metadata": {},
   "outputs": [
    {
     "data": {
      "text/plain": [
       "<matplotlib.legend.Legend at 0x1308666d0>"
      ]
     },
     "execution_count": 16,
     "metadata": {},
     "output_type": "execute_result"
    },
    {
     "data": {
      "image/png": "[encoded data removed]",
      "text/plain": [
       "<Figure size 432x288 with 1 Axes>"
      ]
     },
     "metadata": {
      "needs_background": "light"
     },
     "output_type": "display_data"
    }
   ],
   "source": [
    "df_dropped = df.copy().dropna()\n",
    "bins = np.linspace(min(df_dropped.total_budget_diff.values), max(df_dropped.total_budget_diff.values), 50)\n",
    "plt.hist(df_dropped[df_dropped[\"collab indicator\"] == 1].total_budget_diff.values, density = True, bins = bins, label = \"1\", alpha = 0.5)\n",
    "plt.hist(df_dropped[df_dropped[\"collab indicator\"] == 0].total_budget_diff.values, density = True, bins = bins, label = \"0\", alpha = 0.5)\n",
    "plt.legend()"
   ]
  },
  {
   "cell_type": "code",
   "execution_count": 18,
   "metadata": {},
   "outputs": [
    {
     "data": {
      "text/plain": [
       "Ttest_indResult(statistic=30.707468124240446, pvalue=4.1316454624320973e-193)"
      ]
     },
     "execution_count": 18,
     "metadata": {},
     "output_type": "execute_result"
    }
   ],
   "source": [
    "print('total_budget_diff variance in pairs w/ collab is  {}'.format(np.var(df_dropped[df_dropped[\"collab indicator\"] == 1].total_budget_diff.values)))\n",
    "print('total_budget_diff variance in pairs w/o collab is  {}'.format(np.var(df_dropped[df_dropped[\"collab indicator\"] == 0].total_budget_diff.values)))\n",
    "ttest_ind(df_dropped[df_dropped[\"collab indicator\"] == 1].total_budget_diff.values, \n",
    "                      df_dropped[df_dropped[\"collab indicator\"] == 0].total_budget_diff.values, \n",
    "                      equal_var=False)"
   ]
  },
  {
   "cell_type": "markdown",
   "metadata": {},
   "source": [
    "### score"
   ]
  },
  {
   "cell_type": "code",
   "execution_count": 25,
   "metadata": {},
   "outputs": [
    {
     "data": {
      "text/html": [
       "<div>\n",
       "<style scoped>\n",
       "    .dataframe tbody tr th:only-of-type {\n",
       "        vertical-align: middle;\n",
       "    }\n",
       "\n",
       "    .dataframe tbody tr th {\n",
       "        vertical-align: top;\n",
       "    }\n",
       "\n",
       "    .dataframe thead th {\n",
       "        text-align: right;\n",
       "    }\n",
       "</style>\n",
       "<table border=\"1\" class=\"dataframe\">\n",
       "  <thead>\n",
       "    <tr style=\"text-align: right;\">\n",
       "      <th></th>\n",
       "      <th>director</th>\n",
       "      <th>actor</th>\n",
       "      <th>collabs</th>\n",
       "      <th>collab indicator</th>\n",
       "      <th>genre_tvd</th>\n",
       "      <th>actor_total_budget</th>\n",
       "      <th>actor_mean_budget</th>\n",
       "      <th>director_total_budget</th>\n",
       "      <th>director_mean_budget</th>\n",
       "      <th>total_budget_diff</th>\n",
       "      <th>mean_budget_diff</th>\n",
       "      <th>actor_total_score</th>\n",
       "      <th>actor_mean_score</th>\n",
       "      <th>director_total_score</th>\n",
       "      <th>director_mean_score</th>\n",
       "      <th>total_score_diff</th>\n",
       "      <th>mean_score_diff</th>\n",
       "    </tr>\n",
       "  </thead>\n",
       "  <tbody>\n",
       "    <tr>\n",
       "      <th>0</th>\n",
       "      <td>George Huang</td>\n",
       "      <td>George Dzundza</td>\n",
       "      <td>0</td>\n",
       "      <td>0</td>\n",
       "      <td>1.000000</td>\n",
       "      <td>0.0</td>\n",
       "      <td>0.000000e+00</td>\n",
       "      <td>15700000.0</td>\n",
       "      <td>7850000.0</td>\n",
       "      <td>15700000.0</td>\n",
       "      <td>7.850000e+06</td>\n",
       "      <td>7.4</td>\n",
       "      <td>7.400000</td>\n",
       "      <td>12.8</td>\n",
       "      <td>6.4</td>\n",
       "      <td>5.4</td>\n",
       "      <td>1.000000</td>\n",
       "    </tr>\n",
       "    <tr>\n",
       "      <th>1</th>\n",
       "      <td>George Huang</td>\n",
       "      <td>Julia Roberts</td>\n",
       "      <td>0</td>\n",
       "      <td>0</td>\n",
       "      <td>0.466667</td>\n",
       "      <td>614000000.0</td>\n",
       "      <td>4.093333e+07</td>\n",
       "      <td>15700000.0</td>\n",
       "      <td>7850000.0</td>\n",
       "      <td>598300000.0</td>\n",
       "      <td>3.308333e+07</td>\n",
       "      <td>90.5</td>\n",
       "      <td>6.033333</td>\n",
       "      <td>12.8</td>\n",
       "      <td>6.4</td>\n",
       "      <td>77.7</td>\n",
       "      <td>0.366667</td>\n",
       "    </tr>\n",
       "    <tr>\n",
       "      <th>2</th>\n",
       "      <td>George Huang</td>\n",
       "      <td>Bryan Cranston</td>\n",
       "      <td>0</td>\n",
       "      <td>0</td>\n",
       "      <td>1.000000</td>\n",
       "      <td>43000000.0</td>\n",
       "      <td>1.433333e+07</td>\n",
       "      <td>15700000.0</td>\n",
       "      <td>7850000.0</td>\n",
       "      <td>27300000.0</td>\n",
       "      <td>6.483333e+06</td>\n",
       "      <td>20.9</td>\n",
       "      <td>6.966667</td>\n",
       "      <td>12.8</td>\n",
       "      <td>6.4</td>\n",
       "      <td>8.1</td>\n",
       "      <td>0.566667</td>\n",
       "    </tr>\n",
       "    <tr>\n",
       "      <th>3</th>\n",
       "      <td>George Huang</td>\n",
       "      <td>Marla Sokoloff</td>\n",
       "      <td>0</td>\n",
       "      <td>0</td>\n",
       "      <td>0.000000</td>\n",
       "      <td>11000000.0</td>\n",
       "      <td>1.100000e+07</td>\n",
       "      <td>15700000.0</td>\n",
       "      <td>7850000.0</td>\n",
       "      <td>4700000.0</td>\n",
       "      <td>3.150000e+06</td>\n",
       "      <td>5.6</td>\n",
       "      <td>5.600000</td>\n",
       "      <td>12.8</td>\n",
       "      <td>6.4</td>\n",
       "      <td>7.2</td>\n",
       "      <td>0.800000</td>\n",
       "    </tr>\n",
       "    <tr>\n",
       "      <th>4</th>\n",
       "      <td>George Huang</td>\n",
       "      <td>Maggie Cheung</td>\n",
       "      <td>0</td>\n",
       "      <td>0</td>\n",
       "      <td>0.000000</td>\n",
       "      <td>0.0</td>\n",
       "      <td>0.000000e+00</td>\n",
       "      <td>15700000.0</td>\n",
       "      <td>7850000.0</td>\n",
       "      <td>15700000.0</td>\n",
       "      <td>7.850000e+06</td>\n",
       "      <td>7.0</td>\n",
       "      <td>7.000000</td>\n",
       "      <td>12.8</td>\n",
       "      <td>6.4</td>\n",
       "      <td>5.8</td>\n",
       "      <td>0.600000</td>\n",
       "    </tr>\n",
       "  </tbody>\n",
       "</table>\n",
       "</div>"
      ],
      "text/plain": [
       "       director           actor  collabs  collab indicator  genre_tvd  \\\n",
       "0  George Huang  George Dzundza        0                 0   1.000000   \n",
       "1  George Huang   Julia Roberts        0                 0   0.466667   \n",
       "2  George Huang  Bryan Cranston        0                 0   1.000000   \n",
       "3  George Huang  Marla Sokoloff        0                 0   0.000000   \n",
       "4  George Huang   Maggie Cheung        0                 0   0.000000   \n",
       "\n",
       "   actor_total_budget  actor_mean_budget  director_total_budget  \\\n",
       "0                 0.0       0.000000e+00             15700000.0   \n",
       "1         614000000.0       4.093333e+07             15700000.0   \n",
       "2          43000000.0       1.433333e+07             15700000.0   \n",
       "3          11000000.0       1.100000e+07             15700000.0   \n",
       "4                 0.0       0.000000e+00             15700000.0   \n",
       "\n",
       "   director_mean_budget  total_budget_diff  mean_budget_diff  \\\n",
       "0             7850000.0         15700000.0      7.850000e+06   \n",
       "1             7850000.0        598300000.0      3.308333e+07   \n",
       "2             7850000.0         27300000.0      6.483333e+06   \n",
       "3             7850000.0          4700000.0      3.150000e+06   \n",
       "4             7850000.0         15700000.0      7.850000e+06   \n",
       "\n",
       "   actor_total_score  actor_mean_score  director_total_score  \\\n",
       "0                7.4          7.400000                  12.8   \n",
       "1               90.5          6.033333                  12.8   \n",
       "2               20.9          6.966667                  12.8   \n",
       "3                5.6          5.600000                  12.8   \n",
       "4                7.0          7.000000                  12.8   \n",
       "\n",
       "   director_mean_score  total_score_diff  mean_score_diff  \n",
       "0                  6.4               5.4         1.000000  \n",
       "1                  6.4              77.7         0.366667  \n",
       "2                  6.4               8.1         0.566667  \n",
       "3                  6.4               7.2         0.800000  \n",
       "4                  6.4               5.8         0.600000  "
      ]
     },
     "execution_count": 25,
     "metadata": {},
     "output_type": "execute_result"
    }
   ],
   "source": [
    "actor_total_score = {}\n",
    "actor_mean_score = {}\n",
    "add_feature_actor(actor_total_score, actor_mean_score, 'score')\n",
    "df[\"actor_total_score\"] = df.actor.map(actor_total_score)\n",
    "df[\"actor_mean_score\"] = df.actor.map(actor_mean_score)\n",
    "\n",
    "director_total_score = {}\n",
    "director_mean_score = {}\n",
    "add_feature_director(director_total_score, director_mean_score, 'score')\n",
    "df[\"director_total_score\"] = df.director.map(director_total_score)\n",
    "df[\"director_mean_score\"] = df.director.map(director_mean_score)\n",
    "\n",
    "df[\"total_score_diff\"] = abs(df.director_total_score - df.actor_total_score)\n",
    "df[\"mean_score_diff\"] = abs(df.director_mean_score - df.actor_mean_score)\n",
    "df.head()"
   ]
  },
  {
   "cell_type": "code",
   "execution_count": 20,
   "metadata": {},
   "outputs": [
    {
     "data": {
      "text/html": [
       "<div>\n",
       "<style scoped>\n",
       "    .dataframe tbody tr th:only-of-type {\n",
       "        vertical-align: middle;\n",
       "    }\n",
       "\n",
       "    .dataframe tbody tr th {\n",
       "        vertical-align: top;\n",
       "    }\n",
       "\n",
       "    .dataframe thead th {\n",
       "        text-align: right;\n",
       "    }\n",
       "</style>\n",
       "<table border=\"1\" class=\"dataframe\">\n",
       "  <thead>\n",
       "    <tr style=\"text-align: right;\">\n",
       "      <th></th>\n",
       "      <th>budget</th>\n",
       "      <th>company</th>\n",
       "      <th>country</th>\n",
       "      <th>director</th>\n",
       "      <th>genre</th>\n",
       "      <th>gross</th>\n",
       "      <th>name</th>\n",
       "      <th>rating</th>\n",
       "      <th>released</th>\n",
       "      <th>runtime</th>\n",
       "      <th>score</th>\n",
       "      <th>star</th>\n",
       "      <th>votes</th>\n",
       "      <th>writer</th>\n",
       "      <th>year</th>\n",
       "    </tr>\n",
       "  </thead>\n",
       "  <tbody>\n",
       "    <tr>\n",
       "      <th>5254</th>\n",
       "      <td>0.0</td>\n",
       "      <td>Paramount Vantage</td>\n",
       "      <td>USA</td>\n",
       "      <td>Neal Brennan</td>\n",
       "      <td>Comedy</td>\n",
       "      <td>15102127.0</td>\n",
       "      <td>The Goods: Live Hard, Sell Hard</td>\n",
       "      <td>R</td>\n",
       "      <td>2009-08-14</td>\n",
       "      <td>89</td>\n",
       "      <td>5.8</td>\n",
       "      <td>Jeremy Piven</td>\n",
       "      <td>18361</td>\n",
       "      <td>Andy Stock</td>\n",
       "      <td>2009</td>\n",
       "    </tr>\n",
       "  </tbody>\n",
       "</table>\n",
       "</div>"
      ],
      "text/plain": [
       "      budget            company country      director   genre       gross  \\\n",
       "5254     0.0  Paramount Vantage     USA  Neal Brennan  Comedy  15102127.0   \n",
       "\n",
       "                                 name rating    released  runtime  score  \\\n",
       "5254  The Goods: Live Hard, Sell Hard      R  2009-08-14       89    5.8   \n",
       "\n",
       "              star  votes      writer  year  \n",
       "5254  Jeremy Piven  18361  Andy Stock  2009  "
      ]
     },
     "execution_count": 20,
     "metadata": {},
     "output_type": "execute_result"
    }
   ],
   "source": [
    "movie_industry[movie_industry.director=='Neal Brennan']"
   ]
  },
  {
   "cell_type": "code",
   "execution_count": 24,
   "metadata": {},
   "outputs": [
    {
     "data": {
      "text/plain": [
       "<matplotlib.legend.Legend at 0x1604e4190>"
      ]
     },
     "execution_count": 24,
     "metadata": {},
     "output_type": "execute_result"
    },
    {
     "data": {
      "image/png": "[encoded data removed]",
      "text/plain": [
       "<Figure size 432x288 with 1 Axes>"
      ]
     },
     "metadata": {
      "needs_background": "light"
     },
     "output_type": "display_data"
    }
   ],
   "source": [
    "df_dropped = df.copy().dropna()\n",
    "bins = np.linspace(min(df_dropped.mean_score_diff.values), max(df_dropped.mean_score_diff.values), 50)\n",
    "plt.hist(df_dropped[df_dropped[\"collab indicator\"] == 1].mean_score_diff.values, density = True, bins = bins, label = \"1\", alpha = 0.5)\n",
    "plt.hist(df_dropped[df_dropped[\"collab indicator\"] == 0].mean_score_diff.values, density = True, bins = bins, label = \"0\", alpha = 0.5)\n",
    "plt.legend()\n"
   ]
  },
  {
   "cell_type": "code",
   "execution_count": 31,
   "metadata": {},
   "outputs": [
    {
     "name": "stdout",
     "output_type": "stream",
     "text": [
      "mean_score_diff variance in pairs w/ collab is  0.1671648849403833\n",
      "mean_score_diff variance in pairs w/o collab is  0.7926996535043865\n"
     ]
    },
    {
     "data": {
      "text/plain": [
       "Ttest_indResult(statistic=-132.73467425738679, pvalue=0.0)"
      ]
     },
     "execution_count": 31,
     "metadata": {},
     "output_type": "execute_result"
    }
   ],
   "source": [
    "print('mean_score_diff variance in pairs w/ collab is  {}'.format(np.var(df_dropped[df_dropped[\"collab indicator\"] == 1].mean_score_diff.values)))\n",
    "print('mean_score_diff variance in pairs w/o collab is  {}'.format(np.var(df_dropped[df_dropped[\"collab indicator\"] == 0].mean_score_diff.values)))\n",
    "ttest_ind(df_dropped[df_dropped[\"collab indicator\"] == 1].mean_score_diff.values, \n",
    "                      df_dropped[df_dropped[\"collab indicator\"] == 0].mean_score_diff.values, \n",
    "                      equal_var=False)"
   ]
  },
  {
   "cell_type": "code",
   "execution_count": 26,
   "metadata": {},
   "outputs": [
    {
     "data": {
      "text/plain": [
       "<matplotlib.legend.Legend at 0x130b4c050>"
      ]
     },
     "execution_count": 26,
     "metadata": {},
     "output_type": "execute_result"
    },
    {
     "data": {
      "image/png": "[encoded data removed]",
      "text/plain": [
       "<Figure size 432x288 with 1 Axes>"
      ]
     },
     "metadata": {
      "needs_background": "light"
     },
     "output_type": "display_data"
    }
   ],
   "source": [
    "bins = np.linspace(min(df_dropped.total_score_diff.values), max(df_dropped.total_score_diff.values), 50)\n",
    "plt.hist(df_dropped[df_dropped[\"collab indicator\"] == 1].total_score_diff.values, density = True, bins = bins, label = \"1\", alpha = 0.5)\n",
    "plt.hist(df_dropped[df_dropped[\"collab indicator\"] == 0].total_score_diff.values, density = True, bins = bins, label = \"0\", alpha = 0.5)\n",
    "plt.legend()\n"
   ]
  },
  {
   "cell_type": "code",
   "execution_count": 28,
   "metadata": {},
   "outputs": [
    {
     "name": "stdout",
     "output_type": "stream",
     "text": [
      "total_score_diff variance in pairs w/ collab is  1951.7441230141521\n",
      "total_score_diff variance in pairs w/o collab is  714.3838449451074\n"
     ]
    },
    {
     "data": {
      "text/plain": [
       "Ttest_indResult(statistic=40.1115485131673, pvalue=0.0)"
      ]
     },
     "execution_count": 28,
     "metadata": {},
     "output_type": "execute_result"
    }
   ],
   "source": [
    "print('total_score_diff variance in pairs w/ collab is  {}'.format(np.var(df_dropped[df_dropped[\"collab indicator\"] == 1].total_score_diff.values)))\n",
    "print('total_score_diff variance in pairs w/o collab is  {}'.format(np.var(df_dropped[df_dropped[\"collab indicator\"] == 0].total_score_diff.values)))\n",
    "ttest_ind(df_dropped[df_dropped[\"collab indicator\"] == 1].total_score_diff.values, \n",
    "                      df_dropped[df_dropped[\"collab indicator\"] == 0].total_score_diff.values, \n",
    "                      equal_var=False)"
   ]
  },
  {
   "cell_type": "markdown",
   "metadata": {},
   "source": [
    "### votes"
   ]
  },
  {
   "cell_type": "code",
   "execution_count": 26,
   "metadata": {},
   "outputs": [
    {
     "data": {
      "text/html": [
       "<div>\n",
       "<style scoped>\n",
       "    .dataframe tbody tr th:only-of-type {\n",
       "        vertical-align: middle;\n",
       "    }\n",
       "\n",
       "    .dataframe tbody tr th {\n",
       "        vertical-align: top;\n",
       "    }\n",
       "\n",
       "    .dataframe thead th {\n",
       "        text-align: right;\n",
       "    }\n",
       "</style>\n",
       "<table border=\"1\" class=\"dataframe\">\n",
       "  <thead>\n",
       "    <tr style=\"text-align: right;\">\n",
       "      <th></th>\n",
       "      <th>director</th>\n",
       "      <th>actor</th>\n",
       "      <th>collabs</th>\n",
       "      <th>collab indicator</th>\n",
       "      <th>genre_tvd</th>\n",
       "      <th>actor_total_budget</th>\n",
       "      <th>actor_mean_budget</th>\n",
       "      <th>director_total_budget</th>\n",
       "      <th>director_mean_budget</th>\n",
       "      <th>total_budget_diff</th>\n",
       "      <th>...</th>\n",
       "      <th>director_total_score</th>\n",
       "      <th>director_mean_score</th>\n",
       "      <th>total_score_diff</th>\n",
       "      <th>mean_score_diff</th>\n",
       "      <th>actor_total_votes</th>\n",
       "      <th>actor_mean_votes</th>\n",
       "      <th>director_total_votes</th>\n",
       "      <th>director_mean_votes</th>\n",
       "      <th>total_votes_diff</th>\n",
       "      <th>mean_votes_diff</th>\n",
       "    </tr>\n",
       "  </thead>\n",
       "  <tbody>\n",
       "    <tr>\n",
       "      <th>0</th>\n",
       "      <td>George Huang</td>\n",
       "      <td>George Dzundza</td>\n",
       "      <td>0</td>\n",
       "      <td>0</td>\n",
       "      <td>1.000000</td>\n",
       "      <td>0.0</td>\n",
       "      <td>0.000000e+00</td>\n",
       "      <td>15700000.0</td>\n",
       "      <td>7850000.0</td>\n",
       "      <td>15700000.0</td>\n",
       "      <td>...</td>\n",
       "      <td>12.8</td>\n",
       "      <td>6.4</td>\n",
       "      <td>5.4</td>\n",
       "      <td>1.000000</td>\n",
       "      <td>7675</td>\n",
       "      <td>7675.000000</td>\n",
       "      <td>25037</td>\n",
       "      <td>12518.5</td>\n",
       "      <td>17362</td>\n",
       "      <td>4843.500000</td>\n",
       "    </tr>\n",
       "    <tr>\n",
       "      <th>1</th>\n",
       "      <td>George Huang</td>\n",
       "      <td>Julia Roberts</td>\n",
       "      <td>0</td>\n",
       "      <td>0</td>\n",
       "      <td>0.466667</td>\n",
       "      <td>614000000.0</td>\n",
       "      <td>4.093333e+07</td>\n",
       "      <td>15700000.0</td>\n",
       "      <td>7850000.0</td>\n",
       "      <td>598300000.0</td>\n",
       "      <td>...</td>\n",
       "      <td>12.8</td>\n",
       "      <td>6.4</td>\n",
       "      <td>77.7</td>\n",
       "      <td>0.366667</td>\n",
       "      <td>860399</td>\n",
       "      <td>57359.933333</td>\n",
       "      <td>25037</td>\n",
       "      <td>12518.5</td>\n",
       "      <td>835362</td>\n",
       "      <td>44841.433333</td>\n",
       "    </tr>\n",
       "    <tr>\n",
       "      <th>2</th>\n",
       "      <td>George Huang</td>\n",
       "      <td>Bryan Cranston</td>\n",
       "      <td>0</td>\n",
       "      <td>0</td>\n",
       "      <td>1.000000</td>\n",
       "      <td>43000000.0</td>\n",
       "      <td>1.433333e+07</td>\n",
       "      <td>15700000.0</td>\n",
       "      <td>7850000.0</td>\n",
       "      <td>27300000.0</td>\n",
       "      <td>...</td>\n",
       "      <td>12.8</td>\n",
       "      <td>6.4</td>\n",
       "      <td>8.1</td>\n",
       "      <td>0.566667</td>\n",
       "      <td>117582</td>\n",
       "      <td>39194.000000</td>\n",
       "      <td>25037</td>\n",
       "      <td>12518.5</td>\n",
       "      <td>92545</td>\n",
       "      <td>26675.500000</td>\n",
       "    </tr>\n",
       "    <tr>\n",
       "      <th>3</th>\n",
       "      <td>George Huang</td>\n",
       "      <td>Marla Sokoloff</td>\n",
       "      <td>0</td>\n",
       "      <td>0</td>\n",
       "      <td>0.000000</td>\n",
       "      <td>11000000.0</td>\n",
       "      <td>1.100000e+07</td>\n",
       "      <td>15700000.0</td>\n",
       "      <td>7850000.0</td>\n",
       "      <td>4700000.0</td>\n",
       "      <td>...</td>\n",
       "      <td>12.8</td>\n",
       "      <td>6.4</td>\n",
       "      <td>7.2</td>\n",
       "      <td>0.800000</td>\n",
       "      <td>12035</td>\n",
       "      <td>12035.000000</td>\n",
       "      <td>25037</td>\n",
       "      <td>12518.5</td>\n",
       "      <td>13002</td>\n",
       "      <td>483.500000</td>\n",
       "    </tr>\n",
       "    <tr>\n",
       "      <th>4</th>\n",
       "      <td>George Huang</td>\n",
       "      <td>Maggie Cheung</td>\n",
       "      <td>0</td>\n",
       "      <td>0</td>\n",
       "      <td>0.000000</td>\n",
       "      <td>0.0</td>\n",
       "      <td>0.000000e+00</td>\n",
       "      <td>15700000.0</td>\n",
       "      <td>7850000.0</td>\n",
       "      <td>15700000.0</td>\n",
       "      <td>...</td>\n",
       "      <td>12.8</td>\n",
       "      <td>6.4</td>\n",
       "      <td>5.8</td>\n",
       "      <td>0.600000</td>\n",
       "      <td>3909</td>\n",
       "      <td>3909.000000</td>\n",
       "      <td>25037</td>\n",
       "      <td>12518.5</td>\n",
       "      <td>21128</td>\n",
       "      <td>8609.500000</td>\n",
       "    </tr>\n",
       "  </tbody>\n",
       "</table>\n",
       "<p>5 rows × 23 columns</p>\n",
       "</div>"
      ],
      "text/plain": [
       "       director           actor  collabs  collab indicator  genre_tvd  \\\n",
       "0  George Huang  George Dzundza        0                 0   1.000000   \n",
       "1  George Huang   Julia Roberts        0                 0   0.466667   \n",
       "2  George Huang  Bryan Cranston        0                 0   1.000000   \n",
       "3  George Huang  Marla Sokoloff        0                 0   0.000000   \n",
       "4  George Huang   Maggie Cheung        0                 0   0.000000   \n",
       "\n",
       "   actor_total_budget  actor_mean_budget  director_total_budget  \\\n",
       "0                 0.0       0.000000e+00             15700000.0   \n",
       "1         614000000.0       4.093333e+07             15700000.0   \n",
       "2          43000000.0       1.433333e+07             15700000.0   \n",
       "3          11000000.0       1.100000e+07             15700000.0   \n",
       "4                 0.0       0.000000e+00             15700000.0   \n",
       "\n",
       "   director_mean_budget  total_budget_diff  ...  director_total_score  \\\n",
       "0             7850000.0         15700000.0  ...                  12.8   \n",
       "1             7850000.0        598300000.0  ...                  12.8   \n",
       "2             7850000.0         27300000.0  ...                  12.8   \n",
       "3             7850000.0          4700000.0  ...                  12.8   \n",
       "4             7850000.0         15700000.0  ...                  12.8   \n",
       "\n",
       "   director_mean_score  total_score_diff  mean_score_diff  actor_total_votes  \\\n",
       "0                  6.4               5.4         1.000000               7675   \n",
       "1                  6.4              77.7         0.366667             860399   \n",
       "2                  6.4               8.1         0.566667             117582   \n",
       "3                  6.4               7.2         0.800000              12035   \n",
       "4                  6.4               5.8         0.600000               3909   \n",
       "\n",
       "   actor_mean_votes  director_total_votes  director_mean_votes  \\\n",
       "0       7675.000000                 25037              12518.5   \n",
       "1      57359.933333                 25037              12518.5   \n",
       "2      39194.000000                 25037              12518.5   \n",
       "3      12035.000000                 25037              12518.5   \n",
       "4       3909.000000                 25037              12518.5   \n",
       "\n",
       "   total_votes_diff  mean_votes_diff  \n",
       "0             17362      4843.500000  \n",
       "1            835362     44841.433333  \n",
       "2             92545     26675.500000  \n",
       "3             13002       483.500000  \n",
       "4             21128      8609.500000  \n",
       "\n",
       "[5 rows x 23 columns]"
      ]
     },
     "execution_count": 26,
     "metadata": {},
     "output_type": "execute_result"
    }
   ],
   "source": [
    "actor_total_votes = {}\n",
    "actor_mean_votes = {}\n",
    "add_feature_actor(actor_total_votes, actor_mean_votes, 'votes')\n",
    "df[\"actor_total_votes\"] = df.actor.map(actor_total_votes)\n",
    "df[\"actor_mean_votes\"] = df.actor.map(actor_mean_votes)\n",
    "\n",
    "director_total_votes = {}\n",
    "director_mean_votes = {}\n",
    "add_feature_director(director_total_votes, director_mean_votes, 'votes')\n",
    "df[\"director_total_votes\"] = df.director.map(director_total_votes)\n",
    "df[\"director_mean_votes\"] = df.director.map(director_mean_votes)\n",
    "\n",
    "df[\"total_votes_diff\"] = abs(df.director_total_votes - df.actor_total_votes)\n",
    "df[\"mean_votes_diff\"] = abs(df.director_mean_votes - df.actor_mean_votes)\n",
    "df.head()"
   ]
  },
  {
   "cell_type": "code",
   "execution_count": 30,
   "metadata": {},
   "outputs": [
    {
     "data": {
      "text/plain": [
       "<matplotlib.legend.Legend at 0x161684c10>"
      ]
     },
     "execution_count": 30,
     "metadata": {},
     "output_type": "execute_result"
    },
    {
     "data": {
      "image/png": "[encoded data removed]",
      "text/plain": [
       "<Figure size 432x288 with 1 Axes>"
      ]
     },
     "metadata": {
      "needs_background": "light"
     },
     "output_type": "display_data"
    }
   ],
   "source": [
    "df_dropped = df.copy().dropna()\n",
    "bins = np.linspace(min(df_dropped.mean_votes_diff.values), max(df_dropped.mean_votes_diff.values), 50)\n",
    "plt.hist(df_dropped[df_dropped[\"collab indicator\"] == 1].mean_votes_diff.values, density = True, bins = bins, label = \"1\", alpha = 0.5)\n",
    "plt.hist(df_dropped[df_dropped[\"collab indicator\"] == 0].mean_votes_diff.values, density = True, bins = bins, label = \"0\", alpha = 0.5)\n",
    "plt.legend()"
   ]
  },
  {
   "cell_type": "code",
   "execution_count": 32,
   "metadata": {},
   "outputs": [
    {
     "name": "stdout",
     "output_type": "stream",
     "text": [
      "mean_votes_diff variance in pairs w/ collab is  5024807374.804754\n",
      "mean_votes_diff variance in pairs w/o collab is  6901274259.018741\n"
     ]
    },
    {
     "data": {
      "text/plain": [
       "Ttest_indResult(statistic=-10.4468745926427, pvalue=2.433289919492187e-25)"
      ]
     },
     "execution_count": 32,
     "metadata": {},
     "output_type": "execute_result"
    }
   ],
   "source": [
    "print('mean_votes_diff variance in pairs w/ collab is  {}'.format(np.var(df_dropped[df_dropped[\"collab indicator\"] == 1].mean_votes_diff.values)))\n",
    "print('mean_votes_diff variance in pairs w/o collab is  {}'.format(np.var(df_dropped[df_dropped[\"collab indicator\"] == 0].mean_votes_diff.values)))\n",
    "ttest_ind(df_dropped[df_dropped[\"collab indicator\"] == 1].mean_votes_diff.values, \n",
    "                      df_dropped[df_dropped[\"collab indicator\"] == 0].mean_votes_diff.values, \n",
    "                      equal_var=False)"
   ]
  },
  {
   "cell_type": "code",
   "execution_count": 33,
   "metadata": {},
   "outputs": [
    {
     "data": {
      "text/plain": [
       "<matplotlib.legend.Legend at 0x160e20d90>"
      ]
     },
     "execution_count": 33,
     "metadata": {},
     "output_type": "execute_result"
    },
    {
     "data": {
      "image/png": "[encoded data removed]",
      "text/plain": [
       "<Figure size 432x288 with 1 Axes>"
      ]
     },
     "metadata": {
      "needs_background": "light"
     },
     "output_type": "display_data"
    }
   ],
   "source": [
    "bins = np.linspace(min(df_dropped.total_votes_diff.values), max(df_dropped.total_votes_diff.values), 50)\n",
    "plt.hist(df_dropped[df_dropped[\"collab indicator\"] == 1].total_votes_diff.values, density = True, bins = bins, label = \"1\", alpha = 0.5)\n",
    "plt.hist(df_dropped[df_dropped[\"collab indicator\"] == 0].total_votes_diff.values, density = True, bins = bins, label = \"0\", alpha = 0.5)\n",
    "plt.legend()"
   ]
  },
  {
   "cell_type": "code",
   "execution_count": 34,
   "metadata": {},
   "outputs": [
    {
     "name": "stdout",
     "output_type": "stream",
     "text": [
      "total_votes_diff variance in pairs w/ collab is  1614598418040.543\n",
      "total_votes_diff variance in pairs w/o collab is  527109690822.2613\n"
     ]
    },
    {
     "data": {
      "text/plain": [
       "Ttest_indResult(statistic=28.404723742823816, pvalue=4.0248852997916604e-167)"
      ]
     },
     "execution_count": 34,
     "metadata": {},
     "output_type": "execute_result"
    }
   ],
   "source": [
    "print('total_votes_diff variance in pairs w/ collab is  {}'.format(np.var(df_dropped[df_dropped[\"collab indicator\"] == 1].total_votes_diff.values)))\n",
    "print('total_votes_diff variance in pairs w/o collab is  {}'.format(np.var(df_dropped[df_dropped[\"collab indicator\"] == 0].total_votes_diff.values)))\n",
    "ttest_ind(df_dropped[df_dropped[\"collab indicator\"] == 1].total_votes_diff.values, \n",
    "                      df_dropped[df_dropped[\"collab indicator\"] == 0].total_votes_diff.values, \n",
    "                      equal_var=False)"
   ]
  },
  {
   "cell_type": "markdown",
   "metadata": {},
   "source": [
    "### runtime"
   ]
  },
  {
   "cell_type": "code",
   "execution_count": 35,
   "metadata": {},
   "outputs": [
    {
     "data": {
      "text/html": [
       "<div>\n",
       "<style scoped>\n",
       "    .dataframe tbody tr th:only-of-type {\n",
       "        vertical-align: middle;\n",
       "    }\n",
       "\n",
       "    .dataframe tbody tr th {\n",
       "        vertical-align: top;\n",
       "    }\n",
       "\n",
       "    .dataframe thead th {\n",
       "        text-align: right;\n",
       "    }\n",
       "</style>\n",
       "<table border=\"1\" class=\"dataframe\">\n",
       "  <thead>\n",
       "    <tr style=\"text-align: right;\">\n",
       "      <th></th>\n",
       "      <th>director</th>\n",
       "      <th>actor</th>\n",
       "      <th>collabs</th>\n",
       "      <th>collab indicator</th>\n",
       "      <th>actor_total_budget</th>\n",
       "      <th>actor_mean_budget</th>\n",
       "      <th>director_total_budget</th>\n",
       "      <th>director_mean_budget</th>\n",
       "      <th>total_budget_diff</th>\n",
       "      <th>mean_budget_diff</th>\n",
       "      <th>...</th>\n",
       "      <th>director_total_votes</th>\n",
       "      <th>director_mean_votes</th>\n",
       "      <th>total_votes_diff</th>\n",
       "      <th>mean_votes_diff</th>\n",
       "      <th>actor_total_runtime</th>\n",
       "      <th>actor_mean_runtime</th>\n",
       "      <th>director_total_runtime</th>\n",
       "      <th>director_mean_runtime</th>\n",
       "      <th>total_runtime_diff</th>\n",
       "      <th>mean_runtime_diff</th>\n",
       "    </tr>\n",
       "  </thead>\n",
       "  <tbody>\n",
       "    <tr>\n",
       "      <th>0</th>\n",
       "      <td>Joel Edgerton</td>\n",
       "      <td>Andrew Robinson</td>\n",
       "      <td>0</td>\n",
       "      <td>0</td>\n",
       "      <td>1000000.0</td>\n",
       "      <td>1.000000e+06</td>\n",
       "      <td>5000000.0</td>\n",
       "      <td>5000000.0</td>\n",
       "      <td>4000000.0</td>\n",
       "      <td>4.000000e+06</td>\n",
       "      <td>...</td>\n",
       "      <td>103554</td>\n",
       "      <td>103554.0</td>\n",
       "      <td>20345</td>\n",
       "      <td>20345.0</td>\n",
       "      <td>94</td>\n",
       "      <td>94.000000</td>\n",
       "      <td>108</td>\n",
       "      <td>108.0</td>\n",
       "      <td>14</td>\n",
       "      <td>14.000000</td>\n",
       "    </tr>\n",
       "    <tr>\n",
       "      <th>1</th>\n",
       "      <td>Joel Edgerton</td>\n",
       "      <td>Miles Teller</td>\n",
       "      <td>0</td>\n",
       "      <td>0</td>\n",
       "      <td>144800000.0</td>\n",
       "      <td>2.413333e+07</td>\n",
       "      <td>5000000.0</td>\n",
       "      <td>5000000.0</td>\n",
       "      <td>139800000.0</td>\n",
       "      <td>1.913333e+07</td>\n",
       "      <td>...</td>\n",
       "      <td>103554</td>\n",
       "      <td>103554.0</td>\n",
       "      <td>778299</td>\n",
       "      <td>43421.5</td>\n",
       "      <td>598</td>\n",
       "      <td>99.666667</td>\n",
       "      <td>108</td>\n",
       "      <td>108.0</td>\n",
       "      <td>490</td>\n",
       "      <td>8.333333</td>\n",
       "    </tr>\n",
       "    <tr>\n",
       "      <th>2</th>\n",
       "      <td>Joel Edgerton</td>\n",
       "      <td>Martin Landau</td>\n",
       "      <td>0</td>\n",
       "      <td>0</td>\n",
       "      <td>44000000.0</td>\n",
       "      <td>2.200000e+07</td>\n",
       "      <td>5000000.0</td>\n",
       "      <td>5000000.0</td>\n",
       "      <td>39000000.0</td>\n",
       "      <td>1.700000e+07</td>\n",
       "      <td>...</td>\n",
       "      <td>103554</td>\n",
       "      <td>103554.0</td>\n",
       "      <td>52877</td>\n",
       "      <td>78215.5</td>\n",
       "      <td>194</td>\n",
       "      <td>97.000000</td>\n",
       "      <td>108</td>\n",
       "      <td>108.0</td>\n",
       "      <td>86</td>\n",
       "      <td>11.000000</td>\n",
       "    </tr>\n",
       "    <tr>\n",
       "      <th>3</th>\n",
       "      <td>Joel Edgerton</td>\n",
       "      <td>Christopher McDonald</td>\n",
       "      <td>0</td>\n",
       "      <td>0</td>\n",
       "      <td>15000000.0</td>\n",
       "      <td>1.500000e+07</td>\n",
       "      <td>5000000.0</td>\n",
       "      <td>5000000.0</td>\n",
       "      <td>10000000.0</td>\n",
       "      <td>1.000000e+07</td>\n",
       "      <td>...</td>\n",
       "      <td>103554</td>\n",
       "      <td>103554.0</td>\n",
       "      <td>100158</td>\n",
       "      <td>100158.0</td>\n",
       "      <td>84</td>\n",
       "      <td>84.000000</td>\n",
       "      <td>108</td>\n",
       "      <td>108.0</td>\n",
       "      <td>24</td>\n",
       "      <td>24.000000</td>\n",
       "    </tr>\n",
       "    <tr>\n",
       "      <th>4</th>\n",
       "      <td>Joel Edgerton</td>\n",
       "      <td>Wagner Moura</td>\n",
       "      <td>0</td>\n",
       "      <td>0</td>\n",
       "      <td>4000000.0</td>\n",
       "      <td>2.000000e+06</td>\n",
       "      <td>5000000.0</td>\n",
       "      <td>5000000.0</td>\n",
       "      <td>1000000.0</td>\n",
       "      <td>3.000000e+06</td>\n",
       "      <td>...</td>\n",
       "      <td>103554</td>\n",
       "      <td>103554.0</td>\n",
       "      <td>53918</td>\n",
       "      <td>24818.0</td>\n",
       "      <td>230</td>\n",
       "      <td>115.000000</td>\n",
       "      <td>108</td>\n",
       "      <td>108.0</td>\n",
       "      <td>122</td>\n",
       "      <td>7.000000</td>\n",
       "    </tr>\n",
       "  </tbody>\n",
       "</table>\n",
       "<p>5 rows × 28 columns</p>\n",
       "</div>"
      ],
      "text/plain": [
       "        director                 actor  collabs  collab indicator  \\\n",
       "0  Joel Edgerton       Andrew Robinson        0                 0   \n",
       "1  Joel Edgerton          Miles Teller        0                 0   \n",
       "2  Joel Edgerton         Martin Landau        0                 0   \n",
       "3  Joel Edgerton  Christopher McDonald        0                 0   \n",
       "4  Joel Edgerton          Wagner Moura        0                 0   \n",
       "\n",
       "   actor_total_budget  actor_mean_budget  director_total_budget  \\\n",
       "0           1000000.0       1.000000e+06              5000000.0   \n",
       "1         144800000.0       2.413333e+07              5000000.0   \n",
       "2          44000000.0       2.200000e+07              5000000.0   \n",
       "3          15000000.0       1.500000e+07              5000000.0   \n",
       "4           4000000.0       2.000000e+06              5000000.0   \n",
       "\n",
       "   director_mean_budget  total_budget_diff  mean_budget_diff  ...  \\\n",
       "0             5000000.0          4000000.0      4.000000e+06  ...   \n",
       "1             5000000.0        139800000.0      1.913333e+07  ...   \n",
       "2             5000000.0         39000000.0      1.700000e+07  ...   \n",
       "3             5000000.0         10000000.0      1.000000e+07  ...   \n",
       "4             5000000.0          1000000.0      3.000000e+06  ...   \n",
       "\n",
       "   director_total_votes  director_mean_votes  total_votes_diff  \\\n",
       "0                103554             103554.0             20345   \n",
       "1                103554             103554.0            778299   \n",
       "2                103554             103554.0             52877   \n",
       "3                103554             103554.0            100158   \n",
       "4                103554             103554.0             53918   \n",
       "\n",
       "   mean_votes_diff  actor_total_runtime  actor_mean_runtime  \\\n",
       "0          20345.0                   94           94.000000   \n",
       "1          43421.5                  598           99.666667   \n",
       "2          78215.5                  194           97.000000   \n",
       "3         100158.0                   84           84.000000   \n",
       "4          24818.0                  230          115.000000   \n",
       "\n",
       "   director_total_runtime  director_mean_runtime  total_runtime_diff  \\\n",
       "0                     108                  108.0                  14   \n",
       "1                     108                  108.0                 490   \n",
       "2                     108                  108.0                  86   \n",
       "3                     108                  108.0                  24   \n",
       "4                     108                  108.0                 122   \n",
       "\n",
       "   mean_runtime_diff  \n",
       "0          14.000000  \n",
       "1           8.333333  \n",
       "2          11.000000  \n",
       "3          24.000000  \n",
       "4           7.000000  \n",
       "\n",
       "[5 rows x 28 columns]"
      ]
     },
     "execution_count": 35,
     "metadata": {},
     "output_type": "execute_result"
    }
   ],
   "source": [
    "actor_total_runtime = {}\n",
    "actor_mean_runtime = {}\n",
    "add_feature_actor(actor_total_runtime, actor_mean_runtime, 'runtime')\n",
    "df[\"actor_total_runtime\"] = df.actor.map(actor_total_runtime)\n",
    "df[\"actor_mean_runtime\"] = df.actor.map(actor_mean_runtime)\n",
    "\n",
    "director_total_runtime = {}\n",
    "director_mean_runtime = {}\n",
    "add_feature_director(director_total_runtime, director_mean_runtime, 'runtime')\n",
    "df[\"director_total_runtime\"] = df.director.map(director_total_runtime)\n",
    "df[\"director_mean_runtime\"] = df.director.map(director_mean_runtime)\n",
    "\n",
    "df[\"total_runtime_diff\"] = abs(df.director_total_runtime - df.actor_total_runtime)\n",
    "df[\"mean_runtime_diff\"] = abs(df.director_mean_runtime - df.actor_mean_runtime)\n",
    "df.head()"
   ]
  },
  {
   "cell_type": "code",
   "execution_count": 36,
   "metadata": {},
   "outputs": [
    {
     "data": {
      "text/plain": [
       "<matplotlib.legend.Legend at 0x161441a50>"
      ]
     },
     "execution_count": 36,
     "metadata": {},
     "output_type": "execute_result"
    },
    {
     "data": {
      "image/png": "[encoded data removed]",
      "text/plain": [
       "<Figure size 432x288 with 1 Axes>"
      ]
     },
     "metadata": {
      "needs_background": "light"
     },
     "output_type": "display_data"
    }
   ],
   "source": [
    "df_dropped = df.copy().dropna()\n",
    "bins = np.linspace(min(df_dropped.mean_runtime_diff.values), max(df_dropped.mean_runtime_diff.values), 50)\n",
    "plt.hist(df_dropped[df_dropped[\"collab indicator\"] == 1].mean_runtime_diff.values, density = True, bins = bins, label = \"1\", alpha = 0.5)\n",
    "plt.hist(df_dropped[df_dropped[\"collab indicator\"] == 0].mean_runtime_diff.values, density = True, bins = bins, label = \"0\", alpha = 0.5)\n",
    "plt.legend()"
   ]
  },
  {
   "cell_type": "code",
   "execution_count": 37,
   "metadata": {},
   "outputs": [
    {
     "name": "stdout",
     "output_type": "stream",
     "text": [
      "mean_runtime_diff variance in pairs w/ collab is  67.40045405463802\n",
      "mean_runtime_diff variance in pairs w/o collab is  277.32938658175084\n"
     ]
    },
    {
     "data": {
      "text/plain": [
       "Ttest_indResult(statistic=-73.4969690979844, pvalue=0.0)"
      ]
     },
     "execution_count": 37,
     "metadata": {},
     "output_type": "execute_result"
    }
   ],
   "source": [
    "print('mean_runtime_diff variance in pairs w/ collab is  {}'.format(np.var(df_dropped[df_dropped[\"collab indicator\"] == 1].mean_runtime_diff.values)))\n",
    "print('mean_runtime_diff variance in pairs w/o collab is  {}'.format(np.var(df_dropped[df_dropped[\"collab indicator\"] == 0].mean_runtime_diff.values)))\n",
    "ttest_ind(df_dropped[df_dropped[\"collab indicator\"] == 1].mean_runtime_diff.values, \n",
    "                      df_dropped[df_dropped[\"collab indicator\"] == 0].mean_runtime_diff.values, \n",
    "                      equal_var=False)"
   ]
  },
  {
   "cell_type": "code",
   "execution_count": 38,
   "metadata": {},
   "outputs": [
    {
     "data": {
      "text/plain": [
       "<matplotlib.legend.Legend at 0x1599a86d0>"
      ]
     },
     "execution_count": 38,
     "metadata": {},
     "output_type": "execute_result"
    },
    {
     "data": {
      "image/png": "[encoded data removed]",
      "text/plain": [
       "<Figure size 432x288 with 1 Axes>"
      ]
     },
     "metadata": {
      "needs_background": "light"
     },
     "output_type": "display_data"
    }
   ],
   "source": [
    "bins = np.linspace(min(df_dropped.total_runtime_diff.values), max(df_dropped.total_runtime_diff.values), 50)\n",
    "plt.hist(df_dropped[df_dropped[\"collab indicator\"] == 1].total_runtime_diff.values, density = True, bins = bins, label = \"1\", alpha = 0.5)\n",
    "plt.hist(df_dropped[df_dropped[\"collab indicator\"] == 0].total_runtime_diff.values, density = True, bins = bins, label = \"0\", alpha = 0.5)\n",
    "plt.legend()"
   ]
  },
  {
   "cell_type": "code",
   "execution_count": 39,
   "metadata": {},
   "outputs": [
    {
     "name": "stdout",
     "output_type": "stream",
     "text": [
      "total_runtime_diff variance in pairs w/ collab is  595748.240071503\n",
      "total_runtime_diff variance in pairs w/o collab is  216318.20321231606\n"
     ]
    },
    {
     "data": {
      "text/plain": [
       "Ttest_indResult(statistic=39.887490193490606, pvalue=0.0)"
      ]
     },
     "execution_count": 39,
     "metadata": {},
     "output_type": "execute_result"
    }
   ],
   "source": [
    "print('total_runtime_diff variance in pairs w/ collab is  {}'.format(np.var(df_dropped[df_dropped[\"collab indicator\"] == 1].total_runtime_diff.values)))\n",
    "print('total_runtime_diff variance in pairs w/o collab is  {}'.format(np.var(df_dropped[df_dropped[\"collab indicator\"] == 0].total_runtime_diff.values)))\n",
    "ttest_ind(df_dropped[df_dropped[\"collab indicator\"] == 1].total_runtime_diff.values, \n",
    "                      df_dropped[df_dropped[\"collab indicator\"] == 0].total_runtime_diff.values, \n",
    "                      equal_var=False)"
   ]
  },
  {
   "cell_type": "markdown",
   "metadata": {},
   "source": [
    "### oscar nomination"
   ]
  },
  {
   "cell_type": "code",
   "execution_count": 27,
   "metadata": {},
   "outputs": [
    {
     "data": {
      "text/html": [
       "<div>\n",
       "<style scoped>\n",
       "    .dataframe tbody tr th:only-of-type {\n",
       "        vertical-align: middle;\n",
       "    }\n",
       "\n",
       "    .dataframe tbody tr th {\n",
       "        vertical-align: top;\n",
       "    }\n",
       "\n",
       "    .dataframe thead th {\n",
       "        text-align: right;\n",
       "    }\n",
       "</style>\n",
       "<table border=\"1\" class=\"dataframe\">\n",
       "  <thead>\n",
       "    <tr style=\"text-align: right;\">\n",
       "      <th></th>\n",
       "      <th>year_film</th>\n",
       "      <th>year_ceremony</th>\n",
       "      <th>ceremony</th>\n",
       "      <th>category</th>\n",
       "      <th>name</th>\n",
       "      <th>film</th>\n",
       "      <th>winner</th>\n",
       "    </tr>\n",
       "  </thead>\n",
       "  <tbody>\n",
       "    <tr>\n",
       "      <th>0</th>\n",
       "      <td>1927</td>\n",
       "      <td>1928</td>\n",
       "      <td>1</td>\n",
       "      <td>ACTOR</td>\n",
       "      <td>Richard Barthelmess</td>\n",
       "      <td>The Noose</td>\n",
       "      <td>False</td>\n",
       "    </tr>\n",
       "    <tr>\n",
       "      <th>1</th>\n",
       "      <td>1927</td>\n",
       "      <td>1928</td>\n",
       "      <td>1</td>\n",
       "      <td>ACTOR</td>\n",
       "      <td>Emil Jannings</td>\n",
       "      <td>The Last Command</td>\n",
       "      <td>True</td>\n",
       "    </tr>\n",
       "    <tr>\n",
       "      <th>2</th>\n",
       "      <td>1927</td>\n",
       "      <td>1928</td>\n",
       "      <td>1</td>\n",
       "      <td>ACTRESS</td>\n",
       "      <td>Louise Dresser</td>\n",
       "      <td>A Ship Comes In</td>\n",
       "      <td>False</td>\n",
       "    </tr>\n",
       "    <tr>\n",
       "      <th>3</th>\n",
       "      <td>1927</td>\n",
       "      <td>1928</td>\n",
       "      <td>1</td>\n",
       "      <td>ACTRESS</td>\n",
       "      <td>Janet Gaynor</td>\n",
       "      <td>7th Heaven</td>\n",
       "      <td>True</td>\n",
       "    </tr>\n",
       "    <tr>\n",
       "      <th>4</th>\n",
       "      <td>1927</td>\n",
       "      <td>1928</td>\n",
       "      <td>1</td>\n",
       "      <td>ACTRESS</td>\n",
       "      <td>Gloria Swanson</td>\n",
       "      <td>Sadie Thompson</td>\n",
       "      <td>False</td>\n",
       "    </tr>\n",
       "  </tbody>\n",
       "</table>\n",
       "</div>"
      ],
      "text/plain": [
       "   year_film  year_ceremony  ceremony category                 name  \\\n",
       "0       1927           1928         1    ACTOR  Richard Barthelmess   \n",
       "1       1927           1928         1    ACTOR        Emil Jannings   \n",
       "2       1927           1928         1  ACTRESS       Louise Dresser   \n",
       "3       1927           1928         1  ACTRESS         Janet Gaynor   \n",
       "4       1927           1928         1  ACTRESS       Gloria Swanson   \n",
       "\n",
       "               film  winner  \n",
       "0         The Noose   False  \n",
       "1  The Last Command    True  \n",
       "2   A Ship Comes In   False  \n",
       "3        7th Heaven    True  \n",
       "4    Sadie Thompson   False  "
      ]
     },
     "execution_count": 27,
     "metadata": {},
     "output_type": "execute_result"
    }
   ],
   "source": [
    "oscar = pd.read_csv(\"../data/the_oscar_award.csv\")\n",
    "oscar.head()"
   ]
  },
  {
   "cell_type": "code",
   "execution_count": 28,
   "metadata": {},
   "outputs": [
    {
     "name": "stderr",
     "output_type": "stream",
     "text": [
      "/opt/miniconda3/lib/python3.7/site-packages/pandas/core/strings.py:2001: UserWarning: This pattern has match groups. To actually get the groups, use str.extract.\n",
      "  return func(self, *args, **kwargs)\n"
     ]
    },
    {
     "data": {
      "text/html": [
       "<div>\n",
       "<style scoped>\n",
       "    .dataframe tbody tr th:only-of-type {\n",
       "        vertical-align: middle;\n",
       "    }\n",
       "\n",
       "    .dataframe tbody tr th {\n",
       "        vertical-align: top;\n",
       "    }\n",
       "\n",
       "    .dataframe thead th {\n",
       "        text-align: right;\n",
       "    }\n",
       "</style>\n",
       "<table border=\"1\" class=\"dataframe\">\n",
       "  <thead>\n",
       "    <tr style=\"text-align: right;\">\n",
       "      <th></th>\n",
       "      <th>year_film</th>\n",
       "      <th>year_ceremony</th>\n",
       "      <th>ceremony</th>\n",
       "      <th>category</th>\n",
       "      <th>name</th>\n",
       "      <th>film</th>\n",
       "      <th>winner</th>\n",
       "    </tr>\n",
       "  </thead>\n",
       "  <tbody>\n",
       "    <tr>\n",
       "      <th>0</th>\n",
       "      <td>1927</td>\n",
       "      <td>1928</td>\n",
       "      <td>1</td>\n",
       "      <td>actor</td>\n",
       "      <td>Richard Barthelmess</td>\n",
       "      <td>The Noose</td>\n",
       "      <td>False</td>\n",
       "    </tr>\n",
       "    <tr>\n",
       "      <th>1</th>\n",
       "      <td>1927</td>\n",
       "      <td>1928</td>\n",
       "      <td>1</td>\n",
       "      <td>actor</td>\n",
       "      <td>Emil Jannings</td>\n",
       "      <td>The Last Command</td>\n",
       "      <td>True</td>\n",
       "    </tr>\n",
       "    <tr>\n",
       "      <th>2</th>\n",
       "      <td>1927</td>\n",
       "      <td>1928</td>\n",
       "      <td>1</td>\n",
       "      <td>actress</td>\n",
       "      <td>Louise Dresser</td>\n",
       "      <td>A Ship Comes In</td>\n",
       "      <td>False</td>\n",
       "    </tr>\n",
       "    <tr>\n",
       "      <th>3</th>\n",
       "      <td>1927</td>\n",
       "      <td>1928</td>\n",
       "      <td>1</td>\n",
       "      <td>actress</td>\n",
       "      <td>Janet Gaynor</td>\n",
       "      <td>7th Heaven</td>\n",
       "      <td>True</td>\n",
       "    </tr>\n",
       "    <tr>\n",
       "      <th>4</th>\n",
       "      <td>1927</td>\n",
       "      <td>1928</td>\n",
       "      <td>1</td>\n",
       "      <td>actress</td>\n",
       "      <td>Gloria Swanson</td>\n",
       "      <td>Sadie Thompson</td>\n",
       "      <td>False</td>\n",
       "    </tr>\n",
       "    <tr>\n",
       "      <th>...</th>\n",
       "      <td>...</td>\n",
       "      <td>...</td>\n",
       "      <td>...</td>\n",
       "      <td>...</td>\n",
       "      <td>...</td>\n",
       "      <td>...</td>\n",
       "      <td>...</td>\n",
       "    </tr>\n",
       "    <tr>\n",
       "      <th>10302</th>\n",
       "      <td>2019</td>\n",
       "      <td>2020</td>\n",
       "      <td>92</td>\n",
       "      <td>directing</td>\n",
       "      <td>Martin Scorsese</td>\n",
       "      <td>The Irishman</td>\n",
       "      <td>False</td>\n",
       "    </tr>\n",
       "    <tr>\n",
       "      <th>10303</th>\n",
       "      <td>2019</td>\n",
       "      <td>2020</td>\n",
       "      <td>92</td>\n",
       "      <td>directing</td>\n",
       "      <td>Todd Phillips</td>\n",
       "      <td>Joker</td>\n",
       "      <td>False</td>\n",
       "    </tr>\n",
       "    <tr>\n",
       "      <th>10304</th>\n",
       "      <td>2019</td>\n",
       "      <td>2020</td>\n",
       "      <td>92</td>\n",
       "      <td>directing</td>\n",
       "      <td>Sam Mendes</td>\n",
       "      <td>1917</td>\n",
       "      <td>False</td>\n",
       "    </tr>\n",
       "    <tr>\n",
       "      <th>10305</th>\n",
       "      <td>2019</td>\n",
       "      <td>2020</td>\n",
       "      <td>92</td>\n",
       "      <td>directing</td>\n",
       "      <td>Quentin Tarantino</td>\n",
       "      <td>Once upon a Time...in Hollywood</td>\n",
       "      <td>False</td>\n",
       "    </tr>\n",
       "    <tr>\n",
       "      <th>10306</th>\n",
       "      <td>2019</td>\n",
       "      <td>2020</td>\n",
       "      <td>92</td>\n",
       "      <td>directing</td>\n",
       "      <td>Bong Joon Ho</td>\n",
       "      <td>Parasite</td>\n",
       "      <td>True</td>\n",
       "    </tr>\n",
       "  </tbody>\n",
       "</table>\n",
       "<p>2202 rows × 7 columns</p>\n",
       "</div>"
      ],
      "text/plain": [
       "       year_film  year_ceremony  ceremony   category                 name  \\\n",
       "0           1927           1928         1      actor  Richard Barthelmess   \n",
       "1           1927           1928         1      actor        Emil Jannings   \n",
       "2           1927           1928         1    actress       Louise Dresser   \n",
       "3           1927           1928         1    actress         Janet Gaynor   \n",
       "4           1927           1928         1    actress       Gloria Swanson   \n",
       "...          ...            ...       ...        ...                  ...   \n",
       "10302       2019           2020        92  directing      Martin Scorsese   \n",
       "10303       2019           2020        92  directing        Todd Phillips   \n",
       "10304       2019           2020        92  directing           Sam Mendes   \n",
       "10305       2019           2020        92  directing    Quentin Tarantino   \n",
       "10306       2019           2020        92  directing         Bong Joon Ho   \n",
       "\n",
       "                                  film  winner  \n",
       "0                            The Noose   False  \n",
       "1                     The Last Command    True  \n",
       "2                      A Ship Comes In   False  \n",
       "3                           7th Heaven    True  \n",
       "4                       Sadie Thompson   False  \n",
       "...                                ...     ...  \n",
       "10302                     The Irishman   False  \n",
       "10303                            Joker   False  \n",
       "10304                             1917   False  \n",
       "10305  Once upon a Time...in Hollywood   False  \n",
       "10306                         Parasite    True  \n",
       "\n",
       "[2202 rows x 7 columns]"
      ]
     },
     "execution_count": 28,
     "metadata": {},
     "output_type": "execute_result"
    }
   ],
   "source": [
    "oscar.category = oscar.category.str.lower()\n",
    "filtered = oscar[oscar.category.str.contains(\"(actor)|(actress)|(directing)\", regex = True)]\n",
    "filtered"
   ]
  },
  {
   "cell_type": "code",
   "execution_count": 29,
   "metadata": {},
   "outputs": [
    {
     "name": "stderr",
     "output_type": "stream",
     "text": [
      "/opt/miniconda3/lib/python3.7/site-packages/pandas/core/strings.py:2001: UserWarning: This pattern has match groups. To actually get the groups, use str.extract.\n",
      "  return func(self, *args, **kwargs)\n",
      "/opt/miniconda3/lib/python3.7/site-packages/pandas/core/indexing.py:1596: SettingWithCopyWarning: \n",
      "A value is trying to be set on a copy of a slice from a DataFrame.\n",
      "Try using .loc[row_indexer,col_indexer] = value instead\n",
      "\n",
      "See the caveats in the documentation: https://pandas.pydata.org/pandas-docs/stable/user_guide/indexing.html#returning-a-view-versus-a-copy\n",
      "  self.obj[key] = _infer_fill_value(value)\n",
      "/opt/miniconda3/lib/python3.7/site-packages/pandas/core/indexing.py:1765: SettingWithCopyWarning: \n",
      "A value is trying to be set on a copy of a slice from a DataFrame.\n",
      "Try using .loc[row_indexer,col_indexer] = value instead\n",
      "\n",
      "See the caveats in the documentation: https://pandas.pydata.org/pandas-docs/stable/user_guide/indexing.html#returning-a-view-versus-a-copy\n",
      "  isetter(loc, value)\n"
     ]
    }
   ],
   "source": [
    "filtered.loc[filtered.category.str.contains(\"(actor)|(actress)\"), 'is_director'] = 0\n",
    "filtered.loc[filtered.category.str.contains(\"directing\"), 'is_director'] = 1"
   ]
  },
  {
   "cell_type": "code",
   "execution_count": 30,
   "metadata": {},
   "outputs": [
    {
     "name": "stderr",
     "output_type": "stream",
     "text": [
      "/opt/miniconda3/lib/python3.7/site-packages/pandas/core/generic.py:5165: SettingWithCopyWarning: \n",
      "A value is trying to be set on a copy of a slice from a DataFrame.\n",
      "Try using .loc[row_indexer,col_indexer] = value instead\n",
      "\n",
      "See the caveats in the documentation: https://pandas.pydata.org/pandas-docs/stable/user_guide/indexing.html#returning-a-view-versus-a-copy\n",
      "  self[name] = value\n"
     ]
    },
    {
     "data": {
      "text/html": [
       "<div>\n",
       "<style scoped>\n",
       "    .dataframe tbody tr th:only-of-type {\n",
       "        vertical-align: middle;\n",
       "    }\n",
       "\n",
       "    .dataframe tbody tr th {\n",
       "        vertical-align: top;\n",
       "    }\n",
       "\n",
       "    .dataframe thead th {\n",
       "        text-align: right;\n",
       "    }\n",
       "</style>\n",
       "<table border=\"1\" class=\"dataframe\">\n",
       "  <thead>\n",
       "    <tr style=\"text-align: right;\">\n",
       "      <th></th>\n",
       "      <th>year_film</th>\n",
       "      <th>year_ceremony</th>\n",
       "      <th>ceremony</th>\n",
       "      <th>category</th>\n",
       "      <th>name</th>\n",
       "      <th>film</th>\n",
       "      <th>winner</th>\n",
       "      <th>is_director</th>\n",
       "    </tr>\n",
       "  </thead>\n",
       "  <tbody>\n",
       "    <tr>\n",
       "      <th>0</th>\n",
       "      <td>1927</td>\n",
       "      <td>1928</td>\n",
       "      <td>1</td>\n",
       "      <td>actor</td>\n",
       "      <td>Richard Barthelmess</td>\n",
       "      <td>The Noose</td>\n",
       "      <td>False</td>\n",
       "      <td>0</td>\n",
       "    </tr>\n",
       "    <tr>\n",
       "      <th>1</th>\n",
       "      <td>1927</td>\n",
       "      <td>1928</td>\n",
       "      <td>1</td>\n",
       "      <td>actor</td>\n",
       "      <td>Emil Jannings</td>\n",
       "      <td>The Last Command</td>\n",
       "      <td>True</td>\n",
       "      <td>0</td>\n",
       "    </tr>\n",
       "    <tr>\n",
       "      <th>2</th>\n",
       "      <td>1927</td>\n",
       "      <td>1928</td>\n",
       "      <td>1</td>\n",
       "      <td>actress</td>\n",
       "      <td>Louise Dresser</td>\n",
       "      <td>A Ship Comes In</td>\n",
       "      <td>False</td>\n",
       "      <td>0</td>\n",
       "    </tr>\n",
       "    <tr>\n",
       "      <th>3</th>\n",
       "      <td>1927</td>\n",
       "      <td>1928</td>\n",
       "      <td>1</td>\n",
       "      <td>actress</td>\n",
       "      <td>Janet Gaynor</td>\n",
       "      <td>7th Heaven</td>\n",
       "      <td>True</td>\n",
       "      <td>0</td>\n",
       "    </tr>\n",
       "    <tr>\n",
       "      <th>4</th>\n",
       "      <td>1927</td>\n",
       "      <td>1928</td>\n",
       "      <td>1</td>\n",
       "      <td>actress</td>\n",
       "      <td>Gloria Swanson</td>\n",
       "      <td>Sadie Thompson</td>\n",
       "      <td>False</td>\n",
       "      <td>0</td>\n",
       "    </tr>\n",
       "  </tbody>\n",
       "</table>\n",
       "</div>"
      ],
      "text/plain": [
       "   year_film  year_ceremony  ceremony category                 name  \\\n",
       "0       1927           1928         1    actor  Richard Barthelmess   \n",
       "1       1927           1928         1    actor        Emil Jannings   \n",
       "2       1927           1928         1  actress       Louise Dresser   \n",
       "3       1927           1928         1  actress         Janet Gaynor   \n",
       "4       1927           1928         1  actress       Gloria Swanson   \n",
       "\n",
       "               film  winner  is_director  \n",
       "0         The Noose   False            0  \n",
       "1  The Last Command    True            0  \n",
       "2   A Ship Comes In   False            0  \n",
       "3        7th Heaven    True            0  \n",
       "4    Sadie Thompson   False            0  "
      ]
     },
     "execution_count": 30,
     "metadata": {},
     "output_type": "execute_result"
    }
   ],
   "source": [
    "oscar_ppl = filtered[~filtered.name.str.contains(\"( and)|(,)|(and )\", regex = True)]\n",
    "oscar_ppl.is_director = oscar_ppl.is_director.astype(np.uint8)\n",
    "oscar_ppl.head()\n"
   ]
  },
  {
   "cell_type": "code",
   "execution_count": 31,
   "metadata": {},
   "outputs": [
    {
     "data": {
      "text/html": [
       "<div>\n",
       "<style scoped>\n",
       "    .dataframe tbody tr th:only-of-type {\n",
       "        vertical-align: middle;\n",
       "    }\n",
       "\n",
       "    .dataframe tbody tr th {\n",
       "        vertical-align: top;\n",
       "    }\n",
       "\n",
       "    .dataframe thead th {\n",
       "        text-align: right;\n",
       "    }\n",
       "</style>\n",
       "<table border=\"1\" class=\"dataframe\">\n",
       "  <thead>\n",
       "    <tr style=\"text-align: right;\">\n",
       "      <th></th>\n",
       "      <th>name</th>\n",
       "      <th>is_director</th>\n",
       "      <th>nomination_counts</th>\n",
       "    </tr>\n",
       "  </thead>\n",
       "  <tbody>\n",
       "    <tr>\n",
       "      <th>2</th>\n",
       "      <td>Adam McKay</td>\n",
       "      <td>1</td>\n",
       "      <td>2</td>\n",
       "    </tr>\n",
       "    <tr>\n",
       "      <th>5</th>\n",
       "      <td>Adrian Lyne</td>\n",
       "      <td>1</td>\n",
       "      <td>1</td>\n",
       "    </tr>\n",
       "    <tr>\n",
       "      <th>10</th>\n",
       "      <td>Akira Kurosawa</td>\n",
       "      <td>1</td>\n",
       "      <td>1</td>\n",
       "    </tr>\n",
       "    <tr>\n",
       "      <th>15</th>\n",
       "      <td>Alan J. Pakula</td>\n",
       "      <td>1</td>\n",
       "      <td>1</td>\n",
       "    </tr>\n",
       "    <tr>\n",
       "      <th>16</th>\n",
       "      <td>Alan Parker</td>\n",
       "      <td>1</td>\n",
       "      <td>2</td>\n",
       "    </tr>\n",
       "  </tbody>\n",
       "</table>\n",
       "</div>"
      ],
      "text/plain": [
       "              name  is_director  nomination_counts\n",
       "2       Adam McKay            1                  2\n",
       "5      Adrian Lyne            1                  1\n",
       "10  Akira Kurosawa            1                  1\n",
       "15  Alan J. Pakula            1                  1\n",
       "16     Alan Parker            1                  2"
      ]
     },
     "execution_count": 31,
     "metadata": {},
     "output_type": "execute_result"
    }
   ],
   "source": [
    "gp_ppl = oscar_ppl.groupby(['name', 'is_director']).size().reset_index(name='nomination_counts')\n",
    "gp_ppl_director = gp_ppl.groupby(['is_director']).get_group(1)\n",
    "gp_ppl_actor = gp_ppl.groupby(['is_director']).get_group(0)\n",
    "gp_ppl_director.head()"
   ]
  },
  {
   "cell_type": "code",
   "execution_count": 32,
   "metadata": {},
   "outputs": [
    {
     "data": {
      "text/html": [
       "<div>\n",
       "<style scoped>\n",
       "    .dataframe tbody tr th:only-of-type {\n",
       "        vertical-align: middle;\n",
       "    }\n",
       "\n",
       "    .dataframe tbody tr th {\n",
       "        vertical-align: top;\n",
       "    }\n",
       "\n",
       "    .dataframe thead th {\n",
       "        text-align: right;\n",
       "    }\n",
       "</style>\n",
       "<table border=\"1\" class=\"dataframe\">\n",
       "  <thead>\n",
       "    <tr style=\"text-align: right;\">\n",
       "      <th></th>\n",
       "      <th>name</th>\n",
       "      <th>is_director</th>\n",
       "      <th>nomination_counts</th>\n",
       "    </tr>\n",
       "  </thead>\n",
       "  <tbody>\n",
       "    <tr>\n",
       "      <th>0</th>\n",
       "      <td>Abigail Breslin</td>\n",
       "      <td>0</td>\n",
       "      <td>1</td>\n",
       "    </tr>\n",
       "    <tr>\n",
       "      <th>1</th>\n",
       "      <td>Adam Driver</td>\n",
       "      <td>0</td>\n",
       "      <td>2</td>\n",
       "    </tr>\n",
       "    <tr>\n",
       "      <th>3</th>\n",
       "      <td>Adolph Caesar</td>\n",
       "      <td>0</td>\n",
       "      <td>1</td>\n",
       "    </tr>\n",
       "    <tr>\n",
       "      <th>4</th>\n",
       "      <td>Adolphe Menjou</td>\n",
       "      <td>0</td>\n",
       "      <td>1</td>\n",
       "    </tr>\n",
       "    <tr>\n",
       "      <th>6</th>\n",
       "      <td>Adriana Barraza</td>\n",
       "      <td>0</td>\n",
       "      <td>1</td>\n",
       "    </tr>\n",
       "  </tbody>\n",
       "</table>\n",
       "</div>"
      ],
      "text/plain": [
       "              name  is_director  nomination_counts\n",
       "0  Abigail Breslin            0                  1\n",
       "1      Adam Driver            0                  2\n",
       "3    Adolph Caesar            0                  1\n",
       "4   Adolphe Menjou            0                  1\n",
       "6  Adriana Barraza            0                  1"
      ]
     },
     "execution_count": 32,
     "metadata": {},
     "output_type": "execute_result"
    }
   ],
   "source": [
    "gp_ppl_actor.head()"
   ]
  },
  {
   "cell_type": "code",
   "execution_count": 33,
   "metadata": {},
   "outputs": [
    {
     "data": {
      "text/html": [
       "<div>\n",
       "<style scoped>\n",
       "    .dataframe tbody tr th:only-of-type {\n",
       "        vertical-align: middle;\n",
       "    }\n",
       "\n",
       "    .dataframe tbody tr th {\n",
       "        vertical-align: top;\n",
       "    }\n",
       "\n",
       "    .dataframe thead th {\n",
       "        text-align: right;\n",
       "    }\n",
       "</style>\n",
       "<table border=\"1\" class=\"dataframe\">\n",
       "  <thead>\n",
       "    <tr style=\"text-align: right;\">\n",
       "      <th></th>\n",
       "      <th>director</th>\n",
       "      <th>actor</th>\n",
       "      <th>collabs</th>\n",
       "      <th>collab indicator</th>\n",
       "      <th>genre_tvd</th>\n",
       "      <th>actor_total_budget</th>\n",
       "      <th>actor_mean_budget</th>\n",
       "      <th>director_total_budget</th>\n",
       "      <th>director_mean_budget</th>\n",
       "      <th>total_budget_diff</th>\n",
       "      <th>...</th>\n",
       "      <th>total_score_diff</th>\n",
       "      <th>mean_score_diff</th>\n",
       "      <th>actor_total_votes</th>\n",
       "      <th>actor_mean_votes</th>\n",
       "      <th>director_total_votes</th>\n",
       "      <th>director_mean_votes</th>\n",
       "      <th>total_votes_diff</th>\n",
       "      <th>mean_votes_diff</th>\n",
       "      <th>director_nominations</th>\n",
       "      <th>actor_nominations</th>\n",
       "    </tr>\n",
       "  </thead>\n",
       "  <tbody>\n",
       "    <tr>\n",
       "      <th>0</th>\n",
       "      <td>Ron Howard</td>\n",
       "      <td>Julia Roberts</td>\n",
       "      <td>0</td>\n",
       "      <td>0</td>\n",
       "      <td>0.633333</td>\n",
       "      <td>614000000.0</td>\n",
       "      <td>4.093333e+07</td>\n",
       "      <td>1.349000e+09</td>\n",
       "      <td>6.745000e+07</td>\n",
       "      <td>735000000.0</td>\n",
       "      <td>...</td>\n",
       "      <td>46.3</td>\n",
       "      <td>0.806667</td>\n",
       "      <td>860399</td>\n",
       "      <td>57359.933333</td>\n",
       "      <td>2918742</td>\n",
       "      <td>145937.10</td>\n",
       "      <td>2058343</td>\n",
       "      <td>88577.166667</td>\n",
       "      <td>2</td>\n",
       "      <td>4</td>\n",
       "    </tr>\n",
       "    <tr>\n",
       "      <th>1</th>\n",
       "      <td>Bernardo Bertolucci</td>\n",
       "      <td>Julia Roberts</td>\n",
       "      <td>0</td>\n",
       "      <td>0</td>\n",
       "      <td>0.600000</td>\n",
       "      <td>614000000.0</td>\n",
       "      <td>4.093333e+07</td>\n",
       "      <td>9.300000e+07</td>\n",
       "      <td>1.860000e+07</td>\n",
       "      <td>521000000.0</td>\n",
       "      <td>...</td>\n",
       "      <td>56.1</td>\n",
       "      <td>0.846667</td>\n",
       "      <td>860399</td>\n",
       "      <td>57359.933333</td>\n",
       "      <td>210399</td>\n",
       "      <td>42079.80</td>\n",
       "      <td>650000</td>\n",
       "      <td>15280.133333</td>\n",
       "      <td>2</td>\n",
       "      <td>4</td>\n",
       "    </tr>\n",
       "    <tr>\n",
       "      <th>2</th>\n",
       "      <td>David Fincher</td>\n",
       "      <td>Julia Roberts</td>\n",
       "      <td>0</td>\n",
       "      <td>0</td>\n",
       "      <td>0.566667</td>\n",
       "      <td>614000000.0</td>\n",
       "      <td>4.093333e+07</td>\n",
       "      <td>6.500000e+08</td>\n",
       "      <td>6.500000e+07</td>\n",
       "      <td>36000000.0</td>\n",
       "      <td>...</td>\n",
       "      <td>13.0</td>\n",
       "      <td>1.716667</td>\n",
       "      <td>860399</td>\n",
       "      <td>57359.933333</td>\n",
       "      <td>5741579</td>\n",
       "      <td>574157.90</td>\n",
       "      <td>4881180</td>\n",
       "      <td>516797.966667</td>\n",
       "      <td>2</td>\n",
       "      <td>4</td>\n",
       "    </tr>\n",
       "    <tr>\n",
       "      <th>3</th>\n",
       "      <td>Kenneth Branagh</td>\n",
       "      <td>Julia Roberts</td>\n",
       "      <td>0</td>\n",
       "      <td>0</td>\n",
       "      <td>0.350000</td>\n",
       "      <td>614000000.0</td>\n",
       "      <td>4.093333e+07</td>\n",
       "      <td>4.210000e+08</td>\n",
       "      <td>3.508333e+07</td>\n",
       "      <td>193000000.0</td>\n",
       "      <td>...</td>\n",
       "      <td>7.1</td>\n",
       "      <td>0.916667</td>\n",
       "      <td>860399</td>\n",
       "      <td>57359.933333</td>\n",
       "      <td>1019079</td>\n",
       "      <td>84923.25</td>\n",
       "      <td>158680</td>\n",
       "      <td>27563.316667</td>\n",
       "      <td>1</td>\n",
       "      <td>4</td>\n",
       "    </tr>\n",
       "    <tr>\n",
       "      <th>4</th>\n",
       "      <td>Fernando Meirelles</td>\n",
       "      <td>Julia Roberts</td>\n",
       "      <td>0</td>\n",
       "      <td>0</td>\n",
       "      <td>0.600000</td>\n",
       "      <td>614000000.0</td>\n",
       "      <td>4.093333e+07</td>\n",
       "      <td>2.830000e+07</td>\n",
       "      <td>7.075000e+06</td>\n",
       "      <td>585700000.0</td>\n",
       "      <td>...</td>\n",
       "      <td>61.5</td>\n",
       "      <td>1.216667</td>\n",
       "      <td>860399</td>\n",
       "      <td>57359.933333</td>\n",
       "      <td>774468</td>\n",
       "      <td>193617.00</td>\n",
       "      <td>85931</td>\n",
       "      <td>136257.066667</td>\n",
       "      <td>1</td>\n",
       "      <td>4</td>\n",
       "    </tr>\n",
       "  </tbody>\n",
       "</table>\n",
       "<p>5 rows × 25 columns</p>\n",
       "</div>"
      ],
      "text/plain": [
       "              director          actor  collabs  collab indicator  genre_tvd  \\\n",
       "0           Ron Howard  Julia Roberts        0                 0   0.633333   \n",
       "1  Bernardo Bertolucci  Julia Roberts        0                 0   0.600000   \n",
       "2        David Fincher  Julia Roberts        0                 0   0.566667   \n",
       "3      Kenneth Branagh  Julia Roberts        0                 0   0.350000   \n",
       "4   Fernando Meirelles  Julia Roberts        0                 0   0.600000   \n",
       "\n",
       "   actor_total_budget  actor_mean_budget  director_total_budget  \\\n",
       "0         614000000.0       4.093333e+07           1.349000e+09   \n",
       "1         614000000.0       4.093333e+07           9.300000e+07   \n",
       "2         614000000.0       4.093333e+07           6.500000e+08   \n",
       "3         614000000.0       4.093333e+07           4.210000e+08   \n",
       "4         614000000.0       4.093333e+07           2.830000e+07   \n",
       "\n",
       "   director_mean_budget  total_budget_diff  ...  total_score_diff  \\\n",
       "0          6.745000e+07        735000000.0  ...              46.3   \n",
       "1          1.860000e+07        521000000.0  ...              56.1   \n",
       "2          6.500000e+07         36000000.0  ...              13.0   \n",
       "3          3.508333e+07        193000000.0  ...               7.1   \n",
       "4          7.075000e+06        585700000.0  ...              61.5   \n",
       "\n",
       "   mean_score_diff  actor_total_votes  actor_mean_votes  director_total_votes  \\\n",
       "0         0.806667             860399      57359.933333               2918742   \n",
       "1         0.846667             860399      57359.933333                210399   \n",
       "2         1.716667             860399      57359.933333               5741579   \n",
       "3         0.916667             860399      57359.933333               1019079   \n",
       "4         1.216667             860399      57359.933333                774468   \n",
       "\n",
       "   director_mean_votes  total_votes_diff  mean_votes_diff  \\\n",
       "0            145937.10           2058343     88577.166667   \n",
       "1             42079.80            650000     15280.133333   \n",
       "2            574157.90           4881180    516797.966667   \n",
       "3             84923.25            158680     27563.316667   \n",
       "4            193617.00             85931    136257.066667   \n",
       "\n",
       "   director_nominations  actor_nominations  \n",
       "0                     2                  4  \n",
       "1                     2                  4  \n",
       "2                     2                  4  \n",
       "3                     1                  4  \n",
       "4                     1                  4  \n",
       "\n",
       "[5 rows x 25 columns]"
      ]
     },
     "execution_count": 33,
     "metadata": {},
     "output_type": "execute_result"
    }
   ],
   "source": [
    "df_w_oscar= pd.merge(df, gp_ppl_director, left_on='director', right_on='name')\n",
    "df_w_oscar= pd.merge(df_w_oscar, gp_ppl_actor, left_on='actor', right_on='name')\n",
    "df_w_oscar.drop(['name_x', 'is_director_x', 'name_y', 'is_director_y'], axis=1, inplace=True)\n",
    "df_w_oscar.rename(columns={'nomination_counts_x': 'director_nominations', 'nomination_counts_y': 'actor_nominations'}, inplace=True)\n",
    "df_w_oscar.head()"
   ]
  },
  {
   "cell_type": "code",
   "execution_count": 34,
   "metadata": {},
   "outputs": [
    {
     "data": {
      "text/html": [
       "<div>\n",
       "<style scoped>\n",
       "    .dataframe tbody tr th:only-of-type {\n",
       "        vertical-align: middle;\n",
       "    }\n",
       "\n",
       "    .dataframe tbody tr th {\n",
       "        vertical-align: top;\n",
       "    }\n",
       "\n",
       "    .dataframe thead th {\n",
       "        text-align: right;\n",
       "    }\n",
       "</style>\n",
       "<table border=\"1\" class=\"dataframe\">\n",
       "  <thead>\n",
       "    <tr style=\"text-align: right;\">\n",
       "      <th></th>\n",
       "      <th>director</th>\n",
       "      <th>actor</th>\n",
       "      <th>collabs</th>\n",
       "      <th>collab indicator</th>\n",
       "      <th>genre_tvd</th>\n",
       "      <th>actor_total_budget</th>\n",
       "      <th>actor_mean_budget</th>\n",
       "      <th>director_total_budget</th>\n",
       "      <th>director_mean_budget</th>\n",
       "      <th>total_budget_diff</th>\n",
       "      <th>...</th>\n",
       "      <th>mean_score_diff</th>\n",
       "      <th>actor_total_votes</th>\n",
       "      <th>actor_mean_votes</th>\n",
       "      <th>director_total_votes</th>\n",
       "      <th>director_mean_votes</th>\n",
       "      <th>total_votes_diff</th>\n",
       "      <th>mean_votes_diff</th>\n",
       "      <th>director_nominations</th>\n",
       "      <th>actor_nominations</th>\n",
       "      <th>nominations_diff</th>\n",
       "    </tr>\n",
       "  </thead>\n",
       "  <tbody>\n",
       "    <tr>\n",
       "      <th>0</th>\n",
       "      <td>Ron Howard</td>\n",
       "      <td>Julia Roberts</td>\n",
       "      <td>0</td>\n",
       "      <td>0</td>\n",
       "      <td>0.633333</td>\n",
       "      <td>614000000.0</td>\n",
       "      <td>4.093333e+07</td>\n",
       "      <td>1.349000e+09</td>\n",
       "      <td>6.745000e+07</td>\n",
       "      <td>735000000.0</td>\n",
       "      <td>...</td>\n",
       "      <td>0.806667</td>\n",
       "      <td>860399</td>\n",
       "      <td>57359.933333</td>\n",
       "      <td>2918742</td>\n",
       "      <td>145937.10</td>\n",
       "      <td>2058343</td>\n",
       "      <td>88577.166667</td>\n",
       "      <td>2</td>\n",
       "      <td>4</td>\n",
       "      <td>-2</td>\n",
       "    </tr>\n",
       "    <tr>\n",
       "      <th>1</th>\n",
       "      <td>Bernardo Bertolucci</td>\n",
       "      <td>Julia Roberts</td>\n",
       "      <td>0</td>\n",
       "      <td>0</td>\n",
       "      <td>0.600000</td>\n",
       "      <td>614000000.0</td>\n",
       "      <td>4.093333e+07</td>\n",
       "      <td>9.300000e+07</td>\n",
       "      <td>1.860000e+07</td>\n",
       "      <td>521000000.0</td>\n",
       "      <td>...</td>\n",
       "      <td>0.846667</td>\n",
       "      <td>860399</td>\n",
       "      <td>57359.933333</td>\n",
       "      <td>210399</td>\n",
       "      <td>42079.80</td>\n",
       "      <td>650000</td>\n",
       "      <td>15280.133333</td>\n",
       "      <td>2</td>\n",
       "      <td>4</td>\n",
       "      <td>-2</td>\n",
       "    </tr>\n",
       "    <tr>\n",
       "      <th>2</th>\n",
       "      <td>David Fincher</td>\n",
       "      <td>Julia Roberts</td>\n",
       "      <td>0</td>\n",
       "      <td>0</td>\n",
       "      <td>0.566667</td>\n",
       "      <td>614000000.0</td>\n",
       "      <td>4.093333e+07</td>\n",
       "      <td>6.500000e+08</td>\n",
       "      <td>6.500000e+07</td>\n",
       "      <td>36000000.0</td>\n",
       "      <td>...</td>\n",
       "      <td>1.716667</td>\n",
       "      <td>860399</td>\n",
       "      <td>57359.933333</td>\n",
       "      <td>5741579</td>\n",
       "      <td>574157.90</td>\n",
       "      <td>4881180</td>\n",
       "      <td>516797.966667</td>\n",
       "      <td>2</td>\n",
       "      <td>4</td>\n",
       "      <td>-2</td>\n",
       "    </tr>\n",
       "    <tr>\n",
       "      <th>3</th>\n",
       "      <td>Kenneth Branagh</td>\n",
       "      <td>Julia Roberts</td>\n",
       "      <td>0</td>\n",
       "      <td>0</td>\n",
       "      <td>0.350000</td>\n",
       "      <td>614000000.0</td>\n",
       "      <td>4.093333e+07</td>\n",
       "      <td>4.210000e+08</td>\n",
       "      <td>3.508333e+07</td>\n",
       "      <td>193000000.0</td>\n",
       "      <td>...</td>\n",
       "      <td>0.916667</td>\n",
       "      <td>860399</td>\n",
       "      <td>57359.933333</td>\n",
       "      <td>1019079</td>\n",
       "      <td>84923.25</td>\n",
       "      <td>158680</td>\n",
       "      <td>27563.316667</td>\n",
       "      <td>1</td>\n",
       "      <td>4</td>\n",
       "      <td>-3</td>\n",
       "    </tr>\n",
       "    <tr>\n",
       "      <th>4</th>\n",
       "      <td>Fernando Meirelles</td>\n",
       "      <td>Julia Roberts</td>\n",
       "      <td>0</td>\n",
       "      <td>0</td>\n",
       "      <td>0.600000</td>\n",
       "      <td>614000000.0</td>\n",
       "      <td>4.093333e+07</td>\n",
       "      <td>2.830000e+07</td>\n",
       "      <td>7.075000e+06</td>\n",
       "      <td>585700000.0</td>\n",
       "      <td>...</td>\n",
       "      <td>1.216667</td>\n",
       "      <td>860399</td>\n",
       "      <td>57359.933333</td>\n",
       "      <td>774468</td>\n",
       "      <td>193617.00</td>\n",
       "      <td>85931</td>\n",
       "      <td>136257.066667</td>\n",
       "      <td>1</td>\n",
       "      <td>4</td>\n",
       "      <td>-3</td>\n",
       "    </tr>\n",
       "  </tbody>\n",
       "</table>\n",
       "<p>5 rows × 26 columns</p>\n",
       "</div>"
      ],
      "text/plain": [
       "              director          actor  collabs  collab indicator  genre_tvd  \\\n",
       "0           Ron Howard  Julia Roberts        0                 0   0.633333   \n",
       "1  Bernardo Bertolucci  Julia Roberts        0                 0   0.600000   \n",
       "2        David Fincher  Julia Roberts        0                 0   0.566667   \n",
       "3      Kenneth Branagh  Julia Roberts        0                 0   0.350000   \n",
       "4   Fernando Meirelles  Julia Roberts        0                 0   0.600000   \n",
       "\n",
       "   actor_total_budget  actor_mean_budget  director_total_budget  \\\n",
       "0         614000000.0       4.093333e+07           1.349000e+09   \n",
       "1         614000000.0       4.093333e+07           9.300000e+07   \n",
       "2         614000000.0       4.093333e+07           6.500000e+08   \n",
       "3         614000000.0       4.093333e+07           4.210000e+08   \n",
       "4         614000000.0       4.093333e+07           2.830000e+07   \n",
       "\n",
       "   director_mean_budget  total_budget_diff  ...  mean_score_diff  \\\n",
       "0          6.745000e+07        735000000.0  ...         0.806667   \n",
       "1          1.860000e+07        521000000.0  ...         0.846667   \n",
       "2          6.500000e+07         36000000.0  ...         1.716667   \n",
       "3          3.508333e+07        193000000.0  ...         0.916667   \n",
       "4          7.075000e+06        585700000.0  ...         1.216667   \n",
       "\n",
       "   actor_total_votes  actor_mean_votes  director_total_votes  \\\n",
       "0             860399      57359.933333               2918742   \n",
       "1             860399      57359.933333                210399   \n",
       "2             860399      57359.933333               5741579   \n",
       "3             860399      57359.933333               1019079   \n",
       "4             860399      57359.933333                774468   \n",
       "\n",
       "   director_mean_votes  total_votes_diff  mean_votes_diff  \\\n",
       "0            145937.10           2058343     88577.166667   \n",
       "1             42079.80            650000     15280.133333   \n",
       "2            574157.90           4881180    516797.966667   \n",
       "3             84923.25            158680     27563.316667   \n",
       "4            193617.00             85931    136257.066667   \n",
       "\n",
       "   director_nominations  actor_nominations  nominations_diff  \n",
       "0                     2                  4                -2  \n",
       "1                     2                  4                -2  \n",
       "2                     2                  4                -2  \n",
       "3                     1                  4                -3  \n",
       "4                     1                  4                -3  \n",
       "\n",
       "[5 rows x 26 columns]"
      ]
     },
     "execution_count": 34,
     "metadata": {},
     "output_type": "execute_result"
    }
   ],
   "source": [
    "df_w_oscar['nominations_diff']=df_w_oscar['director_nominations'] - df_w_oscar['actor_nominations']\n",
    "df_w_oscar.head()"
   ]
  },
  {
   "cell_type": "code",
   "execution_count": 93,
   "metadata": {},
   "outputs": [
    {
     "data": {
      "text/plain": [
       "<matplotlib.legend.Legend at 0x1ab392750>"
      ]
     },
     "execution_count": 93,
     "metadata": {},
     "output_type": "execute_result"
    },
    {
     "data": {
      "image/png": "[encoded data removed]",
      "text/plain": [
       "<Figure size 432x288 with 1 Axes>"
      ]
     },
     "metadata": {
      "needs_background": "light"
     },
     "output_type": "display_data"
    }
   ],
   "source": [
    "bins = np.linspace(min(df_w_oscar.nominations_diff.values), max(df_w_oscar.nominations_diff.values), 50)\n",
    "plt.hist(df_w_oscar[df_w_oscar[\"collab indicator\"] == 1].nominations_diff.values, density = True, bins = bins, label = \"1\", alpha = 0.5)\n",
    "plt.hist(df_w_oscar[df_w_oscar[\"collab indicator\"] == 0].nominations_diff.values, density = True, bins = bins, label = \"0\", alpha = 0.5)\n",
    "plt.legend()"
   ]
  },
  {
   "cell_type": "code",
   "execution_count": 94,
   "metadata": {},
   "outputs": [
    {
     "name": "stdout",
     "output_type": "stream",
     "text": [
      "nominations_diff variance in pairs w/ collab is  11.675624990825147\n",
      "nominations_diff variance in pairs w/o collab is  5.747848063463029\n"
     ]
    },
    {
     "data": {
      "text/plain": [
       "Ttest_indResult(statistic=-3.9763645704487445, pvalue=7.977315478395336e-05)"
      ]
     },
     "execution_count": 94,
     "metadata": {},
     "output_type": "execute_result"
    }
   ],
   "source": [
    "print('nominations_diff variance in pairs w/ collab is  {}'.format(np.var(df_w_oscar[df_w_oscar[\"collab indicator\"] == 1].nominations_diff.values)))\n",
    "print('nominations_diff variance in pairs w/o collab is  {}'.format(np.var(df_w_oscar[df_w_oscar[\"collab indicator\"] == 0].nominations_diff.values)))\n",
    "ttest_ind(df_w_oscar[df_w_oscar[\"collab indicator\"] == 1].nominations_diff.values, \n",
    "                      df_w_oscar[df_w_oscar[\"collab indicator\"] == 0].nominations_diff.values, \n",
    "                      equal_var=False)"
   ]
  },
  {
   "cell_type": "markdown",
   "metadata": {},
   "source": [
    "### genre"
   ]
  },
  {
   "cell_type": "code",
   "execution_count": 35,
   "metadata": {},
   "outputs": [
    {
     "data": {
      "text/plain": [
       "array(['Action', 'Adventure', 'Animation', 'Biography', 'Comedy', 'Crime',\n",
       "       'Drama', 'Family', 'Fantasy', 'Horror', 'Musical', 'Mystery',\n",
       "       'Romance', 'Sci-Fi', 'Thriller', 'War', 'Western'], dtype=object)"
      ]
     },
     "execution_count": 35,
     "metadata": {},
     "output_type": "execute_result"
    }
   ],
   "source": [
    "genre = np.unique(movie_industry.genre.values)\n",
    "genre"
   ]
  },
  {
   "cell_type": "code",
   "execution_count": 36,
   "metadata": {},
   "outputs": [],
   "source": [
    "dir_genre_prop = {}\n",
    "for director in directors:\n",
    "    temp = movie_industry[movie_industry.director == director].groupby([\"genre\"])[\"director\"].count()\n",
    "    prop = []\n",
    "    total = sum(temp.values)\n",
    "    for category in genre:\n",
    "        if category in temp.index:\n",
    "            prop.append(temp[category]/total)\n",
    "        else:\n",
    "            prop.append(0)\n",
    "    dir_genre_prop[director] = np.array(prop)"
   ]
  },
  {
   "cell_type": "code",
   "execution_count": 37,
   "metadata": {},
   "outputs": [],
   "source": [
    "act_genre_prop = {}\n",
    "for actor in actors:\n",
    "    temp = movie_industry[movie_industry.star == actor].groupby([\"genre\"])[\"star\"].count()\n",
    "    prop = []\n",
    "    total = sum(temp.values)\n",
    "    for category in genre:\n",
    "        if category in temp.index:\n",
    "            prop.append(temp[category]/total)\n",
    "        else:\n",
    "            prop.append(0)\n",
    "    act_genre_prop[actor] = np.array(prop)"
   ]
  },
  {
   "cell_type": "code",
   "execution_count": 38,
   "metadata": {},
   "outputs": [
    {
     "name": "stdout",
     "output_type": "stream",
     "text": [
      "CPU times: user 2min 28s, sys: 531 ms, total: 2min 28s\n",
      "Wall time: 2min 28s\n"
     ]
    }
   ],
   "source": [
    "%%time\n",
    "genre_tvd = []\n",
    "for i in df.index:\n",
    "    director = df.director[i]\n",
    "    actor = df.actor[i]\n",
    "    tvd = sum(abs(dir_genre_prop[director] - act_genre_prop[actor]))/2\n",
    "    genre_tvd.append(tvd)"
   ]
  },
  {
   "cell_type": "code",
   "execution_count": 39,
   "metadata": {},
   "outputs": [],
   "source": [
    "df[\"genre_tvd\"] = genre_tvd"
   ]
  },
  {
   "cell_type": "code",
   "execution_count": 19,
   "metadata": {},
   "outputs": [
    {
     "data": {
      "text/plain": [
       "array([0.        , 0.05263158, 0.10526316, 0.15789474, 0.21052632,\n",
       "       0.26315789, 0.31578947, 0.36842105, 0.42105263, 0.47368421,\n",
       "       0.52631579, 0.57894737, 0.63157895, 0.68421053, 0.73684211,\n",
       "       0.78947368, 0.84210526, 0.89473684, 0.94736842, 1.        ])"
      ]
     },
     "execution_count": 19,
     "metadata": {},
     "output_type": "execute_result"
    }
   ],
   "source": [
    "bins = np.linspace(min(genre_tvd), max(genre_tvd), 20)\n",
    "bins"
   ]
  },
  {
   "cell_type": "code",
   "execution_count": 20,
   "metadata": {},
   "outputs": [
    {
     "data": {
      "text/plain": [
       "<matplotlib.legend.Legend at 0x1347017d0>"
      ]
     },
     "execution_count": 20,
     "metadata": {},
     "output_type": "execute_result"
    },
    {
     "data": {
      "image/png": "[encoded data removed]",
      "text/plain": [
       "<Figure size 432x288 with 1 Axes>"
      ]
     },
     "metadata": {
      "needs_background": "light"
     },
     "output_type": "display_data"
    }
   ],
   "source": [
    "plt.hist(df[df[\"collab indicator\"] == 1].genre_tvd.values, density = True, bins = bins, label = \"1\", alpha = 0.5)\n",
    "plt.hist(df[df[\"collab indicator\"] == 0].genre_tvd.values, density = True, bins = bins, label = \"0\", alpha = 0.5)\n",
    "plt.legend()"
   ]
  },
  {
   "cell_type": "code",
   "execution_count": 47,
   "metadata": {},
   "outputs": [
    {
     "data": {
      "text/plain": [
       "Ttest_indResult(statistic=-108.78019386704341, pvalue=0.0)"
      ]
     },
     "execution_count": 47,
     "metadata": {},
     "output_type": "execute_result"
    }
   ],
   "source": [
    "ttest_ind(df[df[\"collab indicator\"] == 1].genre_tvd.values, \n",
    "                      df[df[\"collab indicator\"] == 0].genre_tvd.values, \n",
    "                      equal_var=False)\n",
    "\n"
   ]
  },
  {
   "cell_type": "markdown",
   "metadata": {},
   "source": [
    "## Visualization"
   ]
  },
  {
   "cell_type": "code",
   "execution_count": 48,
   "metadata": {},
   "outputs": [
    {
     "data": {
      "image/png": "[encoded data removed]",
      "text/plain": [
       "<Figure size 1296x648 with 4 Axes>"
      ]
     },
     "metadata": {
      "needs_background": "light"
     },
     "output_type": "display_data"
    }
   ],
   "source": [
    "df_dropped = df.dropna()\n",
    "\n",
    "f, axes = plt.subplots(2, 2, figsize=(18,9), sharex=False)\n",
    "plt.suptitle(\"T-test for Significant Covariants\", fontsize=16)\n",
    "\n",
    "bins1 = np.linspace(min(df_dropped.mean_votes_diff.values), max(df_dropped.mean_votes_diff.values), 50)\n",
    "axes[0, 0].hist(df_dropped[df_dropped[\"collab indicator\"] == 1].mean_votes_diff.values, density = True, bins = bins1, label = \"1\", alpha = 0.5)\n",
    "axes[0, 0].hist(df_dropped[df_dropped[\"collab indicator\"] == 0].mean_votes_diff.values, density = True, bins = bins1, label = \"0\", alpha = 0.5)\n",
    "axes[0, 0].legend()\n",
    "axes[0, 0].title.set_text('Difference in Mean Votes  P-Value=2.43e-25')\n",
    "\n",
    "bins2 = np.linspace(min(df_dropped.mean_score_diff.values), max(df_dropped.mean_score_diff.values), 50)\n",
    "axes[0, 1].hist(df_dropped[df_dropped[\"collab indicator\"] == 1].mean_score_diff.values, density = True, bins = bins2, label = \"1\", alpha = 0.5)\n",
    "axes[0, 1].hist(df_dropped[df_dropped[\"collab indicator\"] == 0].mean_score_diff.values, density = True, bins = bins2, label = \"0\", alpha = 0.5)\n",
    "axes[0, 1].legend()\n",
    "axes[0, 1].title.set_text('Difference in Mean Score P-Value=0.0')\n",
    "\n",
    "bins3 = np.linspace(min(df_w_oscar.nominations_diff.values), max(df_w_oscar.nominations_diff.values), 50)\n",
    "axes[1, 0].hist(df_w_oscar[df_w_oscar[\"collab indicator\"] == 1].nominations_diff.values, density = True, bins = bins3, label = \"1\", alpha = 0.5)\n",
    "axes[1, 0].hist(df_w_oscar[df_w_oscar[\"collab indicator\"] == 0].nominations_diff.values, density = True, bins = bins3, label = \"0\", alpha = 0.5)\n",
    "axes[1, 0].legend()\n",
    "axes[1, 0].title.set_text('Difference in Number of Oscar Nominations P-Value=7.97e-05')\n",
    "\n",
    "bins4 = np.linspace(min(genre_tvd), max(genre_tvd), 20)\n",
    "axes[1, 1].hist(df[df[\"collab indicator\"] == 1].genre_tvd.values, density = True, bins = bins4, label = \"1\", alpha = 0.5)\n",
    "axes[1, 1].hist(df[df[\"collab indicator\"] == 0].genre_tvd.values, density = True, bins = bins4, label = \"0\", alpha = 0.5)\n",
    "axes[1, 1].legend()\n",
    "axes[1, 1].title.set_text('Difference in Genre P-Value=0.0')\n",
    "\n",
    "\n"
   ]
  },
  {
   "cell_type": "code",
   "execution_count": null,
   "metadata": {},
   "outputs": [],
   "source": []
  }
 ],
 "metadata": {
  "kernelspec": {
   "display_name": "Python 3",
   "language": "python",
   "name": "python3"
  },
  "language_info": {
   "codemirror_mode": {
    "name": "ipython",
    "version": 3
   },
   "file_extension": ".py",
   "mimetype": "text/x-python",
   "name": "python",
   "nbconvert_exporter": "python",
   "pygments_lexer": "ipython3",
   "version": "3.7.6"
  }
 },
 "nbformat": 4,
 "nbformat_minor": 2
}
