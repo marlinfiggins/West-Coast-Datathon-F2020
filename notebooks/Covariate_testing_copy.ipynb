{
 "cells": [
  {
   "cell_type": "code",
   "execution_count": 1,
   "metadata": {},
   "outputs": [],
   "source": [
    "import pandas as pd\n",
    "import numpy as np\n",
    "import seaborn as sb\n",
    "import networkx as nx\n",
    "import matplotlib.pyplot as plt\n",
    "%matplotlib inline"
   ]
  },
  {
   "cell_type": "markdown",
   "metadata": {},
   "source": [
    "CREATING THE DATAFRAME OF PAIRS OF DIRECTORS AND ACTORS"
   ]
  },
  {
   "cell_type": "code",
   "execution_count": 2,
   "metadata": {},
   "outputs": [
    {
     "data": {
      "text/html": [
       "<div>\n",
       "<style scoped>\n",
       "    .dataframe tbody tr th:only-of-type {\n",
       "        vertical-align: middle;\n",
       "    }\n",
       "\n",
       "    .dataframe tbody tr th {\n",
       "        vertical-align: top;\n",
       "    }\n",
       "\n",
       "    .dataframe thead th {\n",
       "        text-align: right;\n",
       "    }\n",
       "</style>\n",
       "<table border=\"1\" class=\"dataframe\">\n",
       "  <thead>\n",
       "    <tr style=\"text-align: right;\">\n",
       "      <th></th>\n",
       "      <th>budget</th>\n",
       "      <th>company</th>\n",
       "      <th>country</th>\n",
       "      <th>director</th>\n",
       "      <th>genre</th>\n",
       "      <th>gross</th>\n",
       "      <th>name</th>\n",
       "      <th>rating</th>\n",
       "      <th>released</th>\n",
       "      <th>runtime</th>\n",
       "      <th>score</th>\n",
       "      <th>star</th>\n",
       "      <th>votes</th>\n",
       "      <th>writer</th>\n",
       "      <th>year</th>\n",
       "    </tr>\n",
       "  </thead>\n",
       "  <tbody>\n",
       "    <tr>\n",
       "      <th>0</th>\n",
       "      <td>8000000.0</td>\n",
       "      <td>Columbia Pictures Corporation</td>\n",
       "      <td>USA</td>\n",
       "      <td>Rob Reiner</td>\n",
       "      <td>Adventure</td>\n",
       "      <td>52287414.0</td>\n",
       "      <td>Stand by Me</td>\n",
       "      <td>R</td>\n",
       "      <td>1986-08-22</td>\n",
       "      <td>89</td>\n",
       "      <td>8.1</td>\n",
       "      <td>Wil Wheaton</td>\n",
       "      <td>299174</td>\n",
       "      <td>Stephen King</td>\n",
       "      <td>1986</td>\n",
       "    </tr>\n",
       "    <tr>\n",
       "      <th>1</th>\n",
       "      <td>6000000.0</td>\n",
       "      <td>Paramount Pictures</td>\n",
       "      <td>USA</td>\n",
       "      <td>John Hughes</td>\n",
       "      <td>Comedy</td>\n",
       "      <td>70136369.0</td>\n",
       "      <td>Ferris Bueller's Day Off</td>\n",
       "      <td>PG-13</td>\n",
       "      <td>1986-06-11</td>\n",
       "      <td>103</td>\n",
       "      <td>7.8</td>\n",
       "      <td>Matthew Broderick</td>\n",
       "      <td>264740</td>\n",
       "      <td>John Hughes</td>\n",
       "      <td>1986</td>\n",
       "    </tr>\n",
       "    <tr>\n",
       "      <th>2</th>\n",
       "      <td>15000000.0</td>\n",
       "      <td>Paramount Pictures</td>\n",
       "      <td>USA</td>\n",
       "      <td>Tony Scott</td>\n",
       "      <td>Action</td>\n",
       "      <td>179800601.0</td>\n",
       "      <td>Top Gun</td>\n",
       "      <td>PG</td>\n",
       "      <td>1986-05-16</td>\n",
       "      <td>110</td>\n",
       "      <td>6.9</td>\n",
       "      <td>Tom Cruise</td>\n",
       "      <td>236909</td>\n",
       "      <td>Jim Cash</td>\n",
       "      <td>1986</td>\n",
       "    </tr>\n",
       "    <tr>\n",
       "      <th>3</th>\n",
       "      <td>18500000.0</td>\n",
       "      <td>Twentieth Century Fox Film Corporation</td>\n",
       "      <td>USA</td>\n",
       "      <td>James Cameron</td>\n",
       "      <td>Action</td>\n",
       "      <td>85160248.0</td>\n",
       "      <td>Aliens</td>\n",
       "      <td>R</td>\n",
       "      <td>1986-07-18</td>\n",
       "      <td>137</td>\n",
       "      <td>8.4</td>\n",
       "      <td>Sigourney Weaver</td>\n",
       "      <td>540152</td>\n",
       "      <td>James Cameron</td>\n",
       "      <td>1986</td>\n",
       "    </tr>\n",
       "    <tr>\n",
       "      <th>4</th>\n",
       "      <td>9000000.0</td>\n",
       "      <td>Walt Disney Pictures</td>\n",
       "      <td>USA</td>\n",
       "      <td>Randal Kleiser</td>\n",
       "      <td>Adventure</td>\n",
       "      <td>18564613.0</td>\n",
       "      <td>Flight of the Navigator</td>\n",
       "      <td>PG</td>\n",
       "      <td>1986-08-01</td>\n",
       "      <td>90</td>\n",
       "      <td>6.9</td>\n",
       "      <td>Joey Cramer</td>\n",
       "      <td>36636</td>\n",
       "      <td>Mark H. Baker</td>\n",
       "      <td>1986</td>\n",
       "    </tr>\n",
       "  </tbody>\n",
       "</table>\n",
       "</div>"
      ],
      "text/plain": [
       "       budget                                 company country        director  \\\n",
       "0   8000000.0           Columbia Pictures Corporation     USA      Rob Reiner   \n",
       "1   6000000.0                      Paramount Pictures     USA     John Hughes   \n",
       "2  15000000.0                      Paramount Pictures     USA      Tony Scott   \n",
       "3  18500000.0  Twentieth Century Fox Film Corporation     USA   James Cameron   \n",
       "4   9000000.0                    Walt Disney Pictures     USA  Randal Kleiser   \n",
       "\n",
       "       genre        gross                      name rating    released  \\\n",
       "0  Adventure   52287414.0               Stand by Me      R  1986-08-22   \n",
       "1     Comedy   70136369.0  Ferris Bueller's Day Off  PG-13  1986-06-11   \n",
       "2     Action  179800601.0                   Top Gun     PG  1986-05-16   \n",
       "3     Action   85160248.0                    Aliens      R  1986-07-18   \n",
       "4  Adventure   18564613.0   Flight of the Navigator     PG  1986-08-01   \n",
       "\n",
       "   runtime  score               star   votes         writer  year  \n",
       "0       89    8.1        Wil Wheaton  299174   Stephen King  1986  \n",
       "1      103    7.8  Matthew Broderick  264740    John Hughes  1986  \n",
       "2      110    6.9         Tom Cruise  236909       Jim Cash  1986  \n",
       "3      137    8.4   Sigourney Weaver  540152  James Cameron  1986  \n",
       "4       90    6.9        Joey Cramer   36636  Mark H. Baker  1986  "
      ]
     },
     "execution_count": 2,
     "metadata": {},
     "output_type": "execute_result"
    }
   ],
   "source": [
    "movie_industry = pd.read_csv(\"../data/movie_industry.csv\", encoding = \"ISO-8859-1\" )\n",
    "movie_industry.loc[movie_industry.rating == \"Not specified\", \"rating\"] = \"NOT RATED\"\n",
    "movie_industry.loc[movie_industry.rating == \"UNRATED\", \"rating\"] = \"NOT RATED\"\n",
    "movie_industry.head()"
   ]
  },
  {
   "cell_type": "code",
   "execution_count": 3,
   "metadata": {},
   "outputs": [
    {
     "data": {
      "text/plain": [
       "Comedy       2080\n",
       "Drama        1444\n",
       "Action       1331\n",
       "Crime         522\n",
       "Adventure     392\n",
       "Biography     359\n",
       "Horror        277\n",
       "Animation     277\n",
       "Mystery        38\n",
       "Fantasy        32\n",
       "Thriller       18\n",
       "Romance        15\n",
       "Family         14\n",
       "Sci-Fi         13\n",
       "Musical         4\n",
       "Western         2\n",
       "War             2\n",
       "Name: genre, dtype: int64"
      ]
     },
     "execution_count": 3,
     "metadata": {},
     "output_type": "execute_result"
    }
   ],
   "source": [
    "val_genre=movie_industry['genre'].value_counts()\n",
    "val_genre\n"
   ]
  },
  {
   "cell_type": "code",
   "execution_count": 4,
   "metadata": {},
   "outputs": [
    {
     "data": {
      "text/plain": [
       "Index(['Comedy', 'Drama', 'Action', 'Crime', 'Adventure', 'Biography',\n",
       "       'Horror', 'Animation'],\n",
       "      dtype='object')"
      ]
     },
     "execution_count": 4,
     "metadata": {},
     "output_type": "execute_result"
    }
   ],
   "source": [
    "picked_genre = val_genre[:8].index\n",
    "picked_genre\n"
   ]
  },
  {
   "cell_type": "code",
   "execution_count": 5,
   "metadata": {},
   "outputs": [
    {
     "name": "stderr",
     "output_type": "stream",
     "text": [
      "/opt/miniconda3/lib/python3.7/site-packages/ipykernel_launcher.py:1: SettingWithCopyWarning: \n",
      "A value is trying to be set on a copy of a slice from a DataFrame\n",
      "\n",
      "See the caveats in the documentation: https://pandas.pydata.org/pandas-docs/stable/user_guide/indexing.html#returning-a-view-versus-a-copy\n",
      "  \"\"\"Entry point for launching an IPython kernel.\n"
     ]
    },
    {
     "data": {
      "text/plain": [
       "Comedy       2080\n",
       "Drama        1444\n",
       "Action       1331\n",
       "Crime         522\n",
       "Adventure     392\n",
       "Biography     359\n",
       "Horror        277\n",
       "Animation     277\n",
       "Other         138\n",
       "Name: genre, dtype: int64"
      ]
     },
     "execution_count": 5,
     "metadata": {},
     "output_type": "execute_result"
    }
   ],
   "source": [
    "movie_industry['genre'][~ movie_industry['genre'].isin(picked_genre)] = 'Other'\n",
    "movie_industry['genre'].value_counts()"
   ]
  },
  {
   "cell_type": "code",
   "execution_count": 6,
   "metadata": {},
   "outputs": [],
   "source": [
    "g = pd.get_dummies"
   ]
  },
  {
   "cell_type": "code",
   "execution_count": null,
   "metadata": {},
   "outputs": [],
   "source": []
  },
  {
   "cell_type": "code",
   "execution_count": 7,
   "metadata": {},
   "outputs": [],
   "source": [
    "class Graph:\n",
    "    \"\"\" Wrapper class Graph to create a bipartite graph\n",
    "    Takes in the following paramaters\n",
    "    directors_to_actors_relation : Dataframe with the data for directors and actors\n",
    "    weight func : function which defined the weight of an edge. Takes the dateframe to calcuate weights from and\n",
    "    the nodes values to calculate for\n",
    "    weight_func_args : column names used to calculate the weights\n",
    "    director_column : Column name for director\n",
    "    actor_column : Column name for actor, \n",
    "    bipartite : default true\n",
    "    \"\"\"\n",
    "    def __init__(self, \n",
    "                 directors_to_actors_relation, \n",
    "                 weight_func, \n",
    "                 weight_func_args, \n",
    "                 director_column=\"director\", \n",
    "                 actor_column=\"star\", \n",
    "                 bipartite=True):\n",
    "        self.G = nx.Graph()\n",
    "        \n",
    "        directors = set(directors_to_actors_relation[director_column].values)\n",
    "        actors = set(directors_to_actors_relation[actor_column].values)\n",
    "    \n",
    "        #store the director node as a tuple with director name and boolean True to indicate director\n",
    "        for director in directors:\n",
    "            self.G.add_node((director, True))\n",
    "            \n",
    "        #store the actor node as a tuple with actor name and boolean False to indicate actor\n",
    "        for actor in actors:\n",
    "            self.G.add_node((actor, False))\n",
    "\n",
    "        #add weights to all edges\n",
    "        for director in directors:\n",
    "            rows = directors_to_actors_relation[directors_to_actors_relation[director_column] == director]\n",
    "            for index in rows.index.values:\n",
    "                self.G.add_edge((director, True), \n",
    "                                (rows.loc[index, actor_column], False), \n",
    "                                weight=weight_func(*[rows.loc[index, i] for i in weight_func_args], directors_to_actors_relation))             "
   ]
  },
  {
   "cell_type": "code",
   "execution_count": 8,
   "metadata": {},
   "outputs": [],
   "source": [
    "#calcualtes edge weight as the number of collaborations\n",
    "#takes in director name, star name and data to calculate weight from\n",
    "def example_weight_func(director, star, df):\n",
    "    return len(df.loc[((df[\"director\"] == director) & (df[\"star\"] == star))])"
   ]
  },
  {
   "cell_type": "code",
   "execution_count": 9,
   "metadata": {},
   "outputs": [],
   "source": [
    "storage = Graph(movie_industry, example_weight_func, [\"director\", \"star\"])"
   ]
  },
  {
   "cell_type": "code",
   "execution_count": 10,
   "metadata": {},
   "outputs": [],
   "source": [
    "directors = list(set(movie_industry[\"director\"].values))\n",
    "actors = list(set(movie_industry[\"star\"].values))"
   ]
  },
  {
   "cell_type": "code",
   "execution_count": 11,
   "metadata": {},
   "outputs": [],
   "source": [
    "collabs = []\n",
    "for director in directors:\n",
    "    for actor in actors:\n",
    "        if storage.G.get_edge_data((director, True), (actor, False)):\n",
    "            collabs.append(storage.G.get_edge_data((director, True), (actor, False))[\"weight\"])\n",
    "        else:\n",
    "            collabs.append(0)"
   ]
  },
  {
   "cell_type": "code",
   "execution_count": 12,
   "metadata": {},
   "outputs": [
    {
     "data": {
      "text/html": [
       "<div>\n",
       "<style scoped>\n",
       "    .dataframe tbody tr th:only-of-type {\n",
       "        vertical-align: middle;\n",
       "    }\n",
       "\n",
       "    .dataframe tbody tr th {\n",
       "        vertical-align: top;\n",
       "    }\n",
       "\n",
       "    .dataframe thead th {\n",
       "        text-align: right;\n",
       "    }\n",
       "</style>\n",
       "<table border=\"1\" class=\"dataframe\">\n",
       "  <thead>\n",
       "    <tr style=\"text-align: right;\">\n",
       "      <th></th>\n",
       "      <th>director</th>\n",
       "      <th>actor</th>\n",
       "      <th>collabs</th>\n",
       "    </tr>\n",
       "  </thead>\n",
       "  <tbody>\n",
       "    <tr>\n",
       "      <th>0</th>\n",
       "      <td>Drew Barrymore</td>\n",
       "      <td>Drew Barrymore</td>\n",
       "      <td>0</td>\n",
       "    </tr>\n",
       "    <tr>\n",
       "      <th>1</th>\n",
       "      <td>Drew Barrymore</td>\n",
       "      <td>Max Parrish</td>\n",
       "      <td>0</td>\n",
       "    </tr>\n",
       "    <tr>\n",
       "      <th>2</th>\n",
       "      <td>Drew Barrymore</td>\n",
       "      <td>Bill Pullman</td>\n",
       "      <td>0</td>\n",
       "    </tr>\n",
       "    <tr>\n",
       "      <th>3</th>\n",
       "      <td>Drew Barrymore</td>\n",
       "      <td>Robin Tunney</td>\n",
       "      <td>0</td>\n",
       "    </tr>\n",
       "    <tr>\n",
       "      <th>4</th>\n",
       "      <td>Drew Barrymore</td>\n",
       "      <td>Salma Hayek</td>\n",
       "      <td>0</td>\n",
       "    </tr>\n",
       "  </tbody>\n",
       "</table>\n",
       "</div>"
      ],
      "text/plain": [
       "         director           actor  collabs\n",
       "0  Drew Barrymore  Drew Barrymore        0\n",
       "1  Drew Barrymore     Max Parrish        0\n",
       "2  Drew Barrymore    Bill Pullman        0\n",
       "3  Drew Barrymore    Robin Tunney        0\n",
       "4  Drew Barrymore     Salma Hayek        0"
      ]
     },
     "execution_count": 12,
     "metadata": {},
     "output_type": "execute_result"
    }
   ],
   "source": [
    "res =  [director for director in directors for i in range(len(actors))] \n",
    "df = pd.DataFrame({\"director\": res, \n",
    "                   \"actor\": actors*len(directors),\n",
    "                  \"collabs\": collabs})\n",
    "df.head()"
   ]
  },
  {
   "cell_type": "code",
   "execution_count": 13,
   "metadata": {},
   "outputs": [
    {
     "data": {
      "text/plain": [
       "0     6902230\n",
       "1        5929\n",
       "2         299\n",
       "3          52\n",
       "4          13\n",
       "5           5\n",
       "6           4\n",
       "11          1\n",
       "10          1\n",
       "8           1\n",
       "7           1\n",
       "Name: collabs, dtype: int64"
      ]
     },
     "execution_count": 13,
     "metadata": {},
     "output_type": "execute_result"
    }
   ],
   "source": [
    "df['collabs'].value_counts()"
   ]
  },
  {
   "cell_type": "code",
   "execution_count": null,
   "metadata": {},
   "outputs": [],
   "source": []
  },
  {
   "cell_type": "markdown",
   "metadata": {},
   "source": [
    "ADDING AND TESTING COVARIATES"
   ]
  },
  {
   "cell_type": "code",
   "execution_count": 14,
   "metadata": {},
   "outputs": [],
   "source": [
    "df[\"collab indicator\"] = (df.collabs > 0)*1"
   ]
  },
  {
   "cell_type": "code",
   "execution_count": 15,
   "metadata": {},
   "outputs": [],
   "source": [
    "def add_feature_actor(feature_total, feature_mean, feature_name):\n",
    "    for actor in actors:\n",
    "        temp = movie_industry[movie_industry.star ==  actor]\n",
    "        sum_feature = sum(temp[feature_name].values)\n",
    "        mean_feature = np.mean(temp[feature_name].values)\n",
    "        feature_total[actor] = sum_feature\n",
    "        feature_mean[actor] = mean_feature\n",
    "        \n",
    "def add_feature_director(feature_total, feature_mean, feature_name):\n",
    "    for director in directors:\n",
    "        temp = movie_industry[movie_industry.director ==  director]\n",
    "        sum_feature = sum(temp[feature_name].values)\n",
    "        mean_feature = np.mean(temp[feature_name].values)\n",
    "        feature_total[director] = sum_feature\n",
    "        feature_mean[director] = mean_feature"
   ]
  },
  {
   "cell_type": "markdown",
   "metadata": {},
   "source": [
    "### budget"
   ]
  },
  {
   "cell_type": "code",
   "execution_count": 16,
   "metadata": {},
   "outputs": [
    {
     "data": {
      "text/html": [
       "<div>\n",
       "<style scoped>\n",
       "    .dataframe tbody tr th:only-of-type {\n",
       "        vertical-align: middle;\n",
       "    }\n",
       "\n",
       "    .dataframe tbody tr th {\n",
       "        vertical-align: top;\n",
       "    }\n",
       "\n",
       "    .dataframe thead th {\n",
       "        text-align: right;\n",
       "    }\n",
       "</style>\n",
       "<table border=\"1\" class=\"dataframe\">\n",
       "  <thead>\n",
       "    <tr style=\"text-align: right;\">\n",
       "      <th></th>\n",
       "      <th>director</th>\n",
       "      <th>actor</th>\n",
       "      <th>collabs</th>\n",
       "      <th>collab indicator</th>\n",
       "      <th>actor_total_budget</th>\n",
       "      <th>actor_mean_budget</th>\n",
       "      <th>director_total_budget</th>\n",
       "      <th>director_mean_budget</th>\n",
       "      <th>total_budget_diff</th>\n",
       "      <th>mean_budget_diff</th>\n",
       "    </tr>\n",
       "  </thead>\n",
       "  <tbody>\n",
       "    <tr>\n",
       "      <th>0</th>\n",
       "      <td>Drew Barrymore</td>\n",
       "      <td>Drew Barrymore</td>\n",
       "      <td>0</td>\n",
       "      <td>0</td>\n",
       "      <td>359800000.0</td>\n",
       "      <td>2.998333e+07</td>\n",
       "      <td>15000000.0</td>\n",
       "      <td>15000000.0</td>\n",
       "      <td>344800000.0</td>\n",
       "      <td>1.498333e+07</td>\n",
       "    </tr>\n",
       "    <tr>\n",
       "      <th>1</th>\n",
       "      <td>Drew Barrymore</td>\n",
       "      <td>Max Parrish</td>\n",
       "      <td>0</td>\n",
       "      <td>0</td>\n",
       "      <td>0.0</td>\n",
       "      <td>0.000000e+00</td>\n",
       "      <td>15000000.0</td>\n",
       "      <td>15000000.0</td>\n",
       "      <td>15000000.0</td>\n",
       "      <td>1.500000e+07</td>\n",
       "    </tr>\n",
       "    <tr>\n",
       "      <th>2</th>\n",
       "      <td>Drew Barrymore</td>\n",
       "      <td>Bill Pullman</td>\n",
       "      <td>0</td>\n",
       "      <td>0</td>\n",
       "      <td>79000000.0</td>\n",
       "      <td>1.580000e+07</td>\n",
       "      <td>15000000.0</td>\n",
       "      <td>15000000.0</td>\n",
       "      <td>64000000.0</td>\n",
       "      <td>8.000000e+05</td>\n",
       "    </tr>\n",
       "    <tr>\n",
       "      <th>3</th>\n",
       "      <td>Drew Barrymore</td>\n",
       "      <td>Robin Tunney</td>\n",
       "      <td>0</td>\n",
       "      <td>0</td>\n",
       "      <td>15000000.0</td>\n",
       "      <td>1.500000e+07</td>\n",
       "      <td>15000000.0</td>\n",
       "      <td>15000000.0</td>\n",
       "      <td>0.0</td>\n",
       "      <td>0.000000e+00</td>\n",
       "    </tr>\n",
       "    <tr>\n",
       "      <th>4</th>\n",
       "      <td>Drew Barrymore</td>\n",
       "      <td>Salma Hayek</td>\n",
       "      <td>0</td>\n",
       "      <td>0</td>\n",
       "      <td>12000000.0</td>\n",
       "      <td>6.000000e+06</td>\n",
       "      <td>15000000.0</td>\n",
       "      <td>15000000.0</td>\n",
       "      <td>3000000.0</td>\n",
       "      <td>9.000000e+06</td>\n",
       "    </tr>\n",
       "  </tbody>\n",
       "</table>\n",
       "</div>"
      ],
      "text/plain": [
       "         director           actor  collabs  collab indicator  \\\n",
       "0  Drew Barrymore  Drew Barrymore        0                 0   \n",
       "1  Drew Barrymore     Max Parrish        0                 0   \n",
       "2  Drew Barrymore    Bill Pullman        0                 0   \n",
       "3  Drew Barrymore    Robin Tunney        0                 0   \n",
       "4  Drew Barrymore     Salma Hayek        0                 0   \n",
       "\n",
       "   actor_total_budget  actor_mean_budget  director_total_budget  \\\n",
       "0         359800000.0       2.998333e+07             15000000.0   \n",
       "1                 0.0       0.000000e+00             15000000.0   \n",
       "2          79000000.0       1.580000e+07             15000000.0   \n",
       "3          15000000.0       1.500000e+07             15000000.0   \n",
       "4          12000000.0       6.000000e+06             15000000.0   \n",
       "\n",
       "   director_mean_budget  total_budget_diff  mean_budget_diff  \n",
       "0            15000000.0        344800000.0      1.498333e+07  \n",
       "1            15000000.0         15000000.0      1.500000e+07  \n",
       "2            15000000.0         64000000.0      8.000000e+05  \n",
       "3            15000000.0                0.0      0.000000e+00  \n",
       "4            15000000.0          3000000.0      9.000000e+06  "
      ]
     },
     "execution_count": 16,
     "metadata": {},
     "output_type": "execute_result"
    }
   ],
   "source": [
    "actor_total_budget = {}\n",
    "actor_mean_budget = {}\n",
    "add_feature_actor(actor_total_budget, actor_mean_budget, 'budget')\n",
    "df[\"actor_total_budget\"] = df.actor.map(actor_total_budget)\n",
    "df[\"actor_mean_budget\"] = df.actor.map(actor_mean_budget)\n",
    "\n",
    "director_total_budget = {}\n",
    "director_mean_budget = {}\n",
    "add_feature_director(director_total_budget, director_mean_budget, 'budget')\n",
    "df[\"director_total_budget\"] = df.director.map(director_total_budget)\n",
    "df[\"director_mean_budget\"] = df.director.map(director_mean_budget)\n",
    "\n",
    "df[\"total_budget_diff\"] = abs(df.director_total_budget - df.actor_total_budget)\n",
    "df[\"mean_budget_diff\"] = abs(df.director_mean_budget - df.actor_mean_budget)\n",
    "df.head()"
   ]
  },
  {
   "cell_type": "code",
   "execution_count": 17,
   "metadata": {},
   "outputs": [
    {
     "data": {
      "text/plain": [
       "<matplotlib.legend.Legend at 0x13105c290>"
      ]
     },
     "execution_count": 17,
     "metadata": {},
     "output_type": "execute_result"
    },
    {
     "data": {
      "image/png": "[encoded data removed]",
      "text/plain": [
       "<Figure size 432x288 with 1 Axes>"
      ]
     },
     "metadata": {
      "needs_background": "light"
     },
     "output_type": "display_data"
    }
   ],
   "source": [
    "df_dropped = df.copy().dropna()\n",
    "bins = np.linspace(min(df_dropped.mean_budget_diff.values), max(df_dropped.mean_budget_diff.values), 50)\n",
    "plt.hist(df_dropped[df_dropped[\"collab indicator\"] == 1].mean_budget_diff.values, density = True, bins = bins, label = \"1\", alpha = 0.5)\n",
    "plt.hist(df_dropped[df_dropped[\"collab indicator\"] == 0].mean_budget_diff.values, density = True, bins = bins, label = \"0\", alpha = 0.5)\n",
    "plt.legend()\n",
    "\n"
   ]
  },
  {
   "cell_type": "code",
   "execution_count": 18,
   "metadata": {},
   "outputs": [
    {
     "name": "stdout",
     "output_type": "stream",
     "text": [
      "mean_budget_diff variance in pairs w/ collab is  364783687588295.75\n",
      "mean_budget_diff variance in pairs w/o collab is  811132968046382.9\n"
     ]
    },
    {
     "data": {
      "text/plain": [
       "Ttest_indResult(statistic=-23.274224123640657, pvalue=4.878637649018597e-115)"
      ]
     },
     "execution_count": 18,
     "metadata": {},
     "output_type": "execute_result"
    }
   ],
   "source": [
    "from scipy.stats import ttest_ind\n",
    "print('mean_budget_diff variance in pairs w/ collab is  {}'.format(np.var(df_dropped[df_dropped[\"collab indicator\"] == 1].mean_budget_diff.values)))\n",
    "print('mean_budget_diff variance in pairs w/o collab is  {}'.format(np.var(df_dropped[df_dropped[\"collab indicator\"] == 0].mean_budget_diff.values)))\n",
    "ttest_ind(df_dropped[df_dropped[\"collab indicator\"] == 1].mean_budget_diff.values, \n",
    "                      df_dropped[df_dropped[\"collab indicator\"] == 0].mean_budget_diff.values, \n",
    "                      equal_var=False)"
   ]
  },
  {
   "cell_type": "code",
   "execution_count": 19,
   "metadata": {},
   "outputs": [
    {
     "data": {
      "text/plain": [
       "<matplotlib.legend.Legend at 0x15a0af9d0>"
      ]
     },
     "execution_count": 19,
     "metadata": {},
     "output_type": "execute_result"
    },
    {
     "data": {
      "image/png": "[encoded data removed]",
      "text/plain": [
       "<Figure size 432x288 with 1 Axes>"
      ]
     },
     "metadata": {
      "needs_background": "light"
     },
     "output_type": "display_data"
    }
   ],
   "source": [
    "df_dropped = df.copy().dropna()\n",
    "bins = np.linspace(min(df_dropped.total_budget_diff.values), max(df_dropped.total_budget_diff.values), 50)\n",
    "plt.hist(df_dropped[df_dropped[\"collab indicator\"] == 1].total_budget_diff.values, density = True, bins = bins, label = \"1\", alpha = 0.5)\n",
    "plt.hist(df_dropped[df_dropped[\"collab indicator\"] == 0].total_budget_diff.values, density = True, bins = bins, label = \"0\", alpha = 0.5)\n",
    "plt.legend()"
   ]
  },
  {
   "cell_type": "code",
   "execution_count": 20,
   "metadata": {},
   "outputs": [
    {
     "name": "stdout",
     "output_type": "stream",
     "text": [
      "total_budget_diff variance in pairs w/ collab is  1.5498155563507763e+17\n",
      "total_budget_diff variance in pairs w/o collab is  4.9954864773607944e+16\n"
     ]
    },
    {
     "data": {
      "text/plain": [
       "Ttest_indResult(statistic=30.707468124240446, pvalue=4.1316454624320973e-193)"
      ]
     },
     "execution_count": 20,
     "metadata": {},
     "output_type": "execute_result"
    }
   ],
   "source": [
    "print('total_budget_diff variance in pairs w/ collab is  {}'.format(np.var(df_dropped[df_dropped[\"collab indicator\"] == 1].total_budget_diff.values)))\n",
    "print('total_budget_diff variance in pairs w/o collab is  {}'.format(np.var(df_dropped[df_dropped[\"collab indicator\"] == 0].total_budget_diff.values)))\n",
    "ttest_ind(df_dropped[df_dropped[\"collab indicator\"] == 1].total_budget_diff.values, \n",
    "                      df_dropped[df_dropped[\"collab indicator\"] == 0].total_budget_diff.values, \n",
    "                      equal_var=False)"
   ]
  },
  {
   "cell_type": "markdown",
   "metadata": {},
   "source": [
    "### score"
   ]
  },
  {
   "cell_type": "code",
   "execution_count": 21,
   "metadata": {},
   "outputs": [
    {
     "data": {
      "text/html": [
       "<div>\n",
       "<style scoped>\n",
       "    .dataframe tbody tr th:only-of-type {\n",
       "        vertical-align: middle;\n",
       "    }\n",
       "\n",
       "    .dataframe tbody tr th {\n",
       "        vertical-align: top;\n",
       "    }\n",
       "\n",
       "    .dataframe thead th {\n",
       "        text-align: right;\n",
       "    }\n",
       "</style>\n",
       "<table border=\"1\" class=\"dataframe\">\n",
       "  <thead>\n",
       "    <tr style=\"text-align: right;\">\n",
       "      <th></th>\n",
       "      <th>director</th>\n",
       "      <th>actor</th>\n",
       "      <th>collabs</th>\n",
       "      <th>collab indicator</th>\n",
       "      <th>actor_total_budget</th>\n",
       "      <th>actor_mean_budget</th>\n",
       "      <th>director_total_budget</th>\n",
       "      <th>director_mean_budget</th>\n",
       "      <th>total_budget_diff</th>\n",
       "      <th>mean_budget_diff</th>\n",
       "      <th>actor_total_score</th>\n",
       "      <th>actor_mean_score</th>\n",
       "      <th>director_total_score</th>\n",
       "      <th>director_mean_score</th>\n",
       "      <th>total_score_diff</th>\n",
       "      <th>mean_score_diff</th>\n",
       "    </tr>\n",
       "  </thead>\n",
       "  <tbody>\n",
       "    <tr>\n",
       "      <th>0</th>\n",
       "      <td>Drew Barrymore</td>\n",
       "      <td>Drew Barrymore</td>\n",
       "      <td>0</td>\n",
       "      <td>0</td>\n",
       "      <td>359800000.0</td>\n",
       "      <td>2.998333e+07</td>\n",
       "      <td>15000000.0</td>\n",
       "      <td>15000000.0</td>\n",
       "      <td>344800000.0</td>\n",
       "      <td>1.498333e+07</td>\n",
       "      <td>69.8</td>\n",
       "      <td>5.816667</td>\n",
       "      <td>6.9</td>\n",
       "      <td>6.9</td>\n",
       "      <td>62.9</td>\n",
       "      <td>1.083333</td>\n",
       "    </tr>\n",
       "    <tr>\n",
       "      <th>1</th>\n",
       "      <td>Drew Barrymore</td>\n",
       "      <td>Max Parrish</td>\n",
       "      <td>0</td>\n",
       "      <td>0</td>\n",
       "      <td>0.0</td>\n",
       "      <td>0.000000e+00</td>\n",
       "      <td>15000000.0</td>\n",
       "      <td>15000000.0</td>\n",
       "      <td>15000000.0</td>\n",
       "      <td>1.500000e+07</td>\n",
       "      <td>6.0</td>\n",
       "      <td>6.000000</td>\n",
       "      <td>6.9</td>\n",
       "      <td>6.9</td>\n",
       "      <td>0.9</td>\n",
       "      <td>0.900000</td>\n",
       "    </tr>\n",
       "    <tr>\n",
       "      <th>2</th>\n",
       "      <td>Drew Barrymore</td>\n",
       "      <td>Bill Pullman</td>\n",
       "      <td>0</td>\n",
       "      <td>0</td>\n",
       "      <td>79000000.0</td>\n",
       "      <td>1.580000e+07</td>\n",
       "      <td>15000000.0</td>\n",
       "      <td>15000000.0</td>\n",
       "      <td>64000000.0</td>\n",
       "      <td>8.000000e+05</td>\n",
       "      <td>33.2</td>\n",
       "      <td>6.640000</td>\n",
       "      <td>6.9</td>\n",
       "      <td>6.9</td>\n",
       "      <td>26.3</td>\n",
       "      <td>0.260000</td>\n",
       "    </tr>\n",
       "    <tr>\n",
       "      <th>3</th>\n",
       "      <td>Drew Barrymore</td>\n",
       "      <td>Robin Tunney</td>\n",
       "      <td>0</td>\n",
       "      <td>0</td>\n",
       "      <td>15000000.0</td>\n",
       "      <td>1.500000e+07</td>\n",
       "      <td>15000000.0</td>\n",
       "      <td>15000000.0</td>\n",
       "      <td>0.0</td>\n",
       "      <td>0.000000e+00</td>\n",
       "      <td>6.3</td>\n",
       "      <td>6.300000</td>\n",
       "      <td>6.9</td>\n",
       "      <td>6.9</td>\n",
       "      <td>0.6</td>\n",
       "      <td>0.600000</td>\n",
       "    </tr>\n",
       "    <tr>\n",
       "      <th>4</th>\n",
       "      <td>Drew Barrymore</td>\n",
       "      <td>Salma Hayek</td>\n",
       "      <td>0</td>\n",
       "      <td>0</td>\n",
       "      <td>12000000.0</td>\n",
       "      <td>6.000000e+06</td>\n",
       "      <td>15000000.0</td>\n",
       "      <td>15000000.0</td>\n",
       "      <td>3000000.0</td>\n",
       "      <td>9.000000e+06</td>\n",
       "      <td>13.8</td>\n",
       "      <td>6.900000</td>\n",
       "      <td>6.9</td>\n",
       "      <td>6.9</td>\n",
       "      <td>6.9</td>\n",
       "      <td>0.000000</td>\n",
       "    </tr>\n",
       "  </tbody>\n",
       "</table>\n",
       "</div>"
      ],
      "text/plain": [
       "         director           actor  collabs  collab indicator  \\\n",
       "0  Drew Barrymore  Drew Barrymore        0                 0   \n",
       "1  Drew Barrymore     Max Parrish        0                 0   \n",
       "2  Drew Barrymore    Bill Pullman        0                 0   \n",
       "3  Drew Barrymore    Robin Tunney        0                 0   \n",
       "4  Drew Barrymore     Salma Hayek        0                 0   \n",
       "\n",
       "   actor_total_budget  actor_mean_budget  director_total_budget  \\\n",
       "0         359800000.0       2.998333e+07             15000000.0   \n",
       "1                 0.0       0.000000e+00             15000000.0   \n",
       "2          79000000.0       1.580000e+07             15000000.0   \n",
       "3          15000000.0       1.500000e+07             15000000.0   \n",
       "4          12000000.0       6.000000e+06             15000000.0   \n",
       "\n",
       "   director_mean_budget  total_budget_diff  mean_budget_diff  \\\n",
       "0            15000000.0        344800000.0      1.498333e+07   \n",
       "1            15000000.0         15000000.0      1.500000e+07   \n",
       "2            15000000.0         64000000.0      8.000000e+05   \n",
       "3            15000000.0                0.0      0.000000e+00   \n",
       "4            15000000.0          3000000.0      9.000000e+06   \n",
       "\n",
       "   actor_total_score  actor_mean_score  director_total_score  \\\n",
       "0               69.8          5.816667                   6.9   \n",
       "1                6.0          6.000000                   6.9   \n",
       "2               33.2          6.640000                   6.9   \n",
       "3                6.3          6.300000                   6.9   \n",
       "4               13.8          6.900000                   6.9   \n",
       "\n",
       "   director_mean_score  total_score_diff  mean_score_diff  \n",
       "0                  6.9              62.9         1.083333  \n",
       "1                  6.9               0.9         0.900000  \n",
       "2                  6.9              26.3         0.260000  \n",
       "3                  6.9               0.6         0.600000  \n",
       "4                  6.9               6.9         0.000000  "
      ]
     },
     "execution_count": 21,
     "metadata": {},
     "output_type": "execute_result"
    }
   ],
   "source": [
    "actor_total_score = {}\n",
    "actor_mean_score = {}\n",
    "add_feature_actor(actor_total_score, actor_mean_score, 'score')\n",
    "df[\"actor_total_score\"] = df.actor.map(actor_total_score)\n",
    "df[\"actor_mean_score\"] = df.actor.map(actor_mean_score)\n",
    "\n",
    "director_total_score = {}\n",
    "director_mean_score = {}\n",
    "add_feature_director(director_total_score, director_mean_score, 'score')\n",
    "df[\"director_total_score\"] = df.director.map(director_total_score)\n",
    "df[\"director_mean_score\"] = df.director.map(director_mean_score)\n",
    "\n",
    "df[\"total_score_diff\"] = abs(df.director_total_score - df.actor_total_score)\n",
    "df[\"mean_score_diff\"] = abs(df.director_mean_score - df.actor_mean_score)\n",
    "df.head()"
   ]
  },
  {
   "cell_type": "code",
   "execution_count": 22,
   "metadata": {},
   "outputs": [
    {
     "data": {
      "text/html": [
       "<div>\n",
       "<style scoped>\n",
       "    .dataframe tbody tr th:only-of-type {\n",
       "        vertical-align: middle;\n",
       "    }\n",
       "\n",
       "    .dataframe tbody tr th {\n",
       "        vertical-align: top;\n",
       "    }\n",
       "\n",
       "    .dataframe thead th {\n",
       "        text-align: right;\n",
       "    }\n",
       "</style>\n",
       "<table border=\"1\" class=\"dataframe\">\n",
       "  <thead>\n",
       "    <tr style=\"text-align: right;\">\n",
       "      <th></th>\n",
       "      <th>budget</th>\n",
       "      <th>company</th>\n",
       "      <th>country</th>\n",
       "      <th>director</th>\n",
       "      <th>genre</th>\n",
       "      <th>gross</th>\n",
       "      <th>name</th>\n",
       "      <th>rating</th>\n",
       "      <th>released</th>\n",
       "      <th>runtime</th>\n",
       "      <th>score</th>\n",
       "      <th>star</th>\n",
       "      <th>votes</th>\n",
       "      <th>writer</th>\n",
       "      <th>year</th>\n",
       "    </tr>\n",
       "  </thead>\n",
       "  <tbody>\n",
       "    <tr>\n",
       "      <th>5254</th>\n",
       "      <td>0.0</td>\n",
       "      <td>Paramount Vantage</td>\n",
       "      <td>USA</td>\n",
       "      <td>Neal Brennan</td>\n",
       "      <td>Comedy</td>\n",
       "      <td>15102127.0</td>\n",
       "      <td>The Goods: Live Hard, Sell Hard</td>\n",
       "      <td>R</td>\n",
       "      <td>2009-08-14</td>\n",
       "      <td>89</td>\n",
       "      <td>5.8</td>\n",
       "      <td>Jeremy Piven</td>\n",
       "      <td>18361</td>\n",
       "      <td>Andy Stock</td>\n",
       "      <td>2009</td>\n",
       "    </tr>\n",
       "  </tbody>\n",
       "</table>\n",
       "</div>"
      ],
      "text/plain": [
       "      budget            company country      director   genre       gross  \\\n",
       "5254     0.0  Paramount Vantage     USA  Neal Brennan  Comedy  15102127.0   \n",
       "\n",
       "                                 name rating    released  runtime  score  \\\n",
       "5254  The Goods: Live Hard, Sell Hard      R  2009-08-14       89    5.8   \n",
       "\n",
       "              star  votes      writer  year  \n",
       "5254  Jeremy Piven  18361  Andy Stock  2009  "
      ]
     },
     "execution_count": 22,
     "metadata": {},
     "output_type": "execute_result"
    }
   ],
   "source": [
    "movie_industry[movie_industry.director=='Neal Brennan']"
   ]
  },
  {
   "cell_type": "code",
   "execution_count": 23,
   "metadata": {},
   "outputs": [
    {
     "data": {
      "text/plain": [
       "<matplotlib.legend.Legend at 0x161351ed0>"
      ]
     },
     "execution_count": 23,
     "metadata": {},
     "output_type": "execute_result"
    },
    {
     "data": {
      "image/png": "[encoded data removed]",
      "text/plain": [
       "<Figure size 432x288 with 1 Axes>"
      ]
     },
     "metadata": {
      "needs_background": "light"
     },
     "output_type": "display_data"
    }
   ],
   "source": [
    "df_dropped = df.copy().dropna()\n",
    "bins = np.linspace(min(df_dropped.mean_score_diff.values), max(df_dropped.mean_score_diff.values), 50)\n",
    "plt.hist(df_dropped[df_dropped[\"collab indicator\"] == 1].mean_score_diff.values, density = True, bins = bins, label = \"1\", alpha = 0.5)\n",
    "plt.hist(df_dropped[df_dropped[\"collab indicator\"] == 0].mean_score_diff.values, density = True, bins = bins, label = \"0\", alpha = 0.5)\n",
    "plt.legend()\n"
   ]
  },
  {
   "cell_type": "code",
   "execution_count": 24,
   "metadata": {},
   "outputs": [
    {
     "name": "stdout",
     "output_type": "stream",
     "text": [
      "mean_score_diff variance in pairs w/ collab is  0.1671648849403833\n",
      "mean_score_diff variance in pairs w/o collab is  0.7926996535043869\n"
     ]
    },
    {
     "data": {
      "text/plain": [
       "Ttest_indResult(statistic=-132.7346742573873, pvalue=0.0)"
      ]
     },
     "execution_count": 24,
     "metadata": {},
     "output_type": "execute_result"
    }
   ],
   "source": [
    "print('mean_score_diff variance in pairs w/ collab is  {}'.format(np.var(df_dropped[df_dropped[\"collab indicator\"] == 1].mean_score_diff.values)))\n",
    "print('mean_score_diff variance in pairs w/o collab is  {}'.format(np.var(df_dropped[df_dropped[\"collab indicator\"] == 0].mean_score_diff.values)))\n",
    "ttest_ind(df_dropped[df_dropped[\"collab indicator\"] == 1].mean_score_diff.values, \n",
    "                      df_dropped[df_dropped[\"collab indicator\"] == 0].mean_score_diff.values, \n",
    "                      equal_var=False)"
   ]
  },
  {
   "cell_type": "code",
   "execution_count": 25,
   "metadata": {},
   "outputs": [
    {
     "data": {
      "text/plain": [
       "<matplotlib.legend.Legend at 0x16153da90>"
      ]
     },
     "execution_count": 25,
     "metadata": {},
     "output_type": "execute_result"
    },
    {
     "data": {
      "image/png": "[encoded data removed]",
      "text/plain": [
       "<Figure size 432x288 with 1 Axes>"
      ]
     },
     "metadata": {
      "needs_background": "light"
     },
     "output_type": "display_data"
    }
   ],
   "source": [
    "bins = np.linspace(min(df_dropped.total_score_diff.values), max(df_dropped.total_score_diff.values), 50)\n",
    "plt.hist(df_dropped[df_dropped[\"collab indicator\"] == 1].total_score_diff.values, density = True, bins = bins, label = \"1\", alpha = 0.5)\n",
    "plt.hist(df_dropped[df_dropped[\"collab indicator\"] == 0].total_score_diff.values, density = True, bins = bins, label = \"0\", alpha = 0.5)\n",
    "plt.legend()\n"
   ]
  },
  {
   "cell_type": "code",
   "execution_count": 26,
   "metadata": {},
   "outputs": [
    {
     "name": "stdout",
     "output_type": "stream",
     "text": [
      "total_score_diff variance in pairs w/ collab is  1951.7441230141521\n",
      "total_score_diff variance in pairs w/o collab is  714.3838449451066\n"
     ]
    },
    {
     "data": {
      "text/plain": [
       "Ttest_indResult(statistic=40.11154851316732, pvalue=0.0)"
      ]
     },
     "execution_count": 26,
     "metadata": {},
     "output_type": "execute_result"
    }
   ],
   "source": [
    "print('total_score_diff variance in pairs w/ collab is  {}'.format(np.var(df_dropped[df_dropped[\"collab indicator\"] == 1].total_score_diff.values)))\n",
    "print('total_score_diff variance in pairs w/o collab is  {}'.format(np.var(df_dropped[df_dropped[\"collab indicator\"] == 0].total_score_diff.values)))\n",
    "ttest_ind(df_dropped[df_dropped[\"collab indicator\"] == 1].total_score_diff.values, \n",
    "                      df_dropped[df_dropped[\"collab indicator\"] == 0].total_score_diff.values, \n",
    "                      equal_var=False)"
   ]
  },
  {
   "cell_type": "markdown",
   "metadata": {},
   "source": [
    "### votes"
   ]
  },
  {
   "cell_type": "code",
   "execution_count": 27,
   "metadata": {},
   "outputs": [
    {
     "data": {
      "text/html": [
       "<div>\n",
       "<style scoped>\n",
       "    .dataframe tbody tr th:only-of-type {\n",
       "        vertical-align: middle;\n",
       "    }\n",
       "\n",
       "    .dataframe tbody tr th {\n",
       "        vertical-align: top;\n",
       "    }\n",
       "\n",
       "    .dataframe thead th {\n",
       "        text-align: right;\n",
       "    }\n",
       "</style>\n",
       "<table border=\"1\" class=\"dataframe\">\n",
       "  <thead>\n",
       "    <tr style=\"text-align: right;\">\n",
       "      <th></th>\n",
       "      <th>director</th>\n",
       "      <th>actor</th>\n",
       "      <th>collabs</th>\n",
       "      <th>collab indicator</th>\n",
       "      <th>actor_total_budget</th>\n",
       "      <th>actor_mean_budget</th>\n",
       "      <th>director_total_budget</th>\n",
       "      <th>director_mean_budget</th>\n",
       "      <th>total_budget_diff</th>\n",
       "      <th>mean_budget_diff</th>\n",
       "      <th>...</th>\n",
       "      <th>director_total_score</th>\n",
       "      <th>director_mean_score</th>\n",
       "      <th>total_score_diff</th>\n",
       "      <th>mean_score_diff</th>\n",
       "      <th>actor_total_votes</th>\n",
       "      <th>actor_mean_votes</th>\n",
       "      <th>director_total_votes</th>\n",
       "      <th>director_mean_votes</th>\n",
       "      <th>total_votes_diff</th>\n",
       "      <th>mean_votes_diff</th>\n",
       "    </tr>\n",
       "  </thead>\n",
       "  <tbody>\n",
       "    <tr>\n",
       "      <th>0</th>\n",
       "      <td>Drew Barrymore</td>\n",
       "      <td>Drew Barrymore</td>\n",
       "      <td>0</td>\n",
       "      <td>0</td>\n",
       "      <td>359800000.0</td>\n",
       "      <td>2.998333e+07</td>\n",
       "      <td>15000000.0</td>\n",
       "      <td>15000000.0</td>\n",
       "      <td>344800000.0</td>\n",
       "      <td>1.498333e+07</td>\n",
       "      <td>...</td>\n",
       "      <td>6.9</td>\n",
       "      <td>6.9</td>\n",
       "      <td>62.9</td>\n",
       "      <td>1.083333</td>\n",
       "      <td>425247</td>\n",
       "      <td>35437.25</td>\n",
       "      <td>58138</td>\n",
       "      <td>58138.0</td>\n",
       "      <td>367109</td>\n",
       "      <td>22700.75</td>\n",
       "    </tr>\n",
       "    <tr>\n",
       "      <th>1</th>\n",
       "      <td>Drew Barrymore</td>\n",
       "      <td>Max Parrish</td>\n",
       "      <td>0</td>\n",
       "      <td>0</td>\n",
       "      <td>0.0</td>\n",
       "      <td>0.000000e+00</td>\n",
       "      <td>15000000.0</td>\n",
       "      <td>15000000.0</td>\n",
       "      <td>15000000.0</td>\n",
       "      <td>1.500000e+07</td>\n",
       "      <td>...</td>\n",
       "      <td>6.9</td>\n",
       "      <td>6.9</td>\n",
       "      <td>0.9</td>\n",
       "      <td>0.900000</td>\n",
       "      <td>371</td>\n",
       "      <td>371.00</td>\n",
       "      <td>58138</td>\n",
       "      <td>58138.0</td>\n",
       "      <td>57767</td>\n",
       "      <td>57767.00</td>\n",
       "    </tr>\n",
       "    <tr>\n",
       "      <th>2</th>\n",
       "      <td>Drew Barrymore</td>\n",
       "      <td>Bill Pullman</td>\n",
       "      <td>0</td>\n",
       "      <td>0</td>\n",
       "      <td>79000000.0</td>\n",
       "      <td>1.580000e+07</td>\n",
       "      <td>15000000.0</td>\n",
       "      <td>15000000.0</td>\n",
       "      <td>64000000.0</td>\n",
       "      <td>8.000000e+05</td>\n",
       "      <td>...</td>\n",
       "      <td>6.9</td>\n",
       "      <td>6.9</td>\n",
       "      <td>26.3</td>\n",
       "      <td>0.260000</td>\n",
       "      <td>236285</td>\n",
       "      <td>47257.00</td>\n",
       "      <td>58138</td>\n",
       "      <td>58138.0</td>\n",
       "      <td>178147</td>\n",
       "      <td>10881.00</td>\n",
       "    </tr>\n",
       "    <tr>\n",
       "      <th>3</th>\n",
       "      <td>Drew Barrymore</td>\n",
       "      <td>Robin Tunney</td>\n",
       "      <td>0</td>\n",
       "      <td>0</td>\n",
       "      <td>15000000.0</td>\n",
       "      <td>1.500000e+07</td>\n",
       "      <td>15000000.0</td>\n",
       "      <td>15000000.0</td>\n",
       "      <td>0.0</td>\n",
       "      <td>0.000000e+00</td>\n",
       "      <td>...</td>\n",
       "      <td>6.9</td>\n",
       "      <td>6.9</td>\n",
       "      <td>0.6</td>\n",
       "      <td>0.600000</td>\n",
       "      <td>62195</td>\n",
       "      <td>62195.00</td>\n",
       "      <td>58138</td>\n",
       "      <td>58138.0</td>\n",
       "      <td>4057</td>\n",
       "      <td>4057.00</td>\n",
       "    </tr>\n",
       "    <tr>\n",
       "      <th>4</th>\n",
       "      <td>Drew Barrymore</td>\n",
       "      <td>Salma Hayek</td>\n",
       "      <td>0</td>\n",
       "      <td>0</td>\n",
       "      <td>12000000.0</td>\n",
       "      <td>6.000000e+06</td>\n",
       "      <td>15000000.0</td>\n",
       "      <td>15000000.0</td>\n",
       "      <td>3000000.0</td>\n",
       "      <td>9.000000e+06</td>\n",
       "      <td>...</td>\n",
       "      <td>6.9</td>\n",
       "      <td>6.9</td>\n",
       "      <td>6.9</td>\n",
       "      <td>0.000000</td>\n",
       "      <td>85589</td>\n",
       "      <td>42794.50</td>\n",
       "      <td>58138</td>\n",
       "      <td>58138.0</td>\n",
       "      <td>27451</td>\n",
       "      <td>15343.50</td>\n",
       "    </tr>\n",
       "  </tbody>\n",
       "</table>\n",
       "<p>5 rows × 22 columns</p>\n",
       "</div>"
      ],
      "text/plain": [
       "         director           actor  collabs  collab indicator  \\\n",
       "0  Drew Barrymore  Drew Barrymore        0                 0   \n",
       "1  Drew Barrymore     Max Parrish        0                 0   \n",
       "2  Drew Barrymore    Bill Pullman        0                 0   \n",
       "3  Drew Barrymore    Robin Tunney        0                 0   \n",
       "4  Drew Barrymore     Salma Hayek        0                 0   \n",
       "\n",
       "   actor_total_budget  actor_mean_budget  director_total_budget  \\\n",
       "0         359800000.0       2.998333e+07             15000000.0   \n",
       "1                 0.0       0.000000e+00             15000000.0   \n",
       "2          79000000.0       1.580000e+07             15000000.0   \n",
       "3          15000000.0       1.500000e+07             15000000.0   \n",
       "4          12000000.0       6.000000e+06             15000000.0   \n",
       "\n",
       "   director_mean_budget  total_budget_diff  mean_budget_diff  ...  \\\n",
       "0            15000000.0        344800000.0      1.498333e+07  ...   \n",
       "1            15000000.0         15000000.0      1.500000e+07  ...   \n",
       "2            15000000.0         64000000.0      8.000000e+05  ...   \n",
       "3            15000000.0                0.0      0.000000e+00  ...   \n",
       "4            15000000.0          3000000.0      9.000000e+06  ...   \n",
       "\n",
       "   director_total_score  director_mean_score  total_score_diff  \\\n",
       "0                   6.9                  6.9              62.9   \n",
       "1                   6.9                  6.9               0.9   \n",
       "2                   6.9                  6.9              26.3   \n",
       "3                   6.9                  6.9               0.6   \n",
       "4                   6.9                  6.9               6.9   \n",
       "\n",
       "   mean_score_diff  actor_total_votes  actor_mean_votes  director_total_votes  \\\n",
       "0         1.083333             425247          35437.25                 58138   \n",
       "1         0.900000                371            371.00                 58138   \n",
       "2         0.260000             236285          47257.00                 58138   \n",
       "3         0.600000              62195          62195.00                 58138   \n",
       "4         0.000000              85589          42794.50                 58138   \n",
       "\n",
       "   director_mean_votes  total_votes_diff  mean_votes_diff  \n",
       "0              58138.0            367109         22700.75  \n",
       "1              58138.0             57767         57767.00  \n",
       "2              58138.0            178147         10881.00  \n",
       "3              58138.0              4057          4057.00  \n",
       "4              58138.0             27451         15343.50  \n",
       "\n",
       "[5 rows x 22 columns]"
      ]
     },
     "execution_count": 27,
     "metadata": {},
     "output_type": "execute_result"
    }
   ],
   "source": [
    "actor_total_votes = {}\n",
    "actor_mean_votes = {}\n",
    "add_feature_actor(actor_total_votes, actor_mean_votes, 'votes')\n",
    "df[\"actor_total_votes\"] = df.actor.map(actor_total_votes)\n",
    "df[\"actor_mean_votes\"] = df.actor.map(actor_mean_votes)\n",
    "\n",
    "director_total_votes = {}\n",
    "director_mean_votes = {}\n",
    "add_feature_director(director_total_votes, director_mean_votes, 'votes')\n",
    "df[\"director_total_votes\"] = df.director.map(director_total_votes)\n",
    "df[\"director_mean_votes\"] = df.director.map(director_mean_votes)\n",
    "\n",
    "df[\"total_votes_diff\"] = abs(df.director_total_votes - df.actor_total_votes)\n",
    "df[\"mean_votes_diff\"] = abs(df.director_mean_votes - df.actor_mean_votes)\n",
    "df.head()"
   ]
  },
  {
   "cell_type": "code",
   "execution_count": 28,
   "metadata": {},
   "outputs": [
    {
     "data": {
      "text/plain": [
       "<matplotlib.legend.Legend at 0x1614e00d0>"
      ]
     },
     "execution_count": 28,
     "metadata": {},
     "output_type": "execute_result"
    },
    {
     "data": {
      "image/png": "[encoded data removed]",
      "text/plain": [
       "<Figure size 432x288 with 1 Axes>"
      ]
     },
     "metadata": {
      "needs_background": "light"
     },
     "output_type": "display_data"
    }
   ],
   "source": [
    "df_dropped = df.copy().dropna()\n",
    "bins = np.linspace(min(df_dropped.mean_votes_diff.values), max(df_dropped.mean_votes_diff.values), 50)\n",
    "plt.hist(df_dropped[df_dropped[\"collab indicator\"] == 1].mean_votes_diff.values, density = True, bins = bins, label = \"1\", alpha = 0.5)\n",
    "plt.hist(df_dropped[df_dropped[\"collab indicator\"] == 0].mean_votes_diff.values, density = True, bins = bins, label = \"0\", alpha = 0.5)\n",
    "plt.legend()"
   ]
  },
  {
   "cell_type": "code",
   "execution_count": 29,
   "metadata": {},
   "outputs": [
    {
     "name": "stdout",
     "output_type": "stream",
     "text": [
      "mean_votes_diff variance in pairs w/ collab is  5024807374.804754\n",
      "mean_votes_diff variance in pairs w/o collab is  6901274259.018731\n"
     ]
    },
    {
     "data": {
      "text/plain": [
       "Ttest_indResult(statistic=-10.44687459264266, pvalue=2.433289919493234e-25)"
      ]
     },
     "execution_count": 29,
     "metadata": {},
     "output_type": "execute_result"
    }
   ],
   "source": [
    "print('mean_votes_diff variance in pairs w/ collab is  {}'.format(np.var(df_dropped[df_dropped[\"collab indicator\"] == 1].mean_votes_diff.values)))\n",
    "print('mean_votes_diff variance in pairs w/o collab is  {}'.format(np.var(df_dropped[df_dropped[\"collab indicator\"] == 0].mean_votes_diff.values)))\n",
    "ttest_ind(df_dropped[df_dropped[\"collab indicator\"] == 1].mean_votes_diff.values, \n",
    "                      df_dropped[df_dropped[\"collab indicator\"] == 0].mean_votes_diff.values, \n",
    "                      equal_var=False)"
   ]
  },
  {
   "cell_type": "code",
   "execution_count": 30,
   "metadata": {},
   "outputs": [
    {
     "data": {
      "text/plain": [
       "<matplotlib.legend.Legend at 0x130af0f10>"
      ]
     },
     "execution_count": 30,
     "metadata": {},
     "output_type": "execute_result"
    },
    {
     "data": {
      "image/png": "[encoded data removed]",
      "text/plain": [
       "<Figure size 432x288 with 1 Axes>"
      ]
     },
     "metadata": {
      "needs_background": "light"
     },
     "output_type": "display_data"
    }
   ],
   "source": [
    "bins = np.linspace(min(df_dropped.total_votes_diff.values), max(df_dropped.total_votes_diff.values), 50)\n",
    "plt.hist(df_dropped[df_dropped[\"collab indicator\"] == 1].total_votes_diff.values, density = True, bins = bins, label = \"1\", alpha = 0.5)\n",
    "plt.hist(df_dropped[df_dropped[\"collab indicator\"] == 0].total_votes_diff.values, density = True, bins = bins, label = \"0\", alpha = 0.5)\n",
    "plt.legend()"
   ]
  },
  {
   "cell_type": "code",
   "execution_count": 31,
   "metadata": {},
   "outputs": [
    {
     "name": "stdout",
     "output_type": "stream",
     "text": [
      "total_votes_diff variance in pairs w/ collab is  1614598418040.543\n",
      "total_votes_diff variance in pairs w/o collab is  527109690822.26184\n"
     ]
    },
    {
     "data": {
      "text/plain": [
       "Ttest_indResult(statistic=28.404723742823816, pvalue=4.0248852997916604e-167)"
      ]
     },
     "execution_count": 31,
     "metadata": {},
     "output_type": "execute_result"
    }
   ],
   "source": [
    "print('total_votes_diff variance in pairs w/ collab is  {}'.format(np.var(df_dropped[df_dropped[\"collab indicator\"] == 1].total_votes_diff.values)))\n",
    "print('total_votes_diff variance in pairs w/o collab is  {}'.format(np.var(df_dropped[df_dropped[\"collab indicator\"] == 0].total_votes_diff.values)))\n",
    "ttest_ind(df_dropped[df_dropped[\"collab indicator\"] == 1].total_votes_diff.values, \n",
    "                      df_dropped[df_dropped[\"collab indicator\"] == 0].total_votes_diff.values, \n",
    "                      equal_var=False)"
   ]
  },
  {
   "cell_type": "markdown",
   "metadata": {},
   "source": [
    "### runtime"
   ]
  },
  {
   "cell_type": "code",
   "execution_count": 32,
   "metadata": {},
   "outputs": [
    {
     "data": {
      "text/html": [
       "<div>\n",
       "<style scoped>\n",
       "    .dataframe tbody tr th:only-of-type {\n",
       "        vertical-align: middle;\n",
       "    }\n",
       "\n",
       "    .dataframe tbody tr th {\n",
       "        vertical-align: top;\n",
       "    }\n",
       "\n",
       "    .dataframe thead th {\n",
       "        text-align: right;\n",
       "    }\n",
       "</style>\n",
       "<table border=\"1\" class=\"dataframe\">\n",
       "  <thead>\n",
       "    <tr style=\"text-align: right;\">\n",
       "      <th></th>\n",
       "      <th>director</th>\n",
       "      <th>actor</th>\n",
       "      <th>collabs</th>\n",
       "      <th>collab indicator</th>\n",
       "      <th>actor_total_budget</th>\n",
       "      <th>actor_mean_budget</th>\n",
       "      <th>director_total_budget</th>\n",
       "      <th>director_mean_budget</th>\n",
       "      <th>total_budget_diff</th>\n",
       "      <th>mean_budget_diff</th>\n",
       "      <th>...</th>\n",
       "      <th>director_total_votes</th>\n",
       "      <th>director_mean_votes</th>\n",
       "      <th>total_votes_diff</th>\n",
       "      <th>mean_votes_diff</th>\n",
       "      <th>actor_total_runtime</th>\n",
       "      <th>actor_mean_runtime</th>\n",
       "      <th>director_total_runtime</th>\n",
       "      <th>director_mean_runtime</th>\n",
       "      <th>total_runtime_diff</th>\n",
       "      <th>mean_runtime_diff</th>\n",
       "    </tr>\n",
       "  </thead>\n",
       "  <tbody>\n",
       "    <tr>\n",
       "      <th>0</th>\n",
       "      <td>Drew Barrymore</td>\n",
       "      <td>Drew Barrymore</td>\n",
       "      <td>0</td>\n",
       "      <td>0</td>\n",
       "      <td>359800000.0</td>\n",
       "      <td>2.998333e+07</td>\n",
       "      <td>15000000.0</td>\n",
       "      <td>15000000.0</td>\n",
       "      <td>344800000.0</td>\n",
       "      <td>1.498333e+07</td>\n",
       "      <td>...</td>\n",
       "      <td>58138</td>\n",
       "      <td>58138.0</td>\n",
       "      <td>367109</td>\n",
       "      <td>22700.75</td>\n",
       "      <td>1256</td>\n",
       "      <td>104.666667</td>\n",
       "      <td>111</td>\n",
       "      <td>111.0</td>\n",
       "      <td>1145</td>\n",
       "      <td>6.333333</td>\n",
       "    </tr>\n",
       "    <tr>\n",
       "      <th>1</th>\n",
       "      <td>Drew Barrymore</td>\n",
       "      <td>Max Parrish</td>\n",
       "      <td>0</td>\n",
       "      <td>0</td>\n",
       "      <td>0.0</td>\n",
       "      <td>0.000000e+00</td>\n",
       "      <td>15000000.0</td>\n",
       "      <td>15000000.0</td>\n",
       "      <td>15000000.0</td>\n",
       "      <td>1.500000e+07</td>\n",
       "      <td>...</td>\n",
       "      <td>58138</td>\n",
       "      <td>58138.0</td>\n",
       "      <td>57767</td>\n",
       "      <td>57767.00</td>\n",
       "      <td>92</td>\n",
       "      <td>92.000000</td>\n",
       "      <td>111</td>\n",
       "      <td>111.0</td>\n",
       "      <td>19</td>\n",
       "      <td>19.000000</td>\n",
       "    </tr>\n",
       "    <tr>\n",
       "      <th>2</th>\n",
       "      <td>Drew Barrymore</td>\n",
       "      <td>Bill Pullman</td>\n",
       "      <td>0</td>\n",
       "      <td>0</td>\n",
       "      <td>79000000.0</td>\n",
       "      <td>1.580000e+07</td>\n",
       "      <td>15000000.0</td>\n",
       "      <td>15000000.0</td>\n",
       "      <td>64000000.0</td>\n",
       "      <td>8.000000e+05</td>\n",
       "      <td>...</td>\n",
       "      <td>58138</td>\n",
       "      <td>58138.0</td>\n",
       "      <td>178147</td>\n",
       "      <td>10881.00</td>\n",
       "      <td>533</td>\n",
       "      <td>106.600000</td>\n",
       "      <td>111</td>\n",
       "      <td>111.0</td>\n",
       "      <td>422</td>\n",
       "      <td>4.400000</td>\n",
       "    </tr>\n",
       "    <tr>\n",
       "      <th>3</th>\n",
       "      <td>Drew Barrymore</td>\n",
       "      <td>Robin Tunney</td>\n",
       "      <td>0</td>\n",
       "      <td>0</td>\n",
       "      <td>15000000.0</td>\n",
       "      <td>1.500000e+07</td>\n",
       "      <td>15000000.0</td>\n",
       "      <td>15000000.0</td>\n",
       "      <td>0.0</td>\n",
       "      <td>0.000000e+00</td>\n",
       "      <td>...</td>\n",
       "      <td>58138</td>\n",
       "      <td>58138.0</td>\n",
       "      <td>4057</td>\n",
       "      <td>4057.00</td>\n",
       "      <td>101</td>\n",
       "      <td>101.000000</td>\n",
       "      <td>111</td>\n",
       "      <td>111.0</td>\n",
       "      <td>10</td>\n",
       "      <td>10.000000</td>\n",
       "    </tr>\n",
       "    <tr>\n",
       "      <th>4</th>\n",
       "      <td>Drew Barrymore</td>\n",
       "      <td>Salma Hayek</td>\n",
       "      <td>0</td>\n",
       "      <td>0</td>\n",
       "      <td>12000000.0</td>\n",
       "      <td>6.000000e+06</td>\n",
       "      <td>15000000.0</td>\n",
       "      <td>15000000.0</td>\n",
       "      <td>3000000.0</td>\n",
       "      <td>9.000000e+06</td>\n",
       "      <td>...</td>\n",
       "      <td>58138</td>\n",
       "      <td>58138.0</td>\n",
       "      <td>27451</td>\n",
       "      <td>15343.50</td>\n",
       "      <td>257</td>\n",
       "      <td>128.500000</td>\n",
       "      <td>111</td>\n",
       "      <td>111.0</td>\n",
       "      <td>146</td>\n",
       "      <td>17.500000</td>\n",
       "    </tr>\n",
       "  </tbody>\n",
       "</table>\n",
       "<p>5 rows × 28 columns</p>\n",
       "</div>"
      ],
      "text/plain": [
       "         director           actor  collabs  collab indicator  \\\n",
       "0  Drew Barrymore  Drew Barrymore        0                 0   \n",
       "1  Drew Barrymore     Max Parrish        0                 0   \n",
       "2  Drew Barrymore    Bill Pullman        0                 0   \n",
       "3  Drew Barrymore    Robin Tunney        0                 0   \n",
       "4  Drew Barrymore     Salma Hayek        0                 0   \n",
       "\n",
       "   actor_total_budget  actor_mean_budget  director_total_budget  \\\n",
       "0         359800000.0       2.998333e+07             15000000.0   \n",
       "1                 0.0       0.000000e+00             15000000.0   \n",
       "2          79000000.0       1.580000e+07             15000000.0   \n",
       "3          15000000.0       1.500000e+07             15000000.0   \n",
       "4          12000000.0       6.000000e+06             15000000.0   \n",
       "\n",
       "   director_mean_budget  total_budget_diff  mean_budget_diff  ...  \\\n",
       "0            15000000.0        344800000.0      1.498333e+07  ...   \n",
       "1            15000000.0         15000000.0      1.500000e+07  ...   \n",
       "2            15000000.0         64000000.0      8.000000e+05  ...   \n",
       "3            15000000.0                0.0      0.000000e+00  ...   \n",
       "4            15000000.0          3000000.0      9.000000e+06  ...   \n",
       "\n",
       "   director_total_votes  director_mean_votes  total_votes_diff  \\\n",
       "0                 58138              58138.0            367109   \n",
       "1                 58138              58138.0             57767   \n",
       "2                 58138              58138.0            178147   \n",
       "3                 58138              58138.0              4057   \n",
       "4                 58138              58138.0             27451   \n",
       "\n",
       "   mean_votes_diff  actor_total_runtime  actor_mean_runtime  \\\n",
       "0         22700.75                 1256          104.666667   \n",
       "1         57767.00                   92           92.000000   \n",
       "2         10881.00                  533          106.600000   \n",
       "3          4057.00                  101          101.000000   \n",
       "4         15343.50                  257          128.500000   \n",
       "\n",
       "   director_total_runtime  director_mean_runtime  total_runtime_diff  \\\n",
       "0                     111                  111.0                1145   \n",
       "1                     111                  111.0                  19   \n",
       "2                     111                  111.0                 422   \n",
       "3                     111                  111.0                  10   \n",
       "4                     111                  111.0                 146   \n",
       "\n",
       "   mean_runtime_diff  \n",
       "0           6.333333  \n",
       "1          19.000000  \n",
       "2           4.400000  \n",
       "3          10.000000  \n",
       "4          17.500000  \n",
       "\n",
       "[5 rows x 28 columns]"
      ]
     },
     "execution_count": 32,
     "metadata": {},
     "output_type": "execute_result"
    }
   ],
   "source": [
    "actor_total_runtime = {}\n",
    "actor_mean_runtime = {}\n",
    "add_feature_actor(actor_total_runtime, actor_mean_runtime, 'runtime')\n",
    "df[\"actor_total_runtime\"] = df.actor.map(actor_total_runtime)\n",
    "df[\"actor_mean_runtime\"] = df.actor.map(actor_mean_runtime)\n",
    "\n",
    "director_total_runtime = {}\n",
    "director_mean_runtime = {}\n",
    "add_feature_director(director_total_runtime, director_mean_runtime, 'runtime')\n",
    "df[\"director_total_runtime\"] = df.director.map(director_total_runtime)\n",
    "df[\"director_mean_runtime\"] = df.director.map(director_mean_runtime)\n",
    "\n",
    "df[\"total_runtime_diff\"] = abs(df.director_total_runtime - df.actor_total_runtime)\n",
    "df[\"mean_runtime_diff\"] = abs(df.director_mean_runtime - df.actor_mean_runtime)\n",
    "df.head()"
   ]
  },
  {
   "cell_type": "code",
   "execution_count": 33,
   "metadata": {},
   "outputs": [
    {
     "data": {
      "text/plain": [
       "<matplotlib.legend.Legend at 0x130e7f4d0>"
      ]
     },
     "execution_count": 33,
     "metadata": {},
     "output_type": "execute_result"
    },
    {
     "data": {
      "image/png": "[encoded data removed]",
      "text/plain": [
       "<Figure size 432x288 with 1 Axes>"
      ]
     },
     "metadata": {
      "needs_background": "light"
     },
     "output_type": "display_data"
    }
   ],
   "source": [
    "df_dropped = df.copy().dropna()\n",
    "bins = np.linspace(min(df_dropped.mean_runtime_diff.values), max(df_dropped.mean_runtime_diff.values), 50)\n",
    "plt.hist(df_dropped[df_dropped[\"collab indicator\"] == 1].mean_runtime_diff.values, density = True, bins = bins, label = \"1\", alpha = 0.5)\n",
    "plt.hist(df_dropped[df_dropped[\"collab indicator\"] == 0].mean_runtime_diff.values, density = True, bins = bins, label = \"0\", alpha = 0.5)\n",
    "plt.legend()"
   ]
  },
  {
   "cell_type": "code",
   "execution_count": 34,
   "metadata": {},
   "outputs": [
    {
     "name": "stdout",
     "output_type": "stream",
     "text": [
      "mean_runtime_diff variance in pairs w/ collab is  67.40045405463802\n",
      "mean_runtime_diff variance in pairs w/o collab is  277.3293865817507\n"
     ]
    },
    {
     "data": {
      "text/plain": [
       "Ttest_indResult(statistic=-73.49696909798462, pvalue=0.0)"
      ]
     },
     "execution_count": 34,
     "metadata": {},
     "output_type": "execute_result"
    }
   ],
   "source": [
    "print('mean_runtime_diff variance in pairs w/ collab is  {}'.format(np.var(df_dropped[df_dropped[\"collab indicator\"] == 1].mean_runtime_diff.values)))\n",
    "print('mean_runtime_diff variance in pairs w/o collab is  {}'.format(np.var(df_dropped[df_dropped[\"collab indicator\"] == 0].mean_runtime_diff.values)))\n",
    "ttest_ind(df_dropped[df_dropped[\"collab indicator\"] == 1].mean_runtime_diff.values, \n",
    "                      df_dropped[df_dropped[\"collab indicator\"] == 0].mean_runtime_diff.values, \n",
    "                      equal_var=False)"
   ]
  },
  {
   "cell_type": "code",
   "execution_count": 35,
   "metadata": {},
   "outputs": [
    {
     "data": {
      "text/plain": [
       "<matplotlib.legend.Legend at 0x161ba3f10>"
      ]
     },
     "execution_count": 35,
     "metadata": {},
     "output_type": "execute_result"
    },
    {
     "data": {
      "image/png": "[encoded data removed]",
      "text/plain": [
       "<Figure size 432x288 with 1 Axes>"
      ]
     },
     "metadata": {
      "needs_background": "light"
     },
     "output_type": "display_data"
    }
   ],
   "source": [
    "bins = np.linspace(min(df_dropped.total_runtime_diff.values), max(df_dropped.total_runtime_diff.values), 50)\n",
    "plt.hist(df_dropped[df_dropped[\"collab indicator\"] == 1].total_runtime_diff.values, density = True, bins = bins, label = \"1\", alpha = 0.5)\n",
    "plt.hist(df_dropped[df_dropped[\"collab indicator\"] == 0].total_runtime_diff.values, density = True, bins = bins, label = \"0\", alpha = 0.5)\n",
    "plt.legend()"
   ]
  },
  {
   "cell_type": "code",
   "execution_count": 36,
   "metadata": {},
   "outputs": [
    {
     "name": "stdout",
     "output_type": "stream",
     "text": [
      "total_runtime_diff variance in pairs w/ collab is  595748.240071503\n",
      "total_runtime_diff variance in pairs w/o collab is  216318.20321231594\n"
     ]
    },
    {
     "data": {
      "text/plain": [
       "Ttest_indResult(statistic=39.887490193490606, pvalue=0.0)"
      ]
     },
     "execution_count": 36,
     "metadata": {},
     "output_type": "execute_result"
    }
   ],
   "source": [
    "print('total_runtime_diff variance in pairs w/ collab is  {}'.format(np.var(df_dropped[df_dropped[\"collab indicator\"] == 1].total_runtime_diff.values)))\n",
    "print('total_runtime_diff variance in pairs w/o collab is  {}'.format(np.var(df_dropped[df_dropped[\"collab indicator\"] == 0].total_runtime_diff.values)))\n",
    "ttest_ind(df_dropped[df_dropped[\"collab indicator\"] == 1].total_runtime_diff.values, \n",
    "                      df_dropped[df_dropped[\"collab indicator\"] == 0].total_runtime_diff.values, \n",
    "                      equal_var=False)"
   ]
  },
  {
   "cell_type": "markdown",
   "metadata": {},
   "source": [
    "### oscar nomination"
   ]
  },
  {
   "cell_type": "code",
   "execution_count": 37,
   "metadata": {},
   "outputs": [
    {
     "data": {
      "text/html": [
       "<div>\n",
       "<style scoped>\n",
       "    .dataframe tbody tr th:only-of-type {\n",
       "        vertical-align: middle;\n",
       "    }\n",
       "\n",
       "    .dataframe tbody tr th {\n",
       "        vertical-align: top;\n",
       "    }\n",
       "\n",
       "    .dataframe thead th {\n",
       "        text-align: right;\n",
       "    }\n",
       "</style>\n",
       "<table border=\"1\" class=\"dataframe\">\n",
       "  <thead>\n",
       "    <tr style=\"text-align: right;\">\n",
       "      <th></th>\n",
       "      <th>year_film</th>\n",
       "      <th>year_ceremony</th>\n",
       "      <th>ceremony</th>\n",
       "      <th>category</th>\n",
       "      <th>name</th>\n",
       "      <th>film</th>\n",
       "      <th>winner</th>\n",
       "    </tr>\n",
       "  </thead>\n",
       "  <tbody>\n",
       "    <tr>\n",
       "      <th>0</th>\n",
       "      <td>1927</td>\n",
       "      <td>1928</td>\n",
       "      <td>1</td>\n",
       "      <td>ACTOR</td>\n",
       "      <td>Richard Barthelmess</td>\n",
       "      <td>The Noose</td>\n",
       "      <td>False</td>\n",
       "    </tr>\n",
       "    <tr>\n",
       "      <th>1</th>\n",
       "      <td>1927</td>\n",
       "      <td>1928</td>\n",
       "      <td>1</td>\n",
       "      <td>ACTOR</td>\n",
       "      <td>Emil Jannings</td>\n",
       "      <td>The Last Command</td>\n",
       "      <td>True</td>\n",
       "    </tr>\n",
       "    <tr>\n",
       "      <th>2</th>\n",
       "      <td>1927</td>\n",
       "      <td>1928</td>\n",
       "      <td>1</td>\n",
       "      <td>ACTRESS</td>\n",
       "      <td>Louise Dresser</td>\n",
       "      <td>A Ship Comes In</td>\n",
       "      <td>False</td>\n",
       "    </tr>\n",
       "    <tr>\n",
       "      <th>3</th>\n",
       "      <td>1927</td>\n",
       "      <td>1928</td>\n",
       "      <td>1</td>\n",
       "      <td>ACTRESS</td>\n",
       "      <td>Janet Gaynor</td>\n",
       "      <td>7th Heaven</td>\n",
       "      <td>True</td>\n",
       "    </tr>\n",
       "    <tr>\n",
       "      <th>4</th>\n",
       "      <td>1927</td>\n",
       "      <td>1928</td>\n",
       "      <td>1</td>\n",
       "      <td>ACTRESS</td>\n",
       "      <td>Gloria Swanson</td>\n",
       "      <td>Sadie Thompson</td>\n",
       "      <td>False</td>\n",
       "    </tr>\n",
       "  </tbody>\n",
       "</table>\n",
       "</div>"
      ],
      "text/plain": [
       "   year_film  year_ceremony  ceremony category                 name  \\\n",
       "0       1927           1928         1    ACTOR  Richard Barthelmess   \n",
       "1       1927           1928         1    ACTOR        Emil Jannings   \n",
       "2       1927           1928         1  ACTRESS       Louise Dresser   \n",
       "3       1927           1928         1  ACTRESS         Janet Gaynor   \n",
       "4       1927           1928         1  ACTRESS       Gloria Swanson   \n",
       "\n",
       "               film  winner  \n",
       "0         The Noose   False  \n",
       "1  The Last Command    True  \n",
       "2   A Ship Comes In   False  \n",
       "3        7th Heaven    True  \n",
       "4    Sadie Thompson   False  "
      ]
     },
     "execution_count": 37,
     "metadata": {},
     "output_type": "execute_result"
    }
   ],
   "source": [
    "oscar = pd.read_csv(\"../data/the_oscar_award.csv\")\n",
    "oscar.head()"
   ]
  },
  {
   "cell_type": "code",
   "execution_count": 38,
   "metadata": {},
   "outputs": [
    {
     "name": "stderr",
     "output_type": "stream",
     "text": [
      "/opt/miniconda3/lib/python3.7/site-packages/pandas/core/strings.py:2001: UserWarning: This pattern has match groups. To actually get the groups, use str.extract.\n",
      "  return func(self, *args, **kwargs)\n"
     ]
    },
    {
     "data": {
      "text/html": [
       "<div>\n",
       "<style scoped>\n",
       "    .dataframe tbody tr th:only-of-type {\n",
       "        vertical-align: middle;\n",
       "    }\n",
       "\n",
       "    .dataframe tbody tr th {\n",
       "        vertical-align: top;\n",
       "    }\n",
       "\n",
       "    .dataframe thead th {\n",
       "        text-align: right;\n",
       "    }\n",
       "</style>\n",
       "<table border=\"1\" class=\"dataframe\">\n",
       "  <thead>\n",
       "    <tr style=\"text-align: right;\">\n",
       "      <th></th>\n",
       "      <th>year_film</th>\n",
       "      <th>year_ceremony</th>\n",
       "      <th>ceremony</th>\n",
       "      <th>category</th>\n",
       "      <th>name</th>\n",
       "      <th>film</th>\n",
       "      <th>winner</th>\n",
       "    </tr>\n",
       "  </thead>\n",
       "  <tbody>\n",
       "    <tr>\n",
       "      <th>0</th>\n",
       "      <td>1927</td>\n",
       "      <td>1928</td>\n",
       "      <td>1</td>\n",
       "      <td>actor</td>\n",
       "      <td>Richard Barthelmess</td>\n",
       "      <td>The Noose</td>\n",
       "      <td>False</td>\n",
       "    </tr>\n",
       "    <tr>\n",
       "      <th>1</th>\n",
       "      <td>1927</td>\n",
       "      <td>1928</td>\n",
       "      <td>1</td>\n",
       "      <td>actor</td>\n",
       "      <td>Emil Jannings</td>\n",
       "      <td>The Last Command</td>\n",
       "      <td>True</td>\n",
       "    </tr>\n",
       "    <tr>\n",
       "      <th>2</th>\n",
       "      <td>1927</td>\n",
       "      <td>1928</td>\n",
       "      <td>1</td>\n",
       "      <td>actress</td>\n",
       "      <td>Louise Dresser</td>\n",
       "      <td>A Ship Comes In</td>\n",
       "      <td>False</td>\n",
       "    </tr>\n",
       "    <tr>\n",
       "      <th>3</th>\n",
       "      <td>1927</td>\n",
       "      <td>1928</td>\n",
       "      <td>1</td>\n",
       "      <td>actress</td>\n",
       "      <td>Janet Gaynor</td>\n",
       "      <td>7th Heaven</td>\n",
       "      <td>True</td>\n",
       "    </tr>\n",
       "    <tr>\n",
       "      <th>4</th>\n",
       "      <td>1927</td>\n",
       "      <td>1928</td>\n",
       "      <td>1</td>\n",
       "      <td>actress</td>\n",
       "      <td>Gloria Swanson</td>\n",
       "      <td>Sadie Thompson</td>\n",
       "      <td>False</td>\n",
       "    </tr>\n",
       "    <tr>\n",
       "      <th>...</th>\n",
       "      <td>...</td>\n",
       "      <td>...</td>\n",
       "      <td>...</td>\n",
       "      <td>...</td>\n",
       "      <td>...</td>\n",
       "      <td>...</td>\n",
       "      <td>...</td>\n",
       "    </tr>\n",
       "    <tr>\n",
       "      <th>10302</th>\n",
       "      <td>2019</td>\n",
       "      <td>2020</td>\n",
       "      <td>92</td>\n",
       "      <td>directing</td>\n",
       "      <td>Martin Scorsese</td>\n",
       "      <td>The Irishman</td>\n",
       "      <td>False</td>\n",
       "    </tr>\n",
       "    <tr>\n",
       "      <th>10303</th>\n",
       "      <td>2019</td>\n",
       "      <td>2020</td>\n",
       "      <td>92</td>\n",
       "      <td>directing</td>\n",
       "      <td>Todd Phillips</td>\n",
       "      <td>Joker</td>\n",
       "      <td>False</td>\n",
       "    </tr>\n",
       "    <tr>\n",
       "      <th>10304</th>\n",
       "      <td>2019</td>\n",
       "      <td>2020</td>\n",
       "      <td>92</td>\n",
       "      <td>directing</td>\n",
       "      <td>Sam Mendes</td>\n",
       "      <td>1917</td>\n",
       "      <td>False</td>\n",
       "    </tr>\n",
       "    <tr>\n",
       "      <th>10305</th>\n",
       "      <td>2019</td>\n",
       "      <td>2020</td>\n",
       "      <td>92</td>\n",
       "      <td>directing</td>\n",
       "      <td>Quentin Tarantino</td>\n",
       "      <td>Once upon a Time...in Hollywood</td>\n",
       "      <td>False</td>\n",
       "    </tr>\n",
       "    <tr>\n",
       "      <th>10306</th>\n",
       "      <td>2019</td>\n",
       "      <td>2020</td>\n",
       "      <td>92</td>\n",
       "      <td>directing</td>\n",
       "      <td>Bong Joon Ho</td>\n",
       "      <td>Parasite</td>\n",
       "      <td>True</td>\n",
       "    </tr>\n",
       "  </tbody>\n",
       "</table>\n",
       "<p>2202 rows × 7 columns</p>\n",
       "</div>"
      ],
      "text/plain": [
       "       year_film  year_ceremony  ceremony   category                 name  \\\n",
       "0           1927           1928         1      actor  Richard Barthelmess   \n",
       "1           1927           1928         1      actor        Emil Jannings   \n",
       "2           1927           1928         1    actress       Louise Dresser   \n",
       "3           1927           1928         1    actress         Janet Gaynor   \n",
       "4           1927           1928         1    actress       Gloria Swanson   \n",
       "...          ...            ...       ...        ...                  ...   \n",
       "10302       2019           2020        92  directing      Martin Scorsese   \n",
       "10303       2019           2020        92  directing        Todd Phillips   \n",
       "10304       2019           2020        92  directing           Sam Mendes   \n",
       "10305       2019           2020        92  directing    Quentin Tarantino   \n",
       "10306       2019           2020        92  directing         Bong Joon Ho   \n",
       "\n",
       "                                  film  winner  \n",
       "0                            The Noose   False  \n",
       "1                     The Last Command    True  \n",
       "2                      A Ship Comes In   False  \n",
       "3                           7th Heaven    True  \n",
       "4                       Sadie Thompson   False  \n",
       "...                                ...     ...  \n",
       "10302                     The Irishman   False  \n",
       "10303                            Joker   False  \n",
       "10304                             1917   False  \n",
       "10305  Once upon a Time...in Hollywood   False  \n",
       "10306                         Parasite    True  \n",
       "\n",
       "[2202 rows x 7 columns]"
      ]
     },
     "execution_count": 38,
     "metadata": {},
     "output_type": "execute_result"
    }
   ],
   "source": [
    "oscar.category = oscar.category.str.lower()\n",
    "filtered = oscar[oscar.category.str.contains(\"(actor)|(actress)|(directing)\", regex = True)]\n",
    "filtered"
   ]
  },
  {
   "cell_type": "code",
   "execution_count": 39,
   "metadata": {},
   "outputs": [
    {
     "name": "stderr",
     "output_type": "stream",
     "text": [
      "/opt/miniconda3/lib/python3.7/site-packages/pandas/core/strings.py:2001: UserWarning: This pattern has match groups. To actually get the groups, use str.extract.\n",
      "  return func(self, *args, **kwargs)\n",
      "/opt/miniconda3/lib/python3.7/site-packages/pandas/core/indexing.py:1596: SettingWithCopyWarning: \n",
      "A value is trying to be set on a copy of a slice from a DataFrame.\n",
      "Try using .loc[row_indexer,col_indexer] = value instead\n",
      "\n",
      "See the caveats in the documentation: https://pandas.pydata.org/pandas-docs/stable/user_guide/indexing.html#returning-a-view-versus-a-copy\n",
      "  self.obj[key] = _infer_fill_value(value)\n",
      "/opt/miniconda3/lib/python3.7/site-packages/pandas/core/indexing.py:1765: SettingWithCopyWarning: \n",
      "A value is trying to be set on a copy of a slice from a DataFrame.\n",
      "Try using .loc[row_indexer,col_indexer] = value instead\n",
      "\n",
      "See the caveats in the documentation: https://pandas.pydata.org/pandas-docs/stable/user_guide/indexing.html#returning-a-view-versus-a-copy\n",
      "  isetter(loc, value)\n"
     ]
    }
   ],
   "source": [
    "filtered.loc[filtered.category.str.contains(\"(actor)|(actress)\"), 'is_director'] = 0\n",
    "filtered.loc[filtered.category.str.contains(\"directing\"), 'is_director'] = 1"
   ]
  },
  {
   "cell_type": "code",
   "execution_count": 40,
   "metadata": {},
   "outputs": [
    {
     "name": "stderr",
     "output_type": "stream",
     "text": [
      "/opt/miniconda3/lib/python3.7/site-packages/pandas/core/generic.py:5165: SettingWithCopyWarning: \n",
      "A value is trying to be set on a copy of a slice from a DataFrame.\n",
      "Try using .loc[row_indexer,col_indexer] = value instead\n",
      "\n",
      "See the caveats in the documentation: https://pandas.pydata.org/pandas-docs/stable/user_guide/indexing.html#returning-a-view-versus-a-copy\n",
      "  self[name] = value\n"
     ]
    },
    {
     "data": {
      "text/html": [
       "<div>\n",
       "<style scoped>\n",
       "    .dataframe tbody tr th:only-of-type {\n",
       "        vertical-align: middle;\n",
       "    }\n",
       "\n",
       "    .dataframe tbody tr th {\n",
       "        vertical-align: top;\n",
       "    }\n",
       "\n",
       "    .dataframe thead th {\n",
       "        text-align: right;\n",
       "    }\n",
       "</style>\n",
       "<table border=\"1\" class=\"dataframe\">\n",
       "  <thead>\n",
       "    <tr style=\"text-align: right;\">\n",
       "      <th></th>\n",
       "      <th>year_film</th>\n",
       "      <th>year_ceremony</th>\n",
       "      <th>ceremony</th>\n",
       "      <th>category</th>\n",
       "      <th>name</th>\n",
       "      <th>film</th>\n",
       "      <th>winner</th>\n",
       "      <th>is_director</th>\n",
       "    </tr>\n",
       "  </thead>\n",
       "  <tbody>\n",
       "    <tr>\n",
       "      <th>0</th>\n",
       "      <td>1927</td>\n",
       "      <td>1928</td>\n",
       "      <td>1</td>\n",
       "      <td>actor</td>\n",
       "      <td>Richard Barthelmess</td>\n",
       "      <td>The Noose</td>\n",
       "      <td>False</td>\n",
       "      <td>0</td>\n",
       "    </tr>\n",
       "    <tr>\n",
       "      <th>1</th>\n",
       "      <td>1927</td>\n",
       "      <td>1928</td>\n",
       "      <td>1</td>\n",
       "      <td>actor</td>\n",
       "      <td>Emil Jannings</td>\n",
       "      <td>The Last Command</td>\n",
       "      <td>True</td>\n",
       "      <td>0</td>\n",
       "    </tr>\n",
       "    <tr>\n",
       "      <th>2</th>\n",
       "      <td>1927</td>\n",
       "      <td>1928</td>\n",
       "      <td>1</td>\n",
       "      <td>actress</td>\n",
       "      <td>Louise Dresser</td>\n",
       "      <td>A Ship Comes In</td>\n",
       "      <td>False</td>\n",
       "      <td>0</td>\n",
       "    </tr>\n",
       "    <tr>\n",
       "      <th>3</th>\n",
       "      <td>1927</td>\n",
       "      <td>1928</td>\n",
       "      <td>1</td>\n",
       "      <td>actress</td>\n",
       "      <td>Janet Gaynor</td>\n",
       "      <td>7th Heaven</td>\n",
       "      <td>True</td>\n",
       "      <td>0</td>\n",
       "    </tr>\n",
       "    <tr>\n",
       "      <th>4</th>\n",
       "      <td>1927</td>\n",
       "      <td>1928</td>\n",
       "      <td>1</td>\n",
       "      <td>actress</td>\n",
       "      <td>Gloria Swanson</td>\n",
       "      <td>Sadie Thompson</td>\n",
       "      <td>False</td>\n",
       "      <td>0</td>\n",
       "    </tr>\n",
       "  </tbody>\n",
       "</table>\n",
       "</div>"
      ],
      "text/plain": [
       "   year_film  year_ceremony  ceremony category                 name  \\\n",
       "0       1927           1928         1    actor  Richard Barthelmess   \n",
       "1       1927           1928         1    actor        Emil Jannings   \n",
       "2       1927           1928         1  actress       Louise Dresser   \n",
       "3       1927           1928         1  actress         Janet Gaynor   \n",
       "4       1927           1928         1  actress       Gloria Swanson   \n",
       "\n",
       "               film  winner  is_director  \n",
       "0         The Noose   False            0  \n",
       "1  The Last Command    True            0  \n",
       "2   A Ship Comes In   False            0  \n",
       "3        7th Heaven    True            0  \n",
       "4    Sadie Thompson   False            0  "
      ]
     },
     "execution_count": 40,
     "metadata": {},
     "output_type": "execute_result"
    }
   ],
   "source": [
    "oscar_ppl = filtered[~filtered.name.str.contains(\"( and)|(,)|(and )\", regex = True)]\n",
    "oscar_ppl.is_director = oscar_ppl.is_director.astype(np.uint8)\n",
    "oscar_ppl.head()\n"
   ]
  },
  {
   "cell_type": "code",
   "execution_count": 41,
   "metadata": {},
   "outputs": [
    {
     "data": {
      "text/html": [
       "<div>\n",
       "<style scoped>\n",
       "    .dataframe tbody tr th:only-of-type {\n",
       "        vertical-align: middle;\n",
       "    }\n",
       "\n",
       "    .dataframe tbody tr th {\n",
       "        vertical-align: top;\n",
       "    }\n",
       "\n",
       "    .dataframe thead th {\n",
       "        text-align: right;\n",
       "    }\n",
       "</style>\n",
       "<table border=\"1\" class=\"dataframe\">\n",
       "  <thead>\n",
       "    <tr style=\"text-align: right;\">\n",
       "      <th></th>\n",
       "      <th>name</th>\n",
       "      <th>is_director</th>\n",
       "      <th>nomination_counts</th>\n",
       "    </tr>\n",
       "  </thead>\n",
       "  <tbody>\n",
       "    <tr>\n",
       "      <th>2</th>\n",
       "      <td>Adam McKay</td>\n",
       "      <td>1</td>\n",
       "      <td>2</td>\n",
       "    </tr>\n",
       "    <tr>\n",
       "      <th>5</th>\n",
       "      <td>Adrian Lyne</td>\n",
       "      <td>1</td>\n",
       "      <td>1</td>\n",
       "    </tr>\n",
       "    <tr>\n",
       "      <th>10</th>\n",
       "      <td>Akira Kurosawa</td>\n",
       "      <td>1</td>\n",
       "      <td>1</td>\n",
       "    </tr>\n",
       "    <tr>\n",
       "      <th>15</th>\n",
       "      <td>Alan J. Pakula</td>\n",
       "      <td>1</td>\n",
       "      <td>1</td>\n",
       "    </tr>\n",
       "    <tr>\n",
       "      <th>16</th>\n",
       "      <td>Alan Parker</td>\n",
       "      <td>1</td>\n",
       "      <td>2</td>\n",
       "    </tr>\n",
       "  </tbody>\n",
       "</table>\n",
       "</div>"
      ],
      "text/plain": [
       "              name  is_director  nomination_counts\n",
       "2       Adam McKay            1                  2\n",
       "5      Adrian Lyne            1                  1\n",
       "10  Akira Kurosawa            1                  1\n",
       "15  Alan J. Pakula            1                  1\n",
       "16     Alan Parker            1                  2"
      ]
     },
     "execution_count": 41,
     "metadata": {},
     "output_type": "execute_result"
    }
   ],
   "source": [
    "gp_ppl = oscar_ppl.groupby(['name', 'is_director']).size().reset_index(name='nomination_counts')\n",
    "gp_ppl_director = gp_ppl.groupby(['is_director']).get_group(1)\n",
    "gp_ppl_actor = gp_ppl.groupby(['is_director']).get_group(0)\n",
    "gp_ppl_director.head()"
   ]
  },
  {
   "cell_type": "code",
   "execution_count": 42,
   "metadata": {},
   "outputs": [
    {
     "data": {
      "text/html": [
       "<div>\n",
       "<style scoped>\n",
       "    .dataframe tbody tr th:only-of-type {\n",
       "        vertical-align: middle;\n",
       "    }\n",
       "\n",
       "    .dataframe tbody tr th {\n",
       "        vertical-align: top;\n",
       "    }\n",
       "\n",
       "    .dataframe thead th {\n",
       "        text-align: right;\n",
       "    }\n",
       "</style>\n",
       "<table border=\"1\" class=\"dataframe\">\n",
       "  <thead>\n",
       "    <tr style=\"text-align: right;\">\n",
       "      <th></th>\n",
       "      <th>name</th>\n",
       "      <th>is_director</th>\n",
       "      <th>nomination_counts</th>\n",
       "    </tr>\n",
       "  </thead>\n",
       "  <tbody>\n",
       "    <tr>\n",
       "      <th>0</th>\n",
       "      <td>Abigail Breslin</td>\n",
       "      <td>0</td>\n",
       "      <td>1</td>\n",
       "    </tr>\n",
       "    <tr>\n",
       "      <th>1</th>\n",
       "      <td>Adam Driver</td>\n",
       "      <td>0</td>\n",
       "      <td>2</td>\n",
       "    </tr>\n",
       "    <tr>\n",
       "      <th>3</th>\n",
       "      <td>Adolph Caesar</td>\n",
       "      <td>0</td>\n",
       "      <td>1</td>\n",
       "    </tr>\n",
       "    <tr>\n",
       "      <th>4</th>\n",
       "      <td>Adolphe Menjou</td>\n",
       "      <td>0</td>\n",
       "      <td>1</td>\n",
       "    </tr>\n",
       "    <tr>\n",
       "      <th>6</th>\n",
       "      <td>Adriana Barraza</td>\n",
       "      <td>0</td>\n",
       "      <td>1</td>\n",
       "    </tr>\n",
       "  </tbody>\n",
       "</table>\n",
       "</div>"
      ],
      "text/plain": [
       "              name  is_director  nomination_counts\n",
       "0  Abigail Breslin            0                  1\n",
       "1      Adam Driver            0                  2\n",
       "3    Adolph Caesar            0                  1\n",
       "4   Adolphe Menjou            0                  1\n",
       "6  Adriana Barraza            0                  1"
      ]
     },
     "execution_count": 42,
     "metadata": {},
     "output_type": "execute_result"
    }
   ],
   "source": [
    "gp_ppl_actor.head()"
   ]
  },
  {
   "cell_type": "code",
   "execution_count": 43,
   "metadata": {},
   "outputs": [
    {
     "data": {
      "text/html": [
       "<div>\n",
       "<style scoped>\n",
       "    .dataframe tbody tr th:only-of-type {\n",
       "        vertical-align: middle;\n",
       "    }\n",
       "\n",
       "    .dataframe tbody tr th {\n",
       "        vertical-align: top;\n",
       "    }\n",
       "\n",
       "    .dataframe thead th {\n",
       "        text-align: right;\n",
       "    }\n",
       "</style>\n",
       "<table border=\"1\" class=\"dataframe\">\n",
       "  <thead>\n",
       "    <tr style=\"text-align: right;\">\n",
       "      <th></th>\n",
       "      <th>director</th>\n",
       "      <th>actor</th>\n",
       "      <th>collabs</th>\n",
       "      <th>collab indicator</th>\n",
       "      <th>actor_total_budget</th>\n",
       "      <th>actor_mean_budget</th>\n",
       "      <th>director_total_budget</th>\n",
       "      <th>director_mean_budget</th>\n",
       "      <th>total_budget_diff</th>\n",
       "      <th>mean_budget_diff</th>\n",
       "      <th>...</th>\n",
       "      <th>total_votes_diff</th>\n",
       "      <th>mean_votes_diff</th>\n",
       "      <th>actor_total_runtime</th>\n",
       "      <th>actor_mean_runtime</th>\n",
       "      <th>director_total_runtime</th>\n",
       "      <th>director_mean_runtime</th>\n",
       "      <th>total_runtime_diff</th>\n",
       "      <th>mean_runtime_diff</th>\n",
       "      <th>director_nominations</th>\n",
       "      <th>actor_nominations</th>\n",
       "    </tr>\n",
       "  </thead>\n",
       "  <tbody>\n",
       "    <tr>\n",
       "      <th>0</th>\n",
       "      <td>Danny Boyle</td>\n",
       "      <td>Salma Hayek</td>\n",
       "      <td>0</td>\n",
       "      <td>0</td>\n",
       "      <td>12000000.0</td>\n",
       "      <td>6000000.0</td>\n",
       "      <td>1.590000e+08</td>\n",
       "      <td>1.445455e+07</td>\n",
       "      <td>1.470000e+08</td>\n",
       "      <td>8.454545e+06</td>\n",
       "      <td>...</td>\n",
       "      <td>2474748</td>\n",
       "      <td>189963.409091</td>\n",
       "      <td>257</td>\n",
       "      <td>128.5</td>\n",
       "      <td>1160</td>\n",
       "      <td>105.454545</td>\n",
       "      <td>903</td>\n",
       "      <td>23.045455</td>\n",
       "      <td>1</td>\n",
       "      <td>1</td>\n",
       "    </tr>\n",
       "    <tr>\n",
       "      <th>1</th>\n",
       "      <td>Ridley Scott</td>\n",
       "      <td>Salma Hayek</td>\n",
       "      <td>0</td>\n",
       "      <td>0</td>\n",
       "      <td>12000000.0</td>\n",
       "      <td>6000000.0</td>\n",
       "      <td>1.480500e+09</td>\n",
       "      <td>7.792105e+07</td>\n",
       "      <td>1.468500e+09</td>\n",
       "      <td>7.192105e+07</td>\n",
       "      <td>...</td>\n",
       "      <td>4281016</td>\n",
       "      <td>187026.815789</td>\n",
       "      <td>257</td>\n",
       "      <td>128.5</td>\n",
       "      <td>2536</td>\n",
       "      <td>133.473684</td>\n",
       "      <td>2279</td>\n",
       "      <td>4.973684</td>\n",
       "      <td>3</td>\n",
       "      <td>1</td>\n",
       "    </tr>\n",
       "    <tr>\n",
       "      <th>2</th>\n",
       "      <td>Fernando Meirelles</td>\n",
       "      <td>Salma Hayek</td>\n",
       "      <td>0</td>\n",
       "      <td>0</td>\n",
       "      <td>12000000.0</td>\n",
       "      <td>6000000.0</td>\n",
       "      <td>2.830000e+07</td>\n",
       "      <td>7.075000e+06</td>\n",
       "      <td>1.630000e+07</td>\n",
       "      <td>1.075000e+06</td>\n",
       "      <td>...</td>\n",
       "      <td>688879</td>\n",
       "      <td>150822.500000</td>\n",
       "      <td>257</td>\n",
       "      <td>128.5</td>\n",
       "      <td>490</td>\n",
       "      <td>122.500000</td>\n",
       "      <td>233</td>\n",
       "      <td>6.000000</td>\n",
       "      <td>1</td>\n",
       "      <td>1</td>\n",
       "    </tr>\n",
       "    <tr>\n",
       "      <th>3</th>\n",
       "      <td>Roberto Benigni</td>\n",
       "      <td>Salma Hayek</td>\n",
       "      <td>0</td>\n",
       "      <td>0</td>\n",
       "      <td>12000000.0</td>\n",
       "      <td>6000000.0</td>\n",
       "      <td>2.000000e+07</td>\n",
       "      <td>5.000000e+06</td>\n",
       "      <td>8.000000e+06</td>\n",
       "      <td>1.000000e+06</td>\n",
       "      <td>...</td>\n",
       "      <td>413847</td>\n",
       "      <td>82064.500000</td>\n",
       "      <td>257</td>\n",
       "      <td>128.5</td>\n",
       "      <td>438</td>\n",
       "      <td>109.500000</td>\n",
       "      <td>181</td>\n",
       "      <td>19.000000</td>\n",
       "      <td>1</td>\n",
       "      <td>1</td>\n",
       "    </tr>\n",
       "    <tr>\n",
       "      <th>4</th>\n",
       "      <td>Denis Villeneuve</td>\n",
       "      <td>Salma Hayek</td>\n",
       "      <td>0</td>\n",
       "      <td>0</td>\n",
       "      <td>12000000.0</td>\n",
       "      <td>6000000.0</td>\n",
       "      <td>1.298000e+08</td>\n",
       "      <td>2.163333e+07</td>\n",
       "      <td>1.178000e+08</td>\n",
       "      <td>1.563333e+07</td>\n",
       "      <td>...</td>\n",
       "      <td>1231978</td>\n",
       "      <td>176800.000000</td>\n",
       "      <td>257</td>\n",
       "      <td>128.5</td>\n",
       "      <td>699</td>\n",
       "      <td>116.500000</td>\n",
       "      <td>442</td>\n",
       "      <td>12.000000</td>\n",
       "      <td>1</td>\n",
       "      <td>1</td>\n",
       "    </tr>\n",
       "  </tbody>\n",
       "</table>\n",
       "<p>5 rows × 30 columns</p>\n",
       "</div>"
      ],
      "text/plain": [
       "             director        actor  collabs  collab indicator  \\\n",
       "0         Danny Boyle  Salma Hayek        0                 0   \n",
       "1        Ridley Scott  Salma Hayek        0                 0   \n",
       "2  Fernando Meirelles  Salma Hayek        0                 0   \n",
       "3     Roberto Benigni  Salma Hayek        0                 0   \n",
       "4    Denis Villeneuve  Salma Hayek        0                 0   \n",
       "\n",
       "   actor_total_budget  actor_mean_budget  director_total_budget  \\\n",
       "0          12000000.0          6000000.0           1.590000e+08   \n",
       "1          12000000.0          6000000.0           1.480500e+09   \n",
       "2          12000000.0          6000000.0           2.830000e+07   \n",
       "3          12000000.0          6000000.0           2.000000e+07   \n",
       "4          12000000.0          6000000.0           1.298000e+08   \n",
       "\n",
       "   director_mean_budget  total_budget_diff  mean_budget_diff  ...  \\\n",
       "0          1.445455e+07       1.470000e+08      8.454545e+06  ...   \n",
       "1          7.792105e+07       1.468500e+09      7.192105e+07  ...   \n",
       "2          7.075000e+06       1.630000e+07      1.075000e+06  ...   \n",
       "3          5.000000e+06       8.000000e+06      1.000000e+06  ...   \n",
       "4          2.163333e+07       1.178000e+08      1.563333e+07  ...   \n",
       "\n",
       "   total_votes_diff  mean_votes_diff  actor_total_runtime  actor_mean_runtime  \\\n",
       "0           2474748    189963.409091                  257               128.5   \n",
       "1           4281016    187026.815789                  257               128.5   \n",
       "2            688879    150822.500000                  257               128.5   \n",
       "3            413847     82064.500000                  257               128.5   \n",
       "4           1231978    176800.000000                  257               128.5   \n",
       "\n",
       "   director_total_runtime  director_mean_runtime  total_runtime_diff  \\\n",
       "0                    1160             105.454545                 903   \n",
       "1                    2536             133.473684                2279   \n",
       "2                     490             122.500000                 233   \n",
       "3                     438             109.500000                 181   \n",
       "4                     699             116.500000                 442   \n",
       "\n",
       "   mean_runtime_diff  director_nominations  actor_nominations  \n",
       "0          23.045455                     1                  1  \n",
       "1           4.973684                     3                  1  \n",
       "2           6.000000                     1                  1  \n",
       "3          19.000000                     1                  1  \n",
       "4          12.000000                     1                  1  \n",
       "\n",
       "[5 rows x 30 columns]"
      ]
     },
     "execution_count": 43,
     "metadata": {},
     "output_type": "execute_result"
    }
   ],
   "source": [
    "df_w_oscar= pd.merge(df, gp_ppl_director, left_on='director', right_on='name')\n",
    "df_w_oscar= pd.merge(df_w_oscar, gp_ppl_actor, left_on='actor', right_on='name')\n",
    "df_w_oscar.drop(['name_x', 'is_director_x', 'name_y', 'is_director_y'], axis=1, inplace=True)\n",
    "df_w_oscar.rename(columns={'nomination_counts_x': 'director_nominations', 'nomination_counts_y': 'actor_nominations'}, inplace=True)\n",
    "df_w_oscar.head()"
   ]
  },
  {
   "cell_type": "code",
   "execution_count": 44,
   "metadata": {},
   "outputs": [
    {
     "data": {
      "text/html": [
       "<div>\n",
       "<style scoped>\n",
       "    .dataframe tbody tr th:only-of-type {\n",
       "        vertical-align: middle;\n",
       "    }\n",
       "\n",
       "    .dataframe tbody tr th {\n",
       "        vertical-align: top;\n",
       "    }\n",
       "\n",
       "    .dataframe thead th {\n",
       "        text-align: right;\n",
       "    }\n",
       "</style>\n",
       "<table border=\"1\" class=\"dataframe\">\n",
       "  <thead>\n",
       "    <tr style=\"text-align: right;\">\n",
       "      <th></th>\n",
       "      <th>director</th>\n",
       "      <th>actor</th>\n",
       "      <th>collabs</th>\n",
       "      <th>collab indicator</th>\n",
       "      <th>actor_total_budget</th>\n",
       "      <th>actor_mean_budget</th>\n",
       "      <th>director_total_budget</th>\n",
       "      <th>director_mean_budget</th>\n",
       "      <th>total_budget_diff</th>\n",
       "      <th>mean_budget_diff</th>\n",
       "      <th>...</th>\n",
       "      <th>mean_votes_diff</th>\n",
       "      <th>actor_total_runtime</th>\n",
       "      <th>actor_mean_runtime</th>\n",
       "      <th>director_total_runtime</th>\n",
       "      <th>director_mean_runtime</th>\n",
       "      <th>total_runtime_diff</th>\n",
       "      <th>mean_runtime_diff</th>\n",
       "      <th>director_nominations</th>\n",
       "      <th>actor_nominations</th>\n",
       "      <th>nominations_diff</th>\n",
       "    </tr>\n",
       "  </thead>\n",
       "  <tbody>\n",
       "    <tr>\n",
       "      <th>0</th>\n",
       "      <td>Danny Boyle</td>\n",
       "      <td>Salma Hayek</td>\n",
       "      <td>0</td>\n",
       "      <td>0</td>\n",
       "      <td>12000000.0</td>\n",
       "      <td>6000000.0</td>\n",
       "      <td>1.590000e+08</td>\n",
       "      <td>1.445455e+07</td>\n",
       "      <td>1.470000e+08</td>\n",
       "      <td>8.454545e+06</td>\n",
       "      <td>...</td>\n",
       "      <td>189963.409091</td>\n",
       "      <td>257</td>\n",
       "      <td>128.5</td>\n",
       "      <td>1160</td>\n",
       "      <td>105.454545</td>\n",
       "      <td>903</td>\n",
       "      <td>23.045455</td>\n",
       "      <td>1</td>\n",
       "      <td>1</td>\n",
       "      <td>0</td>\n",
       "    </tr>\n",
       "    <tr>\n",
       "      <th>1</th>\n",
       "      <td>Ridley Scott</td>\n",
       "      <td>Salma Hayek</td>\n",
       "      <td>0</td>\n",
       "      <td>0</td>\n",
       "      <td>12000000.0</td>\n",
       "      <td>6000000.0</td>\n",
       "      <td>1.480500e+09</td>\n",
       "      <td>7.792105e+07</td>\n",
       "      <td>1.468500e+09</td>\n",
       "      <td>7.192105e+07</td>\n",
       "      <td>...</td>\n",
       "      <td>187026.815789</td>\n",
       "      <td>257</td>\n",
       "      <td>128.5</td>\n",
       "      <td>2536</td>\n",
       "      <td>133.473684</td>\n",
       "      <td>2279</td>\n",
       "      <td>4.973684</td>\n",
       "      <td>3</td>\n",
       "      <td>1</td>\n",
       "      <td>2</td>\n",
       "    </tr>\n",
       "    <tr>\n",
       "      <th>2</th>\n",
       "      <td>Fernando Meirelles</td>\n",
       "      <td>Salma Hayek</td>\n",
       "      <td>0</td>\n",
       "      <td>0</td>\n",
       "      <td>12000000.0</td>\n",
       "      <td>6000000.0</td>\n",
       "      <td>2.830000e+07</td>\n",
       "      <td>7.075000e+06</td>\n",
       "      <td>1.630000e+07</td>\n",
       "      <td>1.075000e+06</td>\n",
       "      <td>...</td>\n",
       "      <td>150822.500000</td>\n",
       "      <td>257</td>\n",
       "      <td>128.5</td>\n",
       "      <td>490</td>\n",
       "      <td>122.500000</td>\n",
       "      <td>233</td>\n",
       "      <td>6.000000</td>\n",
       "      <td>1</td>\n",
       "      <td>1</td>\n",
       "      <td>0</td>\n",
       "    </tr>\n",
       "    <tr>\n",
       "      <th>3</th>\n",
       "      <td>Roberto Benigni</td>\n",
       "      <td>Salma Hayek</td>\n",
       "      <td>0</td>\n",
       "      <td>0</td>\n",
       "      <td>12000000.0</td>\n",
       "      <td>6000000.0</td>\n",
       "      <td>2.000000e+07</td>\n",
       "      <td>5.000000e+06</td>\n",
       "      <td>8.000000e+06</td>\n",
       "      <td>1.000000e+06</td>\n",
       "      <td>...</td>\n",
       "      <td>82064.500000</td>\n",
       "      <td>257</td>\n",
       "      <td>128.5</td>\n",
       "      <td>438</td>\n",
       "      <td>109.500000</td>\n",
       "      <td>181</td>\n",
       "      <td>19.000000</td>\n",
       "      <td>1</td>\n",
       "      <td>1</td>\n",
       "      <td>0</td>\n",
       "    </tr>\n",
       "    <tr>\n",
       "      <th>4</th>\n",
       "      <td>Denis Villeneuve</td>\n",
       "      <td>Salma Hayek</td>\n",
       "      <td>0</td>\n",
       "      <td>0</td>\n",
       "      <td>12000000.0</td>\n",
       "      <td>6000000.0</td>\n",
       "      <td>1.298000e+08</td>\n",
       "      <td>2.163333e+07</td>\n",
       "      <td>1.178000e+08</td>\n",
       "      <td>1.563333e+07</td>\n",
       "      <td>...</td>\n",
       "      <td>176800.000000</td>\n",
       "      <td>257</td>\n",
       "      <td>128.5</td>\n",
       "      <td>699</td>\n",
       "      <td>116.500000</td>\n",
       "      <td>442</td>\n",
       "      <td>12.000000</td>\n",
       "      <td>1</td>\n",
       "      <td>1</td>\n",
       "      <td>0</td>\n",
       "    </tr>\n",
       "  </tbody>\n",
       "</table>\n",
       "<p>5 rows × 31 columns</p>\n",
       "</div>"
      ],
      "text/plain": [
       "             director        actor  collabs  collab indicator  \\\n",
       "0         Danny Boyle  Salma Hayek        0                 0   \n",
       "1        Ridley Scott  Salma Hayek        0                 0   \n",
       "2  Fernando Meirelles  Salma Hayek        0                 0   \n",
       "3     Roberto Benigni  Salma Hayek        0                 0   \n",
       "4    Denis Villeneuve  Salma Hayek        0                 0   \n",
       "\n",
       "   actor_total_budget  actor_mean_budget  director_total_budget  \\\n",
       "0          12000000.0          6000000.0           1.590000e+08   \n",
       "1          12000000.0          6000000.0           1.480500e+09   \n",
       "2          12000000.0          6000000.0           2.830000e+07   \n",
       "3          12000000.0          6000000.0           2.000000e+07   \n",
       "4          12000000.0          6000000.0           1.298000e+08   \n",
       "\n",
       "   director_mean_budget  total_budget_diff  mean_budget_diff  ...  \\\n",
       "0          1.445455e+07       1.470000e+08      8.454545e+06  ...   \n",
       "1          7.792105e+07       1.468500e+09      7.192105e+07  ...   \n",
       "2          7.075000e+06       1.630000e+07      1.075000e+06  ...   \n",
       "3          5.000000e+06       8.000000e+06      1.000000e+06  ...   \n",
       "4          2.163333e+07       1.178000e+08      1.563333e+07  ...   \n",
       "\n",
       "   mean_votes_diff  actor_total_runtime  actor_mean_runtime  \\\n",
       "0    189963.409091                  257               128.5   \n",
       "1    187026.815789                  257               128.5   \n",
       "2    150822.500000                  257               128.5   \n",
       "3     82064.500000                  257               128.5   \n",
       "4    176800.000000                  257               128.5   \n",
       "\n",
       "   director_total_runtime  director_mean_runtime  total_runtime_diff  \\\n",
       "0                    1160             105.454545                 903   \n",
       "1                    2536             133.473684                2279   \n",
       "2                     490             122.500000                 233   \n",
       "3                     438             109.500000                 181   \n",
       "4                     699             116.500000                 442   \n",
       "\n",
       "   mean_runtime_diff  director_nominations  actor_nominations  \\\n",
       "0          23.045455                     1                  1   \n",
       "1           4.973684                     3                  1   \n",
       "2           6.000000                     1                  1   \n",
       "3          19.000000                     1                  1   \n",
       "4          12.000000                     1                  1   \n",
       "\n",
       "   nominations_diff  \n",
       "0                 0  \n",
       "1                 2  \n",
       "2                 0  \n",
       "3                 0  \n",
       "4                 0  \n",
       "\n",
       "[5 rows x 31 columns]"
      ]
     },
     "execution_count": 44,
     "metadata": {},
     "output_type": "execute_result"
    }
   ],
   "source": [
    "df_w_oscar['nominations_diff']=df_w_oscar['director_nominations'] - df_w_oscar['actor_nominations']\n",
    "df_w_oscar.head()"
   ]
  },
  {
   "cell_type": "code",
   "execution_count": 45,
   "metadata": {},
   "outputs": [
    {
     "data": {
      "text/plain": [
       "<matplotlib.legend.Legend at 0x130aec950>"
      ]
     },
     "execution_count": 45,
     "metadata": {},
     "output_type": "execute_result"
    },
    {
     "data": {
      "image/png": "[encoded data removed]",
      "text/plain": [
       "<Figure size 432x288 with 1 Axes>"
      ]
     },
     "metadata": {
      "needs_background": "light"
     },
     "output_type": "display_data"
    }
   ],
   "source": [
    "bins = np.linspace(min(df_w_oscar.nominations_diff.values), max(df_w_oscar.nominations_diff.values), 50)\n",
    "plt.hist(df_w_oscar[df_w_oscar[\"collab indicator\"] == 1].nominations_diff.values, density = True, bins = bins, label = \"1\", alpha = 0.5)\n",
    "plt.hist(df_w_oscar[df_w_oscar[\"collab indicator\"] == 0].nominations_diff.values, density = True, bins = bins, label = \"0\", alpha = 0.5)\n",
    "plt.legend()"
   ]
  },
  {
   "cell_type": "code",
   "execution_count": 46,
   "metadata": {},
   "outputs": [
    {
     "name": "stdout",
     "output_type": "stream",
     "text": [
      "nominations_diff variance in pairs w/ collab is  11.675624990825147\n",
      "nominations_diff variance in pairs w/o collab is  5.747848063463027\n"
     ]
    },
    {
     "data": {
      "text/plain": [
       "Ttest_indResult(statistic=-3.9763645704487445, pvalue=7.977315478395336e-05)"
      ]
     },
     "execution_count": 46,
     "metadata": {},
     "output_type": "execute_result"
    }
   ],
   "source": [
    "print('nominations_diff variance in pairs w/ collab is  {}'.format(np.var(df_w_oscar[df_w_oscar[\"collab indicator\"] == 1].nominations_diff.values)))\n",
    "print('nominations_diff variance in pairs w/o collab is  {}'.format(np.var(df_w_oscar[df_w_oscar[\"collab indicator\"] == 0].nominations_diff.values)))\n",
    "ttest_ind(df_w_oscar[df_w_oscar[\"collab indicator\"] == 1].nominations_diff.values, \n",
    "                      df_w_oscar[df_w_oscar[\"collab indicator\"] == 0].nominations_diff.values, \n",
    "                      equal_var=False)"
   ]
  },
  {
   "cell_type": "markdown",
   "metadata": {},
   "source": [
    "### genre"
   ]
  },
  {
   "cell_type": "code",
   "execution_count": 47,
   "metadata": {},
   "outputs": [
    {
     "data": {
      "text/plain": [
       "array(['Action', 'Adventure', 'Animation', 'Biography', 'Comedy', 'Crime',\n",
       "       'Drama', 'Horror', 'Other'], dtype=object)"
      ]
     },
     "execution_count": 47,
     "metadata": {},
     "output_type": "execute_result"
    }
   ],
   "source": [
    "genre = np.unique(movie_industry.genre.values)\n",
    "genre"
   ]
  },
  {
   "cell_type": "code",
   "execution_count": 48,
   "metadata": {},
   "outputs": [],
   "source": [
    "dir_genre_prop = {}\n",
    "for director in directors:\n",
    "    temp = movie_industry[movie_industry.director == director].groupby([\"genre\"])[\"director\"].count()\n",
    "    prop = []\n",
    "    total = sum(temp.values)\n",
    "    for category in genre:\n",
    "        if category in temp.index:\n",
    "            prop.append(temp[category]/total)\n",
    "        else:\n",
    "            prop.append(0)\n",
    "    dir_genre_prop[director] = np.array(prop)"
   ]
  },
  {
   "cell_type": "code",
   "execution_count": 49,
   "metadata": {},
   "outputs": [],
   "source": [
    "act_genre_prop = {}\n",
    "for actor in actors:\n",
    "    temp = movie_industry[movie_industry.star == actor].groupby([\"genre\"])[\"star\"].count()\n",
    "    prop = []\n",
    "    total = sum(temp.values)\n",
    "    for category in genre:\n",
    "        if category in temp.index:\n",
    "            prop.append(temp[category]/total)\n",
    "        else:\n",
    "            prop.append(0)\n",
    "    act_genre_prop[actor] = np.array(prop)"
   ]
  },
  {
   "cell_type": "code",
   "execution_count": 50,
   "metadata": {},
   "outputs": [
    {
     "name": "stdout",
     "output_type": "stream",
     "text": [
      "CPU times: user 2min 32s, sys: 1.11 s, total: 2min 33s\n",
      "Wall time: 2min 34s\n"
     ]
    }
   ],
   "source": [
    "%%time\n",
    "genre_tvd = []\n",
    "for i in df.index:\n",
    "    director = df.director[i]\n",
    "    actor = df.actor[i]\n",
    "    tvd = sum(abs(dir_genre_prop[director] - act_genre_prop[actor]))/2\n",
    "    genre_tvd.append(tvd)"
   ]
  },
  {
   "cell_type": "code",
   "execution_count": 51,
   "metadata": {},
   "outputs": [],
   "source": [
    "df[\"genre_tvd\"] = genre_tvd"
   ]
  },
  {
   "cell_type": "code",
   "execution_count": 52,
   "metadata": {},
   "outputs": [
    {
     "data": {
      "text/plain": [
       "array([0.        , 0.05263158, 0.10526316, 0.15789474, 0.21052632,\n",
       "       0.26315789, 0.31578947, 0.36842105, 0.42105263, 0.47368421,\n",
       "       0.52631579, 0.57894737, 0.63157895, 0.68421053, 0.73684211,\n",
       "       0.78947368, 0.84210526, 0.89473684, 0.94736842, 1.        ])"
      ]
     },
     "execution_count": 52,
     "metadata": {},
     "output_type": "execute_result"
    }
   ],
   "source": [
    "bins = np.linspace(min(genre_tvd), max(genre_tvd), 20)\n",
    "bins"
   ]
  },
  {
   "cell_type": "code",
   "execution_count": 53,
   "metadata": {},
   "outputs": [
    {
     "data": {
      "text/plain": [
       "<matplotlib.legend.Legend at 0x152f12bd0>"
      ]
     },
     "execution_count": 53,
     "metadata": {},
     "output_type": "execute_result"
    },
    {
     "data": {
      "image/png": "[encoded data removed]",
      "text/plain": [
       "<Figure size 432x288 with 1 Axes>"
      ]
     },
     "metadata": {
      "needs_background": "light"
     },
     "output_type": "display_data"
    }
   ],
   "source": [
    "plt.hist(df[df[\"collab indicator\"] == 1].genre_tvd.values, density = True, bins = bins, label = \"1\", alpha = 0.5)\n",
    "plt.hist(df[df[\"collab indicator\"] == 0].genre_tvd.values, density = True, bins = bins, label = \"0\", alpha = 0.5)\n",
    "plt.legend()"
   ]
  },
  {
   "cell_type": "code",
   "execution_count": 54,
   "metadata": {},
   "outputs": [
    {
     "data": {
      "text/plain": [
       "Ttest_indResult(statistic=-108.81833577459516, pvalue=0.0)"
      ]
     },
     "execution_count": 54,
     "metadata": {},
     "output_type": "execute_result"
    }
   ],
   "source": [
    "ttest_ind(df[df[\"collab indicator\"] == 1].genre_tvd.values, \n",
    "                      df[df[\"collab indicator\"] == 0].genre_tvd.values, \n",
    "                      equal_var=False)\n",
    "\n"
   ]
  },
  {
   "cell_type": "markdown",
   "metadata": {},
   "source": [
    "## Visualization"
   ]
  },
  {
   "cell_type": "code",
   "execution_count": 56,
   "metadata": {},
   "outputs": [
    {
     "data": {
      "text/plain": [
       "<Figure size 432x288 with 0 Axes>"
      ]
     },
     "metadata": {},
     "output_type": "display_data"
    },
    {
     "data": {
      "image/png": "[encoded data removed]",
      "text/plain": [
       "<Figure size 1296x648 with 4 Axes>"
      ]
     },
     "metadata": {
      "needs_background": "light"
     },
     "output_type": "display_data"
    }
   ],
   "source": [
    "df_dropped = df.dropna()\n",
    "\n",
    "fig = plt.figure()\n",
    "f, axes = plt.subplots(2, 2, figsize=(18,9), sharex=False)\n",
    "plt.suptitle(\"T-test for Significant Covariants\", fontsize=16)\n",
    "\n",
    "bins1 = np.linspace(min(df_dropped.mean_votes_diff.values), max(df_dropped.mean_votes_diff.values), 50)\n",
    "axes[0, 0].hist(df_dropped[df_dropped[\"collab indicator\"] == 1].mean_votes_diff.values, density = True, bins = bins1, label = \"1\", alpha = 0.5)\n",
    "axes[0, 0].hist(df_dropped[df_dropped[\"collab indicator\"] == 0].mean_votes_diff.values, density = True, bins = bins1, label = \"0\", alpha = 0.5)\n",
    "axes[0, 0].legend()\n",
    "axes[0, 0].title.set_text('Difference in Mean Votes  P-Value=2.43e-25')\n",
    "\n",
    "bins2 = np.linspace(min(df_dropped.mean_score_diff.values), max(df_dropped.mean_score_diff.values), 50)\n",
    "axes[0, 1].hist(df_dropped[df_dropped[\"collab indicator\"] == 1].mean_score_diff.values, density = True, bins = bins2, label = \"1\", alpha = 0.5)\n",
    "axes[0, 1].hist(df_dropped[df_dropped[\"collab indicator\"] == 0].mean_score_diff.values, density = True, bins = bins2, label = \"0\", alpha = 0.5)\n",
    "axes[0, 1].legend()\n",
    "axes[0, 1].title.set_text('Difference in Mean Score P-Value=0.0')\n",
    "\n",
    "bins3 = np.linspace(min(df_w_oscar.nominations_diff.values), max(df_w_oscar.nominations_diff.values), 50)\n",
    "axes[1, 0].hist(df_w_oscar[df_w_oscar[\"collab indicator\"] == 1].nominations_diff.values, density = True, bins = bins3, label = \"1\", alpha = 0.5)\n",
    "axes[1, 0].hist(df_w_oscar[df_w_oscar[\"collab indicator\"] == 0].nominations_diff.values, density = True, bins = bins3, label = \"0\", alpha = 0.5)\n",
    "axes[1, 0].legend()\n",
    "axes[1, 0].title.set_text('Difference in Number of Oscar Nominations P-Value=7.97e-05')\n",
    "\n",
    "bins4 = np.linspace(min(genre_tvd), max(genre_tvd), 20)\n",
    "axes[1, 1].hist(df[df[\"collab indicator\"] == 1].genre_tvd.values, density = True, bins = bins4, label = \"1\", alpha = 0.5)\n",
    "axes[1, 1].hist(df[df[\"collab indicator\"] == 0].genre_tvd.values, density = True, bins = bins4, label = \"0\", alpha = 0.5)\n",
    "axes[1, 1].legend()\n",
    "axes[1, 1].title.set_text('Difference in Genre P-Value=0.0')\n",
    "\n",
    "f.savefig('../figures/T-test for Significant Covariants.png', bbox_inches='tight')\n"
   ]
  },
  {
   "cell_type": "code",
   "execution_count": null,
   "metadata": {},
   "outputs": [],
   "source": []
  }
 ],
 "metadata": {
  "kernelspec": {
   "display_name": "Python 3",
   "language": "python",
   "name": "python3"
  },
  "language_info": {
   "codemirror_mode": {
    "name": "ipython",
    "version": 3
   },
   "file_extension": ".py",
   "mimetype": "text/x-python",
   "name": "python",
   "nbconvert_exporter": "python",
   "pygments_lexer": "ipython3",
   "version": "3.7.6"
  }
 },
 "nbformat": 4,
 "nbformat_minor": 2
}
