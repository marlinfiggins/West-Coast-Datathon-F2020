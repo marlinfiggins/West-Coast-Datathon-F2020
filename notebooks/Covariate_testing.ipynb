{
 "cells": [
  {
   "cell_type": "code",
   "execution_count": 1,
   "metadata": {},
   "outputs": [],
   "source": [
    "import pandas as pd\n",
    "import numpy as np\n",
    "import seaborn as sb\n",
    "import networkx as nx\n",
    "import matplotlib.pyplot as plt\n",
    "%matplotlib inline"
   ]
  },
  {
   "cell_type": "markdown",
   "metadata": {},
   "source": [
    "CREATING THE DATAFRAME OF PAIRS OF DIRECTORS AND ACTORS"
   ]
  },
  {
   "cell_type": "code",
   "execution_count": 2,
   "metadata": {},
   "outputs": [
    {
     "data": {
      "text/html": [
       "<div>\n",
       "<style scoped>\n",
       "    .dataframe tbody tr th:only-of-type {\n",
       "        vertical-align: middle;\n",
       "    }\n",
       "\n",
       "    .dataframe tbody tr th {\n",
       "        vertical-align: top;\n",
       "    }\n",
       "\n",
       "    .dataframe thead th {\n",
       "        text-align: right;\n",
       "    }\n",
       "</style>\n",
       "<table border=\"1\" class=\"dataframe\">\n",
       "  <thead>\n",
       "    <tr style=\"text-align: right;\">\n",
       "      <th></th>\n",
       "      <th>budget</th>\n",
       "      <th>company</th>\n",
       "      <th>country</th>\n",
       "      <th>director</th>\n",
       "      <th>genre</th>\n",
       "      <th>gross</th>\n",
       "      <th>name</th>\n",
       "      <th>rating</th>\n",
       "      <th>released</th>\n",
       "      <th>runtime</th>\n",
       "      <th>score</th>\n",
       "      <th>star</th>\n",
       "      <th>votes</th>\n",
       "      <th>writer</th>\n",
       "      <th>year</th>\n",
       "    </tr>\n",
       "  </thead>\n",
       "  <tbody>\n",
       "    <tr>\n",
       "      <td>0</td>\n",
       "      <td>8000000.0</td>\n",
       "      <td>Columbia Pictures Corporation</td>\n",
       "      <td>USA</td>\n",
       "      <td>Rob Reiner</td>\n",
       "      <td>Adventure</td>\n",
       "      <td>52287414.0</td>\n",
       "      <td>Stand by Me</td>\n",
       "      <td>R</td>\n",
       "      <td>1986-08-22</td>\n",
       "      <td>89</td>\n",
       "      <td>8.1</td>\n",
       "      <td>Wil Wheaton</td>\n",
       "      <td>299174</td>\n",
       "      <td>Stephen King</td>\n",
       "      <td>1986</td>\n",
       "    </tr>\n",
       "    <tr>\n",
       "      <td>1</td>\n",
       "      <td>6000000.0</td>\n",
       "      <td>Paramount Pictures</td>\n",
       "      <td>USA</td>\n",
       "      <td>John Hughes</td>\n",
       "      <td>Comedy</td>\n",
       "      <td>70136369.0</td>\n",
       "      <td>Ferris Bueller's Day Off</td>\n",
       "      <td>PG-13</td>\n",
       "      <td>1986-06-11</td>\n",
       "      <td>103</td>\n",
       "      <td>7.8</td>\n",
       "      <td>Matthew Broderick</td>\n",
       "      <td>264740</td>\n",
       "      <td>John Hughes</td>\n",
       "      <td>1986</td>\n",
       "    </tr>\n",
       "    <tr>\n",
       "      <td>2</td>\n",
       "      <td>15000000.0</td>\n",
       "      <td>Paramount Pictures</td>\n",
       "      <td>USA</td>\n",
       "      <td>Tony Scott</td>\n",
       "      <td>Action</td>\n",
       "      <td>179800601.0</td>\n",
       "      <td>Top Gun</td>\n",
       "      <td>PG</td>\n",
       "      <td>1986-05-16</td>\n",
       "      <td>110</td>\n",
       "      <td>6.9</td>\n",
       "      <td>Tom Cruise</td>\n",
       "      <td>236909</td>\n",
       "      <td>Jim Cash</td>\n",
       "      <td>1986</td>\n",
       "    </tr>\n",
       "    <tr>\n",
       "      <td>3</td>\n",
       "      <td>18500000.0</td>\n",
       "      <td>Twentieth Century Fox Film Corporation</td>\n",
       "      <td>USA</td>\n",
       "      <td>James Cameron</td>\n",
       "      <td>Action</td>\n",
       "      <td>85160248.0</td>\n",
       "      <td>Aliens</td>\n",
       "      <td>R</td>\n",
       "      <td>1986-07-18</td>\n",
       "      <td>137</td>\n",
       "      <td>8.4</td>\n",
       "      <td>Sigourney Weaver</td>\n",
       "      <td>540152</td>\n",
       "      <td>James Cameron</td>\n",
       "      <td>1986</td>\n",
       "    </tr>\n",
       "    <tr>\n",
       "      <td>4</td>\n",
       "      <td>9000000.0</td>\n",
       "      <td>Walt Disney Pictures</td>\n",
       "      <td>USA</td>\n",
       "      <td>Randal Kleiser</td>\n",
       "      <td>Adventure</td>\n",
       "      <td>18564613.0</td>\n",
       "      <td>Flight of the Navigator</td>\n",
       "      <td>PG</td>\n",
       "      <td>1986-08-01</td>\n",
       "      <td>90</td>\n",
       "      <td>6.9</td>\n",
       "      <td>Joey Cramer</td>\n",
       "      <td>36636</td>\n",
       "      <td>Mark H. Baker</td>\n",
       "      <td>1986</td>\n",
       "    </tr>\n",
       "  </tbody>\n",
       "</table>\n",
       "</div>"
      ],
      "text/plain": [
       "       budget                                 company country        director  \\\n",
       "0   8000000.0           Columbia Pictures Corporation     USA      Rob Reiner   \n",
       "1   6000000.0                      Paramount Pictures     USA     John Hughes   \n",
       "2  15000000.0                      Paramount Pictures     USA      Tony Scott   \n",
       "3  18500000.0  Twentieth Century Fox Film Corporation     USA   James Cameron   \n",
       "4   9000000.0                    Walt Disney Pictures     USA  Randal Kleiser   \n",
       "\n",
       "       genre        gross                      name rating    released  \\\n",
       "0  Adventure   52287414.0               Stand by Me      R  1986-08-22   \n",
       "1     Comedy   70136369.0  Ferris Bueller's Day Off  PG-13  1986-06-11   \n",
       "2     Action  179800601.0                   Top Gun     PG  1986-05-16   \n",
       "3     Action   85160248.0                    Aliens      R  1986-07-18   \n",
       "4  Adventure   18564613.0   Flight of the Navigator     PG  1986-08-01   \n",
       "\n",
       "   runtime  score               star   votes         writer  year  \n",
       "0       89    8.1        Wil Wheaton  299174   Stephen King  1986  \n",
       "1      103    7.8  Matthew Broderick  264740    John Hughes  1986  \n",
       "2      110    6.9         Tom Cruise  236909       Jim Cash  1986  \n",
       "3      137    8.4   Sigourney Weaver  540152  James Cameron  1986  \n",
       "4       90    6.9        Joey Cramer   36636  Mark H. Baker  1986  "
      ]
     },
     "execution_count": 2,
     "metadata": {},
     "output_type": "execute_result"
    }
   ],
   "source": [
    "movie_industry = pd.read_csv(\"../data/movie_industry.csv\", encoding = \"ISO-8859-1\" )\n",
    "movie_industry.head()"
   ]
  },
  {
   "cell_type": "code",
   "execution_count": 3,
   "metadata": {},
   "outputs": [],
   "source": [
    "class Graph:\n",
    "    \"\"\" Wrapper class Graph to create a bipartite graph\n",
    "    Takes in the following paramaters\n",
    "    directors_to_actors_relation : Dataframe with the data for directors and actors\n",
    "    weight func : function which defined the weight of an edge. Takes the dateframe to calcuate weights from and\n",
    "    the nodes values to calculate for\n",
    "    weight_func_args : column names used to calculate the weights\n",
    "    director_column : Column name for director\n",
    "    actor_column : Column name for actor, \n",
    "    bipartite : default true\n",
    "    \"\"\"\n",
    "    def __init__(self, \n",
    "                 directors_to_actors_relation, \n",
    "                 weight_func, \n",
    "                 weight_func_args, \n",
    "                 director_column=\"director\", \n",
    "                 actor_column=\"star\", \n",
    "                 bipartite=True):\n",
    "        self.G = nx.Graph()\n",
    "        \n",
    "        directors = set(directors_to_actors_relation[director_column].values)\n",
    "        actors = set(directors_to_actors_relation[actor_column].values)\n",
    "    \n",
    "        #store the director node as a tuple with director name and boolean True to indicate director\n",
    "        for director in directors:\n",
    "            self.G.add_node((director, True))\n",
    "            \n",
    "        #store the actor node as a tuple with actor name and boolean False to indicate actor\n",
    "        for actor in actors:\n",
    "            self.G.add_node((actor, False))\n",
    "\n",
    "        #add weights to all edges\n",
    "        for director in directors:\n",
    "            rows = directors_to_actors_relation[directors_to_actors_relation[director_column] == director]\n",
    "            for index in rows.index.values:\n",
    "                self.G.add_edge((director, True), \n",
    "                                (rows.loc[index, actor_column], False), \n",
    "                                weight=weight_func(*[rows.loc[index, i] for i in weight_func_args], directors_to_actors_relation))             "
   ]
  },
  {
   "cell_type": "code",
   "execution_count": 4,
   "metadata": {},
   "outputs": [],
   "source": [
    "#calcualtes edge weight as the number of collaborations\n",
    "#takes in director name, star name and data to calculate weight from\n",
    "def example_weight_func(director, star, df):\n",
    "    return len(df.loc[((df[\"director\"] == director) & (df[\"star\"] == star))])"
   ]
  },
  {
   "cell_type": "code",
   "execution_count": 5,
   "metadata": {},
   "outputs": [],
   "source": [
    "storage = Graph(movie_industry, example_weight_func, [\"director\", \"star\"])"
   ]
  },
  {
   "cell_type": "code",
   "execution_count": 6,
   "metadata": {},
   "outputs": [],
   "source": [
    "directors = list(set(movie_industry[\"director\"].values))\n",
    "actors = list(set(movie_industry[\"star\"].values))"
   ]
  },
  {
   "cell_type": "code",
   "execution_count": 7,
   "metadata": {},
   "outputs": [],
   "source": [
    "collabs = []\n",
    "for director in directors:\n",
    "    for actor in actors:\n",
    "        if storage.G.get_edge_data((director, True), (actor, False)):\n",
    "            collabs.append(storage.G.get_edge_data((director, True), (actor, False))[\"weight\"])\n",
    "        else:\n",
    "            collabs.append(0)"
   ]
  },
  {
   "cell_type": "code",
   "execution_count": 8,
   "metadata": {
    "scrolled": false
   },
   "outputs": [
    {
     "data": {
      "text/html": [
       "<div>\n",
       "<style scoped>\n",
       "    .dataframe tbody tr th:only-of-type {\n",
       "        vertical-align: middle;\n",
       "    }\n",
       "\n",
       "    .dataframe tbody tr th {\n",
       "        vertical-align: top;\n",
       "    }\n",
       "\n",
       "    .dataframe thead th {\n",
       "        text-align: right;\n",
       "    }\n",
       "</style>\n",
       "<table border=\"1\" class=\"dataframe\">\n",
       "  <thead>\n",
       "    <tr style=\"text-align: right;\">\n",
       "      <th></th>\n",
       "      <th>director</th>\n",
       "      <th>actor</th>\n",
       "      <th>collabs</th>\n",
       "    </tr>\n",
       "  </thead>\n",
       "  <tbody>\n",
       "    <tr>\n",
       "      <td>0</td>\n",
       "      <td>Joe Pytka</td>\n",
       "      <td>Diane Lane</td>\n",
       "      <td>0</td>\n",
       "    </tr>\n",
       "    <tr>\n",
       "      <td>1</td>\n",
       "      <td>Joe Pytka</td>\n",
       "      <td>Vincent Spano</td>\n",
       "      <td>0</td>\n",
       "    </tr>\n",
       "    <tr>\n",
       "      <td>2</td>\n",
       "      <td>Joe Pytka</td>\n",
       "      <td>Leonardo DiCaprio</td>\n",
       "      <td>0</td>\n",
       "    </tr>\n",
       "    <tr>\n",
       "      <td>3</td>\n",
       "      <td>Joe Pytka</td>\n",
       "      <td>Richard Farnsworth</td>\n",
       "      <td>0</td>\n",
       "    </tr>\n",
       "    <tr>\n",
       "      <td>4</td>\n",
       "      <td>Joe Pytka</td>\n",
       "      <td>Juan Diego</td>\n",
       "      <td>0</td>\n",
       "    </tr>\n",
       "    <tr>\n",
       "      <td>...</td>\n",
       "      <td>...</td>\n",
       "      <td>...</td>\n",
       "      <td>...</td>\n",
       "    </tr>\n",
       "    <tr>\n",
       "      <td>6908531</td>\n",
       "      <td>Max Mayer</td>\n",
       "      <td>John Rhys-Davies</td>\n",
       "      <td>0</td>\n",
       "    </tr>\n",
       "    <tr>\n",
       "      <td>6908532</td>\n",
       "      <td>Max Mayer</td>\n",
       "      <td>Delphine Zentout</td>\n",
       "      <td>0</td>\n",
       "    </tr>\n",
       "    <tr>\n",
       "      <td>6908533</td>\n",
       "      <td>Max Mayer</td>\n",
       "      <td>Charlotte Véry</td>\n",
       "      <td>0</td>\n",
       "    </tr>\n",
       "    <tr>\n",
       "      <td>6908534</td>\n",
       "      <td>Max Mayer</td>\n",
       "      <td>Ari Graynor</td>\n",
       "      <td>0</td>\n",
       "    </tr>\n",
       "    <tr>\n",
       "      <td>6908535</td>\n",
       "      <td>Max Mayer</td>\n",
       "      <td>Michelle Morgan</td>\n",
       "      <td>0</td>\n",
       "    </tr>\n",
       "  </tbody>\n",
       "</table>\n",
       "<p>6908536 rows × 3 columns</p>\n",
       "</div>"
      ],
      "text/plain": [
       "          director               actor  collabs\n",
       "0        Joe Pytka          Diane Lane        0\n",
       "1        Joe Pytka       Vincent Spano        0\n",
       "2        Joe Pytka   Leonardo DiCaprio        0\n",
       "3        Joe Pytka  Richard Farnsworth        0\n",
       "4        Joe Pytka          Juan Diego        0\n",
       "...            ...                 ...      ...\n",
       "6908531  Max Mayer    John Rhys-Davies        0\n",
       "6908532  Max Mayer    Delphine Zentout        0\n",
       "6908533  Max Mayer      Charlotte Véry        0\n",
       "6908534  Max Mayer         Ari Graynor        0\n",
       "6908535  Max Mayer     Michelle Morgan        0\n",
       "\n",
       "[6908536 rows x 3 columns]"
      ]
     },
     "execution_count": 8,
     "metadata": {},
     "output_type": "execute_result"
    }
   ],
   "source": [
    "res =  [director for director in directors for i in range(len(actors))] \n",
    "df = pd.DataFrame({\"director\": res, \n",
    "                   \"actor\": actors*len(directors),\n",
    "                  \"collabs\": collabs})\n",
    "df"
   ]
  },
  {
   "cell_type": "code",
   "execution_count": 10,
   "metadata": {},
   "outputs": [
    {
     "data": {
      "text/html": [
       "<div>\n",
       "<style scoped>\n",
       "    .dataframe tbody tr th:only-of-type {\n",
       "        vertical-align: middle;\n",
       "    }\n",
       "\n",
       "    .dataframe tbody tr th {\n",
       "        vertical-align: top;\n",
       "    }\n",
       "\n",
       "    .dataframe thead th {\n",
       "        text-align: right;\n",
       "    }\n",
       "</style>\n",
       "<table border=\"1\" class=\"dataframe\">\n",
       "  <thead>\n",
       "    <tr style=\"text-align: right;\">\n",
       "      <th></th>\n",
       "      <th>director</th>\n",
       "      <th>actor</th>\n",
       "      <th>collabs</th>\n",
       "    </tr>\n",
       "  </thead>\n",
       "  <tbody>\n",
       "    <tr>\n",
       "      <td>0</td>\n",
       "      <td>Joe Pytka</td>\n",
       "      <td>Diane Lane</td>\n",
       "      <td>0</td>\n",
       "    </tr>\n",
       "    <tr>\n",
       "      <td>1</td>\n",
       "      <td>Joe Pytka</td>\n",
       "      <td>Vincent Spano</td>\n",
       "      <td>0</td>\n",
       "    </tr>\n",
       "    <tr>\n",
       "      <td>2</td>\n",
       "      <td>Joe Pytka</td>\n",
       "      <td>Leonardo DiCaprio</td>\n",
       "      <td>0</td>\n",
       "    </tr>\n",
       "    <tr>\n",
       "      <td>3</td>\n",
       "      <td>Joe Pytka</td>\n",
       "      <td>Richard Farnsworth</td>\n",
       "      <td>0</td>\n",
       "    </tr>\n",
       "    <tr>\n",
       "      <td>4</td>\n",
       "      <td>Joe Pytka</td>\n",
       "      <td>Juan Diego</td>\n",
       "      <td>0</td>\n",
       "    </tr>\n",
       "    <tr>\n",
       "      <td>...</td>\n",
       "      <td>...</td>\n",
       "      <td>...</td>\n",
       "      <td>...</td>\n",
       "    </tr>\n",
       "    <tr>\n",
       "      <td>6908531</td>\n",
       "      <td>Max Mayer</td>\n",
       "      <td>John Rhys-Davies</td>\n",
       "      <td>0</td>\n",
       "    </tr>\n",
       "    <tr>\n",
       "      <td>6908532</td>\n",
       "      <td>Max Mayer</td>\n",
       "      <td>Delphine Zentout</td>\n",
       "      <td>0</td>\n",
       "    </tr>\n",
       "    <tr>\n",
       "      <td>6908533</td>\n",
       "      <td>Max Mayer</td>\n",
       "      <td>Charlotte Véry</td>\n",
       "      <td>0</td>\n",
       "    </tr>\n",
       "    <tr>\n",
       "      <td>6908534</td>\n",
       "      <td>Max Mayer</td>\n",
       "      <td>Ari Graynor</td>\n",
       "      <td>0</td>\n",
       "    </tr>\n",
       "    <tr>\n",
       "      <td>6908535</td>\n",
       "      <td>Max Mayer</td>\n",
       "      <td>Michelle Morgan</td>\n",
       "      <td>0</td>\n",
       "    </tr>\n",
       "  </tbody>\n",
       "</table>\n",
       "<p>6908536 rows × 3 columns</p>\n",
       "</div>"
      ],
      "text/plain": [
       "          director               actor  collabs\n",
       "0        Joe Pytka          Diane Lane        0\n",
       "1        Joe Pytka       Vincent Spano        0\n",
       "2        Joe Pytka   Leonardo DiCaprio        0\n",
       "3        Joe Pytka  Richard Farnsworth        0\n",
       "4        Joe Pytka          Juan Diego        0\n",
       "...            ...                 ...      ...\n",
       "6908531  Max Mayer    John Rhys-Davies        0\n",
       "6908532  Max Mayer    Delphine Zentout        0\n",
       "6908533  Max Mayer      Charlotte Véry        0\n",
       "6908534  Max Mayer         Ari Graynor        0\n",
       "6908535  Max Mayer     Michelle Morgan        0\n",
       "\n",
       "[6908536 rows x 3 columns]"
      ]
     },
     "execution_count": 10,
     "metadata": {},
     "output_type": "execute_result"
    }
   ],
   "source": [
    "df"
   ]
  },
  {
   "cell_type": "markdown",
   "metadata": {},
   "source": [
    "ADDING AND TESTING COVARIATES"
   ]
  },
  {
   "cell_type": "code",
   "execution_count": 9,
   "metadata": {},
   "outputs": [],
   "source": [
    "actor_total_gross = {}\n",
    "actor_mean_gross = {}\n",
    "for actor in actors:\n",
    "    temp = movie_industry[movie_industry.star ==  actor]\n",
    "    sum_gross = sum(temp.gross.values)\n",
    "    mean_gross = np.mean(temp.gross.values)\n",
    "    actor_total_gross[actor] = sum_gross\n",
    "    actor_mean_gross[actor] = mean_gross"
   ]
  },
  {
   "cell_type": "code",
   "execution_count": 20,
   "metadata": {},
   "outputs": [],
   "source": [
    "director_total_gross = {}\n",
    "director_mean_gross = {}\n",
    "for director in directors:\n",
    "    temp = movie_industry[movie_industry.director ==  director]\n",
    "    sum_gross = sum(temp.gross.values)\n",
    "    mean_gross = np.mean(temp.gross.values)\n",
    "    director_total_gross[director] = sum_gross\n",
    "    director_mean_gross[director] = mean_gross"
   ]
  },
  {
   "cell_type": "code",
   "execution_count": 21,
   "metadata": {},
   "outputs": [],
   "source": [
    "df[\"director_total_gross\"] = df.director.map(director_total_gross)\n",
    "df[\"director_mean_gross\"] = df.director.map(director_mean_gross)\n",
    "df[\"actor_total_gross\"] = df.actor.map(actor_total_gross)\n",
    "df[\"actor_mean_gross\"] = df.actor.map(actor_mean_gross)"
   ]
  },
  {
   "cell_type": "code",
   "execution_count": 22,
   "metadata": {},
   "outputs": [],
   "source": [
    "df[\"collab indicator\"] = (df.collabs > 0)*1"
   ]
  },
  {
   "cell_type": "code",
   "execution_count": 23,
   "metadata": {},
   "outputs": [],
   "source": [
    "df[\"total_gross_diff\"] = abs(df.director_total_gross - df.actor_total_gross)\n",
    "df[\"mean_gross_diff\"] = abs(df.director_mean_gross - df.actor_mean_gross)"
   ]
  },
  {
   "cell_type": "code",
   "execution_count": 199,
   "metadata": {},
   "outputs": [
    {
     "data": {
      "text/html": [
       "<div>\n",
       "<style scoped>\n",
       "    .dataframe tbody tr th:only-of-type {\n",
       "        vertical-align: middle;\n",
       "    }\n",
       "\n",
       "    .dataframe tbody tr th {\n",
       "        vertical-align: top;\n",
       "    }\n",
       "\n",
       "    .dataframe thead th {\n",
       "        text-align: right;\n",
       "    }\n",
       "</style>\n",
       "<table border=\"1\" class=\"dataframe\">\n",
       "  <thead>\n",
       "    <tr style=\"text-align: right;\">\n",
       "      <th></th>\n",
       "      <th>director</th>\n",
       "      <th>actor</th>\n",
       "      <th>collabs</th>\n",
       "      <th>director_total_gross</th>\n",
       "      <th>director_mean_gross</th>\n",
       "      <th>actor_total_gross</th>\n",
       "      <th>actor_mean_gross</th>\n",
       "      <th>collab indicator</th>\n",
       "      <th>total_gross_diff</th>\n",
       "      <th>mean_gross_diff</th>\n",
       "      <th>ratings_tvd</th>\n",
       "      <th>genre_tvd</th>\n",
       "    </tr>\n",
       "  </thead>\n",
       "  <tbody>\n",
       "    <tr>\n",
       "      <td>0</td>\n",
       "      <td>Joe Pytka</td>\n",
       "      <td>Diane Lane</td>\n",
       "      <td>0</td>\n",
       "      <td>95436819.0</td>\n",
       "      <td>47718409.5</td>\n",
       "      <td>2.459255e+08</td>\n",
       "      <td>2.732506e+07</td>\n",
       "      <td>0</td>\n",
       "      <td>1.504887e+08</td>\n",
       "      <td>2.039335e+07</td>\n",
       "      <td>0.333333</td>\n",
       "      <td>0.555556</td>\n",
       "    </tr>\n",
       "    <tr>\n",
       "      <td>1</td>\n",
       "      <td>Joe Pytka</td>\n",
       "      <td>Vincent Spano</td>\n",
       "      <td>0</td>\n",
       "      <td>95436819.0</td>\n",
       "      <td>47718409.5</td>\n",
       "      <td>1.264910e+06</td>\n",
       "      <td>1.264910e+06</td>\n",
       "      <td>0</td>\n",
       "      <td>9.417191e+07</td>\n",
       "      <td>4.645350e+07</td>\n",
       "      <td>1.000000</td>\n",
       "      <td>1.000000</td>\n",
       "    </tr>\n",
       "    <tr>\n",
       "      <td>2</td>\n",
       "      <td>Joe Pytka</td>\n",
       "      <td>Leonardo DiCaprio</td>\n",
       "      <td>0</td>\n",
       "      <td>95436819.0</td>\n",
       "      <td>47718409.5</td>\n",
       "      <td>2.304909e+09</td>\n",
       "      <td>1.213110e+08</td>\n",
       "      <td>0</td>\n",
       "      <td>2.209472e+09</td>\n",
       "      <td>7.359259e+07</td>\n",
       "      <td>0.631579</td>\n",
       "      <td>1.000000</td>\n",
       "    </tr>\n",
       "    <tr>\n",
       "      <td>3</td>\n",
       "      <td>Joe Pytka</td>\n",
       "      <td>Richard Farnsworth</td>\n",
       "      <td>0</td>\n",
       "      <td>95436819.0</td>\n",
       "      <td>47718409.5</td>\n",
       "      <td>6.203044e+06</td>\n",
       "      <td>6.203044e+06</td>\n",
       "      <td>0</td>\n",
       "      <td>8.923378e+07</td>\n",
       "      <td>4.151537e+07</td>\n",
       "      <td>1.000000</td>\n",
       "      <td>1.000000</td>\n",
       "    </tr>\n",
       "    <tr>\n",
       "      <td>4</td>\n",
       "      <td>Joe Pytka</td>\n",
       "      <td>Juan Diego</td>\n",
       "      <td>0</td>\n",
       "      <td>95436819.0</td>\n",
       "      <td>47718409.5</td>\n",
       "      <td>7.891270e+05</td>\n",
       "      <td>7.891270e+05</td>\n",
       "      <td>0</td>\n",
       "      <td>9.464769e+07</td>\n",
       "      <td>4.692928e+07</td>\n",
       "      <td>1.000000</td>\n",
       "      <td>1.000000</td>\n",
       "    </tr>\n",
       "    <tr>\n",
       "      <td>...</td>\n",
       "      <td>...</td>\n",
       "      <td>...</td>\n",
       "      <td>...</td>\n",
       "      <td>...</td>\n",
       "      <td>...</td>\n",
       "      <td>...</td>\n",
       "      <td>...</td>\n",
       "      <td>...</td>\n",
       "      <td>...</td>\n",
       "      <td>...</td>\n",
       "      <td>...</td>\n",
       "      <td>...</td>\n",
       "    </tr>\n",
       "    <tr>\n",
       "      <td>6908531</td>\n",
       "      <td>Max Mayer</td>\n",
       "      <td>John Rhys-Davies</td>\n",
       "      <td>0</td>\n",
       "      <td>2277396.0</td>\n",
       "      <td>2277396.0</td>\n",
       "      <td>1.814100e+05</td>\n",
       "      <td>1.814100e+05</td>\n",
       "      <td>0</td>\n",
       "      <td>2.095986e+06</td>\n",
       "      <td>2.095986e+06</td>\n",
       "      <td>1.000000</td>\n",
       "      <td>1.000000</td>\n",
       "    </tr>\n",
       "    <tr>\n",
       "      <td>6908532</td>\n",
       "      <td>Max Mayer</td>\n",
       "      <td>Delphine Zentout</td>\n",
       "      <td>0</td>\n",
       "      <td>2277396.0</td>\n",
       "      <td>2277396.0</td>\n",
       "      <td>4.101090e+05</td>\n",
       "      <td>4.101090e+05</td>\n",
       "      <td>0</td>\n",
       "      <td>1.867287e+06</td>\n",
       "      <td>1.867287e+06</td>\n",
       "      <td>1.000000</td>\n",
       "      <td>1.000000</td>\n",
       "    </tr>\n",
       "    <tr>\n",
       "      <td>6908533</td>\n",
       "      <td>Max Mayer</td>\n",
       "      <td>Charlotte Véry</td>\n",
       "      <td>0</td>\n",
       "      <td>2277396.0</td>\n",
       "      <td>2277396.0</td>\n",
       "      <td>2.136870e+05</td>\n",
       "      <td>2.136870e+05</td>\n",
       "      <td>0</td>\n",
       "      <td>2.063709e+06</td>\n",
       "      <td>2.063709e+06</td>\n",
       "      <td>1.000000</td>\n",
       "      <td>0.000000</td>\n",
       "    </tr>\n",
       "    <tr>\n",
       "      <td>6908534</td>\n",
       "      <td>Max Mayer</td>\n",
       "      <td>Ari Graynor</td>\n",
       "      <td>0</td>\n",
       "      <td>2277396.0</td>\n",
       "      <td>2277396.0</td>\n",
       "      <td>1.243961e+06</td>\n",
       "      <td>1.243961e+06</td>\n",
       "      <td>0</td>\n",
       "      <td>1.033435e+06</td>\n",
       "      <td>1.033435e+06</td>\n",
       "      <td>1.000000</td>\n",
       "      <td>1.000000</td>\n",
       "    </tr>\n",
       "    <tr>\n",
       "      <td>6908535</td>\n",
       "      <td>Max Mayer</td>\n",
       "      <td>Michelle Morgan</td>\n",
       "      <td>0</td>\n",
       "      <td>2277396.0</td>\n",
       "      <td>2277396.0</td>\n",
       "      <td>9.589610e+05</td>\n",
       "      <td>9.589610e+05</td>\n",
       "      <td>0</td>\n",
       "      <td>1.318435e+06</td>\n",
       "      <td>1.318435e+06</td>\n",
       "      <td>1.000000</td>\n",
       "      <td>1.000000</td>\n",
       "    </tr>\n",
       "  </tbody>\n",
       "</table>\n",
       "<p>6908536 rows × 12 columns</p>\n",
       "</div>"
      ],
      "text/plain": [
       "          director               actor  collabs  director_total_gross  \\\n",
       "0        Joe Pytka          Diane Lane        0            95436819.0   \n",
       "1        Joe Pytka       Vincent Spano        0            95436819.0   \n",
       "2        Joe Pytka   Leonardo DiCaprio        0            95436819.0   \n",
       "3        Joe Pytka  Richard Farnsworth        0            95436819.0   \n",
       "4        Joe Pytka          Juan Diego        0            95436819.0   \n",
       "...            ...                 ...      ...                   ...   \n",
       "6908531  Max Mayer    John Rhys-Davies        0             2277396.0   \n",
       "6908532  Max Mayer    Delphine Zentout        0             2277396.0   \n",
       "6908533  Max Mayer      Charlotte Véry        0             2277396.0   \n",
       "6908534  Max Mayer         Ari Graynor        0             2277396.0   \n",
       "6908535  Max Mayer     Michelle Morgan        0             2277396.0   \n",
       "\n",
       "         director_mean_gross  actor_total_gross  actor_mean_gross  \\\n",
       "0                 47718409.5       2.459255e+08      2.732506e+07   \n",
       "1                 47718409.5       1.264910e+06      1.264910e+06   \n",
       "2                 47718409.5       2.304909e+09      1.213110e+08   \n",
       "3                 47718409.5       6.203044e+06      6.203044e+06   \n",
       "4                 47718409.5       7.891270e+05      7.891270e+05   \n",
       "...                      ...                ...               ...   \n",
       "6908531            2277396.0       1.814100e+05      1.814100e+05   \n",
       "6908532            2277396.0       4.101090e+05      4.101090e+05   \n",
       "6908533            2277396.0       2.136870e+05      2.136870e+05   \n",
       "6908534            2277396.0       1.243961e+06      1.243961e+06   \n",
       "6908535            2277396.0       9.589610e+05      9.589610e+05   \n",
       "\n",
       "         collab indicator  total_gross_diff  mean_gross_diff  ratings_tvd  \\\n",
       "0                       0      1.504887e+08     2.039335e+07     0.333333   \n",
       "1                       0      9.417191e+07     4.645350e+07     1.000000   \n",
       "2                       0      2.209472e+09     7.359259e+07     0.631579   \n",
       "3                       0      8.923378e+07     4.151537e+07     1.000000   \n",
       "4                       0      9.464769e+07     4.692928e+07     1.000000   \n",
       "...                   ...               ...              ...          ...   \n",
       "6908531                 0      2.095986e+06     2.095986e+06     1.000000   \n",
       "6908532                 0      1.867287e+06     1.867287e+06     1.000000   \n",
       "6908533                 0      2.063709e+06     2.063709e+06     1.000000   \n",
       "6908534                 0      1.033435e+06     1.033435e+06     1.000000   \n",
       "6908535                 0      1.318435e+06     1.318435e+06     1.000000   \n",
       "\n",
       "         genre_tvd  \n",
       "0         0.555556  \n",
       "1         1.000000  \n",
       "2         1.000000  \n",
       "3         1.000000  \n",
       "4         1.000000  \n",
       "...            ...  \n",
       "6908531   1.000000  \n",
       "6908532   1.000000  \n",
       "6908533   0.000000  \n",
       "6908534   1.000000  \n",
       "6908535   1.000000  \n",
       "\n",
       "[6908536 rows x 12 columns]"
      ]
     },
     "execution_count": 199,
     "metadata": {},
     "output_type": "execute_result"
    }
   ],
   "source": [
    "df"
   ]
  },
  {
   "cell_type": "code",
   "execution_count": 39,
   "metadata": {},
   "outputs": [],
   "source": [
    "from scipy.stats import ttest_ind\n",
    "from scipy.stats import ks_2samp"
   ]
  },
  {
   "cell_type": "markdown",
   "metadata": {},
   "source": [
    "Mean gross Difference"
   ]
  },
  {
   "cell_type": "code",
   "execution_count": 40,
   "metadata": {},
   "outputs": [],
   "source": [
    "bins = np.linspace(min(df.mean_gross_diff.values), max(df.mean_gross_diff.values), 50)"
   ]
  },
  {
   "cell_type": "code",
   "execution_count": 36,
   "metadata": {
    "scrolled": true
   },
   "outputs": [
    {
     "data": {
      "text/plain": [
       "<matplotlib.legend.Legend at 0x7fb0984e9e90>"
      ]
     },
     "execution_count": 36,
     "metadata": {},
     "output_type": "execute_result"
    },
    {
     "data": {
      "image/png": "[encoded data removed]",
      "text/plain": [
       "<Figure size 432x288 with 1 Axes>"
      ]
     },
     "metadata": {
      "needs_background": "light"
     },
     "output_type": "display_data"
    }
   ],
   "source": [
    "plt.hist(df[df[\"collab indicator\"] == 1].mean_gross_diff.values, density = True, bins = bins, label = \"1\", alpha = 0.5)\n",
    "plt.hist(df[df[\"collab indicator\"] == 0].mean_gross_diff.values, density = True, bins = bins, label = \"0\", alpha = 0.5)\n",
    "plt.legend()"
   ]
  },
  {
   "cell_type": "code",
   "execution_count": 38,
   "metadata": {},
   "outputs": [
    {
     "data": {
      "text/plain": [
       "<matplotlib.legend.Legend at 0x7fb09852f790>"
      ]
     },
     "execution_count": 38,
     "metadata": {},
     "output_type": "execute_result"
    },
    {
     "data": {
      "image/png": "[encoded data removed]",
      "text/plain": [
       "<Figure size 432x288 with 1 Axes>"
      ]
     },
     "metadata": {
      "needs_background": "light"
     },
     "output_type": "display_data"
    }
   ],
   "source": [
    "plt.hist(df[df[\"collab indicator\"] == 1].mean_gross_diff.values, density = True, bins = bins, label = \"1\", alpha = 0.5)\n",
    "plt.hist(df[df[\"collab indicator\"] == 0].mean_gross_diff.values, density = True, bins = bins, label = \"0\", alpha = 0.5)\n",
    "plt.xlim(0, 300000000)\n",
    "plt.legend()"
   ]
  },
  {
   "cell_type": "code",
   "execution_count": 26,
   "metadata": {},
   "outputs": [
    {
     "data": {
      "text/plain": [
       "1050745802394769.6"
      ]
     },
     "execution_count": 26,
     "metadata": {},
     "output_type": "execute_result"
    }
   ],
   "source": [
    "np.var(df[df[\"collab indicator\"] == 1].mean_gross_diff.values)"
   ]
  },
  {
   "cell_type": "code",
   "execution_count": 27,
   "metadata": {},
   "outputs": [
    {
     "data": {
      "text/plain": [
       "2096009318756954.5"
      ]
     },
     "execution_count": 27,
     "metadata": {},
     "output_type": "execute_result"
    }
   ],
   "source": [
    "np.var(df[df[\"collab indicator\"] == 0].mean_gross_diff.values)"
   ]
  },
  {
   "cell_type": "code",
   "execution_count": 30,
   "metadata": {},
   "outputs": [
    {
     "data": {
      "text/plain": [
       "Ttest_indResult(statistic=-16.015154834135338, pvalue=1.2835183502642684e-56)"
      ]
     },
     "execution_count": 30,
     "metadata": {},
     "output_type": "execute_result"
    }
   ],
   "source": [
    "ttest_ind(df[df[\"collab indicator\"] == 1].mean_gross_diff.values, \n",
    "                      df[df[\"collab indicator\"] == 0].mean_gross_diff.values, \n",
    "                      equal_var=False)"
   ]
  },
  {
   "cell_type": "code",
   "execution_count": 34,
   "metadata": {},
   "outputs": [
    {
     "data": {
      "text/plain": [
       "Ks_2sampResult(statistic=0.09593936008176188, pvalue=8.546734041695773e-51)"
      ]
     },
     "execution_count": 34,
     "metadata": {},
     "output_type": "execute_result"
    }
   ],
   "source": [
    "ks_2samp(df[df[\"collab indicator\"] == 1].mean_gross_diff.values, \n",
    "                      df[df[\"collab indicator\"] == 0].mean_gross_diff.values)"
   ]
  },
  {
   "cell_type": "markdown",
   "metadata": {},
   "source": [
    "Total gross differnece"
   ]
  },
  {
   "cell_type": "code",
   "execution_count": 41,
   "metadata": {},
   "outputs": [],
   "source": [
    "bins = np.linspace(min(df.total_gross_diff.values), max(df.total_gross_diff.values), 50)"
   ]
  },
  {
   "cell_type": "code",
   "execution_count": 42,
   "metadata": {},
   "outputs": [
    {
     "data": {
      "text/plain": [
       "<matplotlib.legend.Legend at 0x7fb038462b10>"
      ]
     },
     "execution_count": 42,
     "metadata": {},
     "output_type": "execute_result"
    },
    {
     "data": {
      "image/png": "[encoded data removed]",
      "text/plain": [
       "<Figure size 432x288 with 1 Axes>"
      ]
     },
     "metadata": {
      "needs_background": "light"
     },
     "output_type": "display_data"
    }
   ],
   "source": [
    "plt.hist(df[df[\"collab indicator\"] == 1].total_gross_diff.values, density = True, bins = bins, label = \"1\", alpha = 0.5)\n",
    "plt.hist(df[df[\"collab indicator\"] == 0].total_gross_diff.values, density = True, bins = bins, label = \"0\", alpha = 0.5)\n",
    "plt.legend()"
   ]
  },
  {
   "cell_type": "code",
   "execution_count": 49,
   "metadata": {},
   "outputs": [
    {
     "data": {
      "text/plain": [
       "2.886759169959315e+17"
      ]
     },
     "execution_count": 49,
     "metadata": {},
     "output_type": "execute_result"
    }
   ],
   "source": [
    "np.var(df[df[\"collab indicator\"] == 1].total_gross_diff.values)"
   ]
  },
  {
   "cell_type": "code",
   "execution_count": 50,
   "metadata": {},
   "outputs": [
    {
     "data": {
      "text/plain": [
       "1.002811524720565e+17"
      ]
     },
     "execution_count": 50,
     "metadata": {},
     "output_type": "execute_result"
    }
   ],
   "source": [
    "np.var(df[df[\"collab indicator\"] == 0].total_gross_diff.values)"
   ]
  },
  {
   "cell_type": "code",
   "execution_count": 51,
   "metadata": {},
   "outputs": [
    {
     "data": {
      "text/plain": [
       "Ttest_indResult(statistic=29.307689197428616, pvalue=3.9445543251715487e-177)"
      ]
     },
     "execution_count": 51,
     "metadata": {},
     "output_type": "execute_result"
    }
   ],
   "source": [
    "ttest_ind(df[df[\"collab indicator\"] == 1].total_gross_diff.values, \n",
    "                      df[df[\"collab indicator\"] == 0].total_gross_diff.values, \n",
    "                      equal_var=False)"
   ]
  },
  {
   "cell_type": "code",
   "execution_count": 52,
   "metadata": {},
   "outputs": [
    {
     "data": {
      "text/plain": [
       "Ks_2sampResult(statistic=0.2285422120770127, pvalue=2.972960640425862e-286)"
      ]
     },
     "execution_count": 52,
     "metadata": {},
     "output_type": "execute_result"
    }
   ],
   "source": [
    "ks_2samp(df[df[\"collab indicator\"] == 1].total_gross_diff.values, \n",
    "                      df[df[\"collab indicator\"] == 0].total_gross_diff.values)"
   ]
  },
  {
   "cell_type": "markdown",
   "metadata": {},
   "source": [
    "RATINGS"
   ]
  },
  {
   "cell_type": "code",
   "execution_count": 54,
   "metadata": {
    "scrolled": true
   },
   "outputs": [
    {
     "data": {
      "text/html": [
       "<div>\n",
       "<style scoped>\n",
       "    .dataframe tbody tr th:only-of-type {\n",
       "        vertical-align: middle;\n",
       "    }\n",
       "\n",
       "    .dataframe tbody tr th {\n",
       "        vertical-align: top;\n",
       "    }\n",
       "\n",
       "    .dataframe thead th {\n",
       "        text-align: right;\n",
       "    }\n",
       "</style>\n",
       "<table border=\"1\" class=\"dataframe\">\n",
       "  <thead>\n",
       "    <tr style=\"text-align: right;\">\n",
       "      <th></th>\n",
       "      <th>budget</th>\n",
       "      <th>company</th>\n",
       "      <th>country</th>\n",
       "      <th>director</th>\n",
       "      <th>genre</th>\n",
       "      <th>gross</th>\n",
       "      <th>name</th>\n",
       "      <th>rating</th>\n",
       "      <th>released</th>\n",
       "      <th>runtime</th>\n",
       "      <th>score</th>\n",
       "      <th>star</th>\n",
       "      <th>votes</th>\n",
       "      <th>writer</th>\n",
       "      <th>year</th>\n",
       "    </tr>\n",
       "  </thead>\n",
       "  <tbody>\n",
       "    <tr>\n",
       "      <td>0</td>\n",
       "      <td>8000000.0</td>\n",
       "      <td>Columbia Pictures Corporation</td>\n",
       "      <td>USA</td>\n",
       "      <td>Rob Reiner</td>\n",
       "      <td>Adventure</td>\n",
       "      <td>52287414.0</td>\n",
       "      <td>Stand by Me</td>\n",
       "      <td>R</td>\n",
       "      <td>1986-08-22</td>\n",
       "      <td>89</td>\n",
       "      <td>8.1</td>\n",
       "      <td>Wil Wheaton</td>\n",
       "      <td>299174</td>\n",
       "      <td>Stephen King</td>\n",
       "      <td>1986</td>\n",
       "    </tr>\n",
       "    <tr>\n",
       "      <td>1</td>\n",
       "      <td>6000000.0</td>\n",
       "      <td>Paramount Pictures</td>\n",
       "      <td>USA</td>\n",
       "      <td>John Hughes</td>\n",
       "      <td>Comedy</td>\n",
       "      <td>70136369.0</td>\n",
       "      <td>Ferris Bueller's Day Off</td>\n",
       "      <td>PG-13</td>\n",
       "      <td>1986-06-11</td>\n",
       "      <td>103</td>\n",
       "      <td>7.8</td>\n",
       "      <td>Matthew Broderick</td>\n",
       "      <td>264740</td>\n",
       "      <td>John Hughes</td>\n",
       "      <td>1986</td>\n",
       "    </tr>\n",
       "    <tr>\n",
       "      <td>2</td>\n",
       "      <td>15000000.0</td>\n",
       "      <td>Paramount Pictures</td>\n",
       "      <td>USA</td>\n",
       "      <td>Tony Scott</td>\n",
       "      <td>Action</td>\n",
       "      <td>179800601.0</td>\n",
       "      <td>Top Gun</td>\n",
       "      <td>PG</td>\n",
       "      <td>1986-05-16</td>\n",
       "      <td>110</td>\n",
       "      <td>6.9</td>\n",
       "      <td>Tom Cruise</td>\n",
       "      <td>236909</td>\n",
       "      <td>Jim Cash</td>\n",
       "      <td>1986</td>\n",
       "    </tr>\n",
       "    <tr>\n",
       "      <td>3</td>\n",
       "      <td>18500000.0</td>\n",
       "      <td>Twentieth Century Fox Film Corporation</td>\n",
       "      <td>USA</td>\n",
       "      <td>James Cameron</td>\n",
       "      <td>Action</td>\n",
       "      <td>85160248.0</td>\n",
       "      <td>Aliens</td>\n",
       "      <td>R</td>\n",
       "      <td>1986-07-18</td>\n",
       "      <td>137</td>\n",
       "      <td>8.4</td>\n",
       "      <td>Sigourney Weaver</td>\n",
       "      <td>540152</td>\n",
       "      <td>James Cameron</td>\n",
       "      <td>1986</td>\n",
       "    </tr>\n",
       "    <tr>\n",
       "      <td>4</td>\n",
       "      <td>9000000.0</td>\n",
       "      <td>Walt Disney Pictures</td>\n",
       "      <td>USA</td>\n",
       "      <td>Randal Kleiser</td>\n",
       "      <td>Adventure</td>\n",
       "      <td>18564613.0</td>\n",
       "      <td>Flight of the Navigator</td>\n",
       "      <td>PG</td>\n",
       "      <td>1986-08-01</td>\n",
       "      <td>90</td>\n",
       "      <td>6.9</td>\n",
       "      <td>Joey Cramer</td>\n",
       "      <td>36636</td>\n",
       "      <td>Mark H. Baker</td>\n",
       "      <td>1986</td>\n",
       "    </tr>\n",
       "    <tr>\n",
       "      <td>...</td>\n",
       "      <td>...</td>\n",
       "      <td>...</td>\n",
       "      <td>...</td>\n",
       "      <td>...</td>\n",
       "      <td>...</td>\n",
       "      <td>...</td>\n",
       "      <td>...</td>\n",
       "      <td>...</td>\n",
       "      <td>...</td>\n",
       "      <td>...</td>\n",
       "      <td>...</td>\n",
       "      <td>...</td>\n",
       "      <td>...</td>\n",
       "      <td>...</td>\n",
       "      <td>...</td>\n",
       "    </tr>\n",
       "    <tr>\n",
       "      <td>6815</td>\n",
       "      <td>0.0</td>\n",
       "      <td>Fox Searchlight Pictures</td>\n",
       "      <td>UK</td>\n",
       "      <td>Mandie Fletcher</td>\n",
       "      <td>Comedy</td>\n",
       "      <td>4750497.0</td>\n",
       "      <td>Absolutely Fabulous: The Movie</td>\n",
       "      <td>R</td>\n",
       "      <td>2016-07-22</td>\n",
       "      <td>91</td>\n",
       "      <td>5.4</td>\n",
       "      <td>Jennifer Saunders</td>\n",
       "      <td>9161</td>\n",
       "      <td>Jennifer Saunders</td>\n",
       "      <td>2016</td>\n",
       "    </tr>\n",
       "    <tr>\n",
       "      <td>6816</td>\n",
       "      <td>0.0</td>\n",
       "      <td>Siempre Viva Productions</td>\n",
       "      <td>USA</td>\n",
       "      <td>Paul Duddridge</td>\n",
       "      <td>Drama</td>\n",
       "      <td>28368.0</td>\n",
       "      <td>Mothers and Daughters</td>\n",
       "      <td>PG-13</td>\n",
       "      <td>2016-05-06</td>\n",
       "      <td>90</td>\n",
       "      <td>4.9</td>\n",
       "      <td>Selma Blair</td>\n",
       "      <td>1959</td>\n",
       "      <td>Paige Cameron</td>\n",
       "      <td>2016</td>\n",
       "    </tr>\n",
       "    <tr>\n",
       "      <td>6817</td>\n",
       "      <td>3500000.0</td>\n",
       "      <td>Warner Bros. Animation</td>\n",
       "      <td>USA</td>\n",
       "      <td>Sam Liu</td>\n",
       "      <td>Animation</td>\n",
       "      <td>3775000.0</td>\n",
       "      <td>Batman: The Killing Joke</td>\n",
       "      <td>R</td>\n",
       "      <td>2016-07-25</td>\n",
       "      <td>76</td>\n",
       "      <td>6.5</td>\n",
       "      <td>Kevin Conroy</td>\n",
       "      <td>36333</td>\n",
       "      <td>Brian Azzarello</td>\n",
       "      <td>2016</td>\n",
       "    </tr>\n",
       "    <tr>\n",
       "      <td>6818</td>\n",
       "      <td>0.0</td>\n",
       "      <td>Borderline Presents</td>\n",
       "      <td>USA</td>\n",
       "      <td>Nicolas Pesce</td>\n",
       "      <td>Drama</td>\n",
       "      <td>25981.0</td>\n",
       "      <td>The Eyes of My Mother</td>\n",
       "      <td>R</td>\n",
       "      <td>2016-12-02</td>\n",
       "      <td>76</td>\n",
       "      <td>6.2</td>\n",
       "      <td>Kika Magalhães</td>\n",
       "      <td>6947</td>\n",
       "      <td>Nicolas Pesce</td>\n",
       "      <td>2016</td>\n",
       "    </tr>\n",
       "    <tr>\n",
       "      <td>6819</td>\n",
       "      <td>0.0</td>\n",
       "      <td>Les Productions du Trésor</td>\n",
       "      <td>France</td>\n",
       "      <td>Nicole Garcia</td>\n",
       "      <td>Drama</td>\n",
       "      <td>37757.0</td>\n",
       "      <td>From the Land of the Moon</td>\n",
       "      <td>R</td>\n",
       "      <td>2017-07-28</td>\n",
       "      <td>120</td>\n",
       "      <td>6.7</td>\n",
       "      <td>Marion Cotillard</td>\n",
       "      <td>2411</td>\n",
       "      <td>Milena Agus</td>\n",
       "      <td>2016</td>\n",
       "    </tr>\n",
       "  </tbody>\n",
       "</table>\n",
       "<p>6820 rows × 15 columns</p>\n",
       "</div>"
      ],
      "text/plain": [
       "          budget                                 company country  \\\n",
       "0      8000000.0           Columbia Pictures Corporation     USA   \n",
       "1      6000000.0                      Paramount Pictures     USA   \n",
       "2     15000000.0                      Paramount Pictures     USA   \n",
       "3     18500000.0  Twentieth Century Fox Film Corporation     USA   \n",
       "4      9000000.0                    Walt Disney Pictures     USA   \n",
       "...          ...                                     ...     ...   \n",
       "6815         0.0                Fox Searchlight Pictures      UK   \n",
       "6816         0.0                Siempre Viva Productions     USA   \n",
       "6817   3500000.0                  Warner Bros. Animation     USA   \n",
       "6818         0.0                     Borderline Presents     USA   \n",
       "6819         0.0               Les Productions du Trésor  France   \n",
       "\n",
       "             director      genre        gross                            name  \\\n",
       "0          Rob Reiner  Adventure   52287414.0                     Stand by Me   \n",
       "1         John Hughes     Comedy   70136369.0        Ferris Bueller's Day Off   \n",
       "2          Tony Scott     Action  179800601.0                         Top Gun   \n",
       "3       James Cameron     Action   85160248.0                          Aliens   \n",
       "4      Randal Kleiser  Adventure   18564613.0         Flight of the Navigator   \n",
       "...               ...        ...          ...                             ...   \n",
       "6815  Mandie Fletcher     Comedy    4750497.0  Absolutely Fabulous: The Movie   \n",
       "6816   Paul Duddridge      Drama      28368.0           Mothers and Daughters   \n",
       "6817          Sam Liu  Animation    3775000.0        Batman: The Killing Joke   \n",
       "6818    Nicolas Pesce      Drama      25981.0           The Eyes of My Mother   \n",
       "6819    Nicole Garcia      Drama      37757.0       From the Land of the Moon   \n",
       "\n",
       "     rating    released  runtime  score               star   votes  \\\n",
       "0         R  1986-08-22       89    8.1        Wil Wheaton  299174   \n",
       "1     PG-13  1986-06-11      103    7.8  Matthew Broderick  264740   \n",
       "2        PG  1986-05-16      110    6.9         Tom Cruise  236909   \n",
       "3         R  1986-07-18      137    8.4   Sigourney Weaver  540152   \n",
       "4        PG  1986-08-01       90    6.9        Joey Cramer   36636   \n",
       "...     ...         ...      ...    ...                ...     ...   \n",
       "6815      R  2016-07-22       91    5.4  Jennifer Saunders    9161   \n",
       "6816  PG-13  2016-05-06       90    4.9        Selma Blair    1959   \n",
       "6817      R  2016-07-25       76    6.5       Kevin Conroy   36333   \n",
       "6818      R  2016-12-02       76    6.2     Kika Magalhães    6947   \n",
       "6819      R  2017-07-28      120    6.7   Marion Cotillard    2411   \n",
       "\n",
       "                 writer  year  \n",
       "0          Stephen King  1986  \n",
       "1           John Hughes  1986  \n",
       "2              Jim Cash  1986  \n",
       "3         James Cameron  1986  \n",
       "4         Mark H. Baker  1986  \n",
       "...                 ...   ...  \n",
       "6815  Jennifer Saunders  2016  \n",
       "6816      Paige Cameron  2016  \n",
       "6817    Brian Azzarello  2016  \n",
       "6818      Nicolas Pesce  2016  \n",
       "6819        Milena Agus  2016  \n",
       "\n",
       "[6820 rows x 15 columns]"
      ]
     },
     "execution_count": 54,
     "metadata": {},
     "output_type": "execute_result"
    }
   ],
   "source": [
    "movie_industry"
   ]
  },
  {
   "cell_type": "code",
   "execution_count": 74,
   "metadata": {},
   "outputs": [
    {
     "data": {
      "text/plain": [
       "array(['B', 'B15', 'G', 'NC-17', 'NOT RATED', 'Not specified', 'PG',\n",
       "       'PG-13', 'R', 'TV-14', 'TV-MA', 'TV-PG', 'UNRATED'], dtype=object)"
      ]
     },
     "execution_count": 74,
     "metadata": {},
     "output_type": "execute_result"
    }
   ],
   "source": [
    "ratings = np.unique(movie_industry.rating.values)\n",
    "ratings"
   ]
  },
  {
   "cell_type": "code",
   "execution_count": 102,
   "metadata": {},
   "outputs": [],
   "source": [
    "dir_ratings_prop = {}\n",
    "for director in directors:\n",
    "    temp = movie_industry[movie_industry.director == director].groupby([\"rating\"])[\"director\"].count()\n",
    "    prop = []\n",
    "    total = sum(temp.values)\n",
    "    for category in ratings:\n",
    "        if category in temp.index:\n",
    "            prop.append(temp[category]/total)\n",
    "        else:\n",
    "            prop.append(0)\n",
    "    dir_ratings_prop[director] = np.array(prop)"
   ]
  },
  {
   "cell_type": "code",
   "execution_count": 103,
   "metadata": {
    "scrolled": true
   },
   "outputs": [],
   "source": [
    "act_ratings_prop = {}\n",
    "for actor in actors:\n",
    "    temp = movie_industry[movie_industry.star == actor].groupby([\"rating\"])[\"star\"].count()\n",
    "    prop = []\n",
    "    total = sum(temp.values)\n",
    "    for category in ratings:\n",
    "        if category in temp.index:\n",
    "            prop.append(temp[category]/total)\n",
    "        else:\n",
    "            prop.append(0)\n",
    "    act_ratings_prop[actor] = np.array(prop)"
   ]
  },
  {
   "cell_type": "code",
   "execution_count": 112,
   "metadata": {},
   "outputs": [
    {
     "name": "stdout",
     "output_type": "stream",
     "text": [
      "CPU times: user 6min 15s, sys: 2.78 s, total: 6min 18s\n",
      "Wall time: 6min 46s\n"
     ]
    }
   ],
   "source": [
    "%%time\n",
    "ratings_tvd = []\n",
    "for i in df.index:\n",
    "    director = df.director[i]\n",
    "    actor = df.actor[i]\n",
    "    tvd = sum(abs(dir_ratings_prop[director] - act_ratings_prop[actor]))/2\n",
    "    ratings_tvd.append(tvd)"
   ]
  },
  {
   "cell_type": "code",
   "execution_count": 113,
   "metadata": {},
   "outputs": [],
   "source": [
    "df[\"ratings_tvd\"] = ratings_tvd"
   ]
  },
  {
   "cell_type": "code",
   "execution_count": 118,
   "metadata": {},
   "outputs": [],
   "source": [
    "bins = np.linspace(min(ratings_tvd), max(ratings_tvd), 20)"
   ]
  },
  {
   "cell_type": "code",
   "execution_count": 119,
   "metadata": {},
   "outputs": [
    {
     "data": {
      "text/plain": [
       "<matplotlib.legend.Legend at 0x7fafe6b6e650>"
      ]
     },
     "execution_count": 119,
     "metadata": {},
     "output_type": "execute_result"
    },
    {
     "data": {
      "image/png": "[encoded data removed]",
      "text/plain": [
       "<Figure size 432x288 with 1 Axes>"
      ]
     },
     "metadata": {
      "needs_background": "light"
     },
     "output_type": "display_data"
    }
   ],
   "source": [
    "plt.hist(df[df[\"collab indicator\"] == 1].ratings_tvd.values, density = True, bins = bins, label = \"1\", alpha = 0.5)\n",
    "plt.hist(df[df[\"collab indicator\"] == 0].ratings_tvd.values, density = True, bins = bins, label = \"0\", alpha = 0.5)\n",
    "plt.legend()"
   ]
  },
  {
   "cell_type": "code",
   "execution_count": 120,
   "metadata": {},
   "outputs": [
    {
     "data": {
      "text/plain": [
       "0.05878517450152846"
      ]
     },
     "execution_count": 120,
     "metadata": {},
     "output_type": "execute_result"
    }
   ],
   "source": [
    "np.var(df[df[\"collab indicator\"] == 1].ratings_tvd.values)"
   ]
  },
  {
   "cell_type": "code",
   "execution_count": 121,
   "metadata": {},
   "outputs": [
    {
     "data": {
      "text/plain": [
       "0.15064050496672002"
      ]
     },
     "execution_count": 121,
     "metadata": {},
     "output_type": "execute_result"
    }
   ],
   "source": [
    "np.var(df[df[\"collab indicator\"] == 0].ratings_tvd.values)"
   ]
  },
  {
   "cell_type": "code",
   "execution_count": 122,
   "metadata": {},
   "outputs": [
    {
     "data": {
      "text/plain": [
       "Ttest_indResult(statistic=-105.2442161747297, pvalue=0.0)"
      ]
     },
     "execution_count": 122,
     "metadata": {},
     "output_type": "execute_result"
    }
   ],
   "source": [
    "ttest_ind(df[df[\"collab indicator\"] == 1].ratings_tvd.values, \n",
    "                      df[df[\"collab indicator\"] == 0].ratings_tvd.values, \n",
    "                      equal_var=False)"
   ]
  },
  {
   "cell_type": "code",
   "execution_count": 123,
   "metadata": {},
   "outputs": [
    {
     "data": {
      "text/plain": [
       "Ks_2sampResult(statistic=0.45962116591304547, pvalue=0.0)"
      ]
     },
     "execution_count": 123,
     "metadata": {},
     "output_type": "execute_result"
    }
   ],
   "source": [
    "ks_2samp(df[df[\"collab indicator\"] == 1].ratings_tvd.values, \n",
    "                      df[df[\"collab indicator\"] == 0].ratings_tvd.values)"
   ]
  },
  {
   "cell_type": "markdown",
   "metadata": {},
   "source": [
    "Genre"
   ]
  },
  {
   "cell_type": "code",
   "execution_count": 124,
   "metadata": {},
   "outputs": [
    {
     "data": {
      "text/plain": [
       "array(['Action', 'Adventure', 'Animation', 'Biography', 'Comedy', 'Crime',\n",
       "       'Drama', 'Family', 'Fantasy', 'Horror', 'Musical', 'Mystery',\n",
       "       'Romance', 'Sci-Fi', 'Thriller', 'War', 'Western'], dtype=object)"
      ]
     },
     "execution_count": 124,
     "metadata": {},
     "output_type": "execute_result"
    }
   ],
   "source": [
    "genre = np.unique(movie_industry.genre.values)\n",
    "genre"
   ]
  },
  {
   "cell_type": "code",
   "execution_count": 132,
   "metadata": {},
   "outputs": [],
   "source": [
    "dir_genre_prop = {}\n",
    "for director in directors:\n",
    "    temp = movie_industry[movie_industry.director == director].groupby([\"genre\"])[\"director\"].count()\n",
    "    prop = []\n",
    "    total = sum(temp.values)\n",
    "    for category in genre:\n",
    "        if category in temp.index:\n",
    "            prop.append(temp[category]/total)\n",
    "        else:\n",
    "            prop.append(0)\n",
    "    dir_genre_prop[director] = np.array(prop)"
   ]
  },
  {
   "cell_type": "code",
   "execution_count": 138,
   "metadata": {},
   "outputs": [],
   "source": [
    "act_genre_prop = {}\n",
    "for actor in actors:\n",
    "    temp = movie_industry[movie_industry.star == actor].groupby([\"genre\"])[\"star\"].count()\n",
    "    prop = []\n",
    "    total = sum(temp.values)\n",
    "    for category in genre:\n",
    "        if category in temp.index:\n",
    "            prop.append(temp[category]/total)\n",
    "        else:\n",
    "            prop.append(0)\n",
    "    act_genre_prop[actor] = np.array(prop)"
   ]
  },
  {
   "cell_type": "code",
   "execution_count": 141,
   "metadata": {},
   "outputs": [
    {
     "name": "stdout",
     "output_type": "stream",
     "text": [
      "CPU times: user 6min 14s, sys: 2.05 s, total: 6min 16s\n",
      "Wall time: 6min 40s\n"
     ]
    }
   ],
   "source": [
    "%%time\n",
    "genre_tvd = []\n",
    "for i in df.index:\n",
    "    director = df.director[i]\n",
    "    actor = df.actor[i]\n",
    "    tvd = sum(abs(dir_genre_prop[director] - act_genre_prop[actor]))/2\n",
    "    genre_tvd.append(tvd)"
   ]
  },
  {
   "cell_type": "code",
   "execution_count": 142,
   "metadata": {},
   "outputs": [],
   "source": [
    "df[\"genre_tvd\"] = genre_tvd"
   ]
  },
  {
   "cell_type": "code",
   "execution_count": 144,
   "metadata": {},
   "outputs": [
    {
     "data": {
      "text/plain": [
       "array([0.        , 0.05263158, 0.10526316, 0.15789474, 0.21052632,\n",
       "       0.26315789, 0.31578947, 0.36842105, 0.42105263, 0.47368421,\n",
       "       0.52631579, 0.57894737, 0.63157895, 0.68421053, 0.73684211,\n",
       "       0.78947368, 0.84210526, 0.89473684, 0.94736842, 1.        ])"
      ]
     },
     "execution_count": 144,
     "metadata": {},
     "output_type": "execute_result"
    }
   ],
   "source": [
    "bins = np.linspace(min(genre_tvd), max(genre_tvd), 20)\n",
    "bins"
   ]
  },
  {
   "cell_type": "code",
   "execution_count": 145,
   "metadata": {},
   "outputs": [
    {
     "data": {
      "text/plain": [
       "<matplotlib.legend.Legend at 0x7fafd7516290>"
      ]
     },
     "execution_count": 145,
     "metadata": {},
     "output_type": "execute_result"
    },
    {
     "data": {
      "image/png": "[encoded data removed]",
      "text/plain": [
       "<Figure size 432x288 with 1 Axes>"
      ]
     },
     "metadata": {
      "needs_background": "light"
     },
     "output_type": "display_data"
    }
   ],
   "source": [
    "plt.hist(df[df[\"collab indicator\"] == 1].genre_tvd.values, density = True, bins = bins, label = \"1\", alpha = 0.5)\n",
    "plt.hist(df[df[\"collab indicator\"] == 0].genre_tvd.values, density = True, bins = bins, label = \"0\", alpha = 0.5)\n",
    "plt.legend()"
   ]
  },
  {
   "cell_type": "code",
   "execution_count": 146,
   "metadata": {},
   "outputs": [
    {
     "data": {
      "text/plain": [
       "0.07092228627223895"
      ]
     },
     "execution_count": 146,
     "metadata": {},
     "output_type": "execute_result"
    }
   ],
   "source": [
    "np.var(df[df[\"collab indicator\"] == 1].genre_tvd.values)"
   ]
  },
  {
   "cell_type": "code",
   "execution_count": 147,
   "metadata": {},
   "outputs": [
    {
     "data": {
      "text/plain": [
       "0.10616452402623691"
      ]
     },
     "execution_count": 147,
     "metadata": {},
     "output_type": "execute_result"
    }
   ],
   "source": [
    "np.var(df[df[\"collab indicator\"] == 0].genre_tvd.values)"
   ]
  },
  {
   "cell_type": "code",
   "execution_count": 148,
   "metadata": {},
   "outputs": [
    {
     "data": {
      "text/plain": [
       "Ttest_indResult(statistic=-108.7801938670433, pvalue=0.0)"
      ]
     },
     "execution_count": 148,
     "metadata": {},
     "output_type": "execute_result"
    }
   ],
   "source": [
    "ttest_ind(df[df[\"collab indicator\"] == 1].genre_tvd.values, \n",
    "                      df[df[\"collab indicator\"] == 0].genre_tvd.values, \n",
    "                      equal_var=False)"
   ]
  },
  {
   "cell_type": "code",
   "execution_count": 149,
   "metadata": {},
   "outputs": [
    {
     "data": {
      "text/plain": [
       "Ks_2sampResult(statistic=0.6234951602598001, pvalue=0.0)"
      ]
     },
     "execution_count": 149,
     "metadata": {},
     "output_type": "execute_result"
    }
   ],
   "source": [
    "ks_2samp(df[df[\"collab indicator\"] == 1].genre_tvd.values, \n",
    "                      df[df[\"collab indicator\"] == 0].genre_tvd.values)"
   ]
  },
  {
   "cell_type": "markdown",
   "metadata": {},
   "source": [
    "Show past collaboration makes another collboration more likely"
   ]
  },
  {
   "cell_type": "code",
   "execution_count": 162,
   "metadata": {
    "scrolled": true
   },
   "outputs": [
    {
     "data": {
      "text/html": [
       "<div>\n",
       "<style scoped>\n",
       "    .dataframe tbody tr th:only-of-type {\n",
       "        vertical-align: middle;\n",
       "    }\n",
       "\n",
       "    .dataframe tbody tr th {\n",
       "        vertical-align: top;\n",
       "    }\n",
       "\n",
       "    .dataframe thead th {\n",
       "        text-align: right;\n",
       "    }\n",
       "</style>\n",
       "<table border=\"1\" class=\"dataframe\">\n",
       "  <thead>\n",
       "    <tr style=\"text-align: right;\">\n",
       "      <th></th>\n",
       "      <th>budget</th>\n",
       "      <th>company</th>\n",
       "      <th>country</th>\n",
       "      <th>director</th>\n",
       "      <th>genre</th>\n",
       "      <th>gross</th>\n",
       "      <th>name</th>\n",
       "      <th>rating</th>\n",
       "      <th>released</th>\n",
       "      <th>runtime</th>\n",
       "      <th>score</th>\n",
       "      <th>star</th>\n",
       "      <th>votes</th>\n",
       "      <th>writer</th>\n",
       "      <th>year</th>\n",
       "    </tr>\n",
       "  </thead>\n",
       "  <tbody>\n",
       "    <tr>\n",
       "      <td>0</td>\n",
       "      <td>8000000.0</td>\n",
       "      <td>Columbia Pictures Corporation</td>\n",
       "      <td>USA</td>\n",
       "      <td>Rob Reiner</td>\n",
       "      <td>Adventure</td>\n",
       "      <td>52287414.0</td>\n",
       "      <td>Stand by Me</td>\n",
       "      <td>R</td>\n",
       "      <td>1986-08-22</td>\n",
       "      <td>89</td>\n",
       "      <td>8.1</td>\n",
       "      <td>Wil Wheaton</td>\n",
       "      <td>299174</td>\n",
       "      <td>Stephen King</td>\n",
       "      <td>1986</td>\n",
       "    </tr>\n",
       "    <tr>\n",
       "      <td>1</td>\n",
       "      <td>6000000.0</td>\n",
       "      <td>Paramount Pictures</td>\n",
       "      <td>USA</td>\n",
       "      <td>John Hughes</td>\n",
       "      <td>Comedy</td>\n",
       "      <td>70136369.0</td>\n",
       "      <td>Ferris Bueller's Day Off</td>\n",
       "      <td>PG-13</td>\n",
       "      <td>1986-06-11</td>\n",
       "      <td>103</td>\n",
       "      <td>7.8</td>\n",
       "      <td>Matthew Broderick</td>\n",
       "      <td>264740</td>\n",
       "      <td>John Hughes</td>\n",
       "      <td>1986</td>\n",
       "    </tr>\n",
       "    <tr>\n",
       "      <td>2</td>\n",
       "      <td>15000000.0</td>\n",
       "      <td>Paramount Pictures</td>\n",
       "      <td>USA</td>\n",
       "      <td>Tony Scott</td>\n",
       "      <td>Action</td>\n",
       "      <td>179800601.0</td>\n",
       "      <td>Top Gun</td>\n",
       "      <td>PG</td>\n",
       "      <td>1986-05-16</td>\n",
       "      <td>110</td>\n",
       "      <td>6.9</td>\n",
       "      <td>Tom Cruise</td>\n",
       "      <td>236909</td>\n",
       "      <td>Jim Cash</td>\n",
       "      <td>1986</td>\n",
       "    </tr>\n",
       "    <tr>\n",
       "      <td>3</td>\n",
       "      <td>18500000.0</td>\n",
       "      <td>Twentieth Century Fox Film Corporation</td>\n",
       "      <td>USA</td>\n",
       "      <td>James Cameron</td>\n",
       "      <td>Action</td>\n",
       "      <td>85160248.0</td>\n",
       "      <td>Aliens</td>\n",
       "      <td>R</td>\n",
       "      <td>1986-07-18</td>\n",
       "      <td>137</td>\n",
       "      <td>8.4</td>\n",
       "      <td>Sigourney Weaver</td>\n",
       "      <td>540152</td>\n",
       "      <td>James Cameron</td>\n",
       "      <td>1986</td>\n",
       "    </tr>\n",
       "    <tr>\n",
       "      <td>4</td>\n",
       "      <td>9000000.0</td>\n",
       "      <td>Walt Disney Pictures</td>\n",
       "      <td>USA</td>\n",
       "      <td>Randal Kleiser</td>\n",
       "      <td>Adventure</td>\n",
       "      <td>18564613.0</td>\n",
       "      <td>Flight of the Navigator</td>\n",
       "      <td>PG</td>\n",
       "      <td>1986-08-01</td>\n",
       "      <td>90</td>\n",
       "      <td>6.9</td>\n",
       "      <td>Joey Cramer</td>\n",
       "      <td>36636</td>\n",
       "      <td>Mark H. Baker</td>\n",
       "      <td>1986</td>\n",
       "    </tr>\n",
       "    <tr>\n",
       "      <td>...</td>\n",
       "      <td>...</td>\n",
       "      <td>...</td>\n",
       "      <td>...</td>\n",
       "      <td>...</td>\n",
       "      <td>...</td>\n",
       "      <td>...</td>\n",
       "      <td>...</td>\n",
       "      <td>...</td>\n",
       "      <td>...</td>\n",
       "      <td>...</td>\n",
       "      <td>...</td>\n",
       "      <td>...</td>\n",
       "      <td>...</td>\n",
       "      <td>...</td>\n",
       "      <td>...</td>\n",
       "    </tr>\n",
       "    <tr>\n",
       "      <td>6815</td>\n",
       "      <td>0.0</td>\n",
       "      <td>Fox Searchlight Pictures</td>\n",
       "      <td>UK</td>\n",
       "      <td>Mandie Fletcher</td>\n",
       "      <td>Comedy</td>\n",
       "      <td>4750497.0</td>\n",
       "      <td>Absolutely Fabulous: The Movie</td>\n",
       "      <td>R</td>\n",
       "      <td>2016-07-22</td>\n",
       "      <td>91</td>\n",
       "      <td>5.4</td>\n",
       "      <td>Jennifer Saunders</td>\n",
       "      <td>9161</td>\n",
       "      <td>Jennifer Saunders</td>\n",
       "      <td>2016</td>\n",
       "    </tr>\n",
       "    <tr>\n",
       "      <td>6816</td>\n",
       "      <td>0.0</td>\n",
       "      <td>Siempre Viva Productions</td>\n",
       "      <td>USA</td>\n",
       "      <td>Paul Duddridge</td>\n",
       "      <td>Drama</td>\n",
       "      <td>28368.0</td>\n",
       "      <td>Mothers and Daughters</td>\n",
       "      <td>PG-13</td>\n",
       "      <td>2016-05-06</td>\n",
       "      <td>90</td>\n",
       "      <td>4.9</td>\n",
       "      <td>Selma Blair</td>\n",
       "      <td>1959</td>\n",
       "      <td>Paige Cameron</td>\n",
       "      <td>2016</td>\n",
       "    </tr>\n",
       "    <tr>\n",
       "      <td>6817</td>\n",
       "      <td>3500000.0</td>\n",
       "      <td>Warner Bros. Animation</td>\n",
       "      <td>USA</td>\n",
       "      <td>Sam Liu</td>\n",
       "      <td>Animation</td>\n",
       "      <td>3775000.0</td>\n",
       "      <td>Batman: The Killing Joke</td>\n",
       "      <td>R</td>\n",
       "      <td>2016-07-25</td>\n",
       "      <td>76</td>\n",
       "      <td>6.5</td>\n",
       "      <td>Kevin Conroy</td>\n",
       "      <td>36333</td>\n",
       "      <td>Brian Azzarello</td>\n",
       "      <td>2016</td>\n",
       "    </tr>\n",
       "    <tr>\n",
       "      <td>6818</td>\n",
       "      <td>0.0</td>\n",
       "      <td>Borderline Presents</td>\n",
       "      <td>USA</td>\n",
       "      <td>Nicolas Pesce</td>\n",
       "      <td>Drama</td>\n",
       "      <td>25981.0</td>\n",
       "      <td>The Eyes of My Mother</td>\n",
       "      <td>R</td>\n",
       "      <td>2016-12-02</td>\n",
       "      <td>76</td>\n",
       "      <td>6.2</td>\n",
       "      <td>Kika Magalhães</td>\n",
       "      <td>6947</td>\n",
       "      <td>Nicolas Pesce</td>\n",
       "      <td>2016</td>\n",
       "    </tr>\n",
       "    <tr>\n",
       "      <td>6819</td>\n",
       "      <td>0.0</td>\n",
       "      <td>Les Productions du Trésor</td>\n",
       "      <td>France</td>\n",
       "      <td>Nicole Garcia</td>\n",
       "      <td>Drama</td>\n",
       "      <td>37757.0</td>\n",
       "      <td>From the Land of the Moon</td>\n",
       "      <td>R</td>\n",
       "      <td>2017-07-28</td>\n",
       "      <td>120</td>\n",
       "      <td>6.7</td>\n",
       "      <td>Marion Cotillard</td>\n",
       "      <td>2411</td>\n",
       "      <td>Milena Agus</td>\n",
       "      <td>2016</td>\n",
       "    </tr>\n",
       "  </tbody>\n",
       "</table>\n",
       "<p>6820 rows × 15 columns</p>\n",
       "</div>"
      ],
      "text/plain": [
       "          budget                                 company country  \\\n",
       "0      8000000.0           Columbia Pictures Corporation     USA   \n",
       "1      6000000.0                      Paramount Pictures     USA   \n",
       "2     15000000.0                      Paramount Pictures     USA   \n",
       "3     18500000.0  Twentieth Century Fox Film Corporation     USA   \n",
       "4      9000000.0                    Walt Disney Pictures     USA   \n",
       "...          ...                                     ...     ...   \n",
       "6815         0.0                Fox Searchlight Pictures      UK   \n",
       "6816         0.0                Siempre Viva Productions     USA   \n",
       "6817   3500000.0                  Warner Bros. Animation     USA   \n",
       "6818         0.0                     Borderline Presents     USA   \n",
       "6819         0.0               Les Productions du Trésor  France   \n",
       "\n",
       "             director      genre        gross                            name  \\\n",
       "0          Rob Reiner  Adventure   52287414.0                     Stand by Me   \n",
       "1         John Hughes     Comedy   70136369.0        Ferris Bueller's Day Off   \n",
       "2          Tony Scott     Action  179800601.0                         Top Gun   \n",
       "3       James Cameron     Action   85160248.0                          Aliens   \n",
       "4      Randal Kleiser  Adventure   18564613.0         Flight of the Navigator   \n",
       "...               ...        ...          ...                             ...   \n",
       "6815  Mandie Fletcher     Comedy    4750497.0  Absolutely Fabulous: The Movie   \n",
       "6816   Paul Duddridge      Drama      28368.0           Mothers and Daughters   \n",
       "6817          Sam Liu  Animation    3775000.0        Batman: The Killing Joke   \n",
       "6818    Nicolas Pesce      Drama      25981.0           The Eyes of My Mother   \n",
       "6819    Nicole Garcia      Drama      37757.0       From the Land of the Moon   \n",
       "\n",
       "     rating    released  runtime  score               star   votes  \\\n",
       "0         R  1986-08-22       89    8.1        Wil Wheaton  299174   \n",
       "1     PG-13  1986-06-11      103    7.8  Matthew Broderick  264740   \n",
       "2        PG  1986-05-16      110    6.9         Tom Cruise  236909   \n",
       "3         R  1986-07-18      137    8.4   Sigourney Weaver  540152   \n",
       "4        PG  1986-08-01       90    6.9        Joey Cramer   36636   \n",
       "...     ...         ...      ...    ...                ...     ...   \n",
       "6815      R  2016-07-22       91    5.4  Jennifer Saunders    9161   \n",
       "6816  PG-13  2016-05-06       90    4.9        Selma Blair    1959   \n",
       "6817      R  2016-07-25       76    6.5       Kevin Conroy   36333   \n",
       "6818      R  2016-12-02       76    6.2     Kika Magalhães    6947   \n",
       "6819      R  2017-07-28      120    6.7   Marion Cotillard    2411   \n",
       "\n",
       "                 writer  year  \n",
       "0          Stephen King  1986  \n",
       "1           John Hughes  1986  \n",
       "2              Jim Cash  1986  \n",
       "3         James Cameron  1986  \n",
       "4         Mark H. Baker  1986  \n",
       "...                 ...   ...  \n",
       "6815  Jennifer Saunders  2016  \n",
       "6816      Paige Cameron  2016  \n",
       "6817    Brian Azzarello  2016  \n",
       "6818      Nicolas Pesce  2016  \n",
       "6819        Milena Agus  2016  \n",
       "\n",
       "[6820 rows x 15 columns]"
      ]
     },
     "execution_count": 162,
     "metadata": {},
     "output_type": "execute_result"
    }
   ],
   "source": [
    "movie_industry"
   ]
  },
  {
   "cell_type": "code",
   "execution_count": 160,
   "metadata": {},
   "outputs": [],
   "source": [
    "director_first = movie_industry.groupby(\"director\")[\"year\"].first()\n",
    "actor_first = movie_industry.groupby(\"star\")[\"year\"].first()"
   ]
  },
  {
   "cell_type": "code",
   "execution_count": 169,
   "metadata": {},
   "outputs": [],
   "source": [
    "d = {}\n",
    "years_since_last_colab = []\n",
    "pair_occurence = []\n",
    "for i in movie_industry.index:\n",
    "    director = movie_industry.director[i]\n",
    "    actor = movie_industry.star[i]\n",
    "    year = movie_industry.year[i]\n",
    "    if (director, actor) in d:\n",
    "        last_collab = year - d[(director, actor)][1]\n",
    "        years_since_last_colab.append(last_collab)\n",
    "        d[(director, actor)] = [d[(director, actor)][0] + 1, year]\n",
    "        pair_occurence.append(d[(director, actor)][0])\n",
    "    else:\n",
    "        last_collab = year - max(director_first[director], actor_first[actor])\n",
    "        years_since_last_colab.append(last_collab)\n",
    "        d[(director, actor)] = [1, year]\n",
    "        pair_occurence.append(1)"
   ]
  },
  {
   "cell_type": "code",
   "execution_count": 176,
   "metadata": {},
   "outputs": [],
   "source": [
    "movie_industry[\"time_till_pair\"] = np.array(years_since_last_colab) + 1\n",
    "movie_industry[\"pair_occurance\"] = pair_occurence"
   ]
  },
  {
   "cell_type": "code",
   "execution_count": 183,
   "metadata": {
    "scrolled": true
   },
   "outputs": [
    {
     "data": {
      "text/html": [
       "<div>\n",
       "<style scoped>\n",
       "    .dataframe tbody tr th:only-of-type {\n",
       "        vertical-align: middle;\n",
       "    }\n",
       "\n",
       "    .dataframe tbody tr th {\n",
       "        vertical-align: top;\n",
       "    }\n",
       "\n",
       "    .dataframe thead th {\n",
       "        text-align: right;\n",
       "    }\n",
       "</style>\n",
       "<table border=\"1\" class=\"dataframe\">\n",
       "  <thead>\n",
       "    <tr style=\"text-align: right;\">\n",
       "      <th></th>\n",
       "      <th>budget</th>\n",
       "      <th>company</th>\n",
       "      <th>country</th>\n",
       "      <th>director</th>\n",
       "      <th>genre</th>\n",
       "      <th>gross</th>\n",
       "      <th>name</th>\n",
       "      <th>rating</th>\n",
       "      <th>released</th>\n",
       "      <th>runtime</th>\n",
       "      <th>score</th>\n",
       "      <th>star</th>\n",
       "      <th>votes</th>\n",
       "      <th>writer</th>\n",
       "      <th>year</th>\n",
       "      <th>time_till_pair</th>\n",
       "      <th>pair_occurance</th>\n",
       "    </tr>\n",
       "  </thead>\n",
       "  <tbody>\n",
       "    <tr>\n",
       "      <td>630</td>\n",
       "      <td>0.0</td>\n",
       "      <td>Cannon Group, The</td>\n",
       "      <td>USA</td>\n",
       "      <td>J. Lee Thompson</td>\n",
       "      <td>Action</td>\n",
       "      <td>3074681.0</td>\n",
       "      <td>Messenger of Death</td>\n",
       "      <td>R</td>\n",
       "      <td>1988-10-21</td>\n",
       "      <td>91</td>\n",
       "      <td>5.5</td>\n",
       "      <td>Charles Bronson</td>\n",
       "      <td>1806</td>\n",
       "      <td>Rex Burns</td>\n",
       "      <td>1988</td>\n",
       "      <td>2</td>\n",
       "      <td>3</td>\n",
       "    </tr>\n",
       "    <tr>\n",
       "      <td>999</td>\n",
       "      <td>12000000.0</td>\n",
       "      <td>Orion Pictures</td>\n",
       "      <td>USA</td>\n",
       "      <td>Woody Allen</td>\n",
       "      <td>Comedy</td>\n",
       "      <td>7331647.0</td>\n",
       "      <td>Alice</td>\n",
       "      <td>PG-13</td>\n",
       "      <td>1991-01-10</td>\n",
       "      <td>106</td>\n",
       "      <td>6.6</td>\n",
       "      <td>Mia Farrow</td>\n",
       "      <td>11331</td>\n",
       "      <td>Woody Allen</td>\n",
       "      <td>1990</td>\n",
       "      <td>4</td>\n",
       "      <td>3</td>\n",
       "    </tr>\n",
       "    <tr>\n",
       "      <td>1002</td>\n",
       "      <td>24000000.0</td>\n",
       "      <td>Malpaso Productions</td>\n",
       "      <td>USA</td>\n",
       "      <td>Clint Eastwood</td>\n",
       "      <td>Adventure</td>\n",
       "      <td>2319124.0</td>\n",
       "      <td>White Hunter Black Heart</td>\n",
       "      <td>PG</td>\n",
       "      <td>1990-09-14</td>\n",
       "      <td>112</td>\n",
       "      <td>6.7</td>\n",
       "      <td>Clint Eastwood</td>\n",
       "      <td>9279</td>\n",
       "      <td>Peter Viertel</td>\n",
       "      <td>1990</td>\n",
       "      <td>1</td>\n",
       "      <td>3</td>\n",
       "    </tr>\n",
       "    <tr>\n",
       "      <td>1017</td>\n",
       "      <td>0.0</td>\n",
       "      <td>Touchstone Pictures</td>\n",
       "      <td>USA</td>\n",
       "      <td>John R. Cherry III</td>\n",
       "      <td>Comedy</td>\n",
       "      <td>25029569.0</td>\n",
       "      <td>Ernest Goes to Jail</td>\n",
       "      <td>PG</td>\n",
       "      <td>1990-04-06</td>\n",
       "      <td>81</td>\n",
       "      <td>5.4</td>\n",
       "      <td>Jim Varney</td>\n",
       "      <td>7766</td>\n",
       "      <td>Charlie Cohen</td>\n",
       "      <td>1990</td>\n",
       "      <td>3</td>\n",
       "      <td>3</td>\n",
       "    </tr>\n",
       "    <tr>\n",
       "      <td>1253</td>\n",
       "      <td>0.0</td>\n",
       "      <td>Cannon Pictures</td>\n",
       "      <td>USA</td>\n",
       "      <td>Aaron Norris</td>\n",
       "      <td>Action</td>\n",
       "      <td>4654288.0</td>\n",
       "      <td>The Hitman</td>\n",
       "      <td>R</td>\n",
       "      <td>1991-10-25</td>\n",
       "      <td>95</td>\n",
       "      <td>5.3</td>\n",
       "      <td>Chuck Norris</td>\n",
       "      <td>2836</td>\n",
       "      <td>Robert Geoffrion</td>\n",
       "      <td>1991</td>\n",
       "      <td>2</td>\n",
       "      <td>3</td>\n",
       "    </tr>\n",
       "    <tr>\n",
       "      <td>...</td>\n",
       "      <td>...</td>\n",
       "      <td>...</td>\n",
       "      <td>...</td>\n",
       "      <td>...</td>\n",
       "      <td>...</td>\n",
       "      <td>...</td>\n",
       "      <td>...</td>\n",
       "      <td>...</td>\n",
       "      <td>...</td>\n",
       "      <td>...</td>\n",
       "      <td>...</td>\n",
       "      <td>...</td>\n",
       "      <td>...</td>\n",
       "      <td>...</td>\n",
       "      <td>...</td>\n",
       "      <td>...</td>\n",
       "      <td>...</td>\n",
       "    </tr>\n",
       "    <tr>\n",
       "      <td>6575</td>\n",
       "      <td>10000000.0</td>\n",
       "      <td>Babieka</td>\n",
       "      <td>UK</td>\n",
       "      <td>John Madden</td>\n",
       "      <td>Comedy</td>\n",
       "      <td>33078266.0</td>\n",
       "      <td>The Second Best Exotic Marigold Hotel</td>\n",
       "      <td>PG</td>\n",
       "      <td>2015-03-06</td>\n",
       "      <td>122</td>\n",
       "      <td>6.6</td>\n",
       "      <td>Judi Dench</td>\n",
       "      <td>25886</td>\n",
       "      <td>Ol Parker</td>\n",
       "      <td>2015</td>\n",
       "      <td>5</td>\n",
       "      <td>3</td>\n",
       "    </tr>\n",
       "    <tr>\n",
       "      <td>6607</td>\n",
       "      <td>90000000.0</td>\n",
       "      <td>Metro-Goldwyn-Mayer (MGM)</td>\n",
       "      <td>USA</td>\n",
       "      <td>Antoine Fuqua</td>\n",
       "      <td>Action</td>\n",
       "      <td>93381044.0</td>\n",
       "      <td>The Magnificent Seven</td>\n",
       "      <td>PG-13</td>\n",
       "      <td>2016-09-23</td>\n",
       "      <td>132</td>\n",
       "      <td>6.9</td>\n",
       "      <td>Denzel Washington</td>\n",
       "      <td>138262</td>\n",
       "      <td>Akira Kurosawa</td>\n",
       "      <td>2016</td>\n",
       "      <td>3</td>\n",
       "      <td>3</td>\n",
       "    </tr>\n",
       "    <tr>\n",
       "      <td>6657</td>\n",
       "      <td>108000000.0</td>\n",
       "      <td>Appian Way</td>\n",
       "      <td>USA</td>\n",
       "      <td>Ben Affleck</td>\n",
       "      <td>Action</td>\n",
       "      <td>10377558.0</td>\n",
       "      <td>Live by Night</td>\n",
       "      <td>R</td>\n",
       "      <td>2017-01-13</td>\n",
       "      <td>129</td>\n",
       "      <td>6.4</td>\n",
       "      <td>Ben Affleck</td>\n",
       "      <td>35064</td>\n",
       "      <td>Ben Affleck</td>\n",
       "      <td>2016</td>\n",
       "      <td>5</td>\n",
       "      <td>3</td>\n",
       "    </tr>\n",
       "    <tr>\n",
       "      <td>6680</td>\n",
       "      <td>24000000.0</td>\n",
       "      <td>Bron Studios</td>\n",
       "      <td>USA</td>\n",
       "      <td>Denzel Washington</td>\n",
       "      <td>Drama</td>\n",
       "      <td>57642961.0</td>\n",
       "      <td>Fences</td>\n",
       "      <td>PG-13</td>\n",
       "      <td>2016-12-25</td>\n",
       "      <td>139</td>\n",
       "      <td>7.2</td>\n",
       "      <td>Denzel Washington</td>\n",
       "      <td>62351</td>\n",
       "      <td>August Wilson</td>\n",
       "      <td>2016</td>\n",
       "      <td>10</td>\n",
       "      <td>3</td>\n",
       "    </tr>\n",
       "    <tr>\n",
       "      <td>6683</td>\n",
       "      <td>45000000.0</td>\n",
       "      <td>Bluegrass Films</td>\n",
       "      <td>Hong Kong</td>\n",
       "      <td>Peter Berg</td>\n",
       "      <td>Crime</td>\n",
       "      <td>31886361.0</td>\n",
       "      <td>Día del atentado</td>\n",
       "      <td>R</td>\n",
       "      <td>2017-01-13</td>\n",
       "      <td>133</td>\n",
       "      <td>7.4</td>\n",
       "      <td>Mark Wahlberg</td>\n",
       "      <td>51563</td>\n",
       "      <td>Peter Berg</td>\n",
       "      <td>2016</td>\n",
       "      <td>1</td>\n",
       "      <td>3</td>\n",
       "    </tr>\n",
       "  </tbody>\n",
       "</table>\n",
       "<p>78 rows × 17 columns</p>\n",
       "</div>"
      ],
      "text/plain": [
       "           budget                    company    country            director  \\\n",
       "630           0.0          Cannon Group, The        USA     J. Lee Thompson   \n",
       "999    12000000.0             Orion Pictures        USA         Woody Allen   \n",
       "1002   24000000.0        Malpaso Productions        USA      Clint Eastwood   \n",
       "1017          0.0        Touchstone Pictures        USA  John R. Cherry III   \n",
       "1253          0.0            Cannon Pictures        USA        Aaron Norris   \n",
       "...           ...                        ...        ...                 ...   \n",
       "6575   10000000.0                    Babieka         UK         John Madden   \n",
       "6607   90000000.0  Metro-Goldwyn-Mayer (MGM)        USA       Antoine Fuqua   \n",
       "6657  108000000.0                 Appian Way        USA         Ben Affleck   \n",
       "6680   24000000.0               Bron Studios        USA   Denzel Washington   \n",
       "6683   45000000.0            Bluegrass Films  Hong Kong          Peter Berg   \n",
       "\n",
       "          genre       gross                                   name rating  \\\n",
       "630      Action   3074681.0                     Messenger of Death      R   \n",
       "999      Comedy   7331647.0                                  Alice  PG-13   \n",
       "1002  Adventure   2319124.0               White Hunter Black Heart     PG   \n",
       "1017     Comedy  25029569.0                    Ernest Goes to Jail     PG   \n",
       "1253     Action   4654288.0                             The Hitman      R   \n",
       "...         ...         ...                                    ...    ...   \n",
       "6575     Comedy  33078266.0  The Second Best Exotic Marigold Hotel     PG   \n",
       "6607     Action  93381044.0                  The Magnificent Seven  PG-13   \n",
       "6657     Action  10377558.0                          Live by Night      R   \n",
       "6680      Drama  57642961.0                                 Fences  PG-13   \n",
       "6683      Crime  31886361.0                       Día del atentado      R   \n",
       "\n",
       "        released  runtime  score               star   votes            writer  \\\n",
       "630   1988-10-21       91    5.5    Charles Bronson    1806         Rex Burns   \n",
       "999   1991-01-10      106    6.6         Mia Farrow   11331       Woody Allen   \n",
       "1002  1990-09-14      112    6.7     Clint Eastwood    9279     Peter Viertel   \n",
       "1017  1990-04-06       81    5.4         Jim Varney    7766     Charlie Cohen   \n",
       "1253  1991-10-25       95    5.3       Chuck Norris    2836  Robert Geoffrion   \n",
       "...          ...      ...    ...                ...     ...               ...   \n",
       "6575  2015-03-06      122    6.6         Judi Dench   25886         Ol Parker   \n",
       "6607  2016-09-23      132    6.9  Denzel Washington  138262    Akira Kurosawa   \n",
       "6657  2017-01-13      129    6.4        Ben Affleck   35064       Ben Affleck   \n",
       "6680  2016-12-25      139    7.2  Denzel Washington   62351     August Wilson   \n",
       "6683  2017-01-13      133    7.4      Mark Wahlberg   51563        Peter Berg   \n",
       "\n",
       "      year  time_till_pair  pair_occurance  \n",
       "630   1988               2               3  \n",
       "999   1990               4               3  \n",
       "1002  1990               1               3  \n",
       "1017  1990               3               3  \n",
       "1253  1991               2               3  \n",
       "...    ...             ...             ...  \n",
       "6575  2015               5               3  \n",
       "6607  2016               3               3  \n",
       "6657  2016               5               3  \n",
       "6680  2016              10               3  \n",
       "6683  2016               1               3  \n",
       "\n",
       "[78 rows x 17 columns]"
      ]
     },
     "execution_count": 183,
     "metadata": {},
     "output_type": "execute_result"
    }
   ],
   "source": [
    "movie_industry[movie_industry[\"pair_occurance\"] == 3]"
   ]
  },
  {
   "cell_type": "code",
   "execution_count": 185,
   "metadata": {},
   "outputs": [
    {
     "data": {
      "text/html": [
       "<div>\n",
       "<style scoped>\n",
       "    .dataframe tbody tr th:only-of-type {\n",
       "        vertical-align: middle;\n",
       "    }\n",
       "\n",
       "    .dataframe tbody tr th {\n",
       "        vertical-align: top;\n",
       "    }\n",
       "\n",
       "    .dataframe thead th {\n",
       "        text-align: right;\n",
       "    }\n",
       "</style>\n",
       "<table border=\"1\" class=\"dataframe\">\n",
       "  <thead>\n",
       "    <tr style=\"text-align: right;\">\n",
       "      <th></th>\n",
       "      <th>budget</th>\n",
       "      <th>company</th>\n",
       "      <th>country</th>\n",
       "      <th>director</th>\n",
       "      <th>genre</th>\n",
       "      <th>gross</th>\n",
       "      <th>name</th>\n",
       "      <th>rating</th>\n",
       "      <th>released</th>\n",
       "      <th>runtime</th>\n",
       "      <th>score</th>\n",
       "      <th>star</th>\n",
       "      <th>votes</th>\n",
       "      <th>writer</th>\n",
       "      <th>year</th>\n",
       "      <th>time_till_pair</th>\n",
       "      <th>pair_occurance</th>\n",
       "    </tr>\n",
       "  </thead>\n",
       "  <tbody>\n",
       "    <tr>\n",
       "      <td>52</td>\n",
       "      <td>6400000.0</td>\n",
       "      <td>Orion Pictures</td>\n",
       "      <td>USA</td>\n",
       "      <td>Woody Allen</td>\n",
       "      <td>Comedy</td>\n",
       "      <td>40084041.0</td>\n",
       "      <td>Hannah and Her Sisters</td>\n",
       "      <td>PG-13</td>\n",
       "      <td>1986-03-14</td>\n",
       "      <td>107</td>\n",
       "      <td>8.0</td>\n",
       "      <td>Mia Farrow</td>\n",
       "      <td>56988</td>\n",
       "      <td>Woody Allen</td>\n",
       "      <td>1986</td>\n",
       "      <td>1</td>\n",
       "      <td>1</td>\n",
       "    </tr>\n",
       "    <tr>\n",
       "      <td>292</td>\n",
       "      <td>16000000.0</td>\n",
       "      <td>Orion Pictures</td>\n",
       "      <td>USA</td>\n",
       "      <td>Woody Allen</td>\n",
       "      <td>Comedy</td>\n",
       "      <td>14792779.0</td>\n",
       "      <td>Radio Days</td>\n",
       "      <td>PG</td>\n",
       "      <td>1987-01-30</td>\n",
       "      <td>88</td>\n",
       "      <td>7.6</td>\n",
       "      <td>Mia Farrow</td>\n",
       "      <td>26467</td>\n",
       "      <td>Woody Allen</td>\n",
       "      <td>1987</td>\n",
       "      <td>2</td>\n",
       "      <td>2</td>\n",
       "    </tr>\n",
       "    <tr>\n",
       "      <td>999</td>\n",
       "      <td>12000000.0</td>\n",
       "      <td>Orion Pictures</td>\n",
       "      <td>USA</td>\n",
       "      <td>Woody Allen</td>\n",
       "      <td>Comedy</td>\n",
       "      <td>7331647.0</td>\n",
       "      <td>Alice</td>\n",
       "      <td>PG-13</td>\n",
       "      <td>1991-01-10</td>\n",
       "      <td>106</td>\n",
       "      <td>6.6</td>\n",
       "      <td>Mia Farrow</td>\n",
       "      <td>11331</td>\n",
       "      <td>Woody Allen</td>\n",
       "      <td>1990</td>\n",
       "      <td>4</td>\n",
       "      <td>3</td>\n",
       "    </tr>\n",
       "  </tbody>\n",
       "</table>\n",
       "</div>"
      ],
      "text/plain": [
       "         budget         company country     director   genre       gross  \\\n",
       "52    6400000.0  Orion Pictures     USA  Woody Allen  Comedy  40084041.0   \n",
       "292  16000000.0  Orion Pictures     USA  Woody Allen  Comedy  14792779.0   \n",
       "999  12000000.0  Orion Pictures     USA  Woody Allen  Comedy   7331647.0   \n",
       "\n",
       "                       name rating    released  runtime  score        star  \\\n",
       "52   Hannah and Her Sisters  PG-13  1986-03-14      107    8.0  Mia Farrow   \n",
       "292              Radio Days     PG  1987-01-30       88    7.6  Mia Farrow   \n",
       "999                   Alice  PG-13  1991-01-10      106    6.6  Mia Farrow   \n",
       "\n",
       "     votes       writer  year  time_till_pair  pair_occurance  \n",
       "52   56988  Woody Allen  1986               1               1  \n",
       "292  26467  Woody Allen  1987               2               2  \n",
       "999  11331  Woody Allen  1990               4               3  "
      ]
     },
     "execution_count": 185,
     "metadata": {},
     "output_type": "execute_result"
    }
   ],
   "source": [
    "movie_industry[(movie_industry.director == \"Woody Allen\") & (movie_industry.star == \"Mia Farrow\")]"
   ]
  },
  {
   "cell_type": "code",
   "execution_count": 194,
   "metadata": {},
   "outputs": [],
   "source": [
    "def estimate_geom(array):\n",
    "    p_hat = 1/np.mean(array)\n",
    "    var_p_hat = (-(-len(array)/(p_hat**2) + (sum(array) - len(array))/((1-p_hat)**2)))**(-1)\n",
    "    d = {}\n",
    "    d[\"p_hat\"] = p_hat\n",
    "    d[\"var_p_hat\"] = var_p_hat\n",
    "    d[\"lower_end_95CI\"] = p_hat - 2*(var_p_hat**0.5)\n",
    "    d[\"upper_end_95CI\"] = p_hat + 2*(var_p_hat**0.5)\n",
    "    return d"
   ]
  },
  {
   "cell_type": "code",
   "execution_count": 195,
   "metadata": {},
   "outputs": [
    {
     "data": {
      "text/plain": [
       "{'p_hat': 0.2858826729531236,\n",
       " 'var_p_hat': 2.1612721814344805e-05,\n",
       " 'lower_end_95CI': 0.27658477602653964,\n",
       " 'upper_end_95CI': 0.29518056987970753}"
      ]
     },
     "execution_count": 195,
     "metadata": {},
     "output_type": "execute_result"
    }
   ],
   "source": [
    "estimate_geom(movie_industry[movie_industry[\"pair_occurance\"] == 1].time_till_pair.values)"
   ]
  },
  {
   "cell_type": "code",
   "execution_count": 196,
   "metadata": {},
   "outputs": [
    {
     "data": {
      "text/plain": [
       "{'p_hat': 0.18426197458455523,\n",
       " 'var_p_hat': 0.0001163386217544551,\n",
       " 'lower_end_95CI': 0.16268989802670342,\n",
       " 'upper_end_95CI': 0.20583405114240705}"
      ]
     },
     "execution_count": 196,
     "metadata": {},
     "output_type": "execute_result"
    }
   ],
   "source": [
    "estimate_geom(movie_industry[movie_industry[\"pair_occurance\"] == 2].time_till_pair.values)"
   ]
  },
  {
   "cell_type": "code",
   "execution_count": 197,
   "metadata": {},
   "outputs": [
    {
     "data": {
      "text/plain": [
       "{'p_hat': 0.20800000000000002,\n",
       " 'var_p_hat': 0.000752219178082192,\n",
       " 'lower_end_95CI': 0.15314677117681436,\n",
       " 'upper_end_95CI': 0.2628532288231857}"
      ]
     },
     "execution_count": 197,
     "metadata": {},
     "output_type": "execute_result"
    }
   ],
   "source": [
    "estimate_geom(movie_industry[movie_industry[\"pair_occurance\"] == 3].time_till_pair.values)"
   ]
  },
  {
   "cell_type": "code",
   "execution_count": 198,
   "metadata": {},
   "outputs": [
    {
     "data": {
      "text/plain": [
       "{'p_hat': 0.24074074074074073,\n",
       " 'var_p_hat': 0.0032640113658632167,\n",
       " 'lower_end_95CI': 0.12647768694182956,\n",
       " 'upper_end_95CI': 0.3550037945396519}"
      ]
     },
     "execution_count": 198,
     "metadata": {},
     "output_type": "execute_result"
    }
   ],
   "source": [
    "estimate_geom(movie_industry[movie_industry[\"pair_occurance\"] == 4].time_till_pair.values)"
   ]
  },
  {
   "cell_type": "code",
   "execution_count": 200,
   "metadata": {},
   "outputs": [
    {
     "data": {
      "text/html": [
       "<div>\n",
       "<style scoped>\n",
       "    .dataframe tbody tr th:only-of-type {\n",
       "        vertical-align: middle;\n",
       "    }\n",
       "\n",
       "    .dataframe tbody tr th {\n",
       "        vertical-align: top;\n",
       "    }\n",
       "\n",
       "    .dataframe thead th {\n",
       "        text-align: right;\n",
       "    }\n",
       "</style>\n",
       "<table border=\"1\" class=\"dataframe\">\n",
       "  <thead>\n",
       "    <tr style=\"text-align: right;\">\n",
       "      <th></th>\n",
       "      <th>budget</th>\n",
       "      <th>company</th>\n",
       "      <th>country</th>\n",
       "      <th>director</th>\n",
       "      <th>genre</th>\n",
       "      <th>gross</th>\n",
       "      <th>name</th>\n",
       "      <th>rating</th>\n",
       "      <th>released</th>\n",
       "      <th>runtime</th>\n",
       "      <th>score</th>\n",
       "      <th>star</th>\n",
       "      <th>votes</th>\n",
       "      <th>writer</th>\n",
       "      <th>year</th>\n",
       "      <th>time_till_pair</th>\n",
       "      <th>pair_occurance</th>\n",
       "    </tr>\n",
       "  </thead>\n",
       "  <tbody>\n",
       "    <tr>\n",
       "      <td>0</td>\n",
       "      <td>8000000.0</td>\n",
       "      <td>Columbia Pictures Corporation</td>\n",
       "      <td>USA</td>\n",
       "      <td>Rob Reiner</td>\n",
       "      <td>Adventure</td>\n",
       "      <td>52287414.0</td>\n",
       "      <td>Stand by Me</td>\n",
       "      <td>R</td>\n",
       "      <td>1986-08-22</td>\n",
       "      <td>89</td>\n",
       "      <td>8.1</td>\n",
       "      <td>Wil Wheaton</td>\n",
       "      <td>299174</td>\n",
       "      <td>Stephen King</td>\n",
       "      <td>1986</td>\n",
       "      <td>1</td>\n",
       "      <td>1</td>\n",
       "    </tr>\n",
       "    <tr>\n",
       "      <td>1</td>\n",
       "      <td>6000000.0</td>\n",
       "      <td>Paramount Pictures</td>\n",
       "      <td>USA</td>\n",
       "      <td>John Hughes</td>\n",
       "      <td>Comedy</td>\n",
       "      <td>70136369.0</td>\n",
       "      <td>Ferris Bueller's Day Off</td>\n",
       "      <td>PG-13</td>\n",
       "      <td>1986-06-11</td>\n",
       "      <td>103</td>\n",
       "      <td>7.8</td>\n",
       "      <td>Matthew Broderick</td>\n",
       "      <td>264740</td>\n",
       "      <td>John Hughes</td>\n",
       "      <td>1986</td>\n",
       "      <td>1</td>\n",
       "      <td>1</td>\n",
       "    </tr>\n",
       "    <tr>\n",
       "      <td>2</td>\n",
       "      <td>15000000.0</td>\n",
       "      <td>Paramount Pictures</td>\n",
       "      <td>USA</td>\n",
       "      <td>Tony Scott</td>\n",
       "      <td>Action</td>\n",
       "      <td>179800601.0</td>\n",
       "      <td>Top Gun</td>\n",
       "      <td>PG</td>\n",
       "      <td>1986-05-16</td>\n",
       "      <td>110</td>\n",
       "      <td>6.9</td>\n",
       "      <td>Tom Cruise</td>\n",
       "      <td>236909</td>\n",
       "      <td>Jim Cash</td>\n",
       "      <td>1986</td>\n",
       "      <td>1</td>\n",
       "      <td>1</td>\n",
       "    </tr>\n",
       "    <tr>\n",
       "      <td>3</td>\n",
       "      <td>18500000.0</td>\n",
       "      <td>Twentieth Century Fox Film Corporation</td>\n",
       "      <td>USA</td>\n",
       "      <td>James Cameron</td>\n",
       "      <td>Action</td>\n",
       "      <td>85160248.0</td>\n",
       "      <td>Aliens</td>\n",
       "      <td>R</td>\n",
       "      <td>1986-07-18</td>\n",
       "      <td>137</td>\n",
       "      <td>8.4</td>\n",
       "      <td>Sigourney Weaver</td>\n",
       "      <td>540152</td>\n",
       "      <td>James Cameron</td>\n",
       "      <td>1986</td>\n",
       "      <td>1</td>\n",
       "      <td>1</td>\n",
       "    </tr>\n",
       "    <tr>\n",
       "      <td>4</td>\n",
       "      <td>9000000.0</td>\n",
       "      <td>Walt Disney Pictures</td>\n",
       "      <td>USA</td>\n",
       "      <td>Randal Kleiser</td>\n",
       "      <td>Adventure</td>\n",
       "      <td>18564613.0</td>\n",
       "      <td>Flight of the Navigator</td>\n",
       "      <td>PG</td>\n",
       "      <td>1986-08-01</td>\n",
       "      <td>90</td>\n",
       "      <td>6.9</td>\n",
       "      <td>Joey Cramer</td>\n",
       "      <td>36636</td>\n",
       "      <td>Mark H. Baker</td>\n",
       "      <td>1986</td>\n",
       "      <td>1</td>\n",
       "      <td>1</td>\n",
       "    </tr>\n",
       "    <tr>\n",
       "      <td>...</td>\n",
       "      <td>...</td>\n",
       "      <td>...</td>\n",
       "      <td>...</td>\n",
       "      <td>...</td>\n",
       "      <td>...</td>\n",
       "      <td>...</td>\n",
       "      <td>...</td>\n",
       "      <td>...</td>\n",
       "      <td>...</td>\n",
       "      <td>...</td>\n",
       "      <td>...</td>\n",
       "      <td>...</td>\n",
       "      <td>...</td>\n",
       "      <td>...</td>\n",
       "      <td>...</td>\n",
       "      <td>...</td>\n",
       "      <td>...</td>\n",
       "    </tr>\n",
       "    <tr>\n",
       "      <td>6815</td>\n",
       "      <td>0.0</td>\n",
       "      <td>Fox Searchlight Pictures</td>\n",
       "      <td>UK</td>\n",
       "      <td>Mandie Fletcher</td>\n",
       "      <td>Comedy</td>\n",
       "      <td>4750497.0</td>\n",
       "      <td>Absolutely Fabulous: The Movie</td>\n",
       "      <td>R</td>\n",
       "      <td>2016-07-22</td>\n",
       "      <td>91</td>\n",
       "      <td>5.4</td>\n",
       "      <td>Jennifer Saunders</td>\n",
       "      <td>9161</td>\n",
       "      <td>Jennifer Saunders</td>\n",
       "      <td>2016</td>\n",
       "      <td>1</td>\n",
       "      <td>1</td>\n",
       "    </tr>\n",
       "    <tr>\n",
       "      <td>6816</td>\n",
       "      <td>0.0</td>\n",
       "      <td>Siempre Viva Productions</td>\n",
       "      <td>USA</td>\n",
       "      <td>Paul Duddridge</td>\n",
       "      <td>Drama</td>\n",
       "      <td>28368.0</td>\n",
       "      <td>Mothers and Daughters</td>\n",
       "      <td>PG-13</td>\n",
       "      <td>2016-05-06</td>\n",
       "      <td>90</td>\n",
       "      <td>4.9</td>\n",
       "      <td>Selma Blair</td>\n",
       "      <td>1959</td>\n",
       "      <td>Paige Cameron</td>\n",
       "      <td>2016</td>\n",
       "      <td>1</td>\n",
       "      <td>1</td>\n",
       "    </tr>\n",
       "    <tr>\n",
       "      <td>6817</td>\n",
       "      <td>3500000.0</td>\n",
       "      <td>Warner Bros. Animation</td>\n",
       "      <td>USA</td>\n",
       "      <td>Sam Liu</td>\n",
       "      <td>Animation</td>\n",
       "      <td>3775000.0</td>\n",
       "      <td>Batman: The Killing Joke</td>\n",
       "      <td>R</td>\n",
       "      <td>2016-07-25</td>\n",
       "      <td>76</td>\n",
       "      <td>6.5</td>\n",
       "      <td>Kevin Conroy</td>\n",
       "      <td>36333</td>\n",
       "      <td>Brian Azzarello</td>\n",
       "      <td>2016</td>\n",
       "      <td>1</td>\n",
       "      <td>1</td>\n",
       "    </tr>\n",
       "    <tr>\n",
       "      <td>6818</td>\n",
       "      <td>0.0</td>\n",
       "      <td>Borderline Presents</td>\n",
       "      <td>USA</td>\n",
       "      <td>Nicolas Pesce</td>\n",
       "      <td>Drama</td>\n",
       "      <td>25981.0</td>\n",
       "      <td>The Eyes of My Mother</td>\n",
       "      <td>R</td>\n",
       "      <td>2016-12-02</td>\n",
       "      <td>76</td>\n",
       "      <td>6.2</td>\n",
       "      <td>Kika Magalhães</td>\n",
       "      <td>6947</td>\n",
       "      <td>Nicolas Pesce</td>\n",
       "      <td>2016</td>\n",
       "      <td>1</td>\n",
       "      <td>1</td>\n",
       "    </tr>\n",
       "    <tr>\n",
       "      <td>6819</td>\n",
       "      <td>0.0</td>\n",
       "      <td>Les Productions du Trésor</td>\n",
       "      <td>France</td>\n",
       "      <td>Nicole Garcia</td>\n",
       "      <td>Drama</td>\n",
       "      <td>37757.0</td>\n",
       "      <td>From the Land of the Moon</td>\n",
       "      <td>R</td>\n",
       "      <td>2017-07-28</td>\n",
       "      <td>120</td>\n",
       "      <td>6.7</td>\n",
       "      <td>Marion Cotillard</td>\n",
       "      <td>2411</td>\n",
       "      <td>Milena Agus</td>\n",
       "      <td>2016</td>\n",
       "      <td>1</td>\n",
       "      <td>1</td>\n",
       "    </tr>\n",
       "  </tbody>\n",
       "</table>\n",
       "<p>6820 rows × 17 columns</p>\n",
       "</div>"
      ],
      "text/plain": [
       "          budget                                 company country  \\\n",
       "0      8000000.0           Columbia Pictures Corporation     USA   \n",
       "1      6000000.0                      Paramount Pictures     USA   \n",
       "2     15000000.0                      Paramount Pictures     USA   \n",
       "3     18500000.0  Twentieth Century Fox Film Corporation     USA   \n",
       "4      9000000.0                    Walt Disney Pictures     USA   \n",
       "...          ...                                     ...     ...   \n",
       "6815         0.0                Fox Searchlight Pictures      UK   \n",
       "6816         0.0                Siempre Viva Productions     USA   \n",
       "6817   3500000.0                  Warner Bros. Animation     USA   \n",
       "6818         0.0                     Borderline Presents     USA   \n",
       "6819         0.0               Les Productions du Trésor  France   \n",
       "\n",
       "             director      genre        gross                            name  \\\n",
       "0          Rob Reiner  Adventure   52287414.0                     Stand by Me   \n",
       "1         John Hughes     Comedy   70136369.0        Ferris Bueller's Day Off   \n",
       "2          Tony Scott     Action  179800601.0                         Top Gun   \n",
       "3       James Cameron     Action   85160248.0                          Aliens   \n",
       "4      Randal Kleiser  Adventure   18564613.0         Flight of the Navigator   \n",
       "...               ...        ...          ...                             ...   \n",
       "6815  Mandie Fletcher     Comedy    4750497.0  Absolutely Fabulous: The Movie   \n",
       "6816   Paul Duddridge      Drama      28368.0           Mothers and Daughters   \n",
       "6817          Sam Liu  Animation    3775000.0        Batman: The Killing Joke   \n",
       "6818    Nicolas Pesce      Drama      25981.0           The Eyes of My Mother   \n",
       "6819    Nicole Garcia      Drama      37757.0       From the Land of the Moon   \n",
       "\n",
       "     rating    released  runtime  score               star   votes  \\\n",
       "0         R  1986-08-22       89    8.1        Wil Wheaton  299174   \n",
       "1     PG-13  1986-06-11      103    7.8  Matthew Broderick  264740   \n",
       "2        PG  1986-05-16      110    6.9         Tom Cruise  236909   \n",
       "3         R  1986-07-18      137    8.4   Sigourney Weaver  540152   \n",
       "4        PG  1986-08-01       90    6.9        Joey Cramer   36636   \n",
       "...     ...         ...      ...    ...                ...     ...   \n",
       "6815      R  2016-07-22       91    5.4  Jennifer Saunders    9161   \n",
       "6816  PG-13  2016-05-06       90    4.9        Selma Blair    1959   \n",
       "6817      R  2016-07-25       76    6.5       Kevin Conroy   36333   \n",
       "6818      R  2016-12-02       76    6.2     Kika Magalhães    6947   \n",
       "6819      R  2017-07-28      120    6.7   Marion Cotillard    2411   \n",
       "\n",
       "                 writer  year  time_till_pair  pair_occurance  \n",
       "0          Stephen King  1986               1               1  \n",
       "1           John Hughes  1986               1               1  \n",
       "2              Jim Cash  1986               1               1  \n",
       "3         James Cameron  1986               1               1  \n",
       "4         Mark H. Baker  1986               1               1  \n",
       "...                 ...   ...             ...             ...  \n",
       "6815  Jennifer Saunders  2016               1               1  \n",
       "6816      Paige Cameron  2016               1               1  \n",
       "6817    Brian Azzarello  2016               1               1  \n",
       "6818      Nicolas Pesce  2016               1               1  \n",
       "6819        Milena Agus  2016               1               1  \n",
       "\n",
       "[6820 rows x 17 columns]"
      ]
     },
     "execution_count": 200,
     "metadata": {},
     "output_type": "execute_result"
    }
   ],
   "source": [
    "movie_industry"
   ]
  },
  {
   "cell_type": "code",
   "execution_count": null,
   "metadata": {},
   "outputs": [],
   "source": []
  }
 ],
 "metadata": {
  "kernelspec": {
   "display_name": "Python 3",
   "language": "python",
   "name": "python3"
  },
  "language_info": {
   "codemirror_mode": {
    "name": "ipython",
    "version": 3
   },
   "file_extension": ".py",
   "mimetype": "text/x-python",
   "name": "python",
   "nbconvert_exporter": "python",
   "pygments_lexer": "ipython3",
   "version": "3.7.4"
  }
 },
 "nbformat": 4,
 "nbformat_minor": 2
}
